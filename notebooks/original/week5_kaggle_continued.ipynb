{
 "cells": [
  {
   "cell_type": "code",
   "execution_count": 1,
   "metadata": {
    "collapsed": true
   },
   "outputs": [],
   "source": [
    "import numpy as np\n",
    "import pandas as pd"
   ]
  },
  {
   "cell_type": "markdown",
   "metadata": {},
   "source": [
    "**Преобразуем тестовую выборку из соревнования в стандартный вид, который мы использовали в обучающей выборке.**"
   ]
  },
  {
   "cell_type": "code",
   "execution_count": 2,
   "metadata": {
    "collapsed": true
   },
   "outputs": [],
   "source": [
    "test_df = pd.read_csv('kaggle_data/test_sessions.csv', index_col='session_id', \\\n",
    "                      parse_dates=[1,3,5,7,9,11,13,15,17,19], \\\n",
    "                      infer_datetime_format=True)"
   ]
  },
  {
   "cell_type": "code",
   "execution_count": 3,
   "metadata": {
    "collapsed": false,
    "scrolled": true
   },
   "outputs": [
    {
     "data": {
      "text/html": [
       "<div>\n",
       "<table border=\"1\" class=\"dataframe\">\n",
       "  <thead>\n",
       "    <tr style=\"text-align: right;\">\n",
       "      <th></th>\n",
       "      <th>site1</th>\n",
       "      <th>time1</th>\n",
       "      <th>site2</th>\n",
       "      <th>time2</th>\n",
       "      <th>site3</th>\n",
       "      <th>time3</th>\n",
       "      <th>site4</th>\n",
       "      <th>time4</th>\n",
       "      <th>site5</th>\n",
       "      <th>time5</th>\n",
       "      <th>site6</th>\n",
       "      <th>time6</th>\n",
       "      <th>site7</th>\n",
       "      <th>time7</th>\n",
       "      <th>site8</th>\n",
       "      <th>time8</th>\n",
       "      <th>site9</th>\n",
       "      <th>time9</th>\n",
       "      <th>site10</th>\n",
       "      <th>time10</th>\n",
       "    </tr>\n",
       "    <tr>\n",
       "      <th>session_id</th>\n",
       "      <th></th>\n",
       "      <th></th>\n",
       "      <th></th>\n",
       "      <th></th>\n",
       "      <th></th>\n",
       "      <th></th>\n",
       "      <th></th>\n",
       "      <th></th>\n",
       "      <th></th>\n",
       "      <th></th>\n",
       "      <th></th>\n",
       "      <th></th>\n",
       "      <th></th>\n",
       "      <th></th>\n",
       "      <th></th>\n",
       "      <th></th>\n",
       "      <th></th>\n",
       "      <th></th>\n",
       "      <th></th>\n",
       "      <th></th>\n",
       "    </tr>\n",
       "  </thead>\n",
       "  <tbody>\n",
       "    <tr>\n",
       "      <th>1</th>\n",
       "      <td>1917</td>\n",
       "      <td>2014-12-04 20:36:21</td>\n",
       "      <td>nan</td>\n",
       "      <td>NaN</td>\n",
       "      <td>nan</td>\n",
       "      <td>NaN</td>\n",
       "      <td>nan</td>\n",
       "      <td>NaN</td>\n",
       "      <td>nan</td>\n",
       "      <td>NaN</td>\n",
       "      <td>nan</td>\n",
       "      <td>NaN</td>\n",
       "      <td>nan</td>\n",
       "      <td>NaN</td>\n",
       "      <td>nan</td>\n",
       "      <td>NaN</td>\n",
       "      <td>nan</td>\n",
       "      <td>NaN</td>\n",
       "      <td>nan</td>\n",
       "      <td>NaN</td>\n",
       "    </tr>\n",
       "    <tr>\n",
       "      <th>2</th>\n",
       "      <td>20225</td>\n",
       "      <td>2014-03-04 14:08:55</td>\n",
       "      <td>27</td>\n",
       "      <td>2014-03-04 14:08:59</td>\n",
       "      <td>9</td>\n",
       "      <td>2014-03-04 14:08:59</td>\n",
       "      <td>32</td>\n",
       "      <td>2014-03-04 14:09:50</td>\n",
       "      <td>20225</td>\n",
       "      <td>2014-03-04 14:10:43</td>\n",
       "      <td>20258</td>\n",
       "      <td>2014-03-04 14:10:44</td>\n",
       "      <td>20225</td>\n",
       "      <td>2014-03-04 14:10:45</td>\n",
       "      <td>20225</td>\n",
       "      <td>2014-03-04 14:11:07</td>\n",
       "      <td>20276</td>\n",
       "      <td>2014-03-04 14:11:08</td>\n",
       "      <td>20225</td>\n",
       "      <td>2014-03-04 14:11:09</td>\n",
       "    </tr>\n",
       "    <tr>\n",
       "      <th>3</th>\n",
       "      <td>71</td>\n",
       "      <td>2014-03-31 09:20:38</td>\n",
       "      <td>63</td>\n",
       "      <td>2014-03-31 09:20:42</td>\n",
       "      <td>64</td>\n",
       "      <td>2014-03-31 09:20:43</td>\n",
       "      <td>63</td>\n",
       "      <td>2014-03-31 09:20:43</td>\n",
       "      <td>71</td>\n",
       "      <td>2014-03-31 09:20:43</td>\n",
       "      <td>22</td>\n",
       "      <td>2014-03-31 09:20:45</td>\n",
       "      <td>64</td>\n",
       "      <td>2014-03-31 09:20:46</td>\n",
       "      <td>71</td>\n",
       "      <td>2014-03-31 09:20:47</td>\n",
       "      <td>71</td>\n",
       "      <td>2014-03-31 09:20:48</td>\n",
       "      <td>70</td>\n",
       "      <td>2014-03-31 09:20:51</td>\n",
       "    </tr>\n",
       "    <tr>\n",
       "      <th>4</th>\n",
       "      <td>7338</td>\n",
       "      <td>2014-02-14 13:39:36</td>\n",
       "      <td>7338</td>\n",
       "      <td>2014-02-14 14:07:53</td>\n",
       "      <td>7338</td>\n",
       "      <td>2014-02-14 14:08:36</td>\n",
       "      <td>nan</td>\n",
       "      <td>NaN</td>\n",
       "      <td>nan</td>\n",
       "      <td>NaN</td>\n",
       "      <td>nan</td>\n",
       "      <td>NaN</td>\n",
       "      <td>nan</td>\n",
       "      <td>NaN</td>\n",
       "      <td>nan</td>\n",
       "      <td>NaN</td>\n",
       "      <td>nan</td>\n",
       "      <td>NaN</td>\n",
       "      <td>nan</td>\n",
       "      <td>NaN</td>\n",
       "    </tr>\n",
       "    <tr>\n",
       "      <th>5</th>\n",
       "      <td>19622</td>\n",
       "      <td>2014-03-31 09:46:04</td>\n",
       "      <td>32</td>\n",
       "      <td>2014-03-31 09:46:12</td>\n",
       "      <td>340</td>\n",
       "      <td>2014-03-31 09:46:13</td>\n",
       "      <td>19634</td>\n",
       "      <td>2014-03-31 09:46:14</td>\n",
       "      <td>1721</td>\n",
       "      <td>2014-03-31 09:46:14</td>\n",
       "      <td>327</td>\n",
       "      <td>2014-03-31 09:46:15</td>\n",
       "      <td>38</td>\n",
       "      <td>2014-03-31 09:46:19</td>\n",
       "      <td>1721</td>\n",
       "      <td>2014-03-31 09:46:19</td>\n",
       "      <td>340</td>\n",
       "      <td>2014-03-31 09:46:20</td>\n",
       "      <td>19634</td>\n",
       "      <td>2014-03-31 09:46:20</td>\n",
       "    </tr>\n",
       "  </tbody>\n",
       "</table>\n",
       "</div>"
      ],
      "text/plain": [
       "            site1                time1 site2                time2 site3  \\\n",
       "session_id                                                                \n",
       "1            1917  2014-12-04 20:36:21   nan                  NaN   nan   \n",
       "2           20225  2014-03-04 14:08:55    27  2014-03-04 14:08:59     9   \n",
       "3              71  2014-03-31 09:20:38    63  2014-03-31 09:20:42    64   \n",
       "4            7338  2014-02-14 13:39:36  7338  2014-02-14 14:07:53  7338   \n",
       "5           19622  2014-03-31 09:46:04    32  2014-03-31 09:46:12   340   \n",
       "\n",
       "                          time3  site4                time4  site5  \\\n",
       "session_id                                                           \n",
       "1                           NaN    nan                  NaN    nan   \n",
       "2           2014-03-04 14:08:59     32  2014-03-04 14:09:50  20225   \n",
       "3           2014-03-31 09:20:43     63  2014-03-31 09:20:43     71   \n",
       "4           2014-02-14 14:08:36    nan                  NaN    nan   \n",
       "5           2014-03-31 09:46:13  19634  2014-03-31 09:46:14   1721   \n",
       "\n",
       "                          time5  site6                time6  site7  \\\n",
       "session_id                                                           \n",
       "1                           NaN    nan                  NaN    nan   \n",
       "2           2014-03-04 14:10:43  20258  2014-03-04 14:10:44  20225   \n",
       "3           2014-03-31 09:20:43     22  2014-03-31 09:20:45     64   \n",
       "4                           NaN    nan                  NaN    nan   \n",
       "5           2014-03-31 09:46:14    327  2014-03-31 09:46:15     38   \n",
       "\n",
       "                          time7  site8                time8  site9  \\\n",
       "session_id                                                           \n",
       "1                           NaN    nan                  NaN    nan   \n",
       "2           2014-03-04 14:10:45  20225  2014-03-04 14:11:07  20276   \n",
       "3           2014-03-31 09:20:46     71  2014-03-31 09:20:47     71   \n",
       "4                           NaN    nan                  NaN    nan   \n",
       "5           2014-03-31 09:46:19   1721  2014-03-31 09:46:19    340   \n",
       "\n",
       "                          time9 site10               time10  \n",
       "session_id                                                   \n",
       "1                           NaN    nan                  NaN  \n",
       "2           2014-03-04 14:11:08  20225  2014-03-04 14:11:09  \n",
       "3           2014-03-31 09:20:48     70  2014-03-31 09:20:51  \n",
       "4                           NaN    nan                  NaN  \n",
       "5           2014-03-31 09:46:20  19634  2014-03-31 09:46:20  "
      ]
     },
     "execution_count": 3,
     "metadata": {},
     "output_type": "execute_result"
    }
   ],
   "source": [
    "test_df.head()"
   ]
  },
  {
   "cell_type": "code",
   "execution_count": 4,
   "metadata": {
    "collapsed": true
   },
   "outputs": [],
   "source": [
    "def get_site_index(csv_file):\n",
    "    site_index = pd.read_csv(csv_file, header=None, names=['siteid', 'site'], index_col=0)\n",
    "    site_dic = site_index.to_dict(\"dic\")\n",
    "    return site_dic[\"site\"]"
   ]
  },
  {
   "cell_type": "code",
   "execution_count": 5,
   "metadata": {
    "collapsed": false
   },
   "outputs": [],
   "source": [
    "data = []\n",
    "site_dic = get_site_index(\"kaggle_data/site_indexes.txt\")\n",
    "for session in test_df.values:\n",
    "    for i in range (0, 20, 2):\n",
    "        if str(session[i]) != 'nan':\n",
    "            row = [session[i+1], site_dic[int(session[i])]]\n",
    "            data.append(row)"
   ]
  },
  {
   "cell_type": "code",
   "execution_count": 6,
   "metadata": {
    "collapsed": false
   },
   "outputs": [],
   "source": [
    "data = pd.DataFrame(data, columns=[\"timestamp\", \"site\"])"
   ]
  },
  {
   "cell_type": "code",
   "execution_count": 8,
   "metadata": {
    "collapsed": true
   },
   "outputs": [],
   "source": [
    "data.to_csv(\"kaggle_data/full_test_temp.csv\", index=False)"
   ]
  },
  {
   "cell_type": "markdown",
   "metadata": {
    "collapsed": true
   },
   "source": [
    "**А теперь займёмся самим соревнованием.**"
   ]
  },
  {
   "cell_type": "code",
   "execution_count": 1,
   "metadata": {
    "collapsed": true
   },
   "outputs": [],
   "source": [
    "def write_to_submission_file(predicted_labels, out_file,\n",
    "                             target='user_id', index_label=\"session_id\"):\n",
    "    # turn predictions into data frame and save as csv file\n",
    "    predicted_df = pd.DataFrame(predicted_labels,\n",
    "                                index = np.arange(1, predicted_labels.shape[0] + 1),\n",
    "                                columns=[target])\n",
    "    predicted_df.to_csv(out_file, index_label=index_label)"
   ]
  },
  {
   "cell_type": "code",
   "execution_count": 9,
   "metadata": {
    "collapsed": false
   },
   "outputs": [],
   "source": [
    "from scipy.sparse import csr_matrix, coo_matrix, hstack\n",
    "def sparsematrix(X, skip_zero=True, skip_popular=False, top_sites = {}):\n",
    "    indptr = [0]\n",
    "    indices = []\n",
    "    data = []\n",
    "    vocabulary = {}\n",
    "    for d in X:\n",
    "        for term in d:\n",
    "            if (skip_zero and term != 0) or not skip_zero:\n",
    "                index = vocabulary.setdefault(term, len(vocabulary))\n",
    "                indices.append(index)\n",
    "                data.append(1)\n",
    "        indptr.append(len(indices))\n",
    "    return csr_matrix((data, indices, indptr), dtype=int)"
   ]
  },
  {
   "cell_type": "code",
   "execution_count": 377,
   "metadata": {
    "collapsed": true
   },
   "outputs": [],
   "source": [
    "import pickle\n",
    "pkl_file = open('kaggle_data/full_train.pkl', 'rb')\n",
    "train_data = pickle.load(pkl_file)\n",
    "\n",
    "pkl_file = open('kaggle_data/full_test.pkl', 'rb')\n",
    "test_data = pickle.load(pkl_file)"
   ]
  },
  {
   "cell_type": "code",
   "execution_count": 93,
   "metadata": {
    "collapsed": false
   },
   "outputs": [
    {
     "data": {
      "text/html": [
       "<div>\n",
       "<table border=\"1\" class=\"dataframe\">\n",
       "  <thead>\n",
       "    <tr style=\"text-align: right;\">\n",
       "      <th></th>\n",
       "      <th>site1</th>\n",
       "      <th>site2</th>\n",
       "      <th>site3</th>\n",
       "      <th>site4</th>\n",
       "      <th>site5</th>\n",
       "      <th>site6</th>\n",
       "      <th>site7</th>\n",
       "      <th>site8</th>\n",
       "      <th>site9</th>\n",
       "      <th>site10</th>\n",
       "      <th>...</th>\n",
       "      <th>#unique_sites</th>\n",
       "      <th>site_longest_time</th>\n",
       "      <th>start_hour</th>\n",
       "      <th>day_of_week</th>\n",
       "      <th>daytime</th>\n",
       "      <th>fb_portion</th>\n",
       "      <th>youtube_portion</th>\n",
       "      <th>top30_portion</th>\n",
       "      <th>bot30_portion</th>\n",
       "      <th>target</th>\n",
       "    </tr>\n",
       "  </thead>\n",
       "  <tbody>\n",
       "    <tr>\n",
       "      <th>0</th>\n",
       "      <td>3537</td>\n",
       "      <td>3537</td>\n",
       "      <td>3537</td>\n",
       "      <td>5759</td>\n",
       "      <td>37</td>\n",
       "      <td>3537</td>\n",
       "      <td>16</td>\n",
       "      <td>17</td>\n",
       "      <td>47</td>\n",
       "      <td>53</td>\n",
       "      <td>...</td>\n",
       "      <td>7</td>\n",
       "      <td>5759</td>\n",
       "      <td>14</td>\n",
       "      <td>4</td>\n",
       "      <td>1</td>\n",
       "      <td>0</td>\n",
       "      <td>0</td>\n",
       "      <td>0</td>\n",
       "      <td>0</td>\n",
       "      <td>280</td>\n",
       "    </tr>\n",
       "    <tr>\n",
       "      <th>1</th>\n",
       "      <td>37</td>\n",
       "      <td>56</td>\n",
       "      <td>47</td>\n",
       "      <td>3537</td>\n",
       "      <td>53</td>\n",
       "      <td>47</td>\n",
       "      <td>53</td>\n",
       "      <td>17</td>\n",
       "      <td>22</td>\n",
       "      <td>6</td>\n",
       "      <td>...</td>\n",
       "      <td>8</td>\n",
       "      <td>22</td>\n",
       "      <td>14</td>\n",
       "      <td>4</td>\n",
       "      <td>1</td>\n",
       "      <td>0</td>\n",
       "      <td>0</td>\n",
       "      <td>0.939394</td>\n",
       "      <td>0</td>\n",
       "      <td>280</td>\n",
       "    </tr>\n",
       "    <tr>\n",
       "      <th>2</th>\n",
       "      <td>22</td>\n",
       "      <td>22</td>\n",
       "      <td>22</td>\n",
       "      <td>90</td>\n",
       "      <td>22</td>\n",
       "      <td>22</td>\n",
       "      <td>87</td>\n",
       "      <td>22</td>\n",
       "      <td>14326</td>\n",
       "      <td>14326</td>\n",
       "      <td>...</td>\n",
       "      <td>4</td>\n",
       "      <td>87</td>\n",
       "      <td>14</td>\n",
       "      <td>4</td>\n",
       "      <td>1</td>\n",
       "      <td>0</td>\n",
       "      <td>0</td>\n",
       "      <td>0.5</td>\n",
       "      <td>0</td>\n",
       "      <td>280</td>\n",
       "    </tr>\n",
       "    <tr>\n",
       "      <th>3</th>\n",
       "      <td>14326</td>\n",
       "      <td>87</td>\n",
       "      <td>14334</td>\n",
       "      <td>14326</td>\n",
       "      <td>0</td>\n",
       "      <td>0</td>\n",
       "      <td>0</td>\n",
       "      <td>0</td>\n",
       "      <td>0</td>\n",
       "      <td>0</td>\n",
       "      <td>...</td>\n",
       "      <td>3</td>\n",
       "      <td>87</td>\n",
       "      <td>14</td>\n",
       "      <td>4</td>\n",
       "      <td>1</td>\n",
       "      <td>0</td>\n",
       "      <td>0</td>\n",
       "      <td>0</td>\n",
       "      <td>0</td>\n",
       "      <td>280</td>\n",
       "    </tr>\n",
       "    <tr>\n",
       "      <th>4</th>\n",
       "      <td>540</td>\n",
       "      <td>16</td>\n",
       "      <td>56</td>\n",
       "      <td>47</td>\n",
       "      <td>47</td>\n",
       "      <td>53</td>\n",
       "      <td>17</td>\n",
       "      <td>1027</td>\n",
       "      <td>347</td>\n",
       "      <td>16</td>\n",
       "      <td>...</td>\n",
       "      <td>8</td>\n",
       "      <td>17</td>\n",
       "      <td>15</td>\n",
       "      <td>4</td>\n",
       "      <td>1</td>\n",
       "      <td>0</td>\n",
       "      <td>0</td>\n",
       "      <td>0</td>\n",
       "      <td>0</td>\n",
       "      <td>280</td>\n",
       "    </tr>\n",
       "  </tbody>\n",
       "</table>\n",
       "<p>5 rows × 40 columns</p>\n",
       "</div>"
      ],
      "text/plain": [
       "   site1 site2  site3  site4 site5 site6 site7 site8  site9 site10  ...    \\\n",
       "0   3537  3537   3537   5759    37  3537    16    17     47     53  ...     \n",
       "1     37    56     47   3537    53    47    53    17     22      6  ...     \n",
       "2     22    22     22     90    22    22    87    22  14326  14326  ...     \n",
       "3  14326    87  14334  14326     0     0     0     0      0      0  ...     \n",
       "4    540    16     56     47    47    53    17  1027    347     16  ...     \n",
       "\n",
       "  #unique_sites site_longest_time start_hour day_of_week daytime fb_portion  \\\n",
       "0             7              5759         14           4       1          0   \n",
       "1             8                22         14           4       1          0   \n",
       "2             4                87         14           4       1          0   \n",
       "3             3                87         14           4       1          0   \n",
       "4             8                17         15           4       1          0   \n",
       "\n",
       "  youtube_portion top30_portion bot30_portion target  \n",
       "0               0             0             0    280  \n",
       "1               0      0.939394             0    280  \n",
       "2               0           0.5             0    280  \n",
       "3               0             0             0    280  \n",
       "4               0             0             0    280  \n",
       "\n",
       "[5 rows x 40 columns]"
      ]
     },
     "execution_count": 93,
     "metadata": {},
     "output_type": "execute_result"
    }
   ],
   "source": [
    "train_data.head()"
   ]
  },
  {
   "cell_type": "markdown",
   "metadata": {},
   "source": [
    "###########################################\n",
    "\n",
    "***Попробуем сделать новые признаки.***"
   ]
  },
  {
   "cell_type": "code",
   "execution_count": 378,
   "metadata": {
    "collapsed": false
   },
   "outputs": [
    {
     "name": "stdout",
     "output_type": "stream",
     "text": [
      "[]\n"
     ]
    }
   ],
   "source": [
    "pkl_file = open(\"kaggle_data/site_freq.pkl\", 'rb')\n",
    "site_freq = pickle.load(pkl_file)\n",
    "top_sites = [v[1] for k, v in sorted(site_freq.items(), key=lambda t: t[1][1], reverse=True)[:0]]\n",
    "print top_sites"
   ]
  },
  {
   "cell_type": "code",
   "execution_count": 282,
   "metadata": {
    "collapsed": true
   },
   "outputs": [],
   "source": [
    "train_data[\"prediction\"] = 0"
   ]
  },
  {
   "cell_type": "code",
   "execution_count": 283,
   "metadata": {
    "collapsed": false
   },
   "outputs": [
    {
     "data": {
      "text/html": [
       "<div>\n",
       "<table border=\"1\" class=\"dataframe\">\n",
       "  <thead>\n",
       "    <tr style=\"text-align: right;\">\n",
       "      <th></th>\n",
       "      <th>site1</th>\n",
       "      <th>site2</th>\n",
       "      <th>site3</th>\n",
       "      <th>site4</th>\n",
       "      <th>site5</th>\n",
       "      <th>site6</th>\n",
       "      <th>site7</th>\n",
       "      <th>site8</th>\n",
       "      <th>site9</th>\n",
       "      <th>site10</th>\n",
       "      <th>...</th>\n",
       "      <th>site_longest_time</th>\n",
       "      <th>start_hour</th>\n",
       "      <th>day_of_week</th>\n",
       "      <th>daytime</th>\n",
       "      <th>fb_portion</th>\n",
       "      <th>youtube_portion</th>\n",
       "      <th>top30_portion</th>\n",
       "      <th>bot30_portion</th>\n",
       "      <th>target</th>\n",
       "      <th>prediction</th>\n",
       "    </tr>\n",
       "  </thead>\n",
       "  <tbody>\n",
       "    <tr>\n",
       "      <th>0</th>\n",
       "      <td>3537</td>\n",
       "      <td>3537</td>\n",
       "      <td>3537</td>\n",
       "      <td>5759</td>\n",
       "      <td>37</td>\n",
       "      <td>3537</td>\n",
       "      <td>16</td>\n",
       "      <td>17</td>\n",
       "      <td>47</td>\n",
       "      <td>53</td>\n",
       "      <td>...</td>\n",
       "      <td>5759</td>\n",
       "      <td>14</td>\n",
       "      <td>4</td>\n",
       "      <td>1</td>\n",
       "      <td>0</td>\n",
       "      <td>0</td>\n",
       "      <td>0</td>\n",
       "      <td>0</td>\n",
       "      <td>280</td>\n",
       "      <td>0</td>\n",
       "    </tr>\n",
       "    <tr>\n",
       "      <th>1</th>\n",
       "      <td>37</td>\n",
       "      <td>56</td>\n",
       "      <td>47</td>\n",
       "      <td>3537</td>\n",
       "      <td>53</td>\n",
       "      <td>47</td>\n",
       "      <td>53</td>\n",
       "      <td>17</td>\n",
       "      <td>22</td>\n",
       "      <td>6</td>\n",
       "      <td>...</td>\n",
       "      <td>22</td>\n",
       "      <td>14</td>\n",
       "      <td>4</td>\n",
       "      <td>1</td>\n",
       "      <td>0</td>\n",
       "      <td>0</td>\n",
       "      <td>0.939394</td>\n",
       "      <td>0</td>\n",
       "      <td>280</td>\n",
       "      <td>0</td>\n",
       "    </tr>\n",
       "    <tr>\n",
       "      <th>2</th>\n",
       "      <td>22</td>\n",
       "      <td>22</td>\n",
       "      <td>22</td>\n",
       "      <td>90</td>\n",
       "      <td>22</td>\n",
       "      <td>22</td>\n",
       "      <td>87</td>\n",
       "      <td>22</td>\n",
       "      <td>14326</td>\n",
       "      <td>14326</td>\n",
       "      <td>...</td>\n",
       "      <td>87</td>\n",
       "      <td>14</td>\n",
       "      <td>4</td>\n",
       "      <td>1</td>\n",
       "      <td>0</td>\n",
       "      <td>0</td>\n",
       "      <td>0.5</td>\n",
       "      <td>0</td>\n",
       "      <td>280</td>\n",
       "      <td>0</td>\n",
       "    </tr>\n",
       "    <tr>\n",
       "      <th>3</th>\n",
       "      <td>14326</td>\n",
       "      <td>87</td>\n",
       "      <td>14334</td>\n",
       "      <td>14326</td>\n",
       "      <td>0</td>\n",
       "      <td>0</td>\n",
       "      <td>0</td>\n",
       "      <td>0</td>\n",
       "      <td>0</td>\n",
       "      <td>0</td>\n",
       "      <td>...</td>\n",
       "      <td>87</td>\n",
       "      <td>14</td>\n",
       "      <td>4</td>\n",
       "      <td>1</td>\n",
       "      <td>0</td>\n",
       "      <td>0</td>\n",
       "      <td>0</td>\n",
       "      <td>0</td>\n",
       "      <td>280</td>\n",
       "      <td>0</td>\n",
       "    </tr>\n",
       "    <tr>\n",
       "      <th>4</th>\n",
       "      <td>540</td>\n",
       "      <td>16</td>\n",
       "      <td>56</td>\n",
       "      <td>47</td>\n",
       "      <td>47</td>\n",
       "      <td>53</td>\n",
       "      <td>17</td>\n",
       "      <td>1027</td>\n",
       "      <td>347</td>\n",
       "      <td>16</td>\n",
       "      <td>...</td>\n",
       "      <td>17</td>\n",
       "      <td>15</td>\n",
       "      <td>4</td>\n",
       "      <td>1</td>\n",
       "      <td>0</td>\n",
       "      <td>0</td>\n",
       "      <td>0</td>\n",
       "      <td>0</td>\n",
       "      <td>280</td>\n",
       "      <td>0</td>\n",
       "    </tr>\n",
       "  </tbody>\n",
       "</table>\n",
       "<p>5 rows × 41 columns</p>\n",
       "</div>"
      ],
      "text/plain": [
       "   site1 site2  site3  site4 site5 site6 site7 site8  site9 site10    ...      \\\n",
       "0   3537  3537   3537   5759    37  3537    16    17     47     53    ...       \n",
       "1     37    56     47   3537    53    47    53    17     22      6    ...       \n",
       "2     22    22     22     90    22    22    87    22  14326  14326    ...       \n",
       "3  14326    87  14334  14326     0     0     0     0      0      0    ...       \n",
       "4    540    16     56     47    47    53    17  1027    347     16    ...       \n",
       "\n",
       "  site_longest_time start_hour day_of_week daytime fb_portion youtube_portion  \\\n",
       "0              5759         14           4       1          0               0   \n",
       "1                22         14           4       1          0               0   \n",
       "2                87         14           4       1          0               0   \n",
       "3                87         14           4       1          0               0   \n",
       "4                17         15           4       1          0               0   \n",
       "\n",
       "  top30_portion bot30_portion target prediction  \n",
       "0             0             0    280          0  \n",
       "1      0.939394             0    280          0  \n",
       "2           0.5             0    280          0  \n",
       "3             0             0    280          0  \n",
       "4             0             0    280          0  \n",
       "\n",
       "[5 rows x 41 columns]"
      ]
     },
     "execution_count": 283,
     "metadata": {},
     "output_type": "execute_result"
    }
   ],
   "source": [
    "train_data.head()"
   ]
  },
  {
   "cell_type": "code",
   "execution_count": 379,
   "metadata": {
    "collapsed": false,
    "scrolled": true
   },
   "outputs": [],
   "source": [
    "user_dic = {} #dictionary with keys as user_ids and values are sites with number of visits by the given user\n",
    "site_dic = {} #dictionary with keys as sites and values are unique user_ids who visited that website at least once.\n",
    "\n",
    "for i, v in train_data.iterrows():\n",
    "    if v.target not in user_dic:\n",
    "        user_dic[v.target] = {}\n",
    "    for site in ['site' + str(i) for i in range(1,11)]:\n",
    "        if v[site] != 0 and v[site] not in top_sites:\n",
    "            if v[site] in user_dic[v.target]:\n",
    "                user_dic[v.target][v[site]] +=1\n",
    "            else:\n",
    "                user_dic[v.target][v[site]] = 1\n",
    "        \n",
    "        if v[site] in site_dic:\n",
    "            site_dic[v[site]].add(v.target)\n",
    "        else:\n",
    "            site_dic[v[site]] = set([v.target])"
   ]
  },
  {
   "cell_type": "markdown",
   "metadata": {},
   "source": [
    "**Let's check if there are websites that are visited by only one person. If yes, then if a session contains such website, we'll consider the whole session belonging to that user.**"
   ]
  },
  {
   "cell_type": "code",
   "execution_count": 385,
   "metadata": {
    "collapsed": false
   },
   "outputs": [
    {
     "name": "stdout",
     "output_type": "stream",
     "text": [
      "CPU times: user 43.6 s, sys: 204 ms, total: 43.8 s\n",
      "Wall time: 43.5 s\n"
     ]
    }
   ],
   "source": [
    "%%time\n",
    "\n",
    "for data in [test_data, train_data]:\n",
    "    data[\"prediction\"] = 0\n",
    "    for r, v in data.iterrows():\n",
    "        session_prediction = []\n",
    "        for site in ['site' + str(c) for c in range(1,11)]:\n",
    "            if v[site] in site_dic and len(site_dic[v[site]]) == 1:\n",
    "                data.set_value(r, -1, list(site_dic[v[site]])[0], takeable=True)\n",
    "                continue\n",
    "            elif v[site] in site_dic and len(site_dic[v[site]]) < 1:\n",
    "                predictions = sorted([[int(user), float(user_dic[user][v[site]]) / sum(user_dic[user].values())] \\\n",
    "                                     for user in site_dic[v[site]] if v[site] in user_dic[user]], key=lambda t: t[1], reverse=True)\n",
    "                if len(predictions):\n",
    "                    session_prediction.append(predictions[0])\n",
    "        if v[\"prediction\"] == 0 and len(session_prediction):\n",
    "            prediction = sorted(session_prediction, key=lambda t: t[1], reverse=True)[0][0]\n",
    "            data.set_value(r, -1, prediction, takeable=True)"
   ]
  },
  {
   "cell_type": "code",
   "execution_count": 386,
   "metadata": {
    "collapsed": false,
    "scrolled": true
   },
   "outputs": [
    {
     "data": {
      "text/plain": [
       "0.20320990635943487"
      ]
     },
     "execution_count": 386,
     "metadata": {},
     "output_type": "execute_result"
    }
   ],
   "source": [
    "total_filled = len(train_data[train_data.prediction != 0]) / float(len(train_data))\n",
    "total_filled"
   ]
  },
  {
   "cell_type": "code",
   "execution_count": 387,
   "metadata": {
    "collapsed": false
   },
   "outputs": [
    {
     "data": {
      "text/plain": [
       "0.20320990635943487"
      ]
     },
     "execution_count": 387,
     "metadata": {},
     "output_type": "execute_result"
    }
   ],
   "source": [
    "right_filled = sum([int(int(a) == int(b)) for a, b in zip(train_data[\"target\"], train_data[\"prediction\"])]) / float(len(train_data))\n",
    "right_filled"
   ]
  },
  {
   "cell_type": "code",
   "execution_count": 388,
   "metadata": {
    "collapsed": false
   },
   "outputs": [
    {
     "data": {
      "text/plain": [
       "1.0"
      ]
     },
     "execution_count": 388,
     "metadata": {},
     "output_type": "execute_result"
    }
   ],
   "source": [
    "right_filled/total_filled"
   ]
  },
  {
   "cell_type": "code",
   "execution_count": 389,
   "metadata": {
    "collapsed": false
   },
   "outputs": [
    {
     "data": {
      "text/plain": [
       "0.20320990635943487"
      ]
     },
     "execution_count": 389,
     "metadata": {},
     "output_type": "execute_result"
    }
   ],
   "source": [
    "accuracy_score(train_data[\"target\"].astype(int), train_data[\"prediction\"].astype(int))"
   ]
  },
  {
   "cell_type": "code",
   "execution_count": 393,
   "metadata": {
    "collapsed": false
   },
   "outputs": [
    {
     "name": "stdout",
     "output_type": "stream",
     "text": [
      "13732 0.637718850137\n"
     ]
    }
   ],
   "source": [
    "#Number of websites with only one particular visiting user.\n",
    "a = len([k for k, v in sorted([(k, len(v)) for k, v in site_dic.items()], key=lambda t: t[1]) if v ==1])\n",
    "print a, float(a)/len(site_dic) "
   ]
  },
  {
   "cell_type": "code",
   "execution_count": 135,
   "metadata": {
    "collapsed": false
   },
   "outputs": [],
   "source": [
    "top_user_site = {}\n",
    "for user in user_dic:\n",
    "    top_user_site[user] = [k for k, v in sorted(user_dic[user].items(), key=lambda t: t[1], reverse=True)[:50]]\n",
    "    #print user\n",
    "    #print [(k, round(float(v)/sum(user_dic[user].values()) *100, 1)) for k, v in sorted(user_dic[user].items(), key=lambda t: t[1], reverse=True)[:1]]\n",
    "    #print [k for k, v in sorted(user_dic[user].items(), key=lambda t: t[1], reverse=True)[:10]]"
   ]
  },
  {
   "cell_type": "markdown",
   "metadata": {},
   "source": [
    "############################################################"
   ]
  },
  {
   "cell_type": "code",
   "execution_count": 336,
   "metadata": {
    "collapsed": true
   },
   "outputs": [],
   "source": [
    "train_test_data_sites = pd.concat([train_data[['site' + str(i) for i in range(1,11)]], \\\n",
    "                                   test_data[['site' + str(i) for i in range(1,11)]]])"
   ]
  },
  {
   "cell_type": "code",
   "execution_count": 6,
   "metadata": {
    "collapsed": false
   },
   "outputs": [],
   "source": [
    "train_test_data_sites = pd.concat([train_data[['site' + str(i) for i in range(1,11)] + ['site_longest_time']], \\\n",
    "                                   test_data[['site' + str(i) for i in range(1,11)] + ['site_longest_time']]])"
   ]
  },
  {
   "cell_type": "code",
   "execution_count": 116,
   "metadata": {
    "collapsed": false
   },
   "outputs": [],
   "source": [
    "#another attempt with features\n",
    "train_test_data_sites = pd.concat([train_data[['site' + str(i) for i in range(1,11)] + [\"#unique_sites\", \"day_of_week\", \"daytime\"]], \\\n",
    "                                   test_data[['site' + str(i) for i in range(1,11)] + [\"#unique_sites\", \"day_of_week\", \"daytime\"]]])"
   ]
  },
  {
   "cell_type": "code",
   "execution_count": 63,
   "metadata": {
    "collapsed": true
   },
   "outputs": [],
   "source": [
    "#another attempt with features\n",
    "train_test_data_sites = pd.concat([train_data[['site' + str(i) for i in range(1,11)] + [\"#unique_sites\", \"day_of_week\", \"start_hour\"]], \\\n",
    "                                   test_data[['site' + str(i) for i in range(1,11)] + [\"#unique_sites\", \"day_of_week\", \"start_hour\"]]])"
   ]
  },
  {
   "cell_type": "code",
   "execution_count": 10,
   "metadata": {
    "collapsed": false
   },
   "outputs": [
    {
     "data": {
      "text/plain": [
       "<132270x24052 sparse matrix of type '<type 'numpy.int64'>'\n",
       "\twith 1351142 stored elements in Compressed Sparse Row format>"
      ]
     },
     "execution_count": 10,
     "metadata": {},
     "output_type": "execute_result"
    }
   ],
   "source": [
    "sparsematrix(train_test_data_sites.as_matrix())"
   ]
  },
  {
   "cell_type": "code",
   "execution_count": 78,
   "metadata": {
    "collapsed": false
   },
   "outputs": [],
   "source": [
    "#X_train_test_sparse = sparsematrix(train_test_data_sites.as_matrix(), skip_popular=True, top_sites = top_sites)\n",
    "X_train_test_sparse = sparsematrix(train_test_data_sites.as_matrix())\n",
    "X_train_sparse = X_train_test_sparse[:len(train_data)]\n",
    "X_test_sparse = X_train_test_sparse[len(train_data):]\n",
    "y = train_data[\"target\"]"
   ]
  },
  {
   "cell_type": "code",
   "execution_count": 201,
   "metadata": {
    "collapsed": false
   },
   "outputs": [
    {
     "data": {
      "text/plain": [
       "(132270, 10)"
      ]
     },
     "execution_count": 201,
     "metadata": {},
     "output_type": "execute_result"
    }
   ],
   "source": [
    "train_test_data_sites.shape"
   ]
  },
  {
   "cell_type": "code",
   "execution_count": 202,
   "metadata": {
    "collapsed": false
   },
   "outputs": [
    {
     "data": {
      "text/plain": [
       "(132270, 23584)"
      ]
     },
     "execution_count": 202,
     "metadata": {},
     "output_type": "execute_result"
    }
   ],
   "source": [
    "X_train_test_sparse.shape"
   ]
  },
  {
   "cell_type": "code",
   "execution_count": 11,
   "metadata": {
    "collapsed": false
   },
   "outputs": [],
   "source": [
    "train_features = coo_matrix(train_data[[\"session_timespan\", \"#unique_sites\", \"day_of_week\", \"daytime\", \"fb_portion\", \"youtube_portion\",\\\n",
    "           \"top30_portion\", \"bot30_portion\"]].values, dtype=float)\n",
    "test_features = coo_matrix(test_data[[\"session_timespan\", \"#unique_sites\", \"day_of_week\", \"daytime\", \"fb_portion\", \"youtube_portion\",\\\n",
    "           \"top30_portion\", \"bot30_portion\"]].values, dtype=float)"
   ]
  },
  {
   "cell_type": "code",
   "execution_count": 77,
   "metadata": {
    "collapsed": true
   },
   "outputs": [],
   "source": [
    "train_features = coo_matrix(train_data[[\"#unique_sites\", \"fb_portion\", \"youtube_portion\", \"top30_portion\"]].values, dtype=float)\n",
    "test_features = coo_matrix(test_data[[\"#unique_sites\", \"fb_portion\", \"youtube_portion\", \"top30_portion\"]].values, dtype=float)\n",
    "#These features scored a little bit lower than pure websites."
   ]
  },
  {
   "cell_type": "code",
   "execution_count": 198,
   "metadata": {
    "collapsed": false
   },
   "outputs": [],
   "source": [
    "train_features = coo_matrix(train_data[[\"#unique_sites\", \"day_of_week\", \"daytime\"]].as_matrix(), dtype=int)\n",
    "test_features = coo_matrix(test_data[[\"#unique_sites\", \"day_of_week\", \"daytime\"]].as_matrix(), dtype=int)\n",
    "#These features сurrently hold a record of 0.39115 on Kaggle test set."
   ]
  },
  {
   "cell_type": "code",
   "execution_count": 337,
   "metadata": {
    "collapsed": true
   },
   "outputs": [],
   "source": [
    "train_features = coo_matrix(train_data[[\"#unique_sites\", \"day_of_week\", 'start_hour', \"prediction\"]].as_matrix(), dtype=int)\n",
    "test_features = coo_matrix(test_data[[\"#unique_sites\", \"day_of_week\", 'start_hour', \"prediction\"]].as_matrix(), dtype=int)"
   ]
  },
  {
   "cell_type": "code",
   "execution_count": 179,
   "metadata": {
    "collapsed": false
   },
   "outputs": [
    {
     "data": {
      "text/plain": [
       "(91093, 3)"
      ]
     },
     "execution_count": 179,
     "metadata": {},
     "output_type": "execute_result"
    }
   ],
   "source": [
    "train_features.toarray().shape"
   ]
  },
  {
   "cell_type": "code",
   "execution_count": 203,
   "metadata": {
    "collapsed": false
   },
   "outputs": [
    {
     "data": {
      "text/plain": [
       "(91093, 23584)"
      ]
     },
     "execution_count": 203,
     "metadata": {},
     "output_type": "execute_result"
    }
   ],
   "source": [
    "X_train_sparse.shape"
   ]
  },
  {
   "cell_type": "code",
   "execution_count": 181,
   "metadata": {
    "collapsed": false
   },
   "outputs": [
    {
     "data": {
      "text/plain": [
       "<91093x23957 sparse matrix of type '<type 'numpy.int64'>'\n",
       "\twith 852946 stored elements in Compressed Sparse Row format>"
      ]
     },
     "execution_count": 181,
     "metadata": {},
     "output_type": "execute_result"
    }
   ],
   "source": [
    "X_train_sparse"
   ]
  },
  {
   "cell_type": "code",
   "execution_count": 338,
   "metadata": {
    "collapsed": false
   },
   "outputs": [],
   "source": [
    "X_train_sparse = hstack([X_train_sparse, train_features])\n",
    "X_test_sparse = hstack([X_test_sparse, test_features])"
   ]
  },
  {
   "cell_type": "code",
   "execution_count": 81,
   "metadata": {
    "collapsed": false
   },
   "outputs": [
    {
     "data": {
      "text/plain": [
       "(91093, 24055)"
      ]
     },
     "execution_count": 81,
     "metadata": {},
     "output_type": "execute_result"
    }
   ],
   "source": [
    "X_train_sparse.shape"
   ]
  },
  {
   "cell_type": "code",
   "execution_count": 339,
   "metadata": {
    "collapsed": false
   },
   "outputs": [],
   "source": [
    "X_train, X_valid, y_train, y_valid = train_test_split(X_train_sparse, y, test_size=0.3, \n",
    "                                                     random_state=7, stratify=y)"
   ]
  },
  {
   "cell_type": "code",
   "execution_count": 340,
   "metadata": {
    "collapsed": true
   },
   "outputs": [],
   "source": [
    "from sklearn.model_selection import train_test_split, cross_val_score, StratifiedKFold, GridSearchCV\n",
    "from sklearn.metrics import accuracy_score, f1_score\n",
    "from sklearn.linear_model import LogisticRegression, LogisticRegressionCV\n",
    "from sklearn.svm import LinearSVC\n",
    "from sklearn.linear_model import SGDClassifier\n",
    "from sklearn.metrics import accuracy_score, f1_score"
   ]
  },
  {
   "cell_type": "code",
   "execution_count": 341,
   "metadata": {
    "collapsed": true
   },
   "outputs": [],
   "source": [
    "skf = StratifiedKFold(n_splits=3, shuffle=True)"
   ]
  },
  {
   "cell_type": "code",
   "execution_count": 161,
   "metadata": {
    "collapsed": false
   },
   "outputs": [],
   "source": [
    "sgd_svm = SGDClassifier(n_jobs=-1)"
   ]
  },
  {
   "cell_type": "code",
   "execution_count": 162,
   "metadata": {
    "collapsed": false
   },
   "outputs": [
    {
     "name": "stdout",
     "output_type": "stream",
     "text": [
      "CPU times: user 47.1 s, sys: 208 ms, total: 47.3 s\n",
      "Wall time: 4min 6s\n"
     ]
    }
   ],
   "source": [
    "%%time\n",
    "svm_params1 = {'n_iter': [5], 'loss': ['log', 'hinge', 'squared_hinge'], 'penalty': ['l2','l1','elasticnet']}\n",
    "\n",
    "svm_grid_searcher1 = GridSearchCV(sgd_svm, param_grid=svm_params1, cv=skf, n_jobs=-1)\n",
    "svm_grid_searcher1.fit(X_train, y_train)"
   ]
  },
  {
   "cell_type": "code",
   "execution_count": 163,
   "metadata": {
    "collapsed": false
   },
   "outputs": [
    {
     "name": "stdout",
     "output_type": "stream",
     "text": [
      "{'penalty': 'l1', 'loss': 'squared_hinge', 'n_iter': 5}\n",
      "0.209503646201\n"
     ]
    }
   ],
   "source": [
    "print(svm_grid_searcher1.best_params_)\n",
    "print(svm_grid_searcher1.best_score_)"
   ]
  },
  {
   "cell_type": "code",
   "execution_count": 164,
   "metadata": {
    "collapsed": true
   },
   "outputs": [],
   "source": [
    "pred = svm_grid_searcher1.predict(X_valid)"
   ]
  },
  {
   "cell_type": "code",
   "execution_count": 165,
   "metadata": {
    "collapsed": false
   },
   "outputs": [
    {
     "name": "stdout",
     "output_type": "stream",
     "text": [
      "0.234009074941\n"
     ]
    }
   ],
   "source": [
    "print(accuracy_score(y_valid, pred))"
   ]
  },
  {
   "cell_type": "markdown",
   "metadata": {},
   "source": [
    "**Попробуем снова LinearSVC с оптимальным параметром С, полученным на прошлой неделе.**"
   ]
  },
  {
   "cell_type": "code",
   "execution_count": 342,
   "metadata": {
    "collapsed": true
   },
   "outputs": [],
   "source": [
    "from sklearn.svm import LinearSVC\n",
    "from sklearn.datasets import load_iris\n",
    "from sklearn.feature_selection import SelectFromModel"
   ]
  },
  {
   "cell_type": "code",
   "execution_count": 343,
   "metadata": {
    "collapsed": false
   },
   "outputs": [
    {
     "name": "stdout",
     "output_type": "stream",
     "text": [
      "CPU times: user 1h 58s, sys: 284 ms, total: 1h 58s\n",
      "Wall time: 1h 58s\n"
     ]
    }
   ],
   "source": [
    "%%time\n",
    "#\"day_of_week\", 'start_hour'\n",
    "#svm = LinearSVC(C=0.069896551724137931, dual=False, penalty='l1')\n",
    "svm = LinearSVC(C=0.10434482758620689, dual=True, penalty='l2')\n",
    "#svm_params2 = {'C': [0.069896551724137931, 0.094210526315789467, 0.10434482758620689]}\n",
    "#svm_params2 = {'C': np.linspace(1e-3, 1, 20, 'dual':[True], 'penalty': ['l1']}\n",
    "\n",
    "svm.fit(X_train, y_train)\n",
    "\n",
    "#svm_grid_searcher2 = GridSearchCV(svm, param_grid=svm_params2, cv=skf, n_jobs=-1)\n",
    "#svm_grid_searcher2.fit(X_train, y_train)"
   ]
  },
  {
   "cell_type": "code",
   "execution_count": 344,
   "metadata": {
    "collapsed": false
   },
   "outputs": [
    {
     "data": {
      "text/plain": [
       "0.20005122950819673"
      ]
     },
     "execution_count": 344,
     "metadata": {},
     "output_type": "execute_result"
    }
   ],
   "source": [
    "accuracy_score(y_valid, svm.predict(X_valid))"
   ]
  },
  {
   "cell_type": "code",
   "execution_count": 86,
   "metadata": {
    "collapsed": false
   },
   "outputs": [
    {
     "name": "stdout",
     "output_type": "stream",
     "text": [
      "(63765, 4088)\n",
      "(27328, 4088)\n"
     ]
    }
   ],
   "source": [
    "model = SelectFromModel(svm, prefit=True)\n",
    "X_train_new = model.transform(X_train)\n",
    "print X_train_new.shape\n",
    "X_valid_new = model.transform(X_valid)\n",
    "print X_valid_new.shape"
   ]
  },
  {
   "cell_type": "code",
   "execution_count": 89,
   "metadata": {
    "collapsed": false
   },
   "outputs": [
    {
     "data": {
      "text/plain": [
       "0.3271735948477752"
      ]
     },
     "execution_count": 89,
     "metadata": {},
     "output_type": "execute_result"
    }
   ],
   "source": [
    "accuracy_score(y_valid, svm.predict(X_valid_new))"
   ]
  },
  {
   "cell_type": "code",
   "execution_count": 87,
   "metadata": {
    "collapsed": false
   },
   "outputs": [
    {
     "data": {
      "text/plain": [
       "0.2968384074941452"
      ]
     },
     "execution_count": 87,
     "metadata": {},
     "output_type": "execute_result"
    }
   ],
   "source": [
    "accuracy_score(y_valid, svm.predict(X_valid))"
   ]
  },
  {
   "cell_type": "code",
   "execution_count": 40,
   "metadata": {
    "collapsed": false
   },
   "outputs": [
    {
     "name": "stdout",
     "output_type": "stream",
     "text": [
      "{'C': 0.1061578947368421, 'dual': True}\n",
      "0.321336156199\n"
     ]
    }
   ],
   "source": [
    "print(svm_grid_searcher2.best_params_)\n",
    "print(svm_grid_searcher2.best_score_)"
   ]
  },
  {
   "cell_type": "code",
   "execution_count": 41,
   "metadata": {
    "collapsed": true
   },
   "outputs": [],
   "source": [
    "pred2 = svm_grid_searcher2.predict(X_valid)"
   ]
  },
  {
   "cell_type": "code",
   "execution_count": 42,
   "metadata": {
    "collapsed": false
   },
   "outputs": [
    {
     "name": "stdout",
     "output_type": "stream",
     "text": [
      "0.333613875878\n"
     ]
    }
   ],
   "source": [
    "print(accuracy_score(y_valid, pred2))"
   ]
  },
  {
   "cell_type": "code",
   "execution_count": 23,
   "metadata": {
    "collapsed": false
   },
   "outputs": [],
   "source": [
    "write_to_submission_file(svm_grid_searcher2.predict(X_test_sparse), \"kaggle_data/submission9.csv\")\n",
    "\n",
    "#LinearSVC score=0.38950, validation score=0.352641978923\n",
    "#C=0.1061578947368421\n",
    "#\"site_longest_time\", \"#unique_sites\", \"day_of_week\", \"start_hour\"\n",
    "\n",
    "#Removing top 100 websites from the train and test sets didn't help\n",
    "#LinearSVC showed validation score=0.354069086651 and kaggle score = 0.38843\n",
    "#\"#unique_sites\", \"day_of_week\", \"start_hour\"\n",
    "\n",
    "# Current winner with score=0.39368. Validation score=0.358121546961\n",
    "# LinearSVC, C=0.10434482758620689, features = #\"#unique_sites\", \"day_of_week\", \"start_hour\"\n",
    "\n",
    "# Logistic Regression with C = 0.6899655172413793, \n",
    "# one-vs-rest, features=\"#unique_sites\", \"day_of_week\", 'start_hour', score=0.38318\n",
    "\n",
    "# Current winner with score=0.39115\n",
    "# LinearSVC, C=0.10434482758620689, features = #\"#unique_sites\", \"day_of_week\", \"daytime\"\n",
    "\n",
    "# The first winning attempt with score=0.37090:\n",
    "# LinearSVC, C=0.069896551724137931, no features, original train data."
   ]
  }
 ],
 "metadata": {
  "kernelspec": {
   "display_name": "Python 2",
   "language": "python",
   "name": "python2"
  },
  "language_info": {
   "codemirror_mode": {
    "name": "ipython",
    "version": 2
   },
   "file_extension": ".py",
   "mimetype": "text/x-python",
   "name": "python",
   "nbconvert_exporter": "python",
   "pygments_lexer": "ipython2",
   "version": "2.7.12"
  }
 },
 "nbformat": 4,
 "nbformat_minor": 0
}
