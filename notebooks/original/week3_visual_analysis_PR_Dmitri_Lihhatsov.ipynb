{
 "cells": [
  {
   "cell_type": "markdown",
   "metadata": {},
   "source": [
    "# <center> Идентификация пользователей по посещенным веб-страницам\n",
    "<img src='http://i.istockimg.com/file_thumbview_approve/21546327/5/stock-illustration-21546327-identification-de-l-utilisateur.jpg'>\n",
    "\n",
    "# <center>Неделя 3. Визуальный анализ данных и построение признаков\n",
    "\n",
    "На 3 неделе мы займемся визуальным анализом данных и построением признаков. Сначала мы вместе построим и проанализируем несколько признаков, потом Вы сможете сами придумать и описать различные признаки. Задание имеет вид Peer-Review, так что творчество здесь активно приветствуется. Если задействуете IPython-виджеты, библиотеку Plotly, анимации и прочий интерактив, всем от этого будет только лучше.\n",
    "\n",
    "**План 3 недели:**\n",
    " - Часть 1. Построение признаков и визуальный анализ данных\n",
    " - Часть 2. Визуальный анализ данных\n",
    " - Часть 3. Дальнейшее построение признаков\n",
    " \n",
    "\n",
    "**В этой части проекта Вам могут быть полезны видеозаписи следующих лекций курса \"Поиск структуры в данных\":**\n",
    "   - [Задача визуализации](https://www.coursera.org/learn/unsupervised-learning/lecture/hlvlT/zadacha-vizualizatsii)\n",
    "   - [Визуализация данных в sklearn](https://www.coursera.org/learn/unsupervised-learning/lecture/ityMo/vizualizatsiia-dannykh-v-sklearn)\n",
    "   \n",
    "**Также в задании будет использоваться библиотека Seaborn (ее можно дополнительно установить командой *conda install seaborn*), будет полезно обращаться к документациям [Matplotlib](http://matplotlib.org/users/) и [Seaborn](http://seaborn.pydata.org/), а также к примерам визуализации, описанным на StackOverflow.**\n",
    "\n"
   ]
  },
  {
   "cell_type": "markdown",
   "metadata": {},
   "source": [
    "## Часть 1. Построение признаков"
   ]
  },
  {
   "cell_type": "code",
   "execution_count": 21,
   "metadata": {
    "collapsed": false
   },
   "outputs": [],
   "source": [
    "from __future__ import division, print_function\n",
    "# отключим всякие предупреждения Anaconda\n",
    "import warnings\n",
    "warnings.filterwarnings('ignore')\n",
    "from glob import glob\n",
    "import numpy as np\n",
    "import pandas as pd\n",
    "pd.set_option('display.max.columns', 25)\n",
    "import pickle\n",
    "#conda install seaborn\n",
    "import seaborn as sns\n",
    "from datetime import datetime\n",
    "import itertools"
   ]
  },
  {
   "cell_type": "code",
   "execution_count": 20,
   "metadata": {
    "collapsed": false
   },
   "outputs": [
    {
     "name": "stdout",
     "output_type": "stream",
     "text": [
      "Populating the interactive namespace from numpy and matplotlib\n"
     ]
    }
   ],
   "source": [
    "%pylab inline"
   ]
  },
  {
   "cell_type": "markdown",
   "metadata": {},
   "source": [
    "**Создайте на основе функций *prepare_train_set* и *prepare_sparse_train_set_window*  новую – *prepare_train_set_with_fe*, (от \"feature engineering\"), создайте следующие 13 признаков:**\n",
    "- time_diff1, ..., time_diff9 – промежутки между посещением 1 и 2 сайта, ..., 9 и 10 сайта в сессии (в секундах). Посещения сайтов не сторого упорядочены по времени, поэтому эти величины где-то могут быть отрицательными. Если сайтов в сессии меньше 10, разницы можно сделать нулевыми\n",
    "- session_timespan – продолжительность сессии. Из-за того, что посещения сайтов не сторого упорядочены по времени, продолжительностью сессии будем считать разницу между максимальным и минимальным временем посещения сайтов в сессии (в секундах).\n",
    "- #unique_sites – число уникальных сайтов в сессии \n",
    "- start_hour – час начала сессии (то есть час в записи минимального timestamp среди десяти)\n",
    "- day_of_week – день недели (то есть день недели в записи минимального timestamp среди десяти)\n",
    "\n",
    "Функция должна возвращать новый DataFrame (как возвращала функция *prepare_train_set*), только признаков должно быть на 13 больше. Порядок, в котором добавляются признаки: *site1*, ... *site10*, *time_diff1*, ..., *time_diff9*, *session_timespan*, *#unique_sites*, *start_hour*,*day_of_week*,*target* (это видно и чуть ниже по тому, как функция вызывается)."
   ]
  },
  {
   "cell_type": "code",
   "execution_count": 2,
   "metadata": {
    "collapsed": false
   },
   "outputs": [],
   "source": [
    "def prepare_train_set_with_fe(csv_files_mask, site_freq_path, feature_names,\n",
    "                                    session_length=10, window_size=10):\n",
    "    \n",
    "    train_data = np.array([np.zeros(len(feature_names))])\n",
    "    site_freq = {}\n",
    "    \n",
    "    if site_freq_path != \"\":\n",
    "        pkl_file = open(site_freq_path, 'rb')\n",
    "        site_freq = pickle.load(pkl_file)\n",
    "    else:\n",
    "        return None\n",
    "    \n",
    "    for userfile in glob(csv_files_mask):\n",
    "        data = pd.read_csv(userfile, header=None, names=['userid', 'timestamp', 'site'], \\\n",
    "                           parse_dates=[1], infer_datetime_format=True)\n",
    "        user_id = data.userid[0]\n",
    "        session_hash = {}\n",
    "        \n",
    "        for i in range (0, len(data), window_size):\n",
    "            session = tuple(data[i:i+session_length].site.apply(lambda x: site_freq[x][0]))           \n",
    "            if session not in session_hash:\n",
    "                session_hash[session] = 1\n",
    "                session = list(session)\n",
    "                timestamps = list(data[i:i+session_length].timestamp)\n",
    "                time_diff = [(timestamps[n+1] - timestamps[n]).total_seconds() for n in range(0, len(session)-1)]\n",
    "                session_timespan = (max(timestamps) - min(timestamps)).total_seconds()\n",
    "                num_unique_sites = len(set(session))\n",
    "                start_hour = min(timestamps).hour\n",
    "                day_of_week = min(timestamps).weekday()\n",
    "                session.extend([0] * (session_length - len(session)) + time_diff + \\\n",
    "                               [0]*(session_length - len(time_diff) - 1) + \\\n",
    "                               [session_timespan, num_unique_sites, start_hour, day_of_week, user_id])\n",
    "                train_data = np.concatenate((train_data, np.array([session])))\n",
    "    \n",
    "    train_data = np.delete(train_data, 0, 0)\n",
    "    train_data = pd.DataFrame(train_data, columns=feature_names)\n",
    "    return train_data"
   ]
  },
  {
   "cell_type": "markdown",
   "metadata": {},
   "source": [
    "**Проверим функцию на игрушечном примере.**"
   ]
  },
  {
   "cell_type": "code",
   "execution_count": 3,
   "metadata": {
    "collapsed": false
   },
   "outputs": [],
   "source": [
    "feature_names = ['site' + str(i) for i in range(1,11)] + \\\n",
    "                ['time_diff' + str(j) for j in range(1,10)] + \\\n",
    "                ['session_timespan', '#unique_sites', 'start_hour', 'day_of_week', 'target']\n",
    "train_data_toy  = prepare_train_set_with_fe('capstone_websites_data/3users_toy/*', \n",
    "                                   site_freq_path='capstone_websites_data/site_freq_3users.pkl',\n",
    "                                   feature_names=feature_names, session_length=10)"
   ]
  },
  {
   "cell_type": "code",
   "execution_count": 4,
   "metadata": {
    "collapsed": false
   },
   "outputs": [
    {
     "data": {
      "text/html": [
       "<div>\n",
       "<table border=\"1\" class=\"dataframe\">\n",
       "  <thead>\n",
       "    <tr style=\"text-align: right;\">\n",
       "      <th></th>\n",
       "      <th>site1</th>\n",
       "      <th>site2</th>\n",
       "      <th>site3</th>\n",
       "      <th>site4</th>\n",
       "      <th>site5</th>\n",
       "      <th>site6</th>\n",
       "      <th>site7</th>\n",
       "      <th>site8</th>\n",
       "      <th>site9</th>\n",
       "      <th>site10</th>\n",
       "      <th>time_diff1</th>\n",
       "      <th>time_diff2</th>\n",
       "      <th>time_diff3</th>\n",
       "      <th>time_diff4</th>\n",
       "      <th>time_diff5</th>\n",
       "      <th>time_diff6</th>\n",
       "      <th>time_diff7</th>\n",
       "      <th>time_diff8</th>\n",
       "      <th>time_diff9</th>\n",
       "      <th>session_timespan</th>\n",
       "      <th>#unique_sites</th>\n",
       "      <th>start_hour</th>\n",
       "      <th>day_of_week</th>\n",
       "      <th>target</th>\n",
       "    </tr>\n",
       "  </thead>\n",
       "  <tbody>\n",
       "    <tr>\n",
       "      <th>0</th>\n",
       "      <td>1.0</td>\n",
       "      <td>2.0</td>\n",
       "      <td>3.0</td>\n",
       "      <td>3.0</td>\n",
       "      <td>2.0</td>\n",
       "      <td>0.0</td>\n",
       "      <td>0.0</td>\n",
       "      <td>0.0</td>\n",
       "      <td>0.0</td>\n",
       "      <td>0.0</td>\n",
       "      <td>287.0</td>\n",
       "      <td>1184.0</td>\n",
       "      <td>6278.0</td>\n",
       "      <td>186.0</td>\n",
       "      <td>0.0</td>\n",
       "      <td>0.0</td>\n",
       "      <td>0.0</td>\n",
       "      <td>0.0</td>\n",
       "      <td>0.0</td>\n",
       "      <td>7935.0</td>\n",
       "      <td>3.0</td>\n",
       "      <td>9.0</td>\n",
       "      <td>4.0</td>\n",
       "      <td>2.0</td>\n",
       "    </tr>\n",
       "    <tr>\n",
       "      <th>1</th>\n",
       "      <td>1.0</td>\n",
       "      <td>2.0</td>\n",
       "      <td>2.0</td>\n",
       "      <td>4.0</td>\n",
       "      <td>2.0</td>\n",
       "      <td>5.0</td>\n",
       "      <td>6.0</td>\n",
       "      <td>7.0</td>\n",
       "      <td>8.0</td>\n",
       "      <td>9.0</td>\n",
       "      <td>287.0</td>\n",
       "      <td>1184.0</td>\n",
       "      <td>6278.0</td>\n",
       "      <td>186.0</td>\n",
       "      <td>2.0</td>\n",
       "      <td>1.0</td>\n",
       "      <td>2.0</td>\n",
       "      <td>3.0</td>\n",
       "      <td>55.0</td>\n",
       "      <td>7998.0</td>\n",
       "      <td>8.0</td>\n",
       "      <td>9.0</td>\n",
       "      <td>4.0</td>\n",
       "      <td>1.0</td>\n",
       "    </tr>\n",
       "    <tr>\n",
       "      <th>2</th>\n",
       "      <td>1.0</td>\n",
       "      <td>5.0</td>\n",
       "      <td>5.0</td>\n",
       "      <td>5.0</td>\n",
       "      <td>0.0</td>\n",
       "      <td>0.0</td>\n",
       "      <td>0.0</td>\n",
       "      <td>0.0</td>\n",
       "      <td>0.0</td>\n",
       "      <td>0.0</td>\n",
       "      <td>2.0</td>\n",
       "      <td>3.0</td>\n",
       "      <td>55.0</td>\n",
       "      <td>0.0</td>\n",
       "      <td>0.0</td>\n",
       "      <td>0.0</td>\n",
       "      <td>0.0</td>\n",
       "      <td>0.0</td>\n",
       "      <td>0.0</td>\n",
       "      <td>60.0</td>\n",
       "      <td>2.0</td>\n",
       "      <td>12.0</td>\n",
       "      <td>4.0</td>\n",
       "      <td>1.0</td>\n",
       "    </tr>\n",
       "    <tr>\n",
       "      <th>3</th>\n",
       "      <td>10.0</td>\n",
       "      <td>5.0</td>\n",
       "      <td>2.0</td>\n",
       "      <td>5.0</td>\n",
       "      <td>2.0</td>\n",
       "      <td>5.0</td>\n",
       "      <td>5.0</td>\n",
       "      <td>7.0</td>\n",
       "      <td>11.0</td>\n",
       "      <td>10.0</td>\n",
       "      <td>287.0</td>\n",
       "      <td>1184.0</td>\n",
       "      <td>6278.0</td>\n",
       "      <td>186.0</td>\n",
       "      <td>2.0</td>\n",
       "      <td>1.0</td>\n",
       "      <td>2.0</td>\n",
       "      <td>3.0</td>\n",
       "      <td>55.0</td>\n",
       "      <td>7998.0</td>\n",
       "      <td>5.0</td>\n",
       "      <td>9.0</td>\n",
       "      <td>4.0</td>\n",
       "      <td>3.0</td>\n",
       "    </tr>\n",
       "    <tr>\n",
       "      <th>4</th>\n",
       "      <td>10.0</td>\n",
       "      <td>5.0</td>\n",
       "      <td>2.0</td>\n",
       "      <td>0.0</td>\n",
       "      <td>0.0</td>\n",
       "      <td>0.0</td>\n",
       "      <td>0.0</td>\n",
       "      <td>0.0</td>\n",
       "      <td>0.0</td>\n",
       "      <td>0.0</td>\n",
       "      <td>287.0</td>\n",
       "      <td>1184.0</td>\n",
       "      <td>0.0</td>\n",
       "      <td>0.0</td>\n",
       "      <td>0.0</td>\n",
       "      <td>0.0</td>\n",
       "      <td>0.0</td>\n",
       "      <td>0.0</td>\n",
       "      <td>0.0</td>\n",
       "      <td>1471.0</td>\n",
       "      <td>3.0</td>\n",
       "      <td>12.0</td>\n",
       "      <td>4.0</td>\n",
       "      <td>3.0</td>\n",
       "    </tr>\n",
       "  </tbody>\n",
       "</table>\n",
       "</div>"
      ],
      "text/plain": [
       "   site1  site2  site3  site4  site5  site6  site7  site8  site9  site10  \\\n",
       "0    1.0    2.0    3.0    3.0    2.0    0.0    0.0    0.0    0.0     0.0   \n",
       "1    1.0    2.0    2.0    4.0    2.0    5.0    6.0    7.0    8.0     9.0   \n",
       "2    1.0    5.0    5.0    5.0    0.0    0.0    0.0    0.0    0.0     0.0   \n",
       "3   10.0    5.0    2.0    5.0    2.0    5.0    5.0    7.0   11.0    10.0   \n",
       "4   10.0    5.0    2.0    0.0    0.0    0.0    0.0    0.0    0.0     0.0   \n",
       "\n",
       "   time_diff1  time_diff2  time_diff3  time_diff4  time_diff5  time_diff6  \\\n",
       "0       287.0      1184.0      6278.0       186.0         0.0         0.0   \n",
       "1       287.0      1184.0      6278.0       186.0         2.0         1.0   \n",
       "2         2.0         3.0        55.0         0.0         0.0         0.0   \n",
       "3       287.0      1184.0      6278.0       186.0         2.0         1.0   \n",
       "4       287.0      1184.0         0.0         0.0         0.0         0.0   \n",
       "\n",
       "   time_diff7  time_diff8  time_diff9  session_timespan  #unique_sites  \\\n",
       "0         0.0         0.0         0.0            7935.0            3.0   \n",
       "1         2.0         3.0        55.0            7998.0            8.0   \n",
       "2         0.0         0.0         0.0              60.0            2.0   \n",
       "3         2.0         3.0        55.0            7998.0            5.0   \n",
       "4         0.0         0.0         0.0            1471.0            3.0   \n",
       "\n",
       "   start_hour  day_of_week  target  \n",
       "0         9.0          4.0     2.0  \n",
       "1         9.0          4.0     1.0  \n",
       "2        12.0          4.0     1.0  \n",
       "3         9.0          4.0     3.0  \n",
       "4        12.0          4.0     3.0  "
      ]
     },
     "execution_count": 4,
     "metadata": {},
     "output_type": "execute_result"
    }
   ],
   "source": [
    "train_data_toy"
   ]
  },
  {
   "cell_type": "markdown",
   "metadata": {},
   "source": [
    "**Примените функцию *prepare_train_set_with_fe* к данным по 10 пользователям, укажите session_length=10.**"
   ]
  },
  {
   "cell_type": "code",
   "execution_count": 5,
   "metadata": {
    "collapsed": false
   },
   "outputs": [
    {
     "name": "stdout",
     "output_type": "stream",
     "text": [
      "CPU times: user 8.21 s, sys: 1.83 s, total: 10 s\n",
      "Wall time: 10 s\n"
     ]
    }
   ],
   "source": [
    "%%time\n",
    "train_data_10users = prepare_train_set_with_fe('capstone_websites_data/10users/*', \n",
    "                                   site_freq_path='capstone_websites_data/site_freq_10users.pkl',\n",
    "                                   feature_names=feature_names, session_length=10)"
   ]
  },
  {
   "cell_type": "code",
   "execution_count": 6,
   "metadata": {
    "collapsed": false
   },
   "outputs": [
    {
     "data": {
      "text/html": [
       "<div>\n",
       "<table border=\"1\" class=\"dataframe\">\n",
       "  <thead>\n",
       "    <tr style=\"text-align: right;\">\n",
       "      <th></th>\n",
       "      <th>site1</th>\n",
       "      <th>site2</th>\n",
       "      <th>site3</th>\n",
       "      <th>site4</th>\n",
       "      <th>site5</th>\n",
       "      <th>site6</th>\n",
       "      <th>site7</th>\n",
       "      <th>site8</th>\n",
       "      <th>site9</th>\n",
       "      <th>site10</th>\n",
       "      <th>time_diff1</th>\n",
       "      <th>time_diff2</th>\n",
       "      <th>time_diff3</th>\n",
       "      <th>time_diff4</th>\n",
       "      <th>time_diff5</th>\n",
       "      <th>time_diff6</th>\n",
       "      <th>time_diff7</th>\n",
       "      <th>time_diff8</th>\n",
       "      <th>time_diff9</th>\n",
       "      <th>session_timespan</th>\n",
       "      <th>#unique_sites</th>\n",
       "      <th>start_hour</th>\n",
       "      <th>day_of_week</th>\n",
       "      <th>target</th>\n",
       "    </tr>\n",
       "  </thead>\n",
       "  <tbody>\n",
       "    <tr>\n",
       "      <th>0</th>\n",
       "      <td>1.0</td>\n",
       "      <td>2.0</td>\n",
       "      <td>3.0</td>\n",
       "      <td>4.0</td>\n",
       "      <td>5.0</td>\n",
       "      <td>1.0</td>\n",
       "      <td>2.0</td>\n",
       "      <td>4.0</td>\n",
       "      <td>5.0</td>\n",
       "      <td>3.0</td>\n",
       "      <td>3.0</td>\n",
       "      <td>2.0</td>\n",
       "      <td>41.0</td>\n",
       "      <td>1.0</td>\n",
       "      <td>1.0</td>\n",
       "      <td>0.0</td>\n",
       "      <td>0.0</td>\n",
       "      <td>0.0</td>\n",
       "      <td>0.0</td>\n",
       "      <td>48.0</td>\n",
       "      <td>5.0</td>\n",
       "      <td>13.0</td>\n",
       "      <td>4.0</td>\n",
       "      <td>128.0</td>\n",
       "    </tr>\n",
       "    <tr>\n",
       "      <th>1</th>\n",
       "      <td>3.0</td>\n",
       "      <td>6.0</td>\n",
       "      <td>7.0</td>\n",
       "      <td>8.0</td>\n",
       "      <td>6.0</td>\n",
       "      <td>8.0</td>\n",
       "      <td>7.0</td>\n",
       "      <td>8.0</td>\n",
       "      <td>9.0</td>\n",
       "      <td>1.0</td>\n",
       "      <td>0.0</td>\n",
       "      <td>0.0</td>\n",
       "      <td>0.0</td>\n",
       "      <td>1.0</td>\n",
       "      <td>0.0</td>\n",
       "      <td>0.0</td>\n",
       "      <td>1.0</td>\n",
       "      <td>0.0</td>\n",
       "      <td>1.0</td>\n",
       "      <td>3.0</td>\n",
       "      <td>6.0</td>\n",
       "      <td>13.0</td>\n",
       "      <td>4.0</td>\n",
       "      <td>128.0</td>\n",
       "    </tr>\n",
       "    <tr>\n",
       "      <th>2</th>\n",
       "      <td>3.0</td>\n",
       "      <td>9.0</td>\n",
       "      <td>7.0</td>\n",
       "      <td>3.0</td>\n",
       "      <td>10.0</td>\n",
       "      <td>11.0</td>\n",
       "      <td>8.0</td>\n",
       "      <td>8.0</td>\n",
       "      <td>10.0</td>\n",
       "      <td>8.0</td>\n",
       "      <td>0.0</td>\n",
       "      <td>0.0</td>\n",
       "      <td>1.0</td>\n",
       "      <td>0.0</td>\n",
       "      <td>0.0</td>\n",
       "      <td>1.0</td>\n",
       "      <td>1.0</td>\n",
       "      <td>8.0</td>\n",
       "      <td>2.0</td>\n",
       "      <td>13.0</td>\n",
       "      <td>6.0</td>\n",
       "      <td>13.0</td>\n",
       "      <td>4.0</td>\n",
       "      <td>128.0</td>\n",
       "    </tr>\n",
       "    <tr>\n",
       "      <th>3</th>\n",
       "      <td>8.0</td>\n",
       "      <td>7.0</td>\n",
       "      <td>3.0</td>\n",
       "      <td>3.0</td>\n",
       "      <td>11.0</td>\n",
       "      <td>3.0</td>\n",
       "      <td>3.0</td>\n",
       "      <td>12.0</td>\n",
       "      <td>12.0</td>\n",
       "      <td>13.0</td>\n",
       "      <td>0.0</td>\n",
       "      <td>8.0</td>\n",
       "      <td>18.0</td>\n",
       "      <td>47.0</td>\n",
       "      <td>11.0</td>\n",
       "      <td>18.0</td>\n",
       "      <td>137.0</td>\n",
       "      <td>17.0</td>\n",
       "      <td>26.0</td>\n",
       "      <td>282.0</td>\n",
       "      <td>6.0</td>\n",
       "      <td>13.0</td>\n",
       "      <td>4.0</td>\n",
       "      <td>128.0</td>\n",
       "    </tr>\n",
       "    <tr>\n",
       "      <th>4</th>\n",
       "      <td>13.0</td>\n",
       "      <td>9.0</td>\n",
       "      <td>10.0</td>\n",
       "      <td>12.0</td>\n",
       "      <td>12.0</td>\n",
       "      <td>13.0</td>\n",
       "      <td>12.0</td>\n",
       "      <td>12.0</td>\n",
       "      <td>14.0</td>\n",
       "      <td>15.0</td>\n",
       "      <td>46.0</td>\n",
       "      <td>14.0</td>\n",
       "      <td>31.0</td>\n",
       "      <td>1.0</td>\n",
       "      <td>13.0</td>\n",
       "      <td>17.0</td>\n",
       "      <td>1.0</td>\n",
       "      <td>10.0</td>\n",
       "      <td>6.0</td>\n",
       "      <td>139.0</td>\n",
       "      <td>6.0</td>\n",
       "      <td>13.0</td>\n",
       "      <td>4.0</td>\n",
       "      <td>128.0</td>\n",
       "    </tr>\n",
       "  </tbody>\n",
       "</table>\n",
       "</div>"
      ],
      "text/plain": [
       "   site1  site2  site3  site4  site5  site6  site7  site8  site9  site10  \\\n",
       "0    1.0    2.0    3.0    4.0    5.0    1.0    2.0    4.0    5.0     3.0   \n",
       "1    3.0    6.0    7.0    8.0    6.0    8.0    7.0    8.0    9.0     1.0   \n",
       "2    3.0    9.0    7.0    3.0   10.0   11.0    8.0    8.0   10.0     8.0   \n",
       "3    8.0    7.0    3.0    3.0   11.0    3.0    3.0   12.0   12.0    13.0   \n",
       "4   13.0    9.0   10.0   12.0   12.0   13.0   12.0   12.0   14.0    15.0   \n",
       "\n",
       "   time_diff1  time_diff2  time_diff3  time_diff4  time_diff5  time_diff6  \\\n",
       "0         3.0         2.0        41.0         1.0         1.0         0.0   \n",
       "1         0.0         0.0         0.0         1.0         0.0         0.0   \n",
       "2         0.0         0.0         1.0         0.0         0.0         1.0   \n",
       "3         0.0         8.0        18.0        47.0        11.0        18.0   \n",
       "4        46.0        14.0        31.0         1.0        13.0        17.0   \n",
       "\n",
       "   time_diff7  time_diff8  time_diff9  session_timespan  #unique_sites  \\\n",
       "0         0.0         0.0         0.0              48.0            5.0   \n",
       "1         1.0         0.0         1.0               3.0            6.0   \n",
       "2         1.0         8.0         2.0              13.0            6.0   \n",
       "3       137.0        17.0        26.0             282.0            6.0   \n",
       "4         1.0        10.0         6.0             139.0            6.0   \n",
       "\n",
       "   start_hour  day_of_week  target  \n",
       "0        13.0          4.0   128.0  \n",
       "1        13.0          4.0   128.0  \n",
       "2        13.0          4.0   128.0  \n",
       "3        13.0          4.0   128.0  \n",
       "4        13.0          4.0   128.0  "
      ]
     },
     "execution_count": 6,
     "metadata": {},
     "output_type": "execute_result"
    }
   ],
   "source": [
    "train_data_10users.head()"
   ]
  },
  {
   "cell_type": "markdown",
   "metadata": {},
   "source": [
    "**Примените функцию *prepare_train_set_with_fe* к данным по 150 пользователям, укажите session_length=10.**"
   ]
  },
  {
   "cell_type": "code",
   "execution_count": 7,
   "metadata": {
    "collapsed": false
   },
   "outputs": [
    {
     "name": "stdout",
     "output_type": "stream",
     "text": [
      "CPU times: user 4min 12s, sys: 1min 24s, total: 5min 36s\n",
      "Wall time: 5min 36s\n"
     ]
    }
   ],
   "source": [
    "%%time\n",
    "train_data_150users = prepare_train_set_with_fe('capstone_websites_data/150users/*', \n",
    "                                   site_freq_path='capstone_websites_data/site_freq_150users.pkl',\n",
    "                                   feature_names=feature_names, session_length=10)"
   ]
  },
  {
   "cell_type": "code",
   "execution_count": 8,
   "metadata": {
    "collapsed": false
   },
   "outputs": [
    {
     "data": {
      "text/html": [
       "<div>\n",
       "<table border=\"1\" class=\"dataframe\">\n",
       "  <thead>\n",
       "    <tr style=\"text-align: right;\">\n",
       "      <th></th>\n",
       "      <th>site1</th>\n",
       "      <th>site2</th>\n",
       "      <th>site3</th>\n",
       "      <th>site4</th>\n",
       "      <th>site5</th>\n",
       "      <th>site6</th>\n",
       "      <th>site7</th>\n",
       "      <th>site8</th>\n",
       "      <th>site9</th>\n",
       "      <th>site10</th>\n",
       "      <th>time_diff1</th>\n",
       "      <th>time_diff2</th>\n",
       "      <th>time_diff3</th>\n",
       "      <th>time_diff4</th>\n",
       "      <th>time_diff5</th>\n",
       "      <th>time_diff6</th>\n",
       "      <th>time_diff7</th>\n",
       "      <th>time_diff8</th>\n",
       "      <th>time_diff9</th>\n",
       "      <th>session_timespan</th>\n",
       "      <th>#unique_sites</th>\n",
       "      <th>start_hour</th>\n",
       "      <th>day_of_week</th>\n",
       "      <th>target</th>\n",
       "    </tr>\n",
       "  </thead>\n",
       "  <tbody>\n",
       "    <tr>\n",
       "      <th>0</th>\n",
       "      <td>1.0</td>\n",
       "      <td>1.0</td>\n",
       "      <td>2.0</td>\n",
       "      <td>3.0</td>\n",
       "      <td>3.0</td>\n",
       "      <td>4.0</td>\n",
       "      <td>5.0</td>\n",
       "      <td>4.0</td>\n",
       "      <td>4.0</td>\n",
       "      <td>4.0</td>\n",
       "      <td>15.0</td>\n",
       "      <td>200.0</td>\n",
       "      <td>102.0</td>\n",
       "      <td>61.0</td>\n",
       "      <td>15.0</td>\n",
       "      <td>0.0</td>\n",
       "      <td>6.0</td>\n",
       "      <td>7.0</td>\n",
       "      <td>23.0</td>\n",
       "      <td>429.0</td>\n",
       "      <td>5.0</td>\n",
       "      <td>8.0</td>\n",
       "      <td>2.0</td>\n",
       "      <td>580.0</td>\n",
       "    </tr>\n",
       "    <tr>\n",
       "      <th>1</th>\n",
       "      <td>6.0</td>\n",
       "      <td>7.0</td>\n",
       "      <td>8.0</td>\n",
       "      <td>8.0</td>\n",
       "      <td>6.0</td>\n",
       "      <td>9.0</td>\n",
       "      <td>10.0</td>\n",
       "      <td>11.0</td>\n",
       "      <td>10.0</td>\n",
       "      <td>12.0</td>\n",
       "      <td>3.0</td>\n",
       "      <td>0.0</td>\n",
       "      <td>1.0</td>\n",
       "      <td>6.0</td>\n",
       "      <td>1.0</td>\n",
       "      <td>0.0</td>\n",
       "      <td>1.0</td>\n",
       "      <td>0.0</td>\n",
       "      <td>0.0</td>\n",
       "      <td>12.0</td>\n",
       "      <td>7.0</td>\n",
       "      <td>8.0</td>\n",
       "      <td>2.0</td>\n",
       "      <td>580.0</td>\n",
       "    </tr>\n",
       "    <tr>\n",
       "      <th>2</th>\n",
       "      <td>9.0</td>\n",
       "      <td>13.0</td>\n",
       "      <td>14.0</td>\n",
       "      <td>9.0</td>\n",
       "      <td>12.0</td>\n",
       "      <td>11.0</td>\n",
       "      <td>15.0</td>\n",
       "      <td>15.0</td>\n",
       "      <td>16.0</td>\n",
       "      <td>17.0</td>\n",
       "      <td>0.0</td>\n",
       "      <td>0.0</td>\n",
       "      <td>1.0</td>\n",
       "      <td>0.0</td>\n",
       "      <td>0.0</td>\n",
       "      <td>0.0</td>\n",
       "      <td>1.0</td>\n",
       "      <td>92.0</td>\n",
       "      <td>0.0</td>\n",
       "      <td>94.0</td>\n",
       "      <td>8.0</td>\n",
       "      <td>8.0</td>\n",
       "      <td>2.0</td>\n",
       "      <td>580.0</td>\n",
       "    </tr>\n",
       "    <tr>\n",
       "      <th>3</th>\n",
       "      <td>17.0</td>\n",
       "      <td>2.0</td>\n",
       "      <td>18.0</td>\n",
       "      <td>19.0</td>\n",
       "      <td>20.0</td>\n",
       "      <td>21.0</td>\n",
       "      <td>22.0</td>\n",
       "      <td>23.0</td>\n",
       "      <td>24.0</td>\n",
       "      <td>25.0</td>\n",
       "      <td>43.0</td>\n",
       "      <td>67.0</td>\n",
       "      <td>120.0</td>\n",
       "      <td>120.0</td>\n",
       "      <td>903.0</td>\n",
       "      <td>0.0</td>\n",
       "      <td>0.0</td>\n",
       "      <td>0.0</td>\n",
       "      <td>0.0</td>\n",
       "      <td>1253.0</td>\n",
       "      <td>10.0</td>\n",
       "      <td>8.0</td>\n",
       "      <td>2.0</td>\n",
       "      <td>580.0</td>\n",
       "    </tr>\n",
       "    <tr>\n",
       "      <th>4</th>\n",
       "      <td>21.0</td>\n",
       "      <td>26.0</td>\n",
       "      <td>27.0</td>\n",
       "      <td>23.0</td>\n",
       "      <td>25.0</td>\n",
       "      <td>28.0</td>\n",
       "      <td>29.0</td>\n",
       "      <td>30.0</td>\n",
       "      <td>31.0</td>\n",
       "      <td>32.0</td>\n",
       "      <td>0.0</td>\n",
       "      <td>0.0</td>\n",
       "      <td>0.0</td>\n",
       "      <td>0.0</td>\n",
       "      <td>0.0</td>\n",
       "      <td>0.0</td>\n",
       "      <td>0.0</td>\n",
       "      <td>0.0</td>\n",
       "      <td>1.0</td>\n",
       "      <td>1.0</td>\n",
       "      <td>10.0</td>\n",
       "      <td>8.0</td>\n",
       "      <td>2.0</td>\n",
       "      <td>580.0</td>\n",
       "    </tr>\n",
       "  </tbody>\n",
       "</table>\n",
       "</div>"
      ],
      "text/plain": [
       "   site1  site2  site3  site4  site5  site6  site7  site8  site9  site10  \\\n",
       "0    1.0    1.0    2.0    3.0    3.0    4.0    5.0    4.0    4.0     4.0   \n",
       "1    6.0    7.0    8.0    8.0    6.0    9.0   10.0   11.0   10.0    12.0   \n",
       "2    9.0   13.0   14.0    9.0   12.0   11.0   15.0   15.0   16.0    17.0   \n",
       "3   17.0    2.0   18.0   19.0   20.0   21.0   22.0   23.0   24.0    25.0   \n",
       "4   21.0   26.0   27.0   23.0   25.0   28.0   29.0   30.0   31.0    32.0   \n",
       "\n",
       "   time_diff1  time_diff2  time_diff3  time_diff4  time_diff5  time_diff6  \\\n",
       "0        15.0       200.0       102.0        61.0        15.0         0.0   \n",
       "1         3.0         0.0         1.0         6.0         1.0         0.0   \n",
       "2         0.0         0.0         1.0         0.0         0.0         0.0   \n",
       "3        43.0        67.0       120.0       120.0       903.0         0.0   \n",
       "4         0.0         0.0         0.0         0.0         0.0         0.0   \n",
       "\n",
       "   time_diff7  time_diff8  time_diff9  session_timespan  #unique_sites  \\\n",
       "0         6.0         7.0        23.0             429.0            5.0   \n",
       "1         1.0         0.0         0.0              12.0            7.0   \n",
       "2         1.0        92.0         0.0              94.0            8.0   \n",
       "3         0.0         0.0         0.0            1253.0           10.0   \n",
       "4         0.0         0.0         1.0               1.0           10.0   \n",
       "\n",
       "   start_hour  day_of_week  target  \n",
       "0         8.0          2.0   580.0  \n",
       "1         8.0          2.0   580.0  \n",
       "2         8.0          2.0   580.0  \n",
       "3         8.0          2.0   580.0  \n",
       "4         8.0          2.0   580.0  "
      ]
     },
     "execution_count": 8,
     "metadata": {},
     "output_type": "execute_result"
    }
   ],
   "source": [
    "train_data_150users.head()"
   ]
  },
  {
   "cell_type": "markdown",
   "metadata": {},
   "source": [
    "**Сохраните в pickle-файлы *time_diff1*,..., *time_diff9, session_timespan, #unique_sites, start_hour* и *day_of_week* для 10 и 150 пользователей.**"
   ]
  },
  {
   "cell_type": "code",
   "execution_count": 9,
   "metadata": {
    "collapsed": true
   },
   "outputs": [],
   "source": [
    "new_features_10users = train_data_10users.iloc[:,10:-1]\n",
    "new_features_150users = train_data_150users.iloc[:,10:-1]"
   ]
  },
  {
   "cell_type": "code",
   "execution_count": 169,
   "metadata": {
    "collapsed": true
   },
   "outputs": [],
   "source": [
    "with open('new_features_10users.pkl', 'wb') as new_features_10users_pkl:\n",
    "    pickle.dump(new_features_10users, new_features_10users_pkl)\n",
    "with open('new_features_150users.pkl', 'wb') as new_features_150users_pkl:\n",
    "    pickle.dump(new_features_150users, new_features_150users_pkl)"
   ]
  },
  {
   "cell_type": "markdown",
   "metadata": {},
   "source": [
    "## Часть 2. Визуальный анализ данных"
   ]
  },
  {
   "cell_type": "markdown",
   "metadata": {},
   "source": [
    "**Забавы ради, потехи для дадим пользователям имена и ассоциируем с ними цвета.**"
   ]
  },
  {
   "cell_type": "code",
   "execution_count": 10,
   "metadata": {
    "collapsed": false
   },
   "outputs": [],
   "source": [
    "id_name_dict = {128: 'Mary-Kate', 39: 'Ashley', 207: 'Lindsey', 127: 'Naomi', 237: 'Avril',\n",
    "               33: 'Bob', 50: 'Bill', 31: 'John', 100: 'Dick', 241: 'Ed'}\n",
    "train_data_10users['target'] = train_data_10users['target'].map(id_name_dict)"
   ]
  },
  {
   "cell_type": "code",
   "execution_count": 11,
   "metadata": {
    "collapsed": false
   },
   "outputs": [],
   "source": [
    "color_dic = {'Mary-Kate': 'pink', 'Ashley': 'darkviolet', 'Lindsey':'blueviolet', \n",
    "             'Naomi': 'hotpink', 'Avril': 'orchid', \n",
    "             'Bob': 'firebrick', 'Bill': 'gold', 'John': 'forestgreen', \n",
    "             'Dick': 'slategrey', 'Ed':'brown'}"
   ]
  },
  {
   "cell_type": "markdown",
   "metadata": {},
   "source": [
    "**1. Постройте гистограмму распределения длины сессии в секундах (*session_timespan*). Ограничьте по *x* значением 200 (иначе слишком тяжелый хвост). Сделайте гистограмму цвета *darkviolet*, подпишите оси по-русски.**"
   ]
  },
  {
   "cell_type": "code",
   "execution_count": 25,
   "metadata": {
    "collapsed": false
   },
   "outputs": [
    {
     "data": {
      "image/png": "[encoded data removed]",
      "text/plain": [
       "<matplotlib.figure.Figure at 0x7facc937e4d0>"
      ]
     },
     "metadata": {},
     "output_type": "display_data"
    }
   ],
   "source": [
    "pyplot.xlabel(u'Длина сессии (с)')\n",
    "pyplot.ylabel(u'Число сессий')\n",
    "pyplot.title(u'Гистограмма распределения длины сессии')\n",
    "train_data_10users[train_data_10users['session_timespan'] < 200]['session_timespan'].hist(color=\"darkviolet\")\n",
    "pyplot.show()"
   ]
  },
  {
   "cell_type": "markdown",
   "metadata": {},
   "source": [
    "**2. Постройте гистограмму распределения числа уникальных сайтов в сессии (*#unique_sites*). Сделайте гистограмму цвета *aqua*, подпишите оси по-русски.**"
   ]
  },
  {
   "cell_type": "code",
   "execution_count": 26,
   "metadata": {
    "collapsed": false
   },
   "outputs": [
    {
     "data": {
      "image/png": "[encoded data removed]",
      "text/plain": [
       "<matplotlib.figure.Figure at 0x7facc304b390>"
      ]
     },
     "metadata": {},
     "output_type": "display_data"
    }
   ],
   "source": [
    "unique = np.unique(train_data_10users['#unique_sites']).astype(int)\n",
    "bins = np.append(unique, unique[-1]+1) - 0.5\n",
    "\n",
    "pyplot.xlabel(u'Число уникальных сайтов')\n",
    "pyplot.ylabel(u'Число сессий')\n",
    "pyplot.title(u'Гистограмма распределения числа уникальных сайтов в сессии')\n",
    "train_data_10users['#unique_sites'].hist(color=\"aqua\", bins=bins)\n",
    "pyplot.gca().set(xticks = unique, xlim = [min(unique)-1, max(unique)+1])\n",
    "pyplot.show()"
   ]
  },
  {
   "cell_type": "markdown",
   "metadata": {},
   "source": [
    "**3. Постройте гистограммы распределения числа уникальных сайтов в сессии (*#unique_sites*) для каждого из 10 пользователей по отдельности. Используйте *subplots*, чтоб разместить все 10 картинок на одной большой. Пометьте легендой каждую картинку – на легенде должно быть написано имя пользователя. Для каждого пользователя раскрасьте гистограмму его/ее цветом (*color_dic*). Подпишите оси по-русски в каждой из 10 гистограмм.**"
   ]
  },
  {
   "cell_type": "code",
   "execution_count": 27,
   "metadata": {
    "collapsed": false
   },
   "outputs": [
    {
     "data": {
      "image/png": "[encoded data removed]",
      "text/plain": [
       "<matplotlib.figure.Figure at 0x7facc9654650>"
      ]
     },
     "metadata": {},
     "output_type": "display_data"
    }
   ],
   "source": [
    "fig, axes = plt.subplots(nrows=3, ncols=4, figsize=(16, 10))\n",
    "subplots_adjust(left=None, bottom=None, right=None, top=None, wspace=0.3, hspace=0.3)\n",
    "user_names = id_name_dict.values()\n",
    "\n",
    "unique = np.unique(train_data_10users['#unique_sites']).astype(int)\n",
    "bins = np.append(unique, unique[-1]+1) - 0.5\n",
    "\n",
    "for x, y in itertools.product(range(0, 3), range(0, 4)):\n",
    "    if len(user_names):\n",
    "        user_name = user_names.pop()\n",
    "        axes[x, y].set_xlabel(u'Число уникальных сайтов')\n",
    "        axes[x, y].set_ylabel(u'Число сессий')\n",
    "        train_data_10users[train_data_10users.target == user_name]['#unique_sites'].hist(color=color_dic[user_name],\\\n",
    "                                                                          ax=axes[x, y], label=user_name, bins=bins)\n",
    "        axes[x, y].legend(loc=\"best\")\n",
    "        axes[x, y].set(xticks = unique, xlim = [min(unique)-1, max(unique)+1])\n",
    "axes[2, 2].axis('off')\n",
    "axes[2, 3].axis('off')\n",
    "pyplot.suptitle(u'Гистограммы распределения числа уникальных сайтов в сессии для 10 пользователей', fontsize=16)\n",
    "pyplot.show()\n",
    "\n",
    "# как вариант, можно и по-другому\n",
    "#for idx, (user, sub_df) in  enumerate(pd.groupby(train_data_10users, 'target')): \n",
    "     #''' ВАШ КОД ЗДЕСЬ '''"
   ]
  },
  {
   "cell_type": "markdown",
   "metadata": {},
   "source": [
    "**4. Постройте гистограмму распределения часа начала сессии (*start_hour*). Сделайте гистограмму цвета *darkgreen*, подпишите оси по-русски.**"
   ]
  },
  {
   "cell_type": "code",
   "execution_count": 28,
   "metadata": {
    "collapsed": false
   },
   "outputs": [
    {
     "data": {
      "image/png": "[encoded data removed]",
      "text/plain": [
       "<matplotlib.figure.Figure at 0x7fad1ca14a10>"
      ]
     },
     "metadata": {},
     "output_type": "display_data"
    }
   ],
   "source": [
    "hours = np.unique(train_data_10users['start_hour']).astype(int)\n",
    "bins = np.append(hours, hours[-1]+1) - 0.5\n",
    "\n",
    "pyplot.xlabel(u'Час начала сессии')\n",
    "pyplot.ylabel(u'Число сессий')\n",
    "pyplot.title(u'Гистограмма распределения часа начала сессии')\n",
    "train_data_10users['start_hour'].hist(color=\"darkgreen\", bins=bins)\n",
    "pyplot.gca().set(xticks = hours, xlim = [min(hours)-1, max(hours)+1])\n",
    "pyplot.show()"
   ]
  },
  {
   "cell_type": "markdown",
   "metadata": {},
   "source": [
    "**5. Постройте гистограммы распределения часа начала сессии (*start_hour*) для каждого из 10 пользователей по отдельности. Используйте *subplots*, чтоб разместить все 10 картинок на одной большой. Пометьте легендой каждую картинку – на легенде должно быть написано имя пользователя. Для каждого пользователя раскрасьте гистограмму его/ее цветом (*color_dic*). Подпишите оси по-русски в каждой из 10 гистограмм.**"
   ]
  },
  {
   "cell_type": "code",
   "execution_count": 29,
   "metadata": {
    "collapsed": false,
    "scrolled": false
   },
   "outputs": [
    {
     "data": {
      "image/png": "[encoded data removed]",
      "text/plain": [
       "<matplotlib.figure.Figure at 0x7facc025dc10>"
      ]
     },
     "metadata": {},
     "output_type": "display_data"
    }
   ],
   "source": [
    "fig, axes = plt.subplots(nrows=4, ncols=3, figsize=(16, 16))\n",
    "subplots_adjust(left=None, bottom=None, right=None, top=None, wspace=0.3, hspace=0.3)\n",
    "user_names = id_name_dict.values()\n",
    "\n",
    "# возьмём одинаковые бины для всех гистограмм, чтобы удобнее было сравнивать\n",
    "hours = np.unique(train_data_10users['start_hour']).astype(int)\n",
    "bins = np.append(hours, hours[-1]+1) - 0.5 \n",
    "\n",
    "for x, y in itertools.product(range(0, 4), range(0, 3)):\n",
    "    if len(user_names):\n",
    "        user_name = user_names.pop()\n",
    "        axes[x, y].set_xlabel(u'Час начала сессии')\n",
    "        axes[x, y].set_ylabel(u'Число сессий')\n",
    "        \n",
    "        train_data_10users[train_data_10users.target == user_name]['start_hour'].hist(color=color_dic[user_name],\\\n",
    "                                                                                    ax=axes[x, y], label=user_name,\\\n",
    "                                                                                     bins = bins)\n",
    "        axes[x, y].set(xticks = hours, xlim = [min(hours)-1, max(hours)+1])\n",
    "        \n",
    "        axes[x, y].legend(loc=\"best\")\n",
    "axes[3, 1].axis('off')\n",
    "axes[3, 2].axis('off')\n",
    "pyplot.suptitle(u'Гистограммы распределения часа начала сессии для 10 пользователей', fontsize=16)\n",
    "pyplot.show()\n",
    "\n",
    "# как вариант, можно и по-другому\n",
    "#for idx, (user, sub_df) in  enumerate(pd.groupby(train_data_10users, 'target')): \n",
    "     #''' ВАШ КОД ЗДЕСЬ '''"
   ]
  },
  {
   "cell_type": "markdown",
   "metadata": {},
   "source": [
    "**6. Постройте гистограмму распределения дня недели, в который началась сессия (*day_of_week*). Сделайте гистограмму цвета *sienna*, подпишите оси по-русски.**"
   ]
  },
  {
   "cell_type": "code",
   "execution_count": 30,
   "metadata": {
    "collapsed": false
   },
   "outputs": [
    {
     "data": {
      "image/png": "[encoded data removed]",
      "text/plain": [
       "<matplotlib.figure.Figure at 0x7facc9f81950>"
      ]
     },
     "metadata": {},
     "output_type": "display_data"
    }
   ],
   "source": [
    "# Great explanation why it's better to use bincount:\n",
    "# http://stackoverflow.com/questions/27083051/matplotlib-xticks-not-lining-up-with-histogram\n",
    "pyplot.xlabel(u'День недели начала сессии')\n",
    "pyplot.ylabel(u'Число сессий')\n",
    "pyplot.title(u'Гистограмма распределения дня недели начала сессии')\n",
    "counts = np.bincount(train_data_10users['day_of_week'].astype(int), minlength=7)\n",
    "pyplot.gca().bar(range(7), counts, width=1, align='center', color=\"sienna\")\n",
    "pyplot.gca().set(xticks=range(7), xlim=[-1, 7], xticklabels=[u'Пн', u'Вт', u'Ср', u'Чт', u'Пт', u'Сб', u'Вс'])\n",
    "pyplot.show()"
   ]
  },
  {
   "cell_type": "markdown",
   "metadata": {},
   "source": [
    "**7. Постройте гистограммы распределения дня недели, в который началась сессия (*day_of_week*) для каждого из 10 пользователей по отдельности. Используйте *subplots*, чтоб разместить все 10 картинок на одной большой. Измените метки по оси *X* на ['Пн', 'Вт', 'Ср', 'Чт', 'Пт', 'Сб', 'Вс'] – метод *set_xticklabels*. Пометьте легендой каждую картинку – на легенде должно быть написано имя пользователя. Для каждого пользователя раскрасьте гистограмму его/ее цветом (*color_dic*). Подпишите по-русски название каждой из 10 гистограмм.**"
   ]
  },
  {
   "cell_type": "code",
   "execution_count": 31,
   "metadata": {
    "collapsed": false
   },
   "outputs": [
    {
     "data": {
      "image/png": "[encoded data removed]",
      "text/plain": [
       "<matplotlib.figure.Figure at 0x7facc1d93b10>"
      ]
     },
     "metadata": {},
     "output_type": "display_data"
    }
   ],
   "source": [
    "fig, axes = plt.subplots(nrows=3, ncols=4, figsize=(16, 10))\n",
    "subplots_adjust(left=None, bottom=None, right=None, top=None, wspace=0.3, hspace=0.3)\n",
    "user_names = id_name_dict.values()\n",
    "\n",
    "for x, y in itertools.product(range(0, 3), range(0, 4)):\n",
    "    if len(user_names):\n",
    "        user_name = user_names.pop()\n",
    "        axes[x, y].set_xlabel(u'День недели начала сессии')\n",
    "        axes[x, y].set_ylabel(u'Число сессий')\n",
    "        axes[x, y].set_xticklabels([u'Пн', u'Вт', u'Ср', u'Чт', u'Пт', u'Сб', u'Вс'])\n",
    "        counts = np.bincount(train_data_10users[train_data_10users.target == user_name]['day_of_week'].astype(int),\\\n",
    "                             minlength=7)\n",
    "        axes[x, y].bar(range(7), counts, width=1, align='center', color=color_dic[user_name], label=user_name)\n",
    "        axes[x, y].set(xticks=range(7), xlim=[-1, 7])\n",
    "        axes[x, y].legend(loc=\"best\")\n",
    "        \n",
    "axes[2, 2].axis('off')\n",
    "axes[2, 3].axis('off')\n",
    "pyplot.suptitle(u'Гистограммы распределения дня недели начала сессии для 10 пользователей', fontsize=16)\n",
    "pyplot.show()\n",
    "\n",
    "# как вариант, можно и по-другому\n",
    "#for idx, (user, sub_df) in  enumerate(pd.groupby(train_data_10users, 'target')): \n",
    "     #''' ВАШ КОД ЗДЕСЬ '''"
   ]
  },
  {
   "cell_type": "markdown",
   "metadata": {},
   "source": [
    "**8. Сделайте выводы про каждого пользователя по построенным графикам.**"
   ]
  },
  {
   "cell_type": "markdown",
   "metadata": {},
   "source": [
    "<table>\n",
    "<tr>\n",
    "<td><b>Пользователь</b></td>\n",
    "<td><b>Распределения числа уникальных сайтов в сессии</b></td>\n",
    "<td><b>Распределения часа начала сессии</b></td>\n",
    "<td><b>Распределения дня недели начала сессии</b></td>\n",
    "</tr>\n",
    "<tr>\n",
    "<td><b>Lindsey</b></td>\n",
    "<td>Распределение числа уникальных сайтов выглядит вполне нормально-распределённым со средним числом уникальных сайтов в районе 6.</td>\n",
    "<td>Посещает сайты в основном в середине дня, а также утром.</td>\n",
    "<td>Посещает сайты в основном в середине недели, во вторник и в среду. В другие дни недели посещений сайтов существенно меньше, с минимальным количеством на выходных.</td>\n",
    "</tr>\n",
    "\n",
    "<tr>\n",
    "<td><b>Avrill</b></td>\n",
    "<td>Распределение числа уникальных сайтов выглядит вполне нормально-распределённым со средним числом уникальных сайтов в районе 6.</td>\n",
    "<td>Посещает сайты целый день, пик приходится на середину дня.</td>\n",
    "<td>Посещает сайты преимущественно по вторникам, средам, четвергам и воскресеньям.</td>\n",
    "</tr>\n",
    "\n",
    "<tr>\n",
    "<td><b>Naomi</b></td>\n",
    "<td>Распределение числа уникальных сайтов выглядит вполне нормально-распределённым со средним числом уникальных сайтов в районе 6.</td>\n",
    "<td>Сидит в интеренте в основном с 12 до 17.</td>\n",
    "<td>По возрастающей посещает сайты до четверга, затем резко сокращает посещения с пятницы по воскресенье.</td>\n",
    "</tr>\n",
    "\n",
    "<tr>\n",
    "<td><b>Ed</b></td>\n",
    "<td>Распределение скошено вправо, для них средее число уникальных сайтов приходится на 7-8.</td>\n",
    "<td>Сидит в интернете практически целый день с пиком на обед и во второй половине дня.</td>\n",
    "<td>Вообще не сидит в интернете по пятницам. Основной траффик приходится на среду, субботу и воскресенье.</td>\n",
    "</tr>\n",
    "\n",
    "<tr>\n",
    "<td><b>John</b></td>\n",
    "<td>Распределение скошено вправо, для них средее число уникальных сайтов приходится на 7-8.</td>\n",
    "<td>Практически не сидит в интернете по вечерам, пик приходится с 11 до 17.</td>\n",
    "<td>Посещает сайты в течение рабочей неделе по возрастающей, с пиком в пятницу и минимумом во вторник. На выходные приходится минимальное количество посещённых сайтов.</td>\n",
    "</tr>\n",
    "\n",
    "<tr>\n",
    "<td><b>Ashley</b></td>\n",
    "<td>Распределение скошено вправо, для них средее число уникальных сайтов приходится на 7-8.</td>\n",
    "<td>Посещает сайты в основном с 8 до 16, с пиком по утрам.</td>\n",
    "<td>Существенно чаще посещает сайты по средам, а по выходным вообще не сидит в интернете.</td>\n",
    "</tr>\n",
    "\n",
    "<tr>\n",
    "<td><b>Dick</b></td>\n",
    "<td>Число уникальных сайтов в сессии распределено более менее ровно, с пиком приходящимся на 2 сайта.</td>\n",
    "<td>Сидит в интернете целый день с некоторыми всплесками активности в 9, 16, 21 часов.</td>\n",
    "<td>В будни посещает сайты практически только по средам и пятницам. Из выходных, на субботу приходится максимум посещений.</td>\n",
    "</tr>\n",
    "\n",
    "<tr>\n",
    "<td><b>Bill</b></td>\n",
    "<td>Распределение скошено вправо, для них средее число уникальных сайтов приходится на 7-8.</td>\n",
    "<td>Посещает сайты преимущественно в 8, 15, 18 часов. На остальное время приходится минимум.</td>\n",
    "<td>Посещает сайты преимущественно в первые три дня недели. В остальные дни недели намного реже.</td>\n",
    "</tr>\n",
    "\n",
    "<tr>\n",
    "<td><b>Bob</b></td>\n",
    "<td>Распределение числа уникальных сайтов выглядит вполне нормально-распределённым со средним числом уникальных сайтов в районе 6.</td>\n",
    "<td>Посещает сайты с 8 до 18 с небольшим уменьшением посещений с 12 до 14.</td>\n",
    "<td>Посещает сайты только по будням, с максимумом во вторник, четверг и пятницу.</td>\n",
    "</tr>\n",
    "\n",
    "<tr>\n",
    "<td><b>Mary-Kate</b></td>\n",
    "<td>Распределение скошено влево со средним числом уникальных сайтов 3-5.</td>\n",
    "<td>Посещает сайты целый день, с 8 до 23, со всплеском активности около 21 часа.</td>\n",
    "<td>В будни посещает сайты более менее равномерно с небольшим снижением количества посещений в понедельник. На выходные приходится максимум траффика.</td>\n",
    "</tr>\n",
    "</table>"
   ]
  },
  {
   "cell_type": "markdown",
   "metadata": {},
   "source": [
    "**Загрузите сохраненный ранее в pickle-файл частотный словарь сайтов для 10 пользователей. **"
   ]
  },
  {
   "cell_type": "code",
   "execution_count": 32,
   "metadata": {
    "collapsed": false
   },
   "outputs": [],
   "source": [
    "with open('capstone_websites_data/site_freq_10users.pkl', 'rb') as pkl_file:\n",
    "    site_freq_10users = pickle.load(pkl_file)"
   ]
  },
  {
   "cell_type": "code",
   "execution_count": 33,
   "metadata": {
    "collapsed": false
   },
   "outputs": [
    {
     "data": {
      "text/plain": [
       "[('s.youtube.com', [176, 8300]),\n",
       " ('www.google.fr', [28, 7813]),\n",
       " ('www.google.com', [9, 5441]),\n",
       " ('mail.google.com', [3, 4158]),\n",
       " ('www.facebook.com', [45, 4141]),\n",
       " ('apis.google.com', [7, 3758]),\n",
       " ('r3---sn-gxo5uxg-jqbe.googlevideo.com', [177, 3244]),\n",
       " ('r1---sn-gxo5uxg-jqbe.googlevideo.com', [186, 3094]),\n",
       " ('plus.google.com', [8, 2630]),\n",
       " ('accounts.google.com', [1, 2089])]"
      ]
     },
     "execution_count": 33,
     "metadata": {},
     "output_type": "execute_result"
    }
   ],
   "source": [
    "sorted(site_freq_10users.items(), key=lambda t: t[1][1], reverse=True)[:10]"
   ]
  },
  {
   "cell_type": "markdown",
   "metadata": {},
   "source": [
    "**Определите топ-10 самых посещаемых сайтов (*top10_sites*) и соответствующие кол-ва посещений (*top10_freqs*).**"
   ]
  },
  {
   "cell_type": "code",
   "execution_count": 34,
   "metadata": {
    "collapsed": true
   },
   "outputs": [],
   "source": [
    "top10_freqs = [v[1] for k, v in sorted(site_freq_10users.items(), key=lambda t: t[1][1], reverse=True)[:10]]\n",
    "top10_sites = [k for k, v in sorted(site_freq_10users.items(), key=lambda t: t[1][1], reverse=True)[:10]]"
   ]
  },
  {
   "cell_type": "markdown",
   "metadata": {},
   "source": [
    "**9. Нарисуйте *seaborn barplot*, показывающий частоты посещений топ-10 сайтов. Сделайте подписи сайтов вертикальными, иначе они сливаются (*xticks*).**"
   ]
  },
  {
   "cell_type": "code",
   "execution_count": 35,
   "metadata": {
    "collapsed": false
   },
   "outputs": [
    {
     "data": {
      "image/png": "[encoded data removed]",
      "text/plain": [
       "<matplotlib.figure.Figure at 0x7facbb512a50>"
      ]
     },
     "metadata": {},
     "output_type": "display_data"
    }
   ],
   "source": [
    "pyplot.ylabel(u'Число посещений')\n",
    "pyplot.title(u'Частота посещения топ-10 сайтов')\n",
    "ax = sns.barplot(top10_sites, top10_freqs)\n",
    "pyplot.xticks(rotation='vertical')\n",
    "pyplot.show()"
   ]
  },
  {
   "cell_type": "markdown",
   "metadata": {},
   "source": [
    "## Часть 3. Дальнейшее построение признаков"
   ]
  },
  {
   "cell_type": "markdown",
   "metadata": {},
   "source": [
    "Это задание творческое, тут надо придумать, как еще учесть время посещения веб-страниц и прочие признаки. \n",
    "\n",
    "На следующей неделе мы будем использовать \"мешок\" сайтов  для классификации сессий по принадлежности разным пользователям, а эти новые признаки, которые Вы сейчас создадите, потом добавим и посмотрим, улучшается ли модель. Поэтому можно их создать в виде отдельных матриц и сохранить их также отдельно.  \n",
    "\n",
    "В этой части задания Вы можете построить и визуально исследовать самые разные признаки (ничто фантазию не ограничивает):\n",
    "- время суток\n",
    "- среднее время пребывания на сайте, посчитать можно, скажем, для топ-30 популярных сайтов\n",
    "- индикаторы посещения популярных сайтов (скажем, тоже для топ-30 популярных сайтов)\n",
    "- частота посещения Facebook\n",
    "- ..."
   ]
  },
  {
   "cell_type": "markdown",
   "metadata": {},
   "source": [
    "**Напишите функцию для создания новых признаков и примените ее к исходным данным – каталогам с 10 и 150 файлами. Сделайте это только для набора данных, полученного с параметрами *session_length=10* и *window_size=10*. Сериализуйте полученные матрицы с помощью pickle. Функция может возвращать как только новые признаки, так и старые с новыми. При этом сигнатура функции может быть другой – тут уже свобода выбора.**"
   ]
  },
  {
   "cell_type": "code",
   "execution_count": 45,
   "metadata": {
    "collapsed": false
   },
   "outputs": [
    {
     "data": {
      "text/html": [
       "<script>requirejs.config({paths: { 'plotly': ['https://cdn.plot.ly/plotly-latest.min']},});if(!window.Plotly) {{require(['plotly'],function(plotly) {window.Plotly=plotly;});}}</script>"
      ],
      "text/plain": [
       "<IPython.core.display.HTML object>"
      ]
     },
     "metadata": {},
     "output_type": "display_data"
    }
   ],
   "source": [
    "from plotly.offline import download_plotlyjs, init_notebook_mode, plot, iplot\n",
    "from plotly import tools\n",
    "import plotly.graph_objs as go\n",
    "\n",
    "init_notebook_mode(connected=True)"
   ]
  },
  {
   "cell_type": "code",
   "execution_count": 37,
   "metadata": {
    "collapsed": false
   },
   "outputs": [
    {
     "data": {
      "text/plain": [
       "['s.youtube.com',\n",
       " 'www.google.fr',\n",
       " 'www.google.com',\n",
       " 'mail.google.com',\n",
       " 'www.facebook.com',\n",
       " 'apis.google.com',\n",
       " 'r3---sn-gxo5uxg-jqbe.googlevideo.com',\n",
       " 'r1---sn-gxo5uxg-jqbe.googlevideo.com',\n",
       " 'plus.google.com',\n",
       " 'accounts.google.com',\n",
       " 'r2---sn-gxo5uxg-jqbe.googlevideo.com',\n",
       " 'fr-mg42.mail.yahoo.com',\n",
       " 'www.youtube.com',\n",
       " 'r4---sn-gxo5uxg-jqbe.googlevideo.com',\n",
       " 'clients1.google.com',\n",
       " 'download.jboss.org',\n",
       " 's-static.ak.facebook.com',\n",
       " 'static.ak.facebook.com',\n",
       " 'i1.ytimg.com',\n",
       " 'twitter.com',\n",
       " 'accounts.youtube.com',\n",
       " 'platform.twitter.com',\n",
       " 'safebrowsing-cache.google.com',\n",
       " 'clients6.google.com',\n",
       " 'translate.google.fr',\n",
       " 'api.twitter.com',\n",
       " 'accounts.google.fr',\n",
       " 'talkgadget.google.com',\n",
       " 'mts0.google.com',\n",
       " 'clients2.google.com']"
      ]
     },
     "execution_count": 37,
     "metadata": {},
     "output_type": "execute_result"
    }
   ],
   "source": [
    "# Посмотрим на топ 30 сайтов\n",
    "[k for k, v in sorted(site_freq_10users.items(), key=lambda t: t[1][1], reverse=True)[:30]]"
   ]
  },
  {
   "cell_type": "code",
   "execution_count": 38,
   "metadata": {
    "collapsed": false
   },
   "outputs": [
    {
     "data": {
      "text/plain": [
       "['static.ak.facebook.com',\n",
       " 'api.facebook.com',\n",
       " 'api-read.facebook.com',\n",
       " 'www.facebook.com',\n",
       " 'fr-fr.facebook.com',\n",
       " 'developers.facebook.com',\n",
       " 'apps.facebook.com',\n",
       " 'badge.facebook.com',\n",
       " 'fr.facebook.com',\n",
       " 'static-0.facebook.com',\n",
       " 'facebook.com',\n",
       " 'ar-ar.facebook.com',\n",
       " 'l.facebook.com',\n",
       " 'static.ak.connect.facebook.com',\n",
       " 'graph.facebook.com',\n",
       " 'connect.facebook.net',\n",
       " 's-static.ak.facebook.com']"
      ]
     },
     "execution_count": 38,
     "metadata": {},
     "output_type": "execute_result"
    }
   ],
   "source": [
    "# Посмотрим на сайты, принадлежащие facebook\n",
    "import re\n",
    "regex=re.compile(\".*(facebook).*\")\n",
    "[m.group(0) for l in site_freq_10users.keys() for m in [regex.search(l)] if m]"
   ]
  },
  {
   "cell_type": "code",
   "execution_count": 39,
   "metadata": {
    "collapsed": false
   },
   "outputs": [],
   "source": [
    "def feature_engineering(csv_files_mask, site_freq_path, features,\n",
    "                              session_length=10, window_size=10):\n",
    "    \n",
    "    train_data = np.array([np.zeros(len(features))])\n",
    "    site_freq = {}\n",
    "    \n",
    "    if site_freq_path != \"\":\n",
    "        pkl_file = open(site_freq_path, 'rb')\n",
    "        site_freq = pickle.load(pkl_file)\n",
    "    else:\n",
    "        return None\n",
    "    \n",
    "    regex=re.compile(\".*(facebook).*\")\n",
    "    facebook_ix = [site_freq[i][0] for i in [m.group(0) for l in site_freq.keys() for m in [regex.search(l)] if m]]\n",
    "    regex=re.compile(\".*(youtube).*\")\n",
    "    youtube_ix = [site_freq[i][0] for i in [m.group(0) for l in site_freq.keys() for m in [regex.search(l)] if m]]\n",
    "    \n",
    "    top30_ix = [v[0] for k, v in sorted(site_freq.items(), key=lambda t: t[1][1], reverse=True)[:30]]\n",
    "    \n",
    "    for userfile in glob(csv_files_mask):\n",
    "        data = pd.read_csv(userfile, header=None, names=['userid', 'timestamp', 'site'], \\\n",
    "                           parse_dates=[1], infer_datetime_format=True)\n",
    "        user_id = data.userid[0]\n",
    "        session_hash = {}\n",
    "        \n",
    "        for i in range (0, len(data), window_size):\n",
    "            session = tuple(data[i:i+session_length].site.apply(lambda x: site_freq[x][0]))           \n",
    "            if session not in session_hash:\n",
    "                session_hash[session] = 1\n",
    "                session = list(session)\n",
    "                \n",
    "                timestamps = list(data[i:i+session_length].timestamp)\n",
    "                time_diff = [(timestamps[n+1] - timestamps[n]).total_seconds() for n in range(0, len(session)-1)]\n",
    "                session_timespan = (max(timestamps) - min(timestamps)).total_seconds()\n",
    "                num_unique_sites = len(set(session))\n",
    "                start_hour = min(timestamps).hour\n",
    "                day_of_week = min(timestamps).weekday()\n",
    "                \n",
    "                #сайт, на котором пользователь находился дольше всего в сессии\n",
    "                if len(session) == 1:\n",
    "                    site_longest_time = session[0]\n",
    "                else:\n",
    "                    site_longest_time = session[time_diff.index(max(time_diff))]\n",
    "                \n",
    "                #доля facebook в сессии по времени\n",
    "                facebook_in_session = np.where(np.in1d(session, facebook_ix) == True)[0]\n",
    "                facebook_times = [time_diff[i] for i in facebook_in_session if i < len(time_diff)]\n",
    "                fb_portion = sum(facebook_times)/session_timespan if len(facebook_times) else 0\n",
    "                #print(facebook_in_session)\n",
    "                \n",
    "                #доля youtube в сессии по времени\n",
    "                youtube_in_session = np.where(np.in1d(session, youtube_ix) == True)[0]\n",
    "                youtube_times = [time_diff[i] for i in youtube_in_session if i < len(time_diff)]\n",
    "                youtube_portion = sum(youtube_times)/session_timespan if len(youtube_times) else 0\n",
    "                \n",
    "                #доля топ30 сайтов в сессии по времени\n",
    "                top30_in_session = np.where(np.in1d(session, top30_ix) == True)[0]\n",
    "                top30_times = [time_diff[i] for i in top30_in_session if i < len(time_diff)]\n",
    "                top30_portion = sum(top30_times)/session_timespan if len(top30_times) else 0\n",
    "                \n",
    "                #время суток начала сессии: 5-12 утро, 12-17 - день, 18-23 вечер, 0-5 ночь\n",
    "                if start_hour in range(5,12):\n",
    "                    daytime = 0\n",
    "                elif start_hour in range(12, 18):\n",
    "                    daytime = 1\n",
    "                elif start_hour > 18:\n",
    "                    daytime = 2\n",
    "                elif start_hour < 5:\n",
    "                    daytime = 3           \n",
    "                \n",
    "                session.extend([0] * (session_length - len(session)) + time_diff + \\\n",
    "                               [0]*(session_length - len(time_diff) - 1) + \\\n",
    "                               [session_timespan, num_unique_sites, site_longest_time, start_hour, day_of_week, daytime, fb_portion,\\\n",
    "                                youtube_portion, top30_portion, user_id])\n",
    "\n",
    "                train_data = np.concatenate((train_data, np.array([session])))\n",
    "    \n",
    "    train_data = np.delete(train_data, 0, 0)\n",
    "    train_data = pd.DataFrame(train_data, columns=feature_names)\n",
    "    return train_data"
   ]
  },
  {
   "cell_type": "code",
   "execution_count": 40,
   "metadata": {
    "collapsed": false
   },
   "outputs": [],
   "source": [
    "feature_names = ['site' + str(i) for i in range(1,11)] + \\\n",
    "                ['time_diff' + str(j) for j in range(1,10)] + \\\n",
    "                ['session_timespan', '#unique_sites', 'site_longest_time', 'start_hour', 'day_of_week', 'daytime', 'fb_portion',\\\n",
    "                 'youtube_portion', 'top30_portion', 'target']\n",
    "train_data_toy  = feature_engineering('capstone_websites_data/3users_toy/*', \n",
    "                                   site_freq_path='capstone_websites_data/site_freq_3users.pkl',\n",
    "                                   features=feature_names, session_length=10)"
   ]
  },
  {
   "cell_type": "code",
   "execution_count": 41,
   "metadata": {
    "collapsed": false
   },
   "outputs": [
    {
     "data": {
      "text/html": [
       "<div>\n",
       "<table border=\"1\" class=\"dataframe\">\n",
       "  <thead>\n",
       "    <tr style=\"text-align: right;\">\n",
       "      <th></th>\n",
       "      <th>site1</th>\n",
       "      <th>site2</th>\n",
       "      <th>site3</th>\n",
       "      <th>site4</th>\n",
       "      <th>site5</th>\n",
       "      <th>site6</th>\n",
       "      <th>site7</th>\n",
       "      <th>site8</th>\n",
       "      <th>site9</th>\n",
       "      <th>site10</th>\n",
       "      <th>time_diff1</th>\n",
       "      <th>time_diff2</th>\n",
       "      <th>...</th>\n",
       "      <th>time_diff8</th>\n",
       "      <th>time_diff9</th>\n",
       "      <th>session_timespan</th>\n",
       "      <th>#unique_sites</th>\n",
       "      <th>site_longest_time</th>\n",
       "      <th>start_hour</th>\n",
       "      <th>day_of_week</th>\n",
       "      <th>daytime</th>\n",
       "      <th>fb_portion</th>\n",
       "      <th>youtube_portion</th>\n",
       "      <th>top30_portion</th>\n",
       "      <th>target</th>\n",
       "    </tr>\n",
       "  </thead>\n",
       "  <tbody>\n",
       "    <tr>\n",
       "      <th>0</th>\n",
       "      <td>1.0</td>\n",
       "      <td>2.0</td>\n",
       "      <td>3.0</td>\n",
       "      <td>3.0</td>\n",
       "      <td>2.0</td>\n",
       "      <td>0.0</td>\n",
       "      <td>0.0</td>\n",
       "      <td>0.0</td>\n",
       "      <td>0.0</td>\n",
       "      <td>0.0</td>\n",
       "      <td>287.0</td>\n",
       "      <td>1184.0</td>\n",
       "      <td>...</td>\n",
       "      <td>0.0</td>\n",
       "      <td>0.0</td>\n",
       "      <td>7935.0</td>\n",
       "      <td>3.0</td>\n",
       "      <td>3.0</td>\n",
       "      <td>9.0</td>\n",
       "      <td>4.0</td>\n",
       "      <td>0.0</td>\n",
       "      <td>0.0</td>\n",
       "      <td>0.0</td>\n",
       "      <td>1.0</td>\n",
       "      <td>2.0</td>\n",
       "    </tr>\n",
       "    <tr>\n",
       "      <th>1</th>\n",
       "      <td>1.0</td>\n",
       "      <td>2.0</td>\n",
       "      <td>2.0</td>\n",
       "      <td>4.0</td>\n",
       "      <td>2.0</td>\n",
       "      <td>5.0</td>\n",
       "      <td>6.0</td>\n",
       "      <td>7.0</td>\n",
       "      <td>8.0</td>\n",
       "      <td>9.0</td>\n",
       "      <td>287.0</td>\n",
       "      <td>1184.0</td>\n",
       "      <td>...</td>\n",
       "      <td>3.0</td>\n",
       "      <td>55.0</td>\n",
       "      <td>7998.0</td>\n",
       "      <td>8.0</td>\n",
       "      <td>2.0</td>\n",
       "      <td>9.0</td>\n",
       "      <td>4.0</td>\n",
       "      <td>0.0</td>\n",
       "      <td>0.0</td>\n",
       "      <td>0.0</td>\n",
       "      <td>1.0</td>\n",
       "      <td>1.0</td>\n",
       "    </tr>\n",
       "    <tr>\n",
       "      <th>2</th>\n",
       "      <td>1.0</td>\n",
       "      <td>5.0</td>\n",
       "      <td>5.0</td>\n",
       "      <td>5.0</td>\n",
       "      <td>0.0</td>\n",
       "      <td>0.0</td>\n",
       "      <td>0.0</td>\n",
       "      <td>0.0</td>\n",
       "      <td>0.0</td>\n",
       "      <td>0.0</td>\n",
       "      <td>2.0</td>\n",
       "      <td>3.0</td>\n",
       "      <td>...</td>\n",
       "      <td>0.0</td>\n",
       "      <td>0.0</td>\n",
       "      <td>60.0</td>\n",
       "      <td>2.0</td>\n",
       "      <td>5.0</td>\n",
       "      <td>12.0</td>\n",
       "      <td>4.0</td>\n",
       "      <td>1.0</td>\n",
       "      <td>0.0</td>\n",
       "      <td>0.0</td>\n",
       "      <td>1.0</td>\n",
       "      <td>1.0</td>\n",
       "    </tr>\n",
       "    <tr>\n",
       "      <th>3</th>\n",
       "      <td>10.0</td>\n",
       "      <td>5.0</td>\n",
       "      <td>2.0</td>\n",
       "      <td>5.0</td>\n",
       "      <td>2.0</td>\n",
       "      <td>5.0</td>\n",
       "      <td>5.0</td>\n",
       "      <td>7.0</td>\n",
       "      <td>11.0</td>\n",
       "      <td>10.0</td>\n",
       "      <td>287.0</td>\n",
       "      <td>1184.0</td>\n",
       "      <td>...</td>\n",
       "      <td>3.0</td>\n",
       "      <td>55.0</td>\n",
       "      <td>7998.0</td>\n",
       "      <td>5.0</td>\n",
       "      <td>2.0</td>\n",
       "      <td>9.0</td>\n",
       "      <td>4.0</td>\n",
       "      <td>0.0</td>\n",
       "      <td>0.0</td>\n",
       "      <td>0.0</td>\n",
       "      <td>1.0</td>\n",
       "      <td>3.0</td>\n",
       "    </tr>\n",
       "    <tr>\n",
       "      <th>4</th>\n",
       "      <td>10.0</td>\n",
       "      <td>5.0</td>\n",
       "      <td>2.0</td>\n",
       "      <td>0.0</td>\n",
       "      <td>0.0</td>\n",
       "      <td>0.0</td>\n",
       "      <td>0.0</td>\n",
       "      <td>0.0</td>\n",
       "      <td>0.0</td>\n",
       "      <td>0.0</td>\n",
       "      <td>287.0</td>\n",
       "      <td>1184.0</td>\n",
       "      <td>...</td>\n",
       "      <td>0.0</td>\n",
       "      <td>0.0</td>\n",
       "      <td>1471.0</td>\n",
       "      <td>3.0</td>\n",
       "      <td>5.0</td>\n",
       "      <td>12.0</td>\n",
       "      <td>4.0</td>\n",
       "      <td>1.0</td>\n",
       "      <td>0.0</td>\n",
       "      <td>0.0</td>\n",
       "      <td>1.0</td>\n",
       "      <td>3.0</td>\n",
       "    </tr>\n",
       "  </tbody>\n",
       "</table>\n",
       "<p>5 rows × 29 columns</p>\n",
       "</div>"
      ],
      "text/plain": [
       "   site1  site2  site3  site4  site5  site6  site7  site8  site9  site10  \\\n",
       "0    1.0    2.0    3.0    3.0    2.0    0.0    0.0    0.0    0.0     0.0   \n",
       "1    1.0    2.0    2.0    4.0    2.0    5.0    6.0    7.0    8.0     9.0   \n",
       "2    1.0    5.0    5.0    5.0    0.0    0.0    0.0    0.0    0.0     0.0   \n",
       "3   10.0    5.0    2.0    5.0    2.0    5.0    5.0    7.0   11.0    10.0   \n",
       "4   10.0    5.0    2.0    0.0    0.0    0.0    0.0    0.0    0.0     0.0   \n",
       "\n",
       "   time_diff1  time_diff2   ...    time_diff8  time_diff9  session_timespan  \\\n",
       "0       287.0      1184.0   ...           0.0         0.0            7935.0   \n",
       "1       287.0      1184.0   ...           3.0        55.0            7998.0   \n",
       "2         2.0         3.0   ...           0.0         0.0              60.0   \n",
       "3       287.0      1184.0   ...           3.0        55.0            7998.0   \n",
       "4       287.0      1184.0   ...           0.0         0.0            1471.0   \n",
       "\n",
       "   #unique_sites  site_longest_time  start_hour  day_of_week  daytime  \\\n",
       "0            3.0                3.0         9.0          4.0      0.0   \n",
       "1            8.0                2.0         9.0          4.0      0.0   \n",
       "2            2.0                5.0        12.0          4.0      1.0   \n",
       "3            5.0                2.0         9.0          4.0      0.0   \n",
       "4            3.0                5.0        12.0          4.0      1.0   \n",
       "\n",
       "   fb_portion  youtube_portion  top30_portion  target  \n",
       "0         0.0              0.0            1.0     2.0  \n",
       "1         0.0              0.0            1.0     1.0  \n",
       "2         0.0              0.0            1.0     1.0  \n",
       "3         0.0              0.0            1.0     3.0  \n",
       "4         0.0              0.0            1.0     3.0  \n",
       "\n",
       "[5 rows x 29 columns]"
      ]
     },
     "execution_count": 41,
     "metadata": {},
     "output_type": "execute_result"
    }
   ],
   "source": [
    "train_data_toy"
   ]
  },
  {
   "cell_type": "code",
   "execution_count": 42,
   "metadata": {
    "collapsed": false
   },
   "outputs": [
    {
     "name": "stdout",
     "output_type": "stream",
     "text": [
      "CPU times: user 10.8 s, sys: 0 ns, total: 10.8 s\n",
      "Wall time: 10.8 s\n"
     ]
    }
   ],
   "source": [
    "%%time\n",
    "new_features_10users = feature_engineering('capstone_websites_data/10users/*', \n",
    "                                   site_freq_path='capstone_websites_data/site_freq_10users.pkl',\n",
    "                                   features=feature_names, session_length=10)"
   ]
  },
  {
   "cell_type": "code",
   "execution_count": 517,
   "metadata": {
    "collapsed": false
   },
   "outputs": [
    {
     "name": "stdout",
     "output_type": "stream",
     "text": [
      "CPU times: user 4min 35s, sys: 4 ms, total: 4min 35s\n",
      "Wall time: 4min 35s\n"
     ]
    }
   ],
   "source": [
    "%%time\n",
    "new_features_150users = feature_engineering('capstone_websites_data/150users/*', \n",
    "                                   site_freq_path='capstone_websites_data/site_freq_150users.pkl',\n",
    "                                   features=feature_names, session_length=10)"
   ]
  },
  {
   "cell_type": "markdown",
   "metadata": {},
   "source": [
    "**10. Постройте картинки для новых признаков, поисследуйте их, прокомментируйте результаты.**"
   ]
  },
  {
   "cell_type": "code",
   "execution_count": 43,
   "metadata": {
    "collapsed": false
   },
   "outputs": [],
   "source": [
    "new_features_10users['target'] = new_features_10users['target'].map(id_name_dict)"
   ]
  },
  {
   "cell_type": "markdown",
   "metadata": {},
   "source": [
    "**Построим heatmap дня недели от времени суток как % от общего числа сессий для каждого из 10 пользователей.**"
   ]
  },
  {
   "cell_type": "code",
   "execution_count": 83,
   "metadata": {
    "collapsed": false,
    "scrolled": false
   },
   "outputs": [
    {
     "data": {
      "text/html": [
       "<div id=\"4d893027-83e4-4af7-835d-b35752d1a7f3\" style=\"height: 1300px; width: 100%;\" class=\"plotly-graph-div\"></div><script type=\"text/javascript\">require([\"plotly\"], function(Plotly) { window.PLOTLYENV=window.PLOTLYENV || {};window.PLOTLYENV.BASE_URL=\"https://plot.ly\";Plotly.newPlot(\"4d893027-83e4-4af7-835d-b35752d1a7f3\", [{\"showscale\": false, \"yaxis\": \"y1\", \"xaxis\": \"x1\", \"y\": [\"Morning\", \"Afternoon\", \"Evening\"], \"x\": [\"Mo\", \"Tu\", \"We\", \"Th\", \"Fr\", \"Sa\", \"Su\"], \"z\": [[18.7, 0.3, 38.5, 8.5, 3.1, 0, 0], [0.9, 15.9, 6.0, 5.3, 2.2, 0, 0], [0, 0.4, 0, 0.3, 0, 0, 0]], \"type\": \"heatmap\", \"zsmooth\": \"best\"}, {\"showscale\": false, \"yaxis\": \"y2\", \"xaxis\": \"x2\", \"y\": [], \"x\": [\"Mo\", \"Tu\", \"We\", \"Th\", \"Fr\", \"Sa\", \"Su\"], \"z\": [[1.4, 1.1, 2.7, 2.1, 2.7, 0, 0.2], [7.6, 22.3, 14.1, 16.6, 2.7, 3.3, 11.1], [0.2, 1.2, 0, 0.8, 0, 3.0, 6.8]], \"type\": \"heatmap\", \"zsmooth\": \"best\"}, {\"showscale\": false, \"yaxis\": \"y3\", \"xaxis\": \"x3\", \"y\": [\"Morning\", \"Afternoon\", \"Evening\"], \"x\": [\"Mo\", \"Tu\", \"We\", \"Th\", \"Fr\", \"Sa\", \"Su\"], \"z\": [[10.7, 13.7, 1.7, 0, 1.9, 0, 0.1], [30.5, 17.8, 9.0, 2.7, 4.7, 0.5, 2.4], [0, 0.4, 1.9, 0, 0.5, 0.4, 1.1]], \"type\": \"heatmap\", \"zsmooth\": \"best\"}, {\"showscale\": false, \"yaxis\": \"y4\", \"xaxis\": \"x4\", \"y\": [], \"x\": [\"Mo\", \"Tu\", \"We\", \"Th\", \"Fr\", \"Sa\", \"Su\"], \"z\": [[1.7, 22.7, 1.1, 16.6, 16.3, 0, 0], [3.4, 5.9, 5.9, 11.2, 14.9, 0, 0], [0, 0, 0.1, 0.1, 0, 0, 0]], \"type\": \"heatmap\", \"zsmooth\": \"best\"}, {\"showscale\": false, \"yaxis\": \"y5\", \"xaxis\": \"x5\", \"y\": [\"Morning\", \"Afternoon\", \"Evening\"], \"x\": [\"Mo\", \"Tu\", \"We\", \"Th\", \"Fr\", \"Sa\", \"Su\"], \"z\": [[0, 0.6, 0, 0, 0, 31.7, 0], [0, 0, 29.4, 0.3, 1.4, 10.3, 4.2], [0, 0.6, 1.8, 0, 14.9, 0.8, 3.9]], \"type\": \"heatmap\", \"zsmooth\": \"best\"}, {\"showscale\": false, \"yaxis\": \"y6\", \"xaxis\": \"x6\", \"y\": [], \"x\": [\"Mo\", \"Tu\", \"We\", \"Th\", \"Fr\", \"Sa\", \"Su\"], \"z\": [[0, 5.2, 11.1, 3.1, 0, 0, 0], [1.1, 2.3, 32.5, 1.5, 0, 16.6, 14.9], [0.2, 0.2, 0, 0, 0, 8.8, 2.5]], \"type\": \"heatmap\", \"zsmooth\": \"best\"}, {\"showscale\": false, \"yaxis\": \"y7\", \"xaxis\": \"x7\", \"y\": [\"Morning\", \"Afternoon\", \"Evening\"], \"x\": [\"Mo\", \"Tu\", \"We\", \"Th\", \"Fr\", \"Sa\", \"Su\"], \"z\": [[4.8, 1.9, 4.7, 8.4, 11.5, 0.4, 0], [6.0, 6.1, 8.7, 21.4, 25.2, 0.3, 0], [0, 0, 0.8, 0, 0, 0, 0]], \"type\": \"heatmap\", \"zsmooth\": \"best\"}, {\"showscale\": false, \"yaxis\": \"y8\", \"xaxis\": \"x8\", \"y\": [], \"x\": [\"Mo\", \"Tu\", \"We\", \"Th\", \"Fr\", \"Sa\", \"Su\"], \"z\": [[4.0, 7.8, 2.8, 2.3, 3.9, 1.5, 0.4], [4.2, 31.7, 22.1, 8.2, 5.9, 1.0, 2.5], [0.2, 0.3, 0.4, 0.2, 0.2, 0.2, 0.4]], \"type\": \"heatmap\", \"zsmooth\": \"best\"}, {\"showscale\": false, \"yaxis\": \"y9\", \"xaxis\": \"x9\", \"y\": [\"Morning\", \"Afternoon\", \"Evening\"], \"x\": [\"Mo\", \"Tu\", \"We\", \"Th\", \"Fr\", \"Sa\", \"Su\"], \"z\": [[0.8, 6.9, 0.4, 1.8, 2.8, 0.1, 10.4], [2.6, 1.4, 5.3, 7.3, 4.1, 19.0, 4.9], [2.0, 5.1, 2.6, 1.8, 1.6, 10.7, 8.6]], \"type\": \"heatmap\", \"zsmooth\": \"best\"}, {\"showscale\": false, \"yaxis\": \"y10\", \"xaxis\": \"x10\", \"y\": [], \"x\": [\"Mo\", \"Tu\", \"We\", \"Th\", \"Fr\", \"Sa\", \"Su\"], \"z\": [[1.5, 2.1, 0.4, 4.0, 1.6, 1.2, 1.2], [9.9, 14.6, 15.3, 25.4, 7.6, 2.8, 1.2], [2.9, 1.3, 2.4, 1.8, 0, 2.2, 0.7]], \"type\": \"heatmap\", \"zsmooth\": \"best\"}], {\"xaxis10\": {\"domain\": [0.505, 1.0], \"anchor\": \"y10\"}, \"yaxis1\": {\"domain\": [0.856, 1.0], \"anchor\": \"x1\"}, \"yaxis2\": {\"domain\": [0.856, 1.0], \"anchor\": \"x2\"}, \"yaxis3\": {\"domain\": [0.642, 0.786], \"anchor\": \"x3\"}, \"yaxis4\": {\"domain\": [0.642, 0.786], \"anchor\": \"x4\"}, \"yaxis5\": {\"domain\": [0.428, 0.572], \"anchor\": \"x5\"}, \"yaxis6\": {\"domain\": [0.428, 0.572], \"anchor\": \"x6\"}, \"yaxis7\": {\"domain\": [0.214, 0.358], \"anchor\": \"x7\"}, \"yaxis8\": {\"domain\": [0.214, 0.358], \"anchor\": \"x8\"}, \"yaxis9\": {\"domain\": [0.0, 0.144], \"anchor\": \"x9\"}, \"title\": \"Percentage of all user's sessions\", \"yaxis10\": {\"domain\": [0.0, 0.144], \"anchor\": \"x10\"}, \"annotations\": [{\"yanchor\": \"bottom\", \"xref\": \"paper\", \"xanchor\": \"center\", \"yref\": \"paper\", \"text\": \"Ashley\", \"y\": 1.0, \"x\": 0.2475, \"font\": {\"size\": 16}, \"showarrow\": false}, {\"yanchor\": \"bottom\", \"xref\": \"paper\", \"xanchor\": \"center\", \"yref\": \"paper\", \"text\": \"Avril\", \"y\": 1.0, \"x\": 0.7525, \"font\": {\"size\": 16}, \"showarrow\": false}, {\"yanchor\": \"bottom\", \"xref\": \"paper\", \"xanchor\": \"center\", \"yref\": \"paper\", \"text\": \"Bill\", \"y\": 0.786, \"x\": 0.2475, \"font\": {\"size\": 16}, \"showarrow\": false}, {\"yanchor\": \"bottom\", \"xref\": \"paper\", \"xanchor\": \"center\", \"yref\": \"paper\", \"text\": \"Bob\", \"y\": 0.786, \"x\": 0.7525, \"font\": {\"size\": 16}, \"showarrow\": false}, {\"yanchor\": \"bottom\", \"xref\": \"paper\", \"xanchor\": \"center\", \"yref\": \"paper\", \"text\": \"Dick\", \"y\": 0.572, \"x\": 0.2475, \"font\": {\"size\": 16}, \"showarrow\": false}, {\"yanchor\": \"bottom\", \"xref\": \"paper\", \"xanchor\": \"center\", \"yref\": \"paper\", \"text\": \"Ed\", \"y\": 0.572, \"x\": 0.7525, \"font\": {\"size\": 16}, \"showarrow\": false}, {\"yanchor\": \"bottom\", \"xref\": \"paper\", \"xanchor\": \"center\", \"yref\": \"paper\", \"text\": \"John\", \"y\": 0.358, \"x\": 0.2475, \"font\": {\"size\": 16}, \"showarrow\": false}, {\"yanchor\": \"bottom\", \"xref\": \"paper\", \"xanchor\": \"center\", \"yref\": \"paper\", \"text\": \"Lindsey\", \"y\": 0.358, \"x\": 0.7525, \"font\": {\"size\": 16}, \"showarrow\": false}, {\"yanchor\": \"bottom\", \"xref\": \"paper\", \"xanchor\": \"center\", \"yref\": \"paper\", \"text\": \"Mary-Kate\", \"y\": 0.144, \"x\": 0.2475, \"font\": {\"size\": 16}, \"showarrow\": false}, {\"yanchor\": \"bottom\", \"xref\": \"paper\", \"xanchor\": \"center\", \"yref\": \"paper\", \"text\": \"Naomi\", \"y\": 0.144, \"x\": 0.7525, \"font\": {\"size\": 16}, \"showarrow\": false}], \"height\": 1300, \"xaxis9\": {\"domain\": [0.0, 0.495], \"anchor\": \"y9\"}, \"xaxis8\": {\"domain\": [0.505, 1.0], \"anchor\": \"y8\"}, \"xaxis7\": {\"domain\": [0.0, 0.495], \"anchor\": \"y7\"}, \"xaxis6\": {\"domain\": [0.505, 1.0], \"anchor\": \"y6\"}, \"xaxis5\": {\"domain\": [0.0, 0.495], \"anchor\": \"y5\"}, \"xaxis4\": {\"domain\": [0.505, 1.0], \"anchor\": \"y4\"}, \"xaxis3\": {\"domain\": [0.0, 0.495], \"anchor\": \"y3\"}, \"xaxis2\": {\"domain\": [0.505, 1.0], \"anchor\": \"y2\"}, \"xaxis1\": {\"domain\": [0.0, 0.495], \"anchor\": \"y1\"}}, {\"linkText\": \"Export to plot.ly\", \"showLink\": true})});</script>"
      ],
      "text/plain": [
       "<IPython.core.display.HTML object>"
      ]
     },
     "metadata": {},
     "output_type": "display_data"
    }
   ],
   "source": [
    "layout = go.Layout(\n",
    "    title=\"Percentage of all user's sessions\",\n",
    "    height = 1300\n",
    ")  \n",
    "\n",
    "fig = tools.make_subplots(rows=5, cols=2, subplot_titles=(sorted(id_name_dict.values())),  print_grid=False,\\\n",
    "                         specs=[[{}, {}], [{}, {}], [{}, {}], [{}, {}], [{}, {}]], \\\n",
    "                         horizontal_spacing = 0.01, vertical_spacing = 0.07)\n",
    "\n",
    "user_names = sorted(id_name_dict.values(), reverse=True)\n",
    "\n",
    "for x, y in itertools.product(range(1, 6), range(1, 3)):\n",
    "    if len(user_names):\n",
    "        user_name = user_names.pop()\n",
    "\n",
    "        userdata = new_features_10users[new_features_10users.target==user_name]\\\n",
    "                                            [[\"day_of_week\", \"daytime\"]].\\\n",
    "                                            groupby([\"day_of_week\", \"daytime\"]).size().reset_index()\n",
    "        matrix = []\n",
    "        totalsessions = sum(userdata[0])\n",
    "        for dtime in range(0,3):\n",
    "            weekrow = []\n",
    "            for day in range(0,7):\n",
    "                value = userdata[(userdata.day_of_week == day) & (userdata.daytime == dtime)][0]\n",
    "                if len(value):\n",
    "                    weekrow.append(round(float(value) / totalsessions * 100, 1))\n",
    "                else:\n",
    "                    weekrow.append(0)\n",
    "            matrix.append(weekrow)\n",
    "        \n",
    "        if y == 1:\n",
    "            y_lable=['Morning', 'Afternoon', 'Evening']\n",
    "        else:\n",
    "            y_lable=[]\n",
    "        \n",
    "        data = go.Heatmap(\n",
    "            z=matrix,\n",
    "            x=['Mo', 'Tu', 'We', 'Th', 'Fr', 'Sa', 'Su'],\n",
    "            y=y_lable,\n",
    "            showscale=False,\n",
    "            zsmooth=\"best\"\n",
    "        )\n",
    "\n",
    "        fig.append_trace(data, x, y)\n",
    "        \n",
    "fig['layout'].update(layout)\n",
    "\n",
    "iplot(fig)"
   ]
  },
  {
   "cell_type": "markdown",
   "metadata": {},
   "source": [
    "***У каждого пользователя наблюдается свой паттерн пользования интернетом в течение недели и дня. В принципе, то же самое мы наблюдали и на гистограммах, но с использованием heatmap разница между пользователями получилась гораздо нагляднее.***"
   ]
  },
  {
   "cell_type": "markdown",
   "metadata": {},
   "source": [
    "**Теперь посмотрим кто сколько времени проводит в Facebook, Youtube, а также на Топ-30 сайтах.**"
   ]
  },
  {
   "cell_type": "code",
   "execution_count": 551,
   "metadata": {
    "collapsed": false
   },
   "outputs": [
    {
     "data": {
      "text/html": [
       "<div id=\"4d4f5bae-2edc-403d-b502-a64dc7cae1e8\" style=\"height: 525px; width: 100%;\" class=\"plotly-graph-div\"></div><script type=\"text/javascript\">require([\"plotly\"], function(Plotly) { window.PLOTLYENV=window.PLOTLYENV || {};window.PLOTLYENV.BASE_URL=\"https://plot.ly\";Plotly.newPlot(\"4d4f5bae-2edc-403d-b502-a64dc7cae1e8\", [{\"y\": [25.7, 37.8, 22.2, 30.0, 20.1, 25.0, 26.4, 36.6, 43.5, 29.0], \"x\": [\"Ashley\", \"Avril\", \"Bill\", \"Bob\", \"Dick\", \"Ed\", \"John\", \"Lindsey\", \"Mary-Kate\", \"Naomi\"], \"type\": \"bar\", \"name\": \"Facebook\"}, {\"y\": [10.0, 35.3, 23.2, 53.4, 44.3, 31.4, 25.0, 34.0, 47.7, 27.7], \"x\": [\"Ashley\", \"Avril\", \"Bill\", \"Bob\", \"Dick\", \"Ed\", \"John\", \"Lindsey\", \"Mary-Kate\", \"Naomi\"], \"type\": \"bar\", \"name\": \"Youtube\"}, {\"y\": [41.5, 69.3, 46.1, 50.8, 69.0, 60.2, 55.0, 69.2, 81.2, 47.0], \"x\": [\"Ashley\", \"Avril\", \"Bill\", \"Bob\", \"Dick\", \"Ed\", \"John\", \"Lindsey\", \"Mary-Kate\", \"Naomi\"], \"type\": \"scatter\", \"name\": \"Top30 Websites\"}], {\"barmode\": \"group\", \"title\": \"\\u0421\\u0440\\u0435\\u0434\\u043d\\u0438\\u0439 \\u043f\\u0440\\u043e\\u0446\\u0435\\u043d\\u0442 \\u0432\\u0440\\u0435\\u043c\\u0435\\u043d\\u0438, \\u043f\\u0440\\u043e\\u0432\\u0435\\u0434\\u0451\\u043d\\u043d\\u043e\\u0433\\u043e \\u0432 Facebook, Youtube \\u0438 \\u0422\\u043e\\u043f-30 \\u0441\\u0430\\u0439\\u0442\\u043e\\u0432, \\u0432 \\u0441\\u0435\\u0441\\u0441\\u0438\\u0438\", \"yaxis\": {\"title\": \"% \\u0432\\u0440\\u0435\\u043c\\u0435\\u043d\\u0438 \\u0432 \\u0441\\u0435\\u0441\\u0441\\u0438\\u0438\"}}, {\"linkText\": \"Export to plot.ly\", \"showLink\": true})});</script>"
      ],
      "text/plain": [
       "<IPython.core.display.HTML object>"
      ]
     },
     "metadata": {},
     "output_type": "display_data"
    }
   ],
   "source": [
    "trace1 = go.Bar(\n",
    "    x=sorted(id_name_dict.values()),\n",
    "    y=[round(np.mean(new_features_10users[(new_features_10users.target==user) & \\\n",
    "                                          (new_features_10users.fb_portion > 0)][\"fb_portion\"]) * 100, 1) \\\n",
    "                                                            for user in sorted(id_name_dict.values())],\n",
    "    name='Facebook'\n",
    ")\n",
    "trace2 = go.Bar(\n",
    "    x=sorted(id_name_dict.values()),\n",
    "    y=[round(np.mean(new_features_10users[(new_features_10users.target==user)& \\\n",
    "                                          (new_features_10users.youtube_portion > 0)][\"youtube_portion\"]) * 100, 1) \\\n",
    "                                                             for user in sorted(id_name_dict.values())],\n",
    "    name='Youtube'\n",
    ")\n",
    "\n",
    "trace3 = go.Scatter(\n",
    "    x=sorted(id_name_dict.values()),\n",
    "    y=[round(np.mean(new_features_10users[(new_features_10users.target==user) & \\\n",
    "                                          (new_features_10users.top30_portion > 0)][\"top30_portion\"]) * 100, 1) \\\n",
    "                                                             for user in sorted(id_name_dict.values())],\n",
    "    name=\"Top-30 Websites\"\n",
    ")\n",
    "\n",
    "data = [trace1, trace2, trace3]\n",
    "layout = go.Layout(\n",
    "    title=\"Average % of time spent on websites within a session\",\n",
    "    barmode='group',\n",
    "    yaxis=dict(\n",
    "        title='% of time in session'\n",
    "        )\n",
    ")\n",
    "\n",
    "fig = go.Figure(data=data, layout=layout)\n",
    "iplot(fig)"
   ]
  },
  {
   "cell_type": "markdown",
   "metadata": {},
   "source": [
    "Очень хорошо заметны различия между пользователями. Так, например, мы окончательно убедились, что Mary-Kate, которая сидит в интернете днями напролёт, более чем 80% времени проводит на топ-30 cайтах, при этом более 90% времени она проводит на сайтах, принадлежащих Youtube и Facebook. Возможно, она домохозяйка, хотя непонятно, что она может успевать делать по дому :)\n",
    "\n",
    "В то же время, у Ashley процент времени, проведённый в Facebook и Youtube составляет 25.7 и 10 соответственно. Она меньше всех по времени проводит на топ-30 сайтах - 41.5%. Учитывая, что она не сидит в интернете по вечерам и по выходным, можно предположить, что у неё более насыщенная жизнь. Ну или она предпочитает книги или телевизор :)"
   ]
  },
  {
   "cell_type": "markdown",
   "metadata": {},
   "source": [
    "**Посмотрим, на каком сайте в сессии пользователи проводят больше всего времени.**"
   ]
  },
  {
   "cell_type": "code",
   "execution_count": 48,
   "metadata": {
    "collapsed": false
   },
   "outputs": [
    {
     "data": {
      "text/plain": [
       "<matplotlib.axes._subplots.AxesSubplot at 0x7f218c4f0dd0>"
      ]
     },
     "execution_count": 48,
     "metadata": {},
     "output_type": "execute_result"
    },
    {
     "data": {
      "image/png": "[encoded data removed]",
      "text/plain": [
       "<matplotlib.figure.Figure at 0x7f2191fcfc90>"
      ]
     },
     "metadata": {},
     "output_type": "display_data"
    }
   ],
   "source": [
    "new_features_10users[new_features_10users.target == \"Ed\"]['site_longest_time'].hist()"
   ]
  },
  {
   "cell_type": "code",
   "execution_count": 53,
   "metadata": {
    "collapsed": false
   },
   "outputs": [
    {
     "data": {
      "image/png": "[encoded data removed]",
      "text/plain": [
       "<matplotlib.figure.Figure at 0x7f2158adc610>"
      ]
     },
     "metadata": {},
     "output_type": "display_data"
    }
   ],
   "source": [
    "fig, axes = plt.subplots(nrows=4, ncols=3, figsize=(16, 16))\n",
    "subplots_adjust(left=None, bottom=None, right=None, top=None, wspace=0.3, hspace=0.3)\n",
    "user_names = id_name_dict.values()\n",
    "\n",
    "# возьмём одинаковые бины для всех гистограмм, чтобы удобнее было сравнивать\n",
    "#hours = np.unique(new_features_10users['site_longest_time']).astype(int)\n",
    "#bins = np.append(hours, hours[-1]+1) - 0.5 \n",
    "\n",
    "for x, y in itertools.product(range(0, 4), range(0, 3)):\n",
    "    if len(user_names):\n",
    "        user_name = user_names.pop()\n",
    "        axes[x, y].set_xlabel(u'Сайт')\n",
    "        axes[x, y].set_ylabel(u'Число сессий')\n",
    "        \n",
    "        #new_features_10users[new_features_10users.target == user_name]['site_longest_time'].hist(color=color_dic[user_name],\\\n",
    "                                                                                    #ax=axes[x, y], label=user_name)\n",
    "        \n",
    "        new_features_10users[(new_features_10users.target == user_name) & \\\n",
    "                             (new_features_10users.site_longest_time < 5)]['site_longest_time'].hist(color=color_dic[user_name],\\\n",
    "                                                                                    ax=axes[x, y], label=user_name)\n",
    "        \n",
    "        #new_features_10users[new_features_10users.target == user_name]['site_longest_time'].hist(color=color_dic[user_name],\\\n",
    "                                                                                    #ax=axes[x, y], label=user_name,\\\n",
    "                                                                                     #bins = bins)\n",
    "        #axes[x, y].set(xticks = hours, xlim = [min(hours)-1, max(hours)+1])\n",
    "        \n",
    "        axes[x, y].legend(loc=\"best\")\n",
    "axes[3, 1].axis('off')\n",
    "axes[3, 2].axis('off')\n",
    "pyplot.suptitle(u'Гистограммы распределения часа начала сессии для 10 пользователей', fontsize=16)\n",
    "pyplot.show()"
   ]
  },
  {
   "cell_type": "markdown",
   "metadata": {},
   "source": [
    "**В конце сохраните в pickle-файлы только те признаки, которые, как Вы предполагаете, помогут идентифицировать пользователя более точно. Это касается и признаков, которые мы вместе создали в начале (*session_timespan, time_diff1,..., time_diff9, #unique_sites, start_hour, day_of_week*), и Ваших собственных. Можно создать все эти признаки не только для сессий из 10 сайтов, но и для других сочетаний параметров *session_length* и *window_size*.**"
   ]
  },
  {
   "cell_type": "markdown",
   "metadata": {},
   "source": [
    "Сохраним все сгенерированные признаки, потому что, на мой взгляд, все они помогут идентифицировать пользователя."
   ]
  },
  {
   "cell_type": "code",
   "execution_count": 555,
   "metadata": {
    "collapsed": true
   },
   "outputs": [],
   "source": [
    "selected_features_10users = new_features_10users.iloc[:,10:-1]\n",
    "selected_features_150users = new_features_150users.iloc[:,10:-1]"
   ]
  },
  {
   "cell_type": "code",
   "execution_count": 557,
   "metadata": {
    "collapsed": true
   },
   "outputs": [],
   "source": [
    "# selected features – among (session_timespan, ..., day_of_week) and your own new ones\n",
    "with open('selected_features_10users.pkl', 'wb') as selected_features_10users_pkl:\n",
    "    pickle.dump(selected_features_10users, selected_features_10users_pkl)\n",
    "with open('selected_features_150users.pkl', 'wb') as selected_features_150users_pkl:\n",
    "    pickle.dump(selected_features_150users, selected_features_150users_pkl)"
   ]
  },
  {
   "cell_type": "markdown",
   "metadata": {},
   "source": [
    "## Критерии оценки работы:\n",
    "- Верно ли отображена гистограмма session_timespan из п. 1? (max. 3 балла)\n",
    "- Верно ли отображена гистограмма #unique_sites из п. 2? (max. 3 балла)\n",
    "- Верно ли отображены гистограммы #unique_sites по каждому пользователю из п. 3? (max. 6 баллов)\n",
    "- Верно ли отображена гистограмма start_hour из п. 4? (max. 3 балла)\n",
    "- Верно ли отображены гистограммы start_hour по каждому пользователю из п. 5? (max. 6 баллов)\n",
    "- Верно ли отображена гистограмма day_of_week из п. 6? (max. 3 балла)\n",
    "- Верно ли отображены гистограммы day_of_week по каждому пользователю из п. 7? (max. 6 баллов)\n",
    "- Насколько сделанные выводы в п. 8 соответствуют построенным картинкам? (max. 6 баллов)\n",
    "- Верно ли отображен barplot для 10 популярных сайтов из п. 9? (max. 6 баллов)\n",
    "- Есть ли оригинальные построенные признаки и картинки к ним? Оцените также и качество картинок. (max. 8 баллов)"
   ]
  },
  {
   "cell_type": "markdown",
   "metadata": {},
   "source": [
    "## Пути улучшения\n",
    "7 неделя проекта посвящена общему описанию проекта (.ipynb или pdf) и взаимному оцениванию. Что еще можно добавить по 3 части проекта:\n",
    "- IPython-widgets, интерактив и анимация (стоящая [статья](https://habrahabr.ru/post/308162/) по этому ремеслу)\n",
    "- можно попробовать изобразить исходные данные в некотором пространстве, например, Word2Vec, потом выделить главные компоненты или t-SNE  (только пользуйтесь эффективными реализациями, не Sklearn) и раскрасить по целевому классу. Но нет гарантий, что получится что-то значимо отличающееся от каши\n",
    "\n",
    "Далее пройдите чисто техническое задание \"Проверка построенных признаков\", цель которого – удостовериться, что все мы одинаково создали признаки *session_timespan, time_diff1,..., time_diff9, #unique_sites, start_hour* и *day_of_week*."
   ]
  }
 ],
 "metadata": {
  "kernelspec": {
   "display_name": "Python [default]",
   "language": "python",
   "name": "python2"
  },
  "language_info": {
   "codemirror_mode": {
    "name": "ipython",
    "version": 2
   },
   "file_extension": ".py",
   "mimetype": "text/x-python",
   "name": "python",
   "nbconvert_exporter": "python",
   "pygments_lexer": "ipython2",
   "version": "2.7.13"
  }
 },
 "nbformat": 4,
 "nbformat_minor": 1
}
