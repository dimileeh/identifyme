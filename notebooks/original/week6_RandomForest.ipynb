{
 "cells": [
  {
   "cell_type": "code",
   "execution_count": 4,
   "metadata": {
    "collapsed": false
   },
   "outputs": [],
   "source": [
    "import numpy as np\n",
    "import pandas as pd\n",
    "import pickle\n",
    "from collections import Counter\n",
    "import matplotlib.pyplot as plt\n",
    "from sklearn.preprocessing import LabelEncoder\n",
    "from sklearn.model_selection import train_test_split, cross_val_score, StratifiedKFold\n",
    "from sklearn.metrics import accuracy_score, roc_auc_score, confusion_matrix, make_scorer\n",
    "from vowpalwabbit.sklearn_vw import VWClassifier, VW\n",
    "import itertools\n",
    "from sklearn.ensemble import RandomForestClassifier"
   ]
  },
  {
   "cell_type": "code",
   "execution_count": 5,
   "metadata": {
    "collapsed": false
   },
   "outputs": [
    {
     "name": "stdout",
     "output_type": "stream",
     "text": [
      "Populating the interactive namespace from numpy and matplotlib\n"
     ]
    },
    {
     "name": "stderr",
     "output_type": "stream",
     "text": [
      "WARNING: pylab import has clobbered these variables: ['hstack', 'fmin']\n",
      "`%matplotlib` prevents importing * from pylab and numpy\n"
     ]
    }
   ],
   "source": [
    "%pylab inline"
   ]
  },
  {
   "cell_type": "code",
   "execution_count": 6,
   "metadata": {
    "collapsed": true
   },
   "outputs": [],
   "source": [
    "from hyperopt import fmin, tpe, hp, STATUS_OK, Trials\n",
    "from scipy.sparse import csr_matrix, hstack"
   ]
  },
  {
   "cell_type": "code",
   "execution_count": 7,
   "metadata": {
    "collapsed": true
   },
   "outputs": [],
   "source": [
    "def load_data(pkl_path=\"\", csv_path=\"\"):\n",
    "    if pkl_path != \"\":\n",
    "        pkl_file = open(pkl_path, 'rb')\n",
    "        data = pickle.load(pkl_file)\n",
    "    elif csv_path != \"\":\n",
    "        data = pd.read_csv(csv_path)\n",
    "    return data    "
   ]
  },
  {
   "cell_type": "code",
   "execution_count": 8,
   "metadata": {
    "collapsed": false
   },
   "outputs": [],
   "source": [
    "def calc_site_times_portions(train_data, test_data):\n",
    "    site_times = [{},{}]\n",
    "    count = 0\n",
    "    for data in [train_data, test_data]:\n",
    "        for r, row in data[:][range(0, 10)+range(20,30)].iterrows():\n",
    "            rowdic = {}\n",
    "            for c, s in [[c, 'site' + str(c)] for c in range(1,10)]:\n",
    "                if row[s] == 0:\n",
    "                    continue\n",
    "                if row[s] in rowdic:\n",
    "                    rowdic[int(row[s])] += row[\"time_diff\"+str(c)]\n",
    "                else:\n",
    "                    rowdic[int(row[s])] = row[\"time_diff\"+str(c)]\n",
    "            site_times[count][r] = {}\n",
    "            for site, time in rowdic.items():\n",
    "                if len(rowdic) == 1:\n",
    "                    site_times[count][r][int(site)] = 1.0\n",
    "                    continue\n",
    "                if time > 0:\n",
    "                    site_times[count][r][int(site)] = round(float(time)/row[\"session_timespan\"],3)\n",
    "        count+=1\n",
    "    return site_times"
   ]
  },
  {
   "cell_type": "code",
   "execution_count": 9,
   "metadata": {
    "collapsed": false
   },
   "outputs": [],
   "source": [
    "def site_times_to_sparse(sitetimes):\n",
    "    row = []\n",
    "    col = []\n",
    "    data = []\n",
    "    rowcount = 0\n",
    "    for sitetime in sitetimes:\n",
    "        for r, sites in sitetime.items():\n",
    "            for site, p in sites.items():\n",
    "                col.append(site)\n",
    "                row.append(rowcount)\n",
    "                data.append(p)\n",
    "            rowcount+=1\n",
    "    site_times_sparse = csr_matrix((data, (row, col)), shape=(len(sitetimes[0])+len(sitetimes[1]), max(col)+1), \\\n",
    "                                                                                              dtype=float)[:,1:]\n",
    "    return site_times_sparse"
   ]
  },
  {
   "cell_type": "code",
   "execution_count": 10,
   "metadata": {
    "collapsed": true
   },
   "outputs": [],
   "source": [
    "def create_site_user_dic(train_data, site_freq_file):\n",
    "    user_dic = {}\n",
    "    site_dic = {}\n",
    "\n",
    "    pkl_file = open(site_freq_file, 'rb')\n",
    "    site_freq = pickle.load(pkl_file)\n",
    "    top_sites = [v[1] for k, v in sorted(site_freq.items(), key=lambda t: t[1][1], reverse=True)[:0]]\n",
    "\n",
    "    for i, v in train_data.iterrows():\n",
    "        if v.target not in user_dic:\n",
    "            user_dic[v.target] = {}\n",
    "        for site in ['site' + str(i) for i in range(1,11)]:\n",
    "            if v[site] != 0 and v[site] not in top_sites:\n",
    "                if v[site] in user_dic[v.target]:\n",
    "                    user_dic[v.target][v[site]] +=1\n",
    "                else:\n",
    "                    user_dic[v.target][v[site]] = 1\n",
    "\n",
    "            if v[site] in site_dic:\n",
    "                site_dic[v[site]].add(v.target)\n",
    "            else:\n",
    "                site_dic[v[site]] = set([v.target])\n",
    "    \n",
    "    return [user_dic, site_dic]"
   ]
  },
  {
   "cell_type": "code",
   "execution_count": 11,
   "metadata": {
    "collapsed": false
   },
   "outputs": [],
   "source": [
    "def add_predictions(train_data, test_data, site_dic, user_dic, num_users = 1, todict=False):\n",
    "    dict_pred = [{},{}]\n",
    "    data_i = 0\n",
    "    for data in [train_data, test_data]:\n",
    "        if not dict_pred:\n",
    "            data[\"prediction\"] = 0\n",
    "        for r, v in data.iterrows():\n",
    "            found_definite_pred = False\n",
    "            session_prediction = []\n",
    "            for site in ['site' + str(c) for c in range(1,11)]:\n",
    "                if v[site] in site_dic and len(site_dic[v[site]]) == 1:\n",
    "                    if not todict:\n",
    "                        data.set_value(r, -1, list(site_dic[v[site]])[0], takeable=True)\n",
    "                    dict_pred[data_i][r] = [list(site_dic[v[site]])[0], 1]\n",
    "                    found_definite_pred = True\n",
    "                elif v[site] in site_dic and len(site_dic[v[site]]) in range(2, num_users+1):\n",
    "                    predictions = sorted([[int(user), float(user_dic[user][v[site]]) / sum(user_dic[user].values())] \\\n",
    "                                         for user in site_dic[v[site]] if v[site] in user_dic[user]], \\\n",
    "                                                                       key=lambda t: t[1], reverse=True)\n",
    "                    if len(predictions):\n",
    "                        session_prediction.append(predictions[0])\n",
    "                if found_definite_pred:\n",
    "                    break\n",
    "                        \n",
    "            if found_definite_pred == False and len(session_prediction):\n",
    "                if not todict:\n",
    "                    if v[\"prediction\"] == 0:\n",
    "                        prediction = sorted(session_prediction, key=lambda t: t[1], reverse=True)[0][0]\n",
    "                        data.set_value(r, -1, prediction, takeable=True)\n",
    "                else:\n",
    "                    session_users = zip(*session_prediction)[0]\n",
    "                    user_counter = Counter(session_users)\n",
    "                    dict_pred[data_i][r] = [list(sorted(user_counter.items(), key=lambda srt: srt[1], reverse=True))[0][0],\\\n",
    "                                    list(sorted(user_counter.items(), key=lambda srt: srt[1], reverse=True))[0][1]/ \\\n",
    "                                    float(sum(user_counter.values()))]\n",
    "        data_i+=1\n",
    "        \n",
    "    if not todict:\n",
    "        return [train_data, test_data]\n",
    "    else:\n",
    "        return dict_pred"
   ]
  },
  {
   "cell_type": "code",
   "execution_count": 12,
   "metadata": {
    "collapsed": true
   },
   "outputs": [],
   "source": [
    "def sparsematrix(X):\n",
    "    row = []\n",
    "    col = []\n",
    "    data = []\n",
    "    for r in range(X.shape[0]):\n",
    "        row_counter = Counter(X[r])\n",
    "        for site, num in row_counter.items():\n",
    "            row.append(r)\n",
    "            col.append(site)\n",
    "            data.append(num)\n",
    "    print \"Sparse Matrix - rows:\", X.shape[0], \"columns:\", len(set(col))\n",
    "    return csr_matrix((data, (row, col)), shape=(X.shape[0], len(set(col))))[:,1:]"
   ]
  },
  {
   "cell_type": "code",
   "execution_count": 13,
   "metadata": {
    "collapsed": true
   },
   "outputs": [],
   "source": [
    "def sites_to_sparse(train_data, test_data, target_col, session_length, label_encoder=False):\n",
    "    train_test_df = pd.concat([train_data, test_data])\n",
    "\n",
    "    train_test_df_sites = train_test_df[['site' + str(c) for c in range(1,session_length+1)]].fillna(0).astype('int')\n",
    "    X_train_test_sparse = sparsematrix(train_test_df_sites.as_matrix())\n",
    "    X_train_sparse = X_train_test_sparse[:len(train_data)]\n",
    "    X_test_sparse = X_train_test_sparse[len(train_data):]\n",
    "    y = train_data[target_col]\n",
    "    \n",
    "    sites_columns_num = X_train_test_sparse.shape[1]\n",
    "    \n",
    "    y_for_vw = None\n",
    "    class_encoder = None\n",
    "    if label_encoder:\n",
    "        class_encoder = LabelEncoder().fit(y.astype('str'))\n",
    "        y_for_vw = class_encoder.transform(y.astype('str')) + 1\n",
    "    \n",
    "    return [X_train_sparse, X_test_sparse, y, y_for_vw, sites_columns_num, class_encoder]"
   ]
  },
  {
   "cell_type": "code",
   "execution_count": 14,
   "metadata": {
    "collapsed": true
   },
   "outputs": [],
   "source": [
    "def features_to_sparse(train_data, test_data, feature_cols):\n",
    "    features_matrix = []\n",
    "    for df in [train_data, test_data]:\n",
    "        num_cols = 0\n",
    "        data = []\n",
    "        rows = []\n",
    "        cols = []\n",
    "        for label in feature_cols:\n",
    "            if label in [\"day_of_week\", \"daytime\"]:\n",
    "                coldata = list(df[[label]].values.T[0].astype('float') + 1)\n",
    "            else:\n",
    "                coldata = list(df[[label]].values.T[0].astype('float'))\n",
    "            if len(data):\n",
    "                data += coldata\n",
    "            else:\n",
    "                data = list(coldata)\n",
    "            if len(cols):\n",
    "                cols += [num_cols] * len(coldata)\n",
    "            else:\n",
    "                cols = [num_cols] * len(coldata)\n",
    "            num_cols += 1\n",
    "        rows = [r for r in range(df.shape[0])] * num_cols\n",
    "        features = csr_matrix((data, (rows, cols)), shape=(df.shape[0], num_cols), dtype=float)\n",
    "        features_matrix.append(features)\n",
    "    return features_matrix"
   ]
  },
  {
   "cell_type": "code",
   "execution_count": 15,
   "metadata": {
    "collapsed": true
   },
   "outputs": [],
   "source": [
    "def combine_sites_features_sparse(sites_train_sparse, features_train_sparse, \\\n",
    "                                  sites_test_sparse, features_test_sparse):\n",
    "    X_train_sparse = hstack([sites_train_sparse, features_train_sparse], dtype=float).tocsr()\n",
    "    X_test_sparse = hstack([sites_test_sparse, features_test_sparse], dtype=float).tocsr()\n",
    "    return [X_train_sparse, X_test_sparse]"
   ]
  },
  {
   "cell_type": "code",
   "execution_count": 16,
   "metadata": {
    "collapsed": false
   },
   "outputs": [],
   "source": [
    "from string import ascii_lowercase"
   ]
  },
  {
   "cell_type": "code",
   "execution_count": 17,
   "metadata": {
    "collapsed": false
   },
   "outputs": [],
   "source": [
    "def sparse_matrix_to_vw(X_sparse, sites_columns_num, y=None):\n",
    "    sessions = {}\n",
    "    used = {}\n",
    "    prediction = {}\n",
    "    day_of_week = {}\n",
    "    start_hour = {}\n",
    "    daytime = {}\n",
    "    unique_sites = {}\n",
    "    top30_portion = {}\n",
    "    fb_portion = {}\n",
    "    youtube_portion = {}\n",
    "    bot30_portion = {}\n",
    "    site_longest_time = {}\n",
    "    session_timespan = {}\n",
    "    sitetimes = {}\n",
    "    \n",
    "\n",
    "    for r, c in zip(X_sparse.nonzero()[0], X_sparse.nonzero()[1]):        \n",
    "        if tuple([r,c]) not in used:\n",
    "            used[tuple([r, c])] = 1\n",
    "            if c == X_sparse.shape[1] - len(mycolumns) - sites_columns_num + mycolumns.index(\"prediction\"):\n",
    "                prediction[r] = \" |aprediction {}:{}\".format(int(X_sparse[r,c]), 100)\n",
    "                #prediction[r] = \" |prediction:100 {}\".format(int(X_sparse[r,c]))\n",
    "                continue\n",
    "            elif c == X_sparse.shape[1] - len(mycolumns) - sites_columns_num + mycolumns.index(\"day_of_week\"):\n",
    "                day_of_week[r] = \" |bday_of_week {}\".format(int(X_sparse[r,c]))\n",
    "                #day_of_week[r] = \" day_of_week:{}\".format(int(X_sparse[r,c]))\n",
    "                continue\n",
    "            elif c == X_sparse.shape[1] - len(mycolumns) - sites_columns_num + mycolumns.index(\"start_hour\"):\n",
    "                start_hour[r] = \" |chour_start {}\".format(int(X_sparse[r,c]))\n",
    "                #start_hour[r] = \" start_hour:{}\".format(int(X_sparse[r,c]))\n",
    "                continue\n",
    "            elif c == X_sparse.shape[1] - len(mycolumns) - sites_columns_num + mycolumns.index(\"daytime\"):\n",
    "                daytime[r] = \" |dtime_of_day {}\".format(int(X_sparse[r,c]))\n",
    "                #daytime[r] = \" daytime:{}\".format(int(X_sparse[r,c]))\n",
    "                continue\n",
    "            elif c == X_sparse.shape[1] - len(mycolumns) - sites_columns_num + mycolumns.index(\"session_timespan\"):\n",
    "                session_timespan[r] = \" session_timespan:{}\".format(int(X_sparse[r,c]))\n",
    "                #session_timespan[r] = \" session_timespan:{}\".format(int(X_sparse[r,c]))\n",
    "                continue\n",
    "            elif c == X_sparse.shape[1] - len(mycolumns) - sites_columns_num + mycolumns.index(\"#unique_sites\"):\n",
    "                unique_sites[r] = \" unique_sites:{}\".format(int(X_sparse[r,c]))\n",
    "                #unique_sites[r] = \" unique_sites:{}\".format(X_sparse[r,c])\n",
    "                continue\n",
    "            elif c == X_sparse.shape[1] - len(mycolumns) - sites_columns_num + mycolumns.index(\"site_longest_time\"):\n",
    "                site_longest_time[r] = \" |hsite_longest_time {}:{}\".format(int(X_sparse[r,c]), 3)\n",
    "                #site_longest_time[r] = \" site_longest_time:{}\".format(int(X_sparse[r,c]))\n",
    "                continue\n",
    "            elif c == X_sparse.shape[1] - len(mycolumns) - sites_columns_num + mycolumns.index(\"top30_portion\"):\n",
    "                top30_portion[r] = \" top30:{}\".format(X_sparse[r,c])\n",
    "                continue\n",
    "            elif c == X_sparse.shape[1] - len(mycolumns) - sites_columns_num + mycolumns.index(\"bot30_portion\"):\n",
    "                bot30_portion[r] = \" bot30:{}\".format(X_sparse[r,c])\n",
    "                continue\n",
    "            elif c == X_sparse.shape[1] - len(mycolumns) - sites_columns_num + mycolumns.index(\"fb_portion\"):\n",
    "                fb_portion[r] = \" facebook:{}\".format(X_sparse[r,c])\n",
    "                continue\n",
    "            elif c == X_sparse.shape[1] - len(mycolumns) - sites_columns_num + mycolumns.index(\"youtube_portion\"):\n",
    "                youtube_portion[r] = \" youtube:{}\".format(X_sparse[r,c])\n",
    "                continue\n",
    "            if c < sites_columns_num:\n",
    "                if r in sessions:\n",
    "                    sessions[r] += \" {}:{}\".format(int(c+1), int(X_sparse[r,c]))\n",
    "                else:\n",
    "                    if y is not None:\n",
    "                        sessions[r] = str(y[r]) + ' |site' + \" {}:{}\".format(int(c+1), int(X_sparse[r,c]))\n",
    "                    else:\n",
    "                        sessions[r] = ' |site' + \" {}:{}\".format(int(c+1), int(X_sparse[r,c]))\n",
    "            elif c > X_sparse.shape[1] - sites_columns_num:\n",
    "                if r in sitetimes:\n",
    "                    sitetimes[r] += \" {}:{}\".format(int(c - sites_columns_num - len(mycolumns)+1), float(X_sparse[r,c]))\n",
    "                else:\n",
    "                    sitetimes[r] = ' |isitetime' + \" {}:{}\".format(int(c - sites_columns_num - len(mycolumns)+1), float(X_sparse[r,c]))\n",
    "        \n",
    "    \n",
    "    return {\"sites\": sessions, \"prediction\": prediction, \"day_of_week\": day_of_week, \\\n",
    "                      \"start_hour\": start_hour, \"daytime\": daytime, \\\n",
    "                     \"unique_site\": unique_sites, \"top30_portion\": top30_portion, \\\n",
    "                    \"bot30_portion\": bot30_portion, \"fb_portion\": fb_portion, \\\n",
    "                    \"youtube_portion\": youtube_portion, \"site_longest_time\": site_longest_time, \\\n",
    "                    \"session_timespan\": session_timespan, \"sitetimes\": sitetimes}"
   ]
  },
  {
   "cell_type": "code",
   "execution_count": 18,
   "metadata": {
    "collapsed": true
   },
   "outputs": [],
   "source": [
    "def vw_to_file(sites, out_file, features={}, quiet=True):   \n",
    "    vw_writer = open(out_file, 'w')\n",
    "    final_vw = {}\n",
    "    gen_features = []\n",
    "    \n",
    "    if not quiet:\n",
    "        print \"Features:\", features.keys()\n",
    "        \n",
    "    for r in sorted(sites.keys()):\n",
    "        final_vw[r] = sites[r] #+ \" |features\"\n",
    "        for fname, feature in features.items():\n",
    "            if fname in [\"youtube_portion\", \"fb_portion\", \"top30_portion\", \"bot30_portion\", \\\n",
    "                                         \"unique_sites\", \"session_timespan\"] and r in feature:\n",
    "                gen_features.append(feature[r])\n",
    "                continue\n",
    "            if r in feature:\n",
    "                final_vw[r] += feature[r]        \n",
    "            \n",
    "        if len(gen_features):\n",
    "            final_vw[r] += \" |features\"\n",
    "            for gf in gen_features:\n",
    "                final_vw[r] += gf\n",
    "        gen_features = []\n",
    "        \n",
    "        #if \"prediction\" in features and r in features[\"prediction\"]:\n",
    "            #final_vw[r] += features[\"prediction\"][r]\n",
    "        \n",
    "        vw_writer.write(final_vw[r] + \"\\n\")\n",
    "        \n",
    "    vw_writer.close()"
   ]
  },
  {
   "cell_type": "code",
   "execution_count": 19,
   "metadata": {
    "collapsed": true
   },
   "outputs": [],
   "source": [
    "def write_to_submission_file(predicted_labels, out_file,\n",
    "                             target='user_id', index_label=\"session_id\"):\n",
    "    # turn predictions into data frame and save as csv file\n",
    "    predicted_df = pd.DataFrame(predicted_labels,\n",
    "                                index = np.arange(1, predicted_labels.shape[0] + 1),\n",
    "                                columns=[target])\n",
    "    predicted_df.to_csv(out_file, index_label=index_label)"
   ]
  },
  {
   "cell_type": "markdown",
   "metadata": {},
   "source": [
    "**Let's check if creating sessions with windows [5, 7] improves accuracy**"
   ]
  },
  {
   "cell_type": "code",
   "execution_count": 20,
   "metadata": {
    "collapsed": false
   },
   "outputs": [],
   "source": [
    "# Loading processed train and test files\n",
    "train_data = load_data(csv_path='kaggle_data/full_train_w5_new.csv')\n",
    "test_data = load_data(csv_path='kaggle_data/full_test.csv')"
   ]
  },
  {
   "cell_type": "code",
   "execution_count": 21,
   "metadata": {
    "collapsed": false
   },
   "outputs": [
    {
     "name": "stdout",
     "output_type": "stream",
     "text": [
      "CPU times: user 0 ns, sys: 0 ns, total: 0 ns\n",
      "Wall time: 8.82 µs\n"
     ]
    }
   ],
   "source": [
    "%%time\n",
    "# Additionally, let's calculate the percentage of session time spent by every site in session\n",
    "#site_times = calc_site_times_portions(train_data, test_data)"
   ]
  },
  {
   "cell_type": "code",
   "execution_count": 22,
   "metadata": {
    "collapsed": false
   },
   "outputs": [],
   "source": [
    "# Convert site times to sparse format\n",
    "#site_times_sparse = site_times_to_sparse(site_times)\n",
    "#train_site_times_sparse = site_times_sparse[:len(train_data)]\n",
    "#test_site_times_sparse = site_times_sparse[len(train_data):]\n",
    "#site_times_sparse"
   ]
  },
  {
   "cell_type": "code",
   "execution_count": 23,
   "metadata": {
    "collapsed": false
   },
   "outputs": [
    {
     "name": "stdout",
     "output_type": "stream",
     "text": [
      "CPU times: user 0 ns, sys: 0 ns, total: 0 ns\n",
      "Wall time: 5.96 µs\n"
     ]
    }
   ],
   "source": [
    "%%time\n",
    "#Generate only once per kernel launch\n",
    "#user_dic, site_dic = create_site_user_dic(train_data, site_freq_file=\"kaggle_data/site_freq.pkl\")"
   ]
  },
  {
   "cell_type": "code",
   "execution_count": 24,
   "metadata": {
    "collapsed": false
   },
   "outputs": [
    {
     "name": "stdout",
     "output_type": "stream",
     "text": [
      "CPU times: user 0 ns, sys: 0 ns, total: 0 ns\n",
      "Wall time: 5.96 µs\n"
     ]
    }
   ],
   "source": [
    "%%time\n",
    "#Predictions no longer needed since they are already included in train and test data!\n",
    "#train_data, test_data = add_predictions(train_data, test_data, site_dic, user_dic, num_users = 1)"
   ]
  },
  {
   "cell_type": "code",
   "execution_count": 25,
   "metadata": {
    "collapsed": false
   },
   "outputs": [
    {
     "name": "stdout",
     "output_type": "stream",
     "text": [
      "total_filled: 0.211788304994\n",
      "right_filled 0.211788304994\n",
      "1.0\n"
     ]
    }
   ],
   "source": [
    "total_filled = len(train_data[train_data.prediction != 0]) / float(len(train_data))\n",
    "right_filled = sum([int(int(a) == int(b)) for a, b in \\\n",
    "                                    zip(train_data[\"target\"], train_data[\"prediction\"])]) / float(len(train_data))\n",
    "print \"total_filled:\", total_filled\n",
    "print \"right_filled\", right_filled\n",
    "print right_filled/total_filled"
   ]
  },
  {
   "cell_type": "code",
   "execution_count": 26,
   "metadata": {
    "collapsed": false
   },
   "outputs": [
    {
     "name": "stdout",
     "output_type": "stream",
     "text": [
      "Sparse Matrix - rows: 212669 columns: 24053\n",
      "CPU times: user 5.03 s, sys: 676 ms, total: 5.7 s\n",
      "Wall time: 5.71 s\n"
     ]
    }
   ],
   "source": [
    "%%time\n",
    "X_train_sparse, X_test_sparse, y, y_for_vw, sites_columns_num, class_encoder = \\\n",
    "    sites_to_sparse(train_data, test_data, \"target\", 10, label_encoder=LabelEncoder())\n",
    "    \n",
    "mycolumns = [label for label in test_data[range(20, test_data.shape[1])]]\n",
    "\n",
    "train_features, test_features = features_to_sparse(train_data, test_data, mycolumns)\n",
    "\n",
    "\n",
    "\n",
    "X_train_sparse, X_test_sparse = combine_sites_features_sparse(X_train_sparse, train_features, \\\n",
    "                                                             X_test_sparse, \\\n",
    "                                                              test_features)\n",
    "\n",
    "X_train, X_valid, y_train, y_valid = train_test_split(X_train_sparse, y_for_vw, test_size=0.3, stratify=y_for_vw)"
   ]
  },
  {
   "cell_type": "code",
   "execution_count": 43,
   "metadata": {
    "collapsed": false
   },
   "outputs": [
    {
     "name": "stdout",
     "output_type": "stream",
     "text": [
      "Configuration saved on 01, Jan 2017 - 03:39\n"
     ]
    }
   ],
   "source": [
    "with open('kaggle_data/vw/train_part_sparse_w5.pkl', 'wb') as f:\n",
    "    pickle.dump(X_train, f)\n",
    "with open('kaggle_data/vw/valid_sparse_w5.pkl', 'wb') as f:\n",
    "    pickle.dump(X_valid, f)\n",
    "with open('kaggle_data/vw/train_sparse_w5.pkl', 'wb') as f:\n",
    "    pickle.dump(X_train_sparse, f)\n",
    "with open('kaggle_data/vw/test_sparse_w5.pkl', 'wb') as f:\n",
    "    pickle.dump(X_test_sparse, f)\n",
    "    \n",
    "y.to_csv(\"kaggle_data/y_w5.csv\", index=False, header=False)\n",
    "pd.DataFrame(y_train).to_csv(\"kaggle_data/y_train_w5.csv\", index=False, header=False)\n",
    "pd.DataFrame(y_valid).to_csv(\"kaggle_data/y_valid_w5.csv\", index=False, header=False)\n",
    "\n",
    "import datetime\n",
    "print datetime.datetime.now().strftime('Configuration saved on %d, %b %Y - %H:%M')"
   ]
  },
  {
   "cell_type": "code",
   "execution_count": 20,
   "metadata": {
    "collapsed": false
   },
   "outputs": [
    {
     "name": "stdout",
     "output_type": "stream",
     "text": [
      "CPU times: user 1.26 s, sys: 128 ms, total: 1.39 s\n",
      "Wall time: 1.39 s\n"
     ]
    }
   ],
   "source": [
    "%%time\n",
    "with open('kaggle_data/vw/train_part_sparse_w5.pkl', 'rb') as f:\n",
    "    X_train = pickle.load(f)\n",
    "with open('kaggle_data/vw/valid_sparse_w5.pkl', 'rb') as f:\n",
    "    X_valid = pickle.load(f)\n",
    "with open('kaggle_data/vw/train_sparse_w5.pkl', 'rb') as f:\n",
    "    X = pickle.load(f)\n",
    "with open('kaggle_data/vw/test_sparse_w5.pkl', 'rb') as f:\n",
    "    X_test = pickle.load(f)\n",
    "    \n",
    "y=pd.read_csv(\"kaggle_data/y_w5.csv\", header=None, squeeze=True)\n",
    "y_train=pd.read_csv(\"kaggle_data/y_train_w5.csv\", header=None, squeeze=True)\n",
    "y_valid=pd.read_csv(\"kaggle_data/y_valid_w5.csv\", header=None, squeeze=True)"
   ]
  },
  {
   "cell_type": "markdown",
   "metadata": {},
   "source": [
    "## RandomForestClassifier"
   ]
  },
  {
   "cell_type": "code",
   "execution_count": 27,
   "metadata": {
    "collapsed": false
   },
   "outputs": [
    {
     "name": "stderr",
     "output_type": "stream",
     "text": [
      "/home/dlihhats/anaconda2/lib/python2.7/site-packages/sklearn/ensemble/forest.py:439: UserWarning: Some inputs do not have OOB scores. This probably means too few trees were used to compute any reliable oob estimates.\n",
      "  warn(\"Some inputs do not have OOB scores. \"\n"
     ]
    },
    {
     "name": "stdout",
     "output_type": "stream",
     "text": [
      "CPU times: user 3min 13s, sys: 20.6 s, total: 3min 34s\n",
      "Wall time: 1min 55s\n"
     ]
    }
   ],
   "source": [
    "%%time\n",
    "forest = RandomForestClassifier(n_estimators=20, oob_score=True, n_jobs=2, random_state=7)\n",
    "forest.fit(X_train, y_train)"
   ]
  },
  {
   "cell_type": "code",
   "execution_count": null,
   "metadata": {
    "collapsed": true
   },
   "outputs": [],
   "source": [
    "forest.oob_score_"
   ]
  },
  {
   "cell_type": "code",
   "execution_count": null,
   "metadata": {
    "collapsed": true
   },
   "outputs": [],
   "source": [
    "rf_valid_acc = accuracy_score(forest.predict(X_valid), y_valid)\n",
    "rf_valid_acc"
   ]
  },
  {
   "cell_type": "code",
   "execution_count": null,
   "metadata": {
    "collapsed": true
   },
   "outputs": [],
   "source": []
  },
  {
   "cell_type": "code",
   "execution_count": null,
   "metadata": {
    "collapsed": true
   },
   "outputs": [],
   "source": []
  },
  {
   "cell_type": "code",
   "execution_count": null,
   "metadata": {
    "collapsed": true
   },
   "outputs": [],
   "source": []
  },
  {
   "cell_type": "code",
   "execution_count": null,
   "metadata": {
    "collapsed": false
   },
   "outputs": [],
   "source": [
    "%%time\n",
    "train_part_vw = sparse_matrix_to_vw(X_train, sites_columns_num, y_train)\n",
    "valid_vw = sparse_matrix_to_vw(X_valid, sites_columns_num, y_valid)\n",
    "train_vw = sparse_matrix_to_vw(X_train_sparse, sites_columns_num, y_for_vw)\n",
    "test_vw = sparse_matrix_to_vw(X_test_sparse, sites_columns_num)"
   ]
  },
  {
   "cell_type": "code",
   "execution_count": 139,
   "metadata": {
    "collapsed": false
   },
   "outputs": [
    {
     "data": {
      "text/plain": [
       "119546"
      ]
     },
     "execution_count": 139,
     "metadata": {},
     "output_type": "execute_result"
    }
   ],
   "source": [
    "X_train.shape[0]"
   ]
  },
  {
   "cell_type": "code",
   "execution_count": null,
   "metadata": {
    "collapsed": true
   },
   "outputs": [],
   "source": [
    "for k in train_part_vw.keys():\n",
    "    print k, len(train_part_vw[k])"
   ]
  },
  {
   "cell_type": "code",
   "execution_count": 140,
   "metadata": {
    "collapsed": false
   },
   "outputs": [
    {
     "name": "stdout",
     "output_type": "stream",
     "text": [
      "youtube_portion 4992\n",
      "site_longest_time 119546\n",
      "top30_portion 71543\n",
      "sitetimes 115811\n",
      "unique_site 119546\n",
      "start_hour 119546\n",
      "prediction 21029\n",
      "session_timespan 114607\n",
      "day_of_week 119546\n",
      "bot30_portion 35735\n",
      "fb_portion 10550\n",
      "sites 119546\n",
      "daytime 119546\n"
     ]
    }
   ],
   "source": [
    "for k in train_part_vw.keys():\n",
    "    print k, len(train_part_vw[k])"
   ]
  },
  {
   "cell_type": "code",
   "execution_count": 141,
   "metadata": {
    "collapsed": false
   },
   "outputs": [],
   "source": [
    "with open('kaggle_data/vw/train_part_vw_w5.pkl', 'wb') as f:\n",
    "    pickle.dump(train_part_vw, f)\n",
    "with open('kaggle_data/vw/valid_vw_w5.pkl', 'wb') as f:\n",
    "    pickle.dump(valid_vw, f)\n",
    "with open('kaggle_data/vw/train_vw_w5.pkl', 'wb') as f:\n",
    "    pickle.dump(train_vw, f)\n",
    "with open('kaggle_data/vw/test_vw_w5.pkl', 'wb') as f:\n",
    "    pickle.dump(test_vw, f)\n",
    "with open('kaggle_data/vw/class_encoder_w5.pkl', 'wb') as f:\n",
    "    pickle.dump(class_encoder, f)\n",
    "    \n",
    "y.to_csv(\"kaggle_data/y_w5.csv\", index=False, header=False)\n",
    "pd.DataFrame(y_train).to_csv(\"kaggle_data/y_train_w5.csv\", index=False, header=False)\n",
    "pd.DataFrame(y_valid).to_csv(\"kaggle_data/y_valid_w5.csv\", index=False, header=False)\n",
    "\n",
    "import datetime\n",
    "datetime.datetime.now()"
   ]
  },
  {
   "cell_type": "code",
   "execution_count": 36,
   "metadata": {
    "collapsed": false
   },
   "outputs": [],
   "source": [
    "import pickle\n",
    "\n",
    "with open('kaggle_data/vw/train_part_vw_w5.pkl', 'rb') as f:\n",
    "    train_part_vw = pickle.load(f)\n",
    "with open('kaggle_data/vw/valid_vw_w5.pkl', 'rb') as f:\n",
    "    valid_vw = pickle.load(f)\n",
    "with open('kaggle_data/vw/train_vw_w5.pkl', 'rb') as f:\n",
    "    train_vw = pickle.load(f)\n",
    "with open('kaggle_data/vw/test_vw_w5.pkl', 'rb') as f:\n",
    "    test_vw = pickle.load(f)\n",
    "with open('kaggle_data/vw/class_encoder_w5.pkl', 'rb') as f:\n",
    "    class_encoder = pickle.load(f)\n",
    "y=pd.read_csv(\"kaggle_data/y_w5.csv\", header=None, squeeze=True)\n",
    "y_train=pd.read_csv(\"kaggle_data/y_train_w5.csv\", header=None, squeeze=True)\n",
    "y_valid=pd.read_csv(\"kaggle_data/y_valid_w5.csv\", header=None, squeeze=True)"
   ]
  },
  {
   "cell_type": "code",
   "execution_count": 37,
   "metadata": {
    "collapsed": false
   },
   "outputs": [
    {
     "name": "stdout",
     "output_type": "stream",
     "text": [
      "Features: ['youtube_portion', 'fb_portion', 'start_hour', 'prediction', 'daytime', 'day_of_week']\n",
      "Features: ['youtube_portion', 'fb_portion', 'start_hour', 'prediction', 'daytime', 'day_of_week']\n",
      "Features: ['youtube_portion', 'fb_portion', 'start_hour', 'prediction', 'daytime', 'day_of_week']\n",
      "Features: ['youtube_portion', 'fb_portion', 'start_hour', 'prediction', 'daytime', 'day_of_week']\n"
     ]
    }
   ],
   "source": [
    "keys = [\n",
    "   'day_of_week',\n",
    "   'daytime',\n",
    "   'prediction',\n",
    "   'start_hour',\n",
    "   'youtube_portion', 'fb_portion']\n",
    "\n",
    "vw_to_file(train_part_vw[\"sites\"], 'kaggle_data/train_part_w5.vw', features={x:train_part_vw[x] for x in keys}, quiet=False)\n",
    "vw_to_file(valid_vw[\"sites\"], 'kaggle_data/valid_w5.vw', features={x:valid_vw[x] for x in keys}, quiet=False)\n",
    "vw_to_file(train_vw[\"sites\"], 'kaggle_data/train_w5.vw', features={x:train_vw[x] for x in keys}, quiet=False)\n",
    "vw_to_file(test_vw[\"sites\"], 'kaggle_data/test_w5.vw', features={x:test_vw[x] for x in keys}, quiet=False)\n"
   ]
  },
  {
   "cell_type": "code",
   "execution_count": 47,
   "metadata": {
    "collapsed": true
   },
   "outputs": [],
   "source": [
    "with open(\"kaggle_data/train_part_w5.vw\") as f:\n",
    "    train_part_file = f.readlines()\n",
    "\n",
    "with open(\"kaggle_data/train_w5.vw\") as f:\n",
    "    train_file = f.readlines()\n",
    "\n",
    "with open(\"kaggle_data/valid_w5.vw\") as f:\n",
    "    valid_file = f.readlines()\n",
    "\n",
    "with open(\"kaggle_data/test_w5.vw\") as f:\n",
    "    test_file = f.readlines()"
   ]
  },
  {
   "cell_type": "code",
   "execution_count": 48,
   "metadata": {
    "collapsed": true
   },
   "outputs": [],
   "source": [
    "skf = StratifiedKFold(n_splits=3, shuffle=True)"
   ]
  },
  {
   "cell_type": "code",
   "execution_count": 46,
   "metadata": {
    "collapsed": false,
    "scrolled": true
   },
   "outputs": [
    {
     "name": "stderr",
     "output_type": "stream",
     "text": [
      "Process PoolWorker-132:\n",
      "Process PoolWorker-134:\n",
      "Process PoolWorker-135:\n",
      "Traceback (most recent call last):\n",
      "Traceback (most recent call last):\n",
      "Process PoolWorker-136:\n",
      "  File \"/home/dlihhats/anaconda2/lib/python2.7/multiprocessing/process.py\", line 258, in _bootstrap\n",
      "  File \"/home/dlihhats/anaconda2/lib/python2.7/multiprocessing/process.py\", line 258, in _bootstrap\n",
      "Traceback (most recent call last):\n",
      "Traceback (most recent call last):\n",
      "  File \"/home/dlihhats/anaconda2/lib/python2.7/multiprocessing/process.py\", line 258, in _bootstrap\n",
      "  File \"/home/dlihhats/anaconda2/lib/python2.7/multiprocessing/process.py\", line 258, in _bootstrap\n",
      "    self.run()\n",
      "    self.run()\n",
      "    self.run()\n",
      "  File \"/home/dlihhats/anaconda2/lib/python2.7/multiprocessing/process.py\", line 114, in run\n",
      "    self._target(*self._args, **self._kwargs)\n",
      "  File \"/home/dlihhats/anaconda2/lib/python2.7/multiprocessing/pool.py\", line 102, in worker\n",
      "Process PoolWorker-133:\n",
      "    task = get()\n",
      "    self.run()\n",
      "  File \"/home/dlihhats/anaconda2/lib/python2.7/site-packages/sklearn/externals/joblib/pool.py\", line 360, in get\n",
      "Traceback (most recent call last):\n",
      "  File \"/home/dlihhats/anaconda2/lib/python2.7/multiprocessing/process.py\", line 114, in run\n",
      "  File \"/home/dlihhats/anaconda2/lib/python2.7/multiprocessing/process.py\", line 114, in run\n",
      "  File \"/home/dlihhats/anaconda2/lib/python2.7/multiprocessing/process.py\", line 258, in _bootstrap\n",
      "  File \"/home/dlihhats/anaconda2/lib/python2.7/multiprocessing/process.py\", line 114, in run\n",
      "    racquire()\n",
      "    self._target(*self._args, **self._kwargs)\n",
      "    self._target(*self._args, **self._kwargs)\n",
      "    self._target(*self._args, **self._kwargs)\n",
      "  File \"/home/dlihhats/anaconda2/lib/python2.7/multiprocessing/pool.py\", line 102, in worker\n",
      "KeyboardInterrupt\n",
      "  File \"/home/dlihhats/anaconda2/lib/python2.7/multiprocessing/pool.py\", line 102, in worker\n",
      "    self.run()\n",
      "  File \"/home/dlihhats/anaconda2/lib/python2.7/multiprocessing/pool.py\", line 102, in worker\n",
      "    task = get()\n",
      "  File \"/home/dlihhats/anaconda2/lib/python2.7/multiprocessing/process.py\", line 114, in run\n",
      "    task = get()\n",
      "    task = get()\n",
      "  File \"/home/dlihhats/anaconda2/lib/python2.7/site-packages/sklearn/externals/joblib/pool.py\", line 360, in get\n",
      "    self._target(*self._args, **self._kwargs)\n",
      "  File \"/home/dlihhats/anaconda2/lib/python2.7/site-packages/sklearn/externals/joblib/pool.py\", line 360, in get\n",
      "  File \"/home/dlihhats/anaconda2/lib/python2.7/site-packages/sklearn/externals/joblib/pool.py\", line 362, in get\n",
      "  File \"/home/dlihhats/anaconda2/lib/python2.7/multiprocessing/pool.py\", line 102, in worker\n",
      "    racquire()\n",
      "    racquire()\n",
      "    task = get()\n",
      "KeyboardInterrupt\n",
      "KeyboardInterrupt\n",
      "    return recv()\n",
      "  File \"/home/dlihhats/anaconda2/lib/python2.7/site-packages/sklearn/externals/joblib/pool.py\", line 360, in get\n",
      "KeyboardInterrupt\n",
      "    racquire()\n",
      "KeyboardInterrupt\n"
     ]
    },
    {
     "ename": "KeyboardInterrupt",
     "evalue": "",
     "output_type": "error",
     "traceback": [
      "\u001b[1;31m---------------------------------------------------------------------------\u001b[0m",
      "\u001b[1;31mKeyboardInterrupt\u001b[0m                         Traceback (most recent call last)",
      "\u001b[1;32m<ipython-input-46-52257d12852d>\u001b[0m in \u001b[0;36m<module>\u001b[1;34m()\u001b[0m\n\u001b[1;32m----> 1\u001b[1;33m \u001b[0mget_ipython\u001b[0m\u001b[1;33m(\u001b[0m\u001b[1;33m)\u001b[0m\u001b[1;33m.\u001b[0m\u001b[0mrun_cell_magic\u001b[0m\u001b[1;33m(\u001b[0m\u001b[1;34mu'time'\u001b[0m\u001b[1;33m,\u001b[0m \u001b[1;34mu''\u001b[0m\u001b[1;33m,\u001b[0m \u001b[1;34mu'model = VW(oaa=550, passes=30, b=26, convert_to_vw=False, decay_learning_rate=0.8097261737051064, \\\\\\n           initial_t=4.617634843743026e-05, l=0.9037695975303308, power_t=0.5, l2=3.022731250666471e-11, \\\\\\n           loss_function=\\'logistic\\', l1=1.2144958188964683e-11, cubic=\"bcd\", sort_features=True, q=\"bs cs\")\\n\\nc_scores = cross_val_score(model, X=train_part_file, y=y_train, cv=skf, scoring=make_scorer(accuracy_score), n_jobs=-1)\\nprint c_scores, np.mean(c_scores)'\u001b[0m\u001b[1;33m)\u001b[0m\u001b[1;33m\u001b[0m\u001b[0m\n\u001b[0m",
      "\u001b[1;32m/home/dlihhats/anaconda2/lib/python2.7/site-packages/IPython/core/interactiveshell.pyc\u001b[0m in \u001b[0;36mrun_cell_magic\u001b[1;34m(self, magic_name, line, cell)\u001b[0m\n\u001b[0;32m   2118\u001b[0m             \u001b[0mmagic_arg_s\u001b[0m \u001b[1;33m=\u001b[0m \u001b[0mself\u001b[0m\u001b[1;33m.\u001b[0m\u001b[0mvar_expand\u001b[0m\u001b[1;33m(\u001b[0m\u001b[0mline\u001b[0m\u001b[1;33m,\u001b[0m \u001b[0mstack_depth\u001b[0m\u001b[1;33m)\u001b[0m\u001b[1;33m\u001b[0m\u001b[0m\n\u001b[0;32m   2119\u001b[0m             \u001b[1;32mwith\u001b[0m \u001b[0mself\u001b[0m\u001b[1;33m.\u001b[0m\u001b[0mbuiltin_trap\u001b[0m\u001b[1;33m:\u001b[0m\u001b[1;33m\u001b[0m\u001b[0m\n\u001b[1;32m-> 2120\u001b[1;33m                 \u001b[0mresult\u001b[0m \u001b[1;33m=\u001b[0m \u001b[0mfn\u001b[0m\u001b[1;33m(\u001b[0m\u001b[0mmagic_arg_s\u001b[0m\u001b[1;33m,\u001b[0m \u001b[0mcell\u001b[0m\u001b[1;33m)\u001b[0m\u001b[1;33m\u001b[0m\u001b[0m\n\u001b[0m\u001b[0;32m   2121\u001b[0m             \u001b[1;32mreturn\u001b[0m \u001b[0mresult\u001b[0m\u001b[1;33m\u001b[0m\u001b[0m\n\u001b[0;32m   2122\u001b[0m \u001b[1;33m\u001b[0m\u001b[0m\n",
      "\u001b[1;32m<decorator-gen-60>\u001b[0m in \u001b[0;36mtime\u001b[1;34m(self, line, cell, local_ns)\u001b[0m\n",
      "\u001b[1;32m/home/dlihhats/anaconda2/lib/python2.7/site-packages/IPython/core/magic.pyc\u001b[0m in \u001b[0;36m<lambda>\u001b[1;34m(f, *a, **k)\u001b[0m\n\u001b[0;32m    191\u001b[0m     \u001b[1;31m# but it's overkill for just that one bit of state.\u001b[0m\u001b[1;33m\u001b[0m\u001b[1;33m\u001b[0m\u001b[0m\n\u001b[0;32m    192\u001b[0m     \u001b[1;32mdef\u001b[0m \u001b[0mmagic_deco\u001b[0m\u001b[1;33m(\u001b[0m\u001b[0marg\u001b[0m\u001b[1;33m)\u001b[0m\u001b[1;33m:\u001b[0m\u001b[1;33m\u001b[0m\u001b[0m\n\u001b[1;32m--> 193\u001b[1;33m         \u001b[0mcall\u001b[0m \u001b[1;33m=\u001b[0m \u001b[1;32mlambda\u001b[0m \u001b[0mf\u001b[0m\u001b[1;33m,\u001b[0m \u001b[1;33m*\u001b[0m\u001b[0ma\u001b[0m\u001b[1;33m,\u001b[0m \u001b[1;33m**\u001b[0m\u001b[0mk\u001b[0m\u001b[1;33m:\u001b[0m \u001b[0mf\u001b[0m\u001b[1;33m(\u001b[0m\u001b[1;33m*\u001b[0m\u001b[0ma\u001b[0m\u001b[1;33m,\u001b[0m \u001b[1;33m**\u001b[0m\u001b[0mk\u001b[0m\u001b[1;33m)\u001b[0m\u001b[1;33m\u001b[0m\u001b[0m\n\u001b[0m\u001b[0;32m    194\u001b[0m \u001b[1;33m\u001b[0m\u001b[0m\n\u001b[0;32m    195\u001b[0m         \u001b[1;32mif\u001b[0m \u001b[0mcallable\u001b[0m\u001b[1;33m(\u001b[0m\u001b[0marg\u001b[0m\u001b[1;33m)\u001b[0m\u001b[1;33m:\u001b[0m\u001b[1;33m\u001b[0m\u001b[0m\n",
      "\u001b[1;32m/home/dlihhats/anaconda2/lib/python2.7/site-packages/IPython/core/magics/execution.pyc\u001b[0m in \u001b[0;36mtime\u001b[1;34m(self, line, cell, local_ns)\u001b[0m\n\u001b[0;32m   1175\u001b[0m         \u001b[1;32melse\u001b[0m\u001b[1;33m:\u001b[0m\u001b[1;33m\u001b[0m\u001b[0m\n\u001b[0;32m   1176\u001b[0m             \u001b[0mst\u001b[0m \u001b[1;33m=\u001b[0m \u001b[0mclock2\u001b[0m\u001b[1;33m(\u001b[0m\u001b[1;33m)\u001b[0m\u001b[1;33m\u001b[0m\u001b[0m\n\u001b[1;32m-> 1177\u001b[1;33m             \u001b[1;32mexec\u001b[0m\u001b[1;33m(\u001b[0m\u001b[0mcode\u001b[0m\u001b[1;33m,\u001b[0m \u001b[0mglob\u001b[0m\u001b[1;33m,\u001b[0m \u001b[0mlocal_ns\u001b[0m\u001b[1;33m)\u001b[0m\u001b[1;33m\u001b[0m\u001b[0m\n\u001b[0m\u001b[0;32m   1178\u001b[0m             \u001b[0mend\u001b[0m \u001b[1;33m=\u001b[0m \u001b[0mclock2\u001b[0m\u001b[1;33m(\u001b[0m\u001b[1;33m)\u001b[0m\u001b[1;33m\u001b[0m\u001b[0m\n\u001b[0;32m   1179\u001b[0m             \u001b[0mout\u001b[0m \u001b[1;33m=\u001b[0m \u001b[0mNone\u001b[0m\u001b[1;33m\u001b[0m\u001b[0m\n",
      "\u001b[1;32m<timed exec>\u001b[0m in \u001b[0;36m<module>\u001b[1;34m()\u001b[0m\n",
      "\u001b[1;32m/home/dlihhats/anaconda2/lib/python2.7/site-packages/sklearn/model_selection/_validation.pyc\u001b[0m in \u001b[0;36mcross_val_score\u001b[1;34m(estimator, X, y, groups, scoring, cv, n_jobs, verbose, fit_params, pre_dispatch)\u001b[0m\n\u001b[0;32m    138\u001b[0m                                               \u001b[0mtrain\u001b[0m\u001b[1;33m,\u001b[0m \u001b[0mtest\u001b[0m\u001b[1;33m,\u001b[0m \u001b[0mverbose\u001b[0m\u001b[1;33m,\u001b[0m \u001b[0mNone\u001b[0m\u001b[1;33m,\u001b[0m\u001b[1;33m\u001b[0m\u001b[0m\n\u001b[0;32m    139\u001b[0m                                               fit_params)\n\u001b[1;32m--> 140\u001b[1;33m                       for train, test in cv_iter)\n\u001b[0m\u001b[0;32m    141\u001b[0m     \u001b[1;32mreturn\u001b[0m \u001b[0mnp\u001b[0m\u001b[1;33m.\u001b[0m\u001b[0marray\u001b[0m\u001b[1;33m(\u001b[0m\u001b[0mscores\u001b[0m\u001b[1;33m)\u001b[0m\u001b[1;33m[\u001b[0m\u001b[1;33m:\u001b[0m\u001b[1;33m,\u001b[0m \u001b[1;36m0\u001b[0m\u001b[1;33m]\u001b[0m\u001b[1;33m\u001b[0m\u001b[0m\n\u001b[0;32m    142\u001b[0m \u001b[1;33m\u001b[0m\u001b[0m\n",
      "\u001b[1;32m/home/dlihhats/anaconda2/lib/python2.7/site-packages/sklearn/externals/joblib/parallel.pyc\u001b[0m in \u001b[0;36m__call__\u001b[1;34m(self, iterable)\u001b[0m\n\u001b[0;32m    766\u001b[0m                 \u001b[1;31m# consumption.\u001b[0m\u001b[1;33m\u001b[0m\u001b[1;33m\u001b[0m\u001b[0m\n\u001b[0;32m    767\u001b[0m                 \u001b[0mself\u001b[0m\u001b[1;33m.\u001b[0m\u001b[0m_iterating\u001b[0m \u001b[1;33m=\u001b[0m \u001b[0mFalse\u001b[0m\u001b[1;33m\u001b[0m\u001b[0m\n\u001b[1;32m--> 768\u001b[1;33m             \u001b[0mself\u001b[0m\u001b[1;33m.\u001b[0m\u001b[0mretrieve\u001b[0m\u001b[1;33m(\u001b[0m\u001b[1;33m)\u001b[0m\u001b[1;33m\u001b[0m\u001b[0m\n\u001b[0m\u001b[0;32m    769\u001b[0m             \u001b[1;31m# Make sure that we get a last message telling us we are done\u001b[0m\u001b[1;33m\u001b[0m\u001b[1;33m\u001b[0m\u001b[0m\n\u001b[0;32m    770\u001b[0m             \u001b[0melapsed_time\u001b[0m \u001b[1;33m=\u001b[0m \u001b[0mtime\u001b[0m\u001b[1;33m.\u001b[0m\u001b[0mtime\u001b[0m\u001b[1;33m(\u001b[0m\u001b[1;33m)\u001b[0m \u001b[1;33m-\u001b[0m \u001b[0mself\u001b[0m\u001b[1;33m.\u001b[0m\u001b[0m_start_time\u001b[0m\u001b[1;33m\u001b[0m\u001b[0m\n",
      "\u001b[1;32m/home/dlihhats/anaconda2/lib/python2.7/site-packages/sklearn/externals/joblib/parallel.pyc\u001b[0m in \u001b[0;36mretrieve\u001b[1;34m(self)\u001b[0m\n\u001b[0;32m    716\u001b[0m                     \u001b[1;31m# scheduling.\u001b[0m\u001b[1;33m\u001b[0m\u001b[1;33m\u001b[0m\u001b[0m\n\u001b[0;32m    717\u001b[0m                     \u001b[0mensure_ready\u001b[0m \u001b[1;33m=\u001b[0m \u001b[0mself\u001b[0m\u001b[1;33m.\u001b[0m\u001b[0m_managed_backend\u001b[0m\u001b[1;33m\u001b[0m\u001b[0m\n\u001b[1;32m--> 718\u001b[1;33m                     \u001b[0mbackend\u001b[0m\u001b[1;33m.\u001b[0m\u001b[0mabort_everything\u001b[0m\u001b[1;33m(\u001b[0m\u001b[0mensure_ready\u001b[0m\u001b[1;33m=\u001b[0m\u001b[0mensure_ready\u001b[0m\u001b[1;33m)\u001b[0m\u001b[1;33m\u001b[0m\u001b[0m\n\u001b[0m\u001b[0;32m    719\u001b[0m                 \u001b[1;32mraise\u001b[0m \u001b[0mexception\u001b[0m\u001b[1;33m\u001b[0m\u001b[0m\n\u001b[0;32m    720\u001b[0m \u001b[1;33m\u001b[0m\u001b[0m\n",
      "\u001b[1;32m/home/dlihhats/anaconda2/lib/python2.7/site-packages/sklearn/externals/joblib/_parallel_backends.pyc\u001b[0m in \u001b[0;36mabort_everything\u001b[1;34m(self, ensure_ready)\u001b[0m\n\u001b[0;32m    141\u001b[0m     \u001b[1;32mdef\u001b[0m \u001b[0mabort_everything\u001b[0m\u001b[1;33m(\u001b[0m\u001b[0mself\u001b[0m\u001b[1;33m,\u001b[0m \u001b[0mensure_ready\u001b[0m\u001b[1;33m=\u001b[0m\u001b[0mTrue\u001b[0m\u001b[1;33m)\u001b[0m\u001b[1;33m:\u001b[0m\u001b[1;33m\u001b[0m\u001b[0m\n\u001b[0;32m    142\u001b[0m         \u001b[1;34m\"\"\"Shutdown the pool and restart a new one with the same parameters\"\"\"\u001b[0m\u001b[1;33m\u001b[0m\u001b[0m\n\u001b[1;32m--> 143\u001b[1;33m         \u001b[0mself\u001b[0m\u001b[1;33m.\u001b[0m\u001b[0mterminate\u001b[0m\u001b[1;33m(\u001b[0m\u001b[1;33m)\u001b[0m\u001b[1;33m\u001b[0m\u001b[0m\n\u001b[0m\u001b[0;32m    144\u001b[0m         \u001b[1;32mif\u001b[0m \u001b[0mensure_ready\u001b[0m\u001b[1;33m:\u001b[0m\u001b[1;33m\u001b[0m\u001b[0m\n\u001b[0;32m    145\u001b[0m             self.configure(n_jobs=self.parallel.n_jobs, parallel=self.parallel,\n",
      "\u001b[1;32m/home/dlihhats/anaconda2/lib/python2.7/site-packages/sklearn/externals/joblib/_parallel_backends.pyc\u001b[0m in \u001b[0;36mterminate\u001b[1;34m(self)\u001b[0m\n\u001b[0;32m    315\u001b[0m     \u001b[1;32mdef\u001b[0m \u001b[0mterminate\u001b[0m\u001b[1;33m(\u001b[0m\u001b[0mself\u001b[0m\u001b[1;33m)\u001b[0m\u001b[1;33m:\u001b[0m\u001b[1;33m\u001b[0m\u001b[0m\n\u001b[0;32m    316\u001b[0m         \u001b[1;34m\"\"\"Shutdown the process or thread pool\"\"\"\u001b[0m\u001b[1;33m\u001b[0m\u001b[0m\n\u001b[1;32m--> 317\u001b[1;33m         \u001b[0msuper\u001b[0m\u001b[1;33m(\u001b[0m\u001b[0mMultiprocessingBackend\u001b[0m\u001b[1;33m,\u001b[0m \u001b[0mself\u001b[0m\u001b[1;33m)\u001b[0m\u001b[1;33m.\u001b[0m\u001b[0mterminate\u001b[0m\u001b[1;33m(\u001b[0m\u001b[1;33m)\u001b[0m\u001b[1;33m\u001b[0m\u001b[0m\n\u001b[0m\u001b[0;32m    318\u001b[0m         \u001b[1;32mif\u001b[0m \u001b[0mself\u001b[0m\u001b[1;33m.\u001b[0m\u001b[0mJOBLIB_SPAWNED_PROCESS\u001b[0m \u001b[1;32min\u001b[0m \u001b[0mos\u001b[0m\u001b[1;33m.\u001b[0m\u001b[0menviron\u001b[0m\u001b[1;33m:\u001b[0m\u001b[1;33m\u001b[0m\u001b[0m\n\u001b[0;32m    319\u001b[0m             \u001b[1;32mdel\u001b[0m \u001b[0mos\u001b[0m\u001b[1;33m.\u001b[0m\u001b[0menviron\u001b[0m\u001b[1;33m[\u001b[0m\u001b[0mself\u001b[0m\u001b[1;33m.\u001b[0m\u001b[0mJOBLIB_SPAWNED_PROCESS\u001b[0m\u001b[1;33m]\u001b[0m\u001b[1;33m\u001b[0m\u001b[0m\n",
      "\u001b[1;32m/home/dlihhats/anaconda2/lib/python2.7/site-packages/sklearn/externals/joblib/_parallel_backends.pyc\u001b[0m in \u001b[0;36mterminate\u001b[1;34m(self)\u001b[0m\n\u001b[0;32m    132\u001b[0m         \u001b[1;32mif\u001b[0m \u001b[0mself\u001b[0m\u001b[1;33m.\u001b[0m\u001b[0m_pool\u001b[0m \u001b[1;32mis\u001b[0m \u001b[1;32mnot\u001b[0m \u001b[0mNone\u001b[0m\u001b[1;33m:\u001b[0m\u001b[1;33m\u001b[0m\u001b[0m\n\u001b[0;32m    133\u001b[0m             \u001b[0mself\u001b[0m\u001b[1;33m.\u001b[0m\u001b[0m_pool\u001b[0m\u001b[1;33m.\u001b[0m\u001b[0mclose\u001b[0m\u001b[1;33m(\u001b[0m\u001b[1;33m)\u001b[0m\u001b[1;33m\u001b[0m\u001b[0m\n\u001b[1;32m--> 134\u001b[1;33m             \u001b[0mself\u001b[0m\u001b[1;33m.\u001b[0m\u001b[0m_pool\u001b[0m\u001b[1;33m.\u001b[0m\u001b[0mterminate\u001b[0m\u001b[1;33m(\u001b[0m\u001b[1;33m)\u001b[0m  \u001b[1;31m# terminate does a join()\u001b[0m\u001b[1;33m\u001b[0m\u001b[0m\n\u001b[0m\u001b[0;32m    135\u001b[0m             \u001b[0mself\u001b[0m\u001b[1;33m.\u001b[0m\u001b[0m_pool\u001b[0m \u001b[1;33m=\u001b[0m \u001b[0mNone\u001b[0m\u001b[1;33m\u001b[0m\u001b[0m\n\u001b[0;32m    136\u001b[0m \u001b[1;33m\u001b[0m\u001b[0m\n",
      "\u001b[1;32m/home/dlihhats/anaconda2/lib/python2.7/site-packages/sklearn/externals/joblib/pool.pyc\u001b[0m in \u001b[0;36mterminate\u001b[1;34m(self)\u001b[0m\n\u001b[0;32m    604\u001b[0m         \u001b[1;32mfor\u001b[0m \u001b[0mi\u001b[0m \u001b[1;32min\u001b[0m \u001b[0mrange\u001b[0m\u001b[1;33m(\u001b[0m\u001b[0mn_retries\u001b[0m\u001b[1;33m)\u001b[0m\u001b[1;33m:\u001b[0m\u001b[1;33m\u001b[0m\u001b[0m\n\u001b[0;32m    605\u001b[0m             \u001b[1;32mtry\u001b[0m\u001b[1;33m:\u001b[0m\u001b[1;33m\u001b[0m\u001b[0m\n\u001b[1;32m--> 606\u001b[1;33m                 \u001b[0msuper\u001b[0m\u001b[1;33m(\u001b[0m\u001b[0mMemmapingPool\u001b[0m\u001b[1;33m,\u001b[0m \u001b[0mself\u001b[0m\u001b[1;33m)\u001b[0m\u001b[1;33m.\u001b[0m\u001b[0mterminate\u001b[0m\u001b[1;33m(\u001b[0m\u001b[1;33m)\u001b[0m\u001b[1;33m\u001b[0m\u001b[0m\n\u001b[0m\u001b[0;32m    607\u001b[0m                 \u001b[1;32mbreak\u001b[0m\u001b[1;33m\u001b[0m\u001b[0m\n\u001b[0;32m    608\u001b[0m             \u001b[1;32mexcept\u001b[0m \u001b[0mWindowsError\u001b[0m \u001b[1;32mas\u001b[0m \u001b[0me\u001b[0m\u001b[1;33m:\u001b[0m\u001b[1;33m\u001b[0m\u001b[0m\n",
      "\u001b[1;32m/home/dlihhats/anaconda2/lib/python2.7/multiprocessing/pool.pyc\u001b[0m in \u001b[0;36mterminate\u001b[1;34m(self)\u001b[0m\n\u001b[0;32m    463\u001b[0m         \u001b[0mself\u001b[0m\u001b[1;33m.\u001b[0m\u001b[0m_state\u001b[0m \u001b[1;33m=\u001b[0m \u001b[0mTERMINATE\u001b[0m\u001b[1;33m\u001b[0m\u001b[0m\n\u001b[0;32m    464\u001b[0m         \u001b[0mself\u001b[0m\u001b[1;33m.\u001b[0m\u001b[0m_worker_handler\u001b[0m\u001b[1;33m.\u001b[0m\u001b[0m_state\u001b[0m \u001b[1;33m=\u001b[0m \u001b[0mTERMINATE\u001b[0m\u001b[1;33m\u001b[0m\u001b[0m\n\u001b[1;32m--> 465\u001b[1;33m         \u001b[0mself\u001b[0m\u001b[1;33m.\u001b[0m\u001b[0m_terminate\u001b[0m\u001b[1;33m(\u001b[0m\u001b[1;33m)\u001b[0m\u001b[1;33m\u001b[0m\u001b[0m\n\u001b[0m\u001b[0;32m    466\u001b[0m \u001b[1;33m\u001b[0m\u001b[0m\n\u001b[0;32m    467\u001b[0m     \u001b[1;32mdef\u001b[0m \u001b[0mjoin\u001b[0m\u001b[1;33m(\u001b[0m\u001b[0mself\u001b[0m\u001b[1;33m)\u001b[0m\u001b[1;33m:\u001b[0m\u001b[1;33m\u001b[0m\u001b[0m\n",
      "\u001b[1;32m/home/dlihhats/anaconda2/lib/python2.7/multiprocessing/util.pyc\u001b[0m in \u001b[0;36m__call__\u001b[1;34m(self, wr)\u001b[0m\n\u001b[0;32m    205\u001b[0m                 sub_debug('finalizer calling %s with args %s and kwargs %s',\n\u001b[0;32m    206\u001b[0m                           self._callback, self._args, self._kwargs)\n\u001b[1;32m--> 207\u001b[1;33m                 \u001b[0mres\u001b[0m \u001b[1;33m=\u001b[0m \u001b[0mself\u001b[0m\u001b[1;33m.\u001b[0m\u001b[0m_callback\u001b[0m\u001b[1;33m(\u001b[0m\u001b[1;33m*\u001b[0m\u001b[0mself\u001b[0m\u001b[1;33m.\u001b[0m\u001b[0m_args\u001b[0m\u001b[1;33m,\u001b[0m \u001b[1;33m**\u001b[0m\u001b[0mself\u001b[0m\u001b[1;33m.\u001b[0m\u001b[0m_kwargs\u001b[0m\u001b[1;33m)\u001b[0m\u001b[1;33m\u001b[0m\u001b[0m\n\u001b[0m\u001b[0;32m    208\u001b[0m             \u001b[0mself\u001b[0m\u001b[1;33m.\u001b[0m\u001b[0m_weakref\u001b[0m \u001b[1;33m=\u001b[0m \u001b[0mself\u001b[0m\u001b[1;33m.\u001b[0m\u001b[0m_callback\u001b[0m \u001b[1;33m=\u001b[0m \u001b[0mself\u001b[0m\u001b[1;33m.\u001b[0m\u001b[0m_args\u001b[0m \u001b[1;33m=\u001b[0m\u001b[0;31m \u001b[0m\u001b[0;31m\\\u001b[0m\u001b[1;33m\u001b[0m\u001b[0m\n\u001b[0;32m    209\u001b[0m                             \u001b[0mself\u001b[0m\u001b[1;33m.\u001b[0m\u001b[0m_kwargs\u001b[0m \u001b[1;33m=\u001b[0m \u001b[0mself\u001b[0m\u001b[1;33m.\u001b[0m\u001b[0m_key\u001b[0m \u001b[1;33m=\u001b[0m \u001b[0mNone\u001b[0m\u001b[1;33m\u001b[0m\u001b[0m\n",
      "\u001b[1;32m/home/dlihhats/anaconda2/lib/python2.7/multiprocessing/pool.pyc\u001b[0m in \u001b[0;36m_terminate_pool\u001b[1;34m(cls, taskqueue, inqueue, outqueue, pool, worker_handler, task_handler, result_handler, cache)\u001b[0m\n\u001b[0;32m    493\u001b[0m \u001b[1;33m\u001b[0m\u001b[0m\n\u001b[0;32m    494\u001b[0m         \u001b[0mdebug\u001b[0m\u001b[1;33m(\u001b[0m\u001b[1;34m'helping task handler/workers to finish'\u001b[0m\u001b[1;33m)\u001b[0m\u001b[1;33m\u001b[0m\u001b[0m\n\u001b[1;32m--> 495\u001b[1;33m         \u001b[0mcls\u001b[0m\u001b[1;33m.\u001b[0m\u001b[0m_help_stuff_finish\u001b[0m\u001b[1;33m(\u001b[0m\u001b[0minqueue\u001b[0m\u001b[1;33m,\u001b[0m \u001b[0mtask_handler\u001b[0m\u001b[1;33m,\u001b[0m \u001b[0mlen\u001b[0m\u001b[1;33m(\u001b[0m\u001b[0mpool\u001b[0m\u001b[1;33m)\u001b[0m\u001b[1;33m)\u001b[0m\u001b[1;33m\u001b[0m\u001b[0m\n\u001b[0m\u001b[0;32m    496\u001b[0m \u001b[1;33m\u001b[0m\u001b[0m\n\u001b[0;32m    497\u001b[0m         \u001b[1;32massert\u001b[0m \u001b[0mresult_handler\u001b[0m\u001b[1;33m.\u001b[0m\u001b[0mis_alive\u001b[0m\u001b[1;33m(\u001b[0m\u001b[1;33m)\u001b[0m \u001b[1;32mor\u001b[0m \u001b[0mlen\u001b[0m\u001b[1;33m(\u001b[0m\u001b[0mcache\u001b[0m\u001b[1;33m)\u001b[0m \u001b[1;33m==\u001b[0m \u001b[1;36m0\u001b[0m\u001b[1;33m\u001b[0m\u001b[0m\n",
      "\u001b[1;32m/home/dlihhats/anaconda2/lib/python2.7/multiprocessing/pool.pyc\u001b[0m in \u001b[0;36m_help_stuff_finish\u001b[1;34m(inqueue, task_handler, size)\u001b[0m\n\u001b[0;32m    478\u001b[0m         \u001b[1;31m# task_handler may be blocked trying to put items on inqueue\u001b[0m\u001b[1;33m\u001b[0m\u001b[1;33m\u001b[0m\u001b[0m\n\u001b[0;32m    479\u001b[0m         \u001b[0mdebug\u001b[0m\u001b[1;33m(\u001b[0m\u001b[1;34m'removing tasks from inqueue until task handler finished'\u001b[0m\u001b[1;33m)\u001b[0m\u001b[1;33m\u001b[0m\u001b[0m\n\u001b[1;32m--> 480\u001b[1;33m         \u001b[0minqueue\u001b[0m\u001b[1;33m.\u001b[0m\u001b[0m_rlock\u001b[0m\u001b[1;33m.\u001b[0m\u001b[0macquire\u001b[0m\u001b[1;33m(\u001b[0m\u001b[1;33m)\u001b[0m\u001b[1;33m\u001b[0m\u001b[0m\n\u001b[0m\u001b[0;32m    481\u001b[0m         \u001b[1;32mwhile\u001b[0m \u001b[0mtask_handler\u001b[0m\u001b[1;33m.\u001b[0m\u001b[0mis_alive\u001b[0m\u001b[1;33m(\u001b[0m\u001b[1;33m)\u001b[0m \u001b[1;32mand\u001b[0m \u001b[0minqueue\u001b[0m\u001b[1;33m.\u001b[0m\u001b[0m_reader\u001b[0m\u001b[1;33m.\u001b[0m\u001b[0mpoll\u001b[0m\u001b[1;33m(\u001b[0m\u001b[1;33m)\u001b[0m\u001b[1;33m:\u001b[0m\u001b[1;33m\u001b[0m\u001b[0m\n\u001b[0;32m    482\u001b[0m             \u001b[0minqueue\u001b[0m\u001b[1;33m.\u001b[0m\u001b[0m_reader\u001b[0m\u001b[1;33m.\u001b[0m\u001b[0mrecv\u001b[0m\u001b[1;33m(\u001b[0m\u001b[1;33m)\u001b[0m\u001b[1;33m\u001b[0m\u001b[0m\n",
      "\u001b[1;31mKeyboardInterrupt\u001b[0m: "
     ]
    }
   ],
   "source": [
    "%%time\n",
    "model = VW(oaa=550, passes=30, b=26, convert_to_vw=False, decay_learning_rate=0.8097261737051064, \\\n",
    "           initial_t=4.617634843743026e-05, l=0.9037695975303308, power_t=0.5, l2=3.022731250666471e-11, \\\n",
    "           loss_function='logistic', l1=1.2144958188964683e-11, cubic=\"bcd\", sort_features=True, q=\"bs cs\")\n",
    "\n",
    "c_scores = cross_val_score(model, X=train_part_file, y=y_train, cv=skf, scoring=make_scorer(accuracy_score), n_jobs=-1)\n",
    "print c_scores, np.mean(c_scores)"
   ]
  },
  {
   "cell_type": "code",
   "execution_count": 146,
   "metadata": {
    "collapsed": false
   },
   "outputs": [
    {
     "name": "stdout",
     "output_type": "stream",
     "text": [
      "0.533912364595\n",
      "CPU times: user 12min 30s, sys: 1.66 s, total: 12min 32s\n",
      "Wall time: 12min 21s\n"
     ]
    }
   ],
   "source": [
    "%%time\n",
    "#model = VW(oaa=550, passes=10, b=26, convert_to_vw=False, loss_function='squared', random_seed=7)\n",
    "model.fit(train_part_file)\n",
    "print accuracy_score(y_valid, model.predict(valid_file))"
   ]
  },
  {
   "cell_type": "code",
   "execution_count": 546,
   "metadata": {
    "collapsed": false
   },
   "outputs": [
    {
     "name": "stdout",
     "output_type": "stream",
     "text": [
      "CPU times: user 7min 23s, sys: 1.23 s, total: 7min 25s\n",
      "Wall time: 7min 19s\n"
     ]
    }
   ],
   "source": [
    "%%time\n",
    "model.fit(train_file)\n",
    "test = model.predict(test_file)\n",
    "submission = pd.DataFrame(test.astype(int)-1)\n",
    "vw_subm = class_encoder.inverse_transform(submission)\n",
    "vw_subm"
   ]
  },
  {
   "cell_type": "code",
   "execution_count": 547,
   "metadata": {
    "collapsed": false
   },
   "outputs": [
    {
     "name": "stdout",
     "output_type": "stream",
     "text": [
      "0.66049382716\n"
     ]
    }
   ],
   "source": [
    "print accuracy_score(y_valid, model.predict(valid_file))"
   ]
  },
  {
   "cell_type": "code",
   "execution_count": 548,
   "metadata": {
    "collapsed": true
   },
   "outputs": [],
   "source": [
    "write_to_submission_file(vw_subm,\n",
    "                         'kaggle_data/10vw_submission.csv')"
   ]
  },
  {
   "cell_type": "markdown",
   "metadata": {},
   "source": [
    "### Hyperopt"
   ]
  },
  {
   "cell_type": "code",
   "execution_count": null,
   "metadata": {
    "collapsed": true
   },
   "outputs": [],
   "source": [
    "def run_vw(y_valid, params):\n",
    "    !vw --oaa=550 -d kaggle_data/train_part_w5.vw --passes=100 \\\n",
    "    -f kaggle_data/initial_model_w5.vw -b 26 --random_seed=7 -c -k \\\n",
    "    --decay_learning_rate 0.8097261737051064 \\\n",
    "    --initial_t 4.617634843743026e-05 -l 0.9037695975303308 --power_t 0.5 --l2=3.022731250666471e-11 \\\n",
    "    --loss_function='logistic' --l1=1.2144958188964683e-11 --cubic=\"bcd\" --sort_features -q \"bs\" --stage_poly --quiet\n",
    "    \n",
    "    !vw -i kaggle_data/initial_model_w5.vw -t -d kaggle_data/valid_w5.vw \\\n",
    "    -p kaggle_data/vw_valid_pred_w5.csv --random_seed=7 --quiet\n",
    "    \n",
    "    vw_valid_pred = pd.read_csv(\"kaggle_data/vw_valid_pred_w5.csv\", header=None)\n",
    "    accuracy = accuracy_score(y_valid, vw_valid_pred.values)\n",
    "    \n",
    "    return accuracy"
   ]
  },
  {
   "cell_type": "code",
   "execution_count": null,
   "metadata": {
    "collapsed": true
   },
   "outputs": [],
   "source": [
    "%%time\n",
    "y = y_train\n",
    "y_v = y_valid\n",
    "def hyperopt_train_test(params):\n",
    "    \n",
    "    with open(\"kaggle_data/train_part_w5.vw\") as f:\n",
    "        train_part_file = f.readlines()\n",
    "        \n",
    "    with open(\"kaggle_data/valid_w5.vw\") as f:\n",
    "        valid_file = f.readlines()\n",
    "    \n",
    "    skf = StratifiedKFold(n_splits=2, shuffle=True)\n",
    "\n",
    "    t = params['type']\n",
    "    del params['type']\n",
    "    if t == 'polynomial_regression':\n",
    "        model = VW(oaa=550, passes=10, b=26, convert_to_vw=False, sort_features=True, **params)\n",
    "        return cross_val_score(model, X=train_part_file, y=y_train, cv=skf, scoring=make_scorer(accuracy_score), n_jobs=-1).mean()\n",
    "    elif t == 'stage_poly':\n",
    "        clf = SVC(**params)\n",
    "    elif t == 'dtree':\n",
    "        clf = DecisionTreeClassifier(**params)\n",
    "    elif t == 'knn':\n",
    "        clf = KNeighborsClassifier(**params)\n",
    "    else:\n",
    "        return 0\n",
    "    return cross_val_score(clf, X, y).mean()\n",
    "\n",
    "    \n",
    "\n",
    "space = hp.choice('classifier_type', [\n",
    "    {\n",
    "        'type': 'polynomial_regression',\n",
    "        'l': hp.loguniform('l', -10, 1),\n",
    "        'initial_t': hp.loguniform('initial_t', -10, 0),\n",
    "        'power_t': hp.choice('power_t', [0.5, 1]),\n",
    "        'decay_learning_rate': hp.uniform('decay_learning_rate', 0.75, 1),\n",
    "        'l2': hp.uniform('l2', 1e-20, 1e-10),\n",
    "        'l1': hp.uniform('l1', 1e-20, 1e-10),\n",
    "        'loss_function': hp.choice('loss_function', [\"squared\", \"hinge\", \"logistic\"]),\n",
    "        'cubic': hp.choice('cubic', ['bcd', 'sbc', 'sdb', 'sdb bcd']),\n",
    "        'q': hp.choice('q', ['bd', 'bc', 'bs' 'bs cs', 'ss bs cs'])\n",
    "    },\n",
    "    {\n",
    "        'type': 'bfgs',\n",
    "        \n",
    "    }\n",
    "])\n",
    "\n",
    "\n",
    "def f(params):\n",
    "    acc = hyperopt_train_test(params)\n",
    "    return {'loss': -acc, 'status': STATUS_OK}\n",
    "\n",
    "trials = Trials()\n",
    "best = fmin(f, space4knn, algo=tpe.suggest, max_evals=200, trials=trials)\n",
    "print 'best:'\n",
    "print best"
   ]
  },
  {
   "cell_type": "markdown",
   "metadata": {},
   "source": [
    "#### Single model"
   ]
  },
  {
   "cell_type": "code",
   "execution_count": null,
   "metadata": {
    "collapsed": false
   },
   "outputs": [],
   "source": [
    "%%time\n",
    "def hyperopt_train_test(params):\n",
    "    with open(\"kaggle_data/train_part_w5.vw\") as f:\n",
    "        train_part_file = f.readlines()\n",
    "    \n",
    "    model = VW(oaa=550, passes=50, b=26, convert_to_vw=False, sort_features=True, **params)\n",
    "    skf = StratifiedKFold(n_splits=3, shuffle=True)\n",
    "    return cross_val_score(model, X=train_part_file, y=y_train, cv=skf, scoring=make_scorer(accuracy_score), n_jobs=-1).mean()\n",
    "\n",
    "space4knn = {\n",
    "    'l': hp.loguniform('l', -1, 1),\n",
    "    'initial_t': hp.loguniform('initial_t', -10, -5),\n",
    "    'power_t': hp.choice('power_t', [0.5, 1]),\n",
    "    'decay_learning_rate': hp.uniform('decay_learning_rate', 0.75, 1),\n",
    "    'l2': hp.uniform('l2', 1e-20, 1e-10),\n",
    "    'l1': hp.uniform('l1', 1e-20, 1e-10),\n",
    "    'loss_function': hp.choice('loss_function', [\"squared\", \"hinge\", \"logistic\"]),\n",
    "    'cubic': hp.choice('cubic', ['bcd', 'sbc', 'sdb']),\n",
    "    #'q': hp.choice('q1', [\"bd\", \"bc\", \"bs\", \"bs cs\", \"ss bs\", \"sd bc\"])\n",
    "    'q': hp.choice('q2', [\"bd\", \"bc\", \"bs\", \"cs\", \"ss\", \"sd\"])\n",
    "}\n",
    "\n",
    "def f(params):\n",
    "    acc = hyperopt_train_test(params)\n",
    "    return {'loss': -acc, 'status': STATUS_OK}\n",
    "\n",
    "trials = Trials()\n",
    "best = fmin(f, space4knn, algo=tpe.suggest, max_evals=200, trials=trials)\n",
    "print 'best:'\n",
    "print best"
   ]
  },
  {
   "cell_type": "code",
   "execution_count": 448,
   "metadata": {
    "collapsed": false
   },
   "outputs": [
    {
     "data": {
      "image/png": "[encoded data removed]",
      "text/plain": [
       "<matplotlib.figure.Figure at 0x7f23f6b82c90>"
      ]
     },
     "metadata": {},
     "output_type": "display_data"
    }
   ],
   "source": [
    "parameters = ['l', 'initial_t', 'power_t', 'decay_learning_rate', 'l2', 'l1', 'loss_function']\n",
    "cols = len(parameters)\n",
    "f, axes = plt.subplots(nrows=3, ncols=3, figsize=(15,10))\n",
    "cmap = plt.cm.jet\n",
    "for i, val in enumerate(parameters):\n",
    "    #print i, val\n",
    "    xs = np.array([t['misc']['vals'][val] for t in trials.trials]).ravel()\n",
    "    ys = [-t['result']['loss'] for t in trials.trials]\n",
    "    xs, ys = zip(*sorted(zip(xs, ys)))\n",
    "    ys = np.array(ys)\n",
    "    axes[i/3,i%3].scatter(xs, ys, s=20, linewidth=0.01, alpha=0.5, c=cmap(float(i)/len(parameters)))\n",
    "    axes[i/3,i%3].set_title(val)\n",
    "    #axes[i/3,i%3].set_ylim([0.9,1.0])"
   ]
  },
  {
   "cell_type": "markdown",
   "metadata": {},
   "source": [
    "**shell VW**"
   ]
  },
  {
   "cell_type": "code",
   "execution_count": 151,
   "metadata": {
    "collapsed": false,
    "scrolled": true
   },
   "outputs": [
    {
     "name": "stdout",
     "output_type": "stream",
     "text": [
      "CPU times: user 0 ns, sys: 0 ns, total: 0 ns\n",
      "Wall time: 5.96 µs\n"
     ]
    }
   ],
   "source": [
    "%%time\n",
    "\n",
    "def run_poly(y_valid):\n",
    "    !vw --oaa=550 -d kaggle_data/train_part_w5.vw --passes=100 \\\n",
    "    -f kaggle_data/initial_model_w5.vw -b 26 --random_seed=7 --cache_file kaggle_data/w5_cache.vw -k \\\n",
    "    --decay_learning_rate 0.8097261737051064 \\\n",
    "    --initial_t 4.617634843743026e-05 -l 0.9037695975303308 --power_t 0.5 --l2=3.022731250666471e-11 \\\n",
    "    --loss_function='logistic' --l1=1.2144958188964683e-11 --cubic=\"bcd\" --sort_features -q \"bs\" --stage_poly --quiet\n",
    "    \n",
    "    !vw -i kaggle_data/initial_model_w5.vw -t -d kaggle_data/valid_w5.vw \\\n",
    "    -p kaggle_data/vw_valid_pred_w5.csv --random_seed=7 --quiet\n",
    "    \n",
    "    vw_valid_pred = pd.read_csv(\"kaggle_data/vw_valid_pred_w5.csv\", header=None)\n",
    "    accuracy = accuracy_score(y_valid, vw_valid_pred.values)\n",
    "    \n",
    "    return accuracy"
   ]
  },
  {
   "cell_type": "code",
   "execution_count": 152,
   "metadata": {
    "collapsed": false
   },
   "outputs": [
    {
     "name": "stdout",
     "output_type": "stream",
     "text": [
      "Warning: the learning rate for the last pass is multiplied by: 6.82053e-10 adjust --decay_learning_rate larger to avoid this.\n",
      "Accuracy on Poly: 0.494720405972\n"
     ]
    }
   ],
   "source": [
    "accuracy = run_poly(y_valid)\n",
    "print \"Accuracy on Poly:\", accuracy"
   ]
  },
  {
   "cell_type": "code",
   "execution_count": 577,
   "metadata": {
    "collapsed": false,
    "scrolled": true
   },
   "outputs": [
    {
     "name": "stdout",
     "output_type": "stream",
     "text": [
      "creating quadratic features for pairs: bs \n",
      "creating cubic features for triples: bcd \n",
      "only testing\n",
      "predictions = kaggle_data/vw_valid_pred_w5.csv\n",
      "Num weight bits = 26\n",
      "learning rate = 0.5\n",
      "initial_t = 0\n",
      "power_t = 0.5\n",
      "using no cache\n",
      "Reading datafile = kaggle_data/valid_w5.vw\n",
      "num sources = 1\n",
      "average  since         example        example  current  current  current\n",
      "loss     last          counter         weight    label  predict features\n",
      "1.000000 1.000000            1            1.0       54      145       17\n",
      "1.000000 1.000000            2            2.0       97      156       19\n",
      "1.000000 1.000000            4            4.0      442      189       15\n",
      "0.875000 0.750000            8            8.0      168      351       15\n",
      "0.687500 0.500000           16           16.0      508      214       15\n",
      "0.562500 0.437500           32           32.0      223      223       13\n",
      "0.562500 0.562500           64           64.0      131      330        9\n",
      "0.515625 0.468750          128          128.0       34       27       20\n",
      "0.503906 0.492188          256          256.0      132      132        9\n",
      "0.482422 0.460938          512          512.0      372      155       21\n",
      "0.486328 0.490234         1024         1024.0      242      370       11\n",
      "0.505859 0.525391         2048         2048.0      229      117       16\n",
      "0.492188 0.478516         4096         4096.0      335      548       16\n",
      "0.498291 0.504395         8192         8192.0      530      530        8\n",
      "0.494202 0.490112        16384        16384.0      319      316       23\n",
      "0.487946 0.481689        32768        32768.0      426      426       17\n",
      "\n",
      "finished run\n",
      "number of examples per pass = 53622\n",
      "passes used = 1\n",
      "weighted example sum = 53622.000000\n",
      "weighted label sum = 0.000000\n",
      "average loss = 0.485715\n",
      "total feature number = 785076\n",
      "CPU times: user 52 ms, sys: 64 ms, total: 116 ms\n",
      "Wall time: 2.98 s\n"
     ]
    }
   ],
   "source": [
    "%%time\n",
    "!vw -i kaggle_data/initial_model_w5.vw -t -d kaggle_data/valid_w5.vw \\\n",
    "-p kaggle_data/vw_valid_pred_w5.csv --random_seed=7"
   ]
  },
  {
   "cell_type": "code",
   "execution_count": 578,
   "metadata": {
    "collapsed": false
   },
   "outputs": [
    {
     "data": {
      "text/plain": [
       "0.51428518145537283"
      ]
     },
     "execution_count": 578,
     "metadata": {},
     "output_type": "execute_result"
    }
   ],
   "source": [
    "vw_valid_pred = pd.read_csv(\"kaggle_data/vw_valid_pred_w5.csv\", header=None)\n",
    "accuracy_score(y_valid, vw_valid_pred.values)"
   ]
  },
  {
   "cell_type": "code",
   "execution_count": 261,
   "metadata": {
    "collapsed": false
   },
   "outputs": [],
   "source": [
    "trainvw = open(\"kaggle_data/train_w5.vw\").readlines()\n",
    "np.random.shuffle(trainvw)\n",
    "with open(\"kaggle_data/train_w5.vw\", \"wb\") as f:\n",
    "    for item in trainvw:\n",
    "        f.write(\"%s\" % item)"
   ]
  },
  {
   "cell_type": "code",
   "execution_count": 262,
   "metadata": {
    "collapsed": false,
    "scrolled": true
   },
   "outputs": [
    {
     "name": "stdout",
     "output_type": "stream",
     "text": [
      "final_regressor = kaggle_data/initial_model_w5.vw\n",
      "Num weight bits = 26\n",
      "learning rate = 0.5\n",
      "initial_t = 0\n",
      "power_t = 0.5\n",
      "decay_learning_rate = 1\n",
      "creating cache_file = kaggle_data/w5_cache.vw\n",
      "Reading datafile = kaggle_data/train_w5.vw\n",
      "num sources = 1\n",
      "average  since         example        example  current  current  current\n",
      "loss     last          counter         weight    label  predict features\n",
      "1.000000 1.000000            1            1.0      444        1        9\n",
      "1.000000 1.000000            2            2.0       18      444        8\n",
      "1.000000 1.000000            4            4.0      473      444       12\n",
      "1.000000 1.000000            8            8.0      474      154        6\n",
      "1.000000 1.000000           16           16.0      115      154        7\n",
      "1.000000 1.000000           32           32.0      487      273        7\n",
      "0.984375 0.968750           64           64.0       86      186       11\n",
      "0.976562 0.968750          128          128.0      311      517       10\n",
      "0.945312 0.914062          256          256.0      312      231        9\n",
      "0.919922 0.894531          512          512.0      271       54       11\n",
      "0.904297 0.888672         1024         1024.0      227      363       13\n",
      "0.874023 0.843750         2048         2048.0       45      246       10\n",
      "0.831543 0.789062         4096         4096.0       81      337        9\n",
      "0.779785 0.728027         8192         8192.0      261      364        9\n",
      "0.728027 0.676270        16384        16384.0      218      145       11\n",
      "0.679626 0.631226        32768        32768.0      185      185       12\n",
      "0.635620 0.591614        65536        65536.0      308      477        8\n",
      "0.598846 0.562073       131072       131072.0      227      227       10\n",
      "0.579806 0.579806       262144       262144.0      458      458        8 h\n",
      "0.562279 0.544752       524288       524288.0      150      150        8 h\n",
      "0.551456 0.540632      1048576      1048576.0      390      390        9 h\n",
      "\n",
      "finished run\n",
      "number of examples per pass = 160866\n",
      "passes used = 9\n",
      "weighted example sum = 1447794.000000\n",
      "weighted label sum = 0.000000\n",
      "average loss = 0.540562 h\n",
      "total feature number = 13782816\n",
      "CPU times: user 788 ms, sys: 104 ms, total: 892 ms\n",
      "Wall time: 40.4 s\n"
     ]
    }
   ],
   "source": [
    "%%time\n",
    "!vw --oaa=550 -d kaggle_data/train_w5.vw --passes=10 \\\n",
    "-f kaggle_data/initial_model_w5.vw -b 26 --random_seed=7 --cache_file kaggle_data/w5_cache.vw -k"
   ]
  },
  {
   "cell_type": "code",
   "execution_count": 263,
   "metadata": {
    "collapsed": false
   },
   "outputs": [
    {
     "name": "stdout",
     "output_type": "stream",
     "text": [
      "CPU times: user 24 ms, sys: 36 ms, total: 60 ms\n",
      "Wall time: 1.41 s\n"
     ]
    }
   ],
   "source": [
    "%%time\n",
    "!vw -i kaggle_data/initial_model_w5.vw -t -d kaggle_data/valid_w5.vw \\\n",
    "-p kaggle_data/vw_test_pred_w5.csv --random_seed=7 --quiet"
   ]
  },
  {
   "cell_type": "code",
   "execution_count": 264,
   "metadata": {
    "collapsed": false
   },
   "outputs": [
    {
     "data": {
      "text/plain": [
       "array([['174'],\n",
       "       ['783'],\n",
       "       ['2336'],\n",
       "       ..., \n",
       "       ['1413'],\n",
       "       ['1771'],\n",
       "       ['1845']], dtype=object)"
      ]
     },
     "execution_count": 264,
     "metadata": {},
     "output_type": "execute_result"
    }
   ],
   "source": [
    "vw_pred = pd.read_csv(\"kaggle_data/vw_test_pred_w5.csv\", header=None)\n",
    "vw_subm = class_encoder.inverse_transform(vw_pred-1)\n",
    "vw_subm"
   ]
  },
  {
   "cell_type": "markdown",
   "metadata": {},
   "source": [
    "**Let's build pemutations of different features and test the model!**"
   ]
  },
  {
   "cell_type": "code",
   "execution_count": 229,
   "metadata": {
    "collapsed": false
   },
   "outputs": [
    {
     "data": {
      "text/plain": [
       "['bot30_portion',\n",
       " 'day_of_week',\n",
       " 'daytime',\n",
       " 'fb_portion',\n",
       " 'prediction',\n",
       " 'session_timespan',\n",
       " 'start_hour',\n",
       " 'top30_portion',\n",
       " 'youtube_portion']"
      ]
     },
     "execution_count": 229,
     "metadata": {},
     "output_type": "execute_result"
    }
   ],
   "source": [
    "features = ['bot30_portion',\n",
    " 'day_of_week',\n",
    " 'daytime',\n",
    " 'fb_portion',\n",
    " 'prediction',\n",
    " 'session_timespan',\n",
    " 'start_hour',\n",
    " 'top30_portion', 'youtube_portion']\n",
    "features"
   ]
  },
  {
   "cell_type": "code",
   "execution_count": 230,
   "metadata": {
    "collapsed": false,
    "scrolled": true
   },
   "outputs": [
    {
     "name": "stdout",
     "output_type": "stream",
     "text": [
      "Features: ['bot30_portion', 'day_of_week', 'daytime', 'fb_portion', 'prediction']\n",
      "CV score: 0.428249403455 Valid score: 0.43513856253 \n",
      "\n",
      "Features: ['bot30_portion', 'day_of_week', 'daytime', 'fb_portion', 'session_timespan']\n",
      "CV score: 0.402299384357 Valid score: 0.414549998135 \n",
      "\n",
      "Features: ['bot30_portion', 'day_of_week', 'daytime', 'fb_portion', 'start_hour']\n",
      "CV score: 0.432272901038 Valid score: 0.443586587595 \n",
      "\n",
      "Features: ['bot30_portion', 'day_of_week', 'daytime', 'fb_portion', 'top30_portion']\n",
      "CV score: 0.401995487292 Valid score: 0.414177016896 \n",
      "\n",
      "Features: ['bot30_portion', 'day_of_week', 'daytime', 'fb_portion', 'youtube_portion']\n",
      "CV score: 0.401379425838 Valid score: 0.41430756033 \n",
      "\n",
      "Features: ['bot30_portion', 'day_of_week', 'daytime', 'prediction', 'session_timespan']\n",
      "CV score: 0.429592100559 Valid score: 0.436425347805 \n",
      "\n",
      "Features: ['bot30_portion', 'day_of_week', 'daytime', 'prediction', 'start_hour']\n",
      "POTENTIAL WINNER!\n",
      "CV score: 0.458891248881 Valid score: 0.465760322256 \n",
      "\n",
      "Features: ['bot30_portion', 'day_of_week', 'daytime', 'prediction', 'top30_portion']\n",
      "CV score: 0.430795238112 Valid score: 0.437488344336 \n",
      "\n",
      "Features: ['bot30_portion', 'day_of_week', 'daytime', 'prediction', 'youtube_portion']\n",
      "CV score: 0.427421303588 Valid score: 0.436126962814 \n",
      "\n",
      "Features: ['bot30_portion', 'day_of_week', 'daytime', 'session_timespan', 'start_hour']\n",
      "CV score: 0.431269846273 Valid score: 0.446551788445 \n",
      "\n",
      "Features: ['bot30_portion', 'day_of_week', 'daytime', 'session_timespan', 'top30_portion']\n",
      "CV score: 0.401976024494 Valid score: 0.415314609675 \n",
      "\n",
      "Features: ['bot30_portion', 'day_of_week', 'daytime', 'session_timespan', 'youtube_portion']\n",
      "CV score: 0.402406951473 Valid score: 0.414680541569 \n",
      "\n",
      "Features: ['bot30_portion', 'day_of_week', 'daytime', 'start_hour', 'top30_portion']\n",
      "CV score: 0.432429196001 Valid score: 0.446589086569 \n",
      "\n",
      "Features: ['bot30_portion', 'day_of_week', 'daytime', 'start_hour', 'youtube_portion']\n",
      "CV score: 0.433320005423 Valid score: 0.442430345754 \n",
      "\n",
      "Features: ['bot30_portion', 'day_of_week', 'daytime', 'top30_portion', 'youtube_portion']\n",
      "CV score: 0.402060524095 Valid score: 0.415724889038 \n",
      "\n",
      "Features: ['bot30_portion', 'day_of_week', 'fb_portion', 'prediction', 'session_timespan']\n",
      "CV score: 0.410628514555 Valid score: 0.418522248331 \n",
      "\n",
      "Features: ['bot30_portion', 'day_of_week', 'fb_portion', 'prediction', 'start_hour']\n",
      "POTENTIAL WINNER!\n",
      "CV score: 0.456209708223 Valid score: 0.465723024132 \n",
      "\n",
      "Features: ['bot30_portion', 'day_of_week', 'fb_portion', 'prediction', 'top30_portion']\n",
      "CV score: 0.411798296328 Valid score: 0.417552497109 \n",
      "\n",
      "Features: ['bot30_portion', 'day_of_week', 'fb_portion', 'prediction', 'youtube_portion']\n",
      "CV score: 0.410983559645 Valid score: 0.416545447764 \n",
      "\n",
      "Features: ['bot30_portion', 'day_of_week', 'fb_portion', 'session_timespan', 'start_hour']\n",
      "CV score: 0.432252048822 Valid score: 0.445003916303 \n",
      "\n",
      "Features: ['bot30_portion', 'day_of_week', 'fb_portion', 'session_timespan', 'top30_portion']\n",
      "CV score: 0.382900218063 Valid score: 0.39606877774 \n",
      "\n",
      "Features: ['bot30_portion', 'day_of_week', 'fb_portion', 'session_timespan', 'youtube_portion']\n",
      "CV score: 0.383524462617 Valid score: 0.394651449032 \n",
      "\n",
      "Features: ['bot30_portion', 'day_of_week', 'fb_portion', 'start_hour', 'top30_portion']\n",
      "CV score: 0.432877594766 Valid score: 0.447111260304 \n",
      "\n",
      "Features: ['bot30_portion', 'day_of_week', 'fb_portion', 'start_hour', 'youtube_portion']\n",
      "CV score: 0.434013810653 Valid score: 0.444947969117 \n",
      "\n",
      "Features: ['bot30_portion', 'day_of_week', 'fb_portion', 'top30_portion', 'youtube_portion']\n",
      "CV score: 0.38411959599 Valid score: 0.395285517138 \n",
      "\n",
      "Features: ['bot30_portion', 'day_of_week', 'prediction', 'session_timespan', 'start_hour']\n",
      "POTENTIAL WINNER!\n",
      "CV score: 0.458222387704 Valid score: 0.465629778822 \n",
      "\n",
      "Features: ['bot30_portion', 'day_of_week', 'prediction', 'session_timespan', 'top30_portion']\n",
      "CV score: 0.411817092287 Valid score: 0.418540897393 \n",
      "\n",
      "Features: ['bot30_portion', 'day_of_week', 'prediction', 'session_timespan', 'youtube_portion']\n",
      "CV score: 0.409826606871 Valid score: 0.417142217746 \n",
      "\n",
      "Features: ['bot30_portion', 'day_of_week', 'prediction', 'start_hour', 'top30_portion']\n",
      "POTENTIAL WINNER!\n",
      "CV score: 0.457867836139 Valid score: 0.465946812875 \n",
      "\n",
      "Features: ['bot30_portion', 'day_of_week', 'prediction', 'start_hour', 'youtube_portion']\n",
      "POTENTIAL WINNER!\n",
      "CV score: 0.457081788169 Valid score: 0.464921114468 \n",
      "\n",
      "Features: ['bot30_portion', 'day_of_week', 'prediction', 'top30_portion', 'youtube_portion']\n",
      "CV score: 0.409678173031 Valid score: 0.417589795233 \n",
      "\n",
      "Features: ['bot30_portion', 'day_of_week', 'session_timespan', 'start_hour', 'top30_portion']\n",
      "CV score: 0.43273472466 Valid score: 0.445283652232 \n",
      "\n",
      "Features: ['bot30_portion', 'day_of_week', 'session_timespan', 'start_hour', 'youtube_portion']\n",
      "CV score: 0.433350199046 Valid score: 0.446831524374 \n",
      "\n",
      "Features: ['bot30_portion', 'day_of_week', 'session_timespan', 'top30_portion', 'youtube_portion']\n",
      "CV score: 0.383898781286 Valid score: 0.393737644996 \n",
      "\n",
      "Features: ['bot30_portion', 'day_of_week', 'start_hour', 'top30_portion', 'youtube_portion']\n",
      "CV score: 0.432472868497 Valid score: 0.445787176905 \n",
      "\n",
      "Features: ['bot30_portion', 'daytime', 'fb_portion', 'prediction', 'session_timespan']\n",
      "CV score: 0.387198943532 Valid score: 0.39243221066 \n",
      "\n",
      "Features: ['bot30_portion', 'daytime', 'fb_portion', 'prediction', 'start_hour']\n",
      "CV score: 0.415578575503 Valid score: 0.419491999552 \n",
      "\n",
      "Features: ['bot30_portion', 'daytime', 'fb_portion', 'prediction', 'top30_portion']\n",
      "CV score: 0.388375160511 Valid score: 0.393644399687 \n",
      "\n",
      "Features: ['bot30_portion', 'daytime', 'fb_portion', 'prediction', 'youtube_portion']\n",
      "CV score: 0.387937809986 Valid score: 0.393756294058 \n",
      "\n",
      "Features: ['bot30_portion', 'daytime', 'fb_portion', 'session_timespan', 'start_hour']\n",
      "CV score: 0.386930726357 Valid score: 0.399145872963 \n",
      "\n",
      "Features: ['bot30_portion', 'daytime', 'fb_portion', 'session_timespan', 'top30_portion']\n",
      "CV score: 0.360718334312 Valid score: 0.370631457238 \n",
      "\n",
      "Features: ['bot30_portion', 'daytime', 'fb_portion', 'session_timespan', 'youtube_portion']\n",
      "CV score: 0.358766165703 Valid score: 0.369326022901 \n",
      "\n",
      "Features: ['bot30_portion', 'daytime', 'fb_portion', 'start_hour', 'top30_portion']\n",
      "CV score: 0.386416822733 Valid score: 0.399201820148 \n",
      "\n",
      "Features: ['bot30_portion', 'daytime', 'fb_portion', 'start_hour', 'youtube_portion']\n",
      "CV score: 0.386259629247 Valid score: 0.397616649883 \n",
      "\n",
      "Features: ['bot30_portion', 'daytime', 'fb_portion', 'top30_portion', 'youtube_portion']\n",
      "CV score: 0.359489503843 Valid score: 0.369400619149 \n",
      "\n",
      "Features: ['bot30_portion', 'daytime', 'prediction', 'session_timespan', 'start_hour']\n",
      "CV score: 0.413279838217 Valid score: 0.420051471411 \n",
      "\n",
      "Features: ['bot30_portion', 'daytime', 'prediction', 'session_timespan', 'top30_portion']\n",
      "CV score: 0.387473583171 Valid score: 0.393663048749 \n",
      "\n",
      "Features: ['bot30_portion', 'daytime', 'prediction', 'session_timespan', 'youtube_portion']\n",
      "CV score: 0.388314390735 Valid score: 0.393084927828 \n",
      "\n",
      "Features: ['bot30_portion', 'daytime', 'prediction', 'start_hour', 'top30_portion']\n",
      "CV score: 0.414529010396 Valid score: 0.421319607624 \n",
      "\n",
      "Features: ['bot30_portion', 'daytime', 'prediction', 'start_hour', 'youtube_portion']\n",
      "CV score: 0.414631812512 Valid score: 0.420312558278 \n",
      "\n",
      "Features: ['bot30_portion', 'daytime', 'prediction', 'top30_portion', 'youtube_portion']\n",
      "CV score: 0.388931081639 Valid score: 0.394147924359 \n",
      "\n",
      "Features: ['bot30_portion', 'daytime', 'session_timespan', 'start_hour', 'top30_portion']\n",
      "CV score: 0.385936939141 Valid score: 0.398343963299 \n",
      "\n",
      "Features: ['bot30_portion', 'daytime', 'session_timespan', 'start_hour', 'youtube_portion']\n",
      "CV score: 0.386188358514 Valid score: 0.398474506732 \n",
      "\n",
      "Features: ['bot30_portion', 'daytime', 'session_timespan', 'top30_portion', 'youtube_portion']\n",
      "CV score: 0.35810396865 Valid score: 0.370295774123 \n",
      "\n",
      "Features: ['bot30_portion', 'daytime', 'start_hour', 'top30_portion', 'youtube_portion']\n",
      "CV score: 0.385459127182 Valid score: 0.398978031405 \n",
      "\n",
      "Features: ['bot30_portion', 'fb_portion', 'prediction', 'session_timespan', 'start_hour']\n",
      "CV score: 0.413549531672 Valid score: 0.419380105181 \n",
      "\n",
      "Features: ['bot30_portion', 'fb_portion', 'prediction', 'session_timespan', 'top30_portion']\n",
      "CV score: 0.373248358911 Valid score: 0.377923240461 \n",
      "\n",
      "Features: ['bot30_portion', 'fb_portion', 'prediction', 'session_timespan', 'youtube_portion']\n",
      "CV score: 0.372288701072 Valid score: 0.378091082019 \n",
      "\n",
      "Features: ['bot30_portion', 'fb_portion', 'prediction', 'start_hour', 'top30_portion']\n",
      "CV score: 0.413303145606 Valid score: 0.420200663907 \n",
      "\n",
      "Features: ['bot30_portion', 'fb_portion', 'prediction', 'start_hour', 'youtube_portion']\n",
      "CV score: 0.413627444614 Valid score: 0.417030323375 \n",
      "\n",
      "Features: ['bot30_portion', 'fb_portion', 'prediction', 'top30_portion', 'youtube_portion']\n",
      "CV score: 0.37239464643 Valid score: 0.378855693559 \n",
      "\n",
      "Features: ['bot30_portion', 'fb_portion', 'session_timespan', 'start_hour', 'top30_portion']\n",
      "CV score: 0.386705855482 Valid score: 0.39797098206 \n",
      "\n",
      "Features: ['bot30_portion', 'fb_portion', 'session_timespan', 'start_hour', 'youtube_portion']\n",
      "CV score: 0.385676964611 Valid score: 0.398026929245 \n",
      "\n",
      "Features: ['bot30_portion', 'fb_portion', 'session_timespan', 'top30_portion', 'youtube_portion']\n",
      "CV score: 0.342230195282 Valid score: 0.355973294543 \n",
      "\n",
      "Features: ['bot30_portion', 'fb_portion', 'start_hour', 'top30_portion', 'youtube_portion']\n",
      "CV score: 0.386373936765 Valid score: 0.397225019582 \n",
      "\n",
      "Features: ['bot30_portion', 'prediction', 'session_timespan', 'start_hour', 'top30_portion']\n",
      "CV score: 0.414388903498 Valid score: 0.420163365783 \n",
      "\n",
      "Features: ['bot30_portion', 'prediction', 'session_timespan', 'start_hour', 'youtube_portion']\n",
      "CV score: 0.413600004751 Valid score: 0.419137667375 \n",
      "\n",
      "Features: ['bot30_portion', 'prediction', 'session_timespan', 'top30_portion', 'youtube_portion']\n",
      "CV score: 0.372831144417 Valid score: 0.378035134833 \n",
      "\n",
      "Features: ['bot30_portion', 'prediction', 'start_hour', 'top30_portion', 'youtube_portion']\n",
      "CV score: 0.413956068066 Valid score: 0.419641192048 \n",
      "\n",
      "Features: ['bot30_portion', 'session_timespan', 'start_hour', 'top30_portion', 'youtube_portion']\n",
      "CV score: 0.38497404347 Valid score: 0.39778449144 \n",
      "\n",
      "Features: ['day_of_week', 'daytime', 'fb_portion', 'prediction', 'session_timespan']\n",
      "CV score: 0.4295329594 Valid score: 0.43532505315 \n",
      "\n",
      "Features: ['day_of_week', 'daytime', 'fb_portion', 'prediction', 'start_hour']\n",
      "POTENTIAL WINNER!\n",
      "CV score: 0.458684538856 Valid score: 0.465182201335 \n",
      "\n",
      "Features: ['day_of_week', 'daytime', 'fb_portion', 'prediction', 'top30_portion']\n",
      "CV score: 0.429859590807 Valid score: 0.43743239715 \n",
      "\n",
      "Features: ['day_of_week', 'daytime', 'fb_portion', 'prediction', 'youtube_portion']\n",
      "CV score: 0.427016413531 Valid score: 0.435828577823 \n",
      "\n",
      "Features: ['day_of_week', 'daytime', 'fb_portion', 'session_timespan', 'start_hour']\n",
      "CV score: 0.431786038433 Valid score: 0.44612286002 \n",
      "\n",
      "Features: ['day_of_week', 'daytime', 'fb_portion', 'session_timespan', 'top30_portion']\n",
      "CV score: 0.402826154761 Valid score: 0.416153817463 \n",
      "\n",
      "Features: ['day_of_week', 'daytime', 'fb_portion', 'session_timespan', 'youtube_portion']\n",
      "CV score: 0.401942610636 Valid score: 0.413412405356 \n",
      "\n",
      "Features: ['day_of_week', 'daytime', 'fb_portion', 'start_hour', 'top30_portion']\n",
      "CV score: 0.432761734697 Valid score: 0.445582037224 \n",
      "\n",
      "Features: ['day_of_week', 'daytime', 'fb_portion', 'start_hour', 'youtube_portion']\n",
      "CV score: 0.432076313646 Valid score: 0.446253403454 \n",
      "\n",
      "Features: ['day_of_week', 'daytime', 'fb_portion', 'top30_portion', 'youtube_portion']\n",
      "CV score: 0.40201917796 Valid score: 0.415706239976 \n",
      "\n",
      "Features: ['day_of_week', 'daytime', 'prediction', 'session_timespan', 'start_hour']\n",
      "POTENTIAL WINNER!\n",
      "CV score: 0.458976256291 Valid score: 0.465555182574 \n",
      "\n",
      "Features: ['day_of_week', 'daytime', 'prediction', 'session_timespan', 'top30_portion']\n",
      "CV score: 0.428705970662 Valid score: 0.437040766849 \n",
      "\n",
      "Features: ['day_of_week', 'daytime', 'prediction', 'session_timespan', 'youtube_portion']\n",
      "CV score: 0.42922904244 Valid score: 0.435809928761 \n",
      "\n",
      "Features: ['day_of_week', 'daytime', 'prediction', 'start_hour', 'top30_portion']\n",
      "POTENTIAL WINNER!\n",
      "CV score: 0.458750178233 Valid score: 0.465443288203 \n",
      "\n",
      "Features: ['day_of_week', 'daytime', 'prediction', 'start_hour', 'youtube_portion']\n",
      "POTENTIAL WINNER!\n",
      "CV score: 0.458794962533 Valid score: 0.465928163813 \n",
      "\n",
      "Features: ['day_of_week', 'daytime', 'prediction', 'top30_portion', 'youtube_portion']\n",
      "CV score: 0.429351507607 Valid score: 0.436891574354 \n",
      "\n",
      "Features: ['day_of_week', 'daytime', 'session_timespan', 'start_hour', 'top30_portion']\n",
      "CV score: 0.433010748788 Valid score: 0.446626384693 \n",
      "\n",
      "Features: ['day_of_week', 'daytime', 'session_timespan', 'start_hour', 'youtube_portion']\n",
      "CV score: 0.431936870837 Valid score: 0.445134459737 \n",
      "\n",
      "Features: ['day_of_week', 'daytime', 'session_timespan', 'top30_portion', 'youtube_portion']\n",
      "CV score: 0.40207688383 Valid score: 0.415612994666 \n",
      "\n",
      "Features: ['day_of_week', 'daytime', 'start_hour', 'top30_portion', 'youtube_portion']\n",
      "CV score: 0.43338691478 Valid score: 0.445843124091 \n",
      "\n",
      "Features: ['day_of_week', 'fb_portion', 'prediction', 'session_timespan', 'start_hour']\n",
      "POTENTIAL WINNER!\n",
      "CV score: 0.458560692083 Valid score: 0.464473536981 \n",
      "\n",
      "Features: ['day_of_week', 'fb_portion', 'prediction', 'session_timespan', 'top30_portion']\n",
      "CV score: 0.411540937033 Valid score: 0.417254112118 \n",
      "\n",
      "Features: ['day_of_week', 'fb_portion', 'prediction', 'session_timespan', 'youtube_portion']\n",
      "CV score: 0.411357435907 Valid score: 0.416097870277 \n",
      "\n",
      "Features: ['day_of_week', 'fb_portion', 'prediction', 'start_hour', 'top30_portion']\n",
      "POTENTIAL WINNER!\n",
      "CV score: 0.458150739311 Valid score: 0.466263846928 \n",
      "\n",
      "Features: ['day_of_week', 'fb_portion', 'prediction', 'start_hour', 'youtube_portion']\n",
      "POTENTIAL WINNER!\n",
      "CV score: 0.458157619889 Valid score: 0.466207899743 \n",
      "\n",
      "Features: ['day_of_week', 'fb_portion', 'prediction', 'top30_portion', 'youtube_portion']\n",
      "CV score: 0.411808370819 Valid score: 0.417571146171 \n",
      "\n",
      "Features: ['day_of_week', 'fb_portion', 'session_timespan', 'start_hour', 'top30_portion']\n",
      "CV score: 0.432635508549 Valid score: 0.445600686285 \n",
      "\n",
      "Features: ['day_of_week', 'fb_portion', 'session_timespan', 'start_hour', 'youtube_portion']\n",
      "CV score: 0.431700212089 Valid score: 0.445675282533 \n",
      "\n",
      "Features: ['day_of_week', 'fb_portion', 'session_timespan', 'top30_portion', 'youtube_portion']\n",
      "CV score: 0.383718432181 Valid score: 0.396609600537 \n",
      "\n",
      "Features: ['day_of_week', 'fb_portion', 'start_hour', 'top30_portion', 'youtube_portion']\n",
      "CV score: 0.431737640994 Valid score: 0.445153108799 \n",
      "\n",
      "Features: ['day_of_week', 'prediction', 'session_timespan', 'start_hour', 'top30_portion']\n",
      "POTENTIAL WINNER!\n",
      "CV score: 0.458268275785 Valid score: 0.466879265973 \n",
      "\n",
      "Features: ['day_of_week', 'prediction', 'session_timespan', 'start_hour', 'youtube_portion']\n",
      "POTENTIAL WINNER!\n",
      "CV score: 0.458620555973 Valid score: 0.465648427884 \n",
      "\n",
      "Features: ['day_of_week', 'prediction', 'session_timespan', 'top30_portion', 'youtube_portion']\n",
      "CV score: 0.411234521485 Valid score: 0.415948677782 \n",
      "\n",
      "Features: ['day_of_week', 'prediction', 'start_hour', 'top30_portion', 'youtube_portion']\n",
      "POTENTIAL WINNER!\n",
      "CV score: 0.458698821875 Valid score: 0.466543582858 \n",
      "\n",
      "Features: ['day_of_week', 'session_timespan', 'start_hour', 'top30_portion', 'youtube_portion']\n",
      "CV score: 0.431699293336 Valid score: 0.444892021931 \n",
      "\n",
      "Features: ['daytime', 'fb_portion', 'prediction', 'session_timespan', 'start_hour']\n",
      "CV score: 0.415035165253 Valid score: 0.42061094327 \n",
      "\n",
      "Features: ['daytime', 'fb_portion', 'prediction', 'session_timespan', 'top30_portion']\n",
      "CV score: 0.38915792476 Valid score: 0.394315765917 \n",
      "\n",
      "Features: ['daytime', 'fb_portion', 'prediction', 'session_timespan', 'youtube_portion']\n",
      "CV score: 0.387837956269 Valid score: 0.392693297527 \n",
      "\n",
      "Features: ['daytime', 'fb_portion', 'prediction', 'start_hour', 'top30_portion']\n",
      "CV score: 0.415084744038 Valid score: 0.420293909216 \n",
      "\n",
      "Features: ['daytime', 'fb_portion', 'prediction', 'start_hour', 'youtube_portion']\n",
      "CV score: 0.413616307755 Valid score: 0.419809033606 \n",
      "\n",
      "Features: ['daytime', 'fb_portion', 'prediction', 'top30_portion', 'youtube_portion']\n",
      "CV score: 0.388820488927 Valid score: 0.392805191899 \n",
      "\n",
      "Features: ['daytime', 'fb_portion', 'session_timespan', 'start_hour', 'top30_portion']\n",
      "CV score: 0.387504199562 Valid score: 0.399164522025 \n",
      "\n",
      "Features: ['daytime', 'fb_portion', 'session_timespan', 'start_hour', 'youtube_portion']\n",
      "CV score: 0.386659490376 Valid score: 0.396553653351 \n",
      "\n",
      "Features: ['daytime', 'fb_portion', 'session_timespan', 'top30_portion', 'youtube_portion']\n",
      "CV score: 0.359648928394 Valid score: 0.369270075715 \n",
      "\n",
      "Features: ['daytime', 'fb_portion', 'start_hour', 'top30_portion', 'youtube_portion']\n",
      "CV score: 0.385539732027 Valid score: 0.397635298944 \n",
      "\n",
      "Features: ['daytime', 'prediction', 'session_timespan', 'start_hour', 'top30_portion']\n",
      "CV score: 0.415282511514 Valid score: 0.419641192048 \n",
      "\n",
      "Features: ['daytime', 'prediction', 'session_timespan', 'start_hour', 'youtube_portion']\n",
      "CV score: 0.414558843762 Valid score: 0.418913878632 \n",
      "\n",
      "Features: ['daytime', 'prediction', 'session_timespan', 'top30_portion', 'youtube_portion']\n",
      "CV score: 0.387289123787 Valid score: 0.394185222483 \n",
      "\n",
      "Features: ['daytime', 'prediction', 'start_hour', 'top30_portion', 'youtube_portion']\n",
      "CV score: 0.414789660445 Valid score: 0.420368505464 \n",
      "\n",
      "Features: ['daytime', 'session_timespan', 'start_hour', 'top30_portion', 'youtube_portion']\n",
      "CV score: 0.387874559585 Valid score: 0.400414009175 \n",
      "\n",
      "Features: ['fb_portion', 'prediction', 'session_timespan', 'start_hour', 'top30_portion']\n",
      "CV score: 0.414136837641 Valid score: 0.418111968968 \n",
      "\n",
      "Features: ['fb_portion', 'prediction', 'session_timespan', 'start_hour', 'youtube_portion']\n",
      "CV score: 0.413228345085 Valid score: 0.418969825818 \n",
      "\n",
      "Features: ['fb_portion', 'prediction', 'session_timespan', 'top30_portion', 'youtube_portion']\n",
      "CV score: 0.371983264778 Valid score: 0.378613255753 \n",
      "\n",
      "Features: ['fb_portion', 'prediction', 'start_hour', 'top30_portion', 'youtube_portion']\n",
      "CV score: 0.412452108575 Valid score: 0.420722837641 \n",
      "\n",
      "Features: ['fb_portion', 'session_timespan', 'start_hour', 'top30_portion', 'youtube_portion']\n",
      "CV score: 0.38525517364 Valid score: 0.397840438626 \n",
      "\n",
      "Features: ['prediction', 'session_timespan', 'start_hour', 'top30_portion', 'youtube_portion']\n",
      "CV score: 0.413849424341 Valid score: 0.418913878632 \n",
      "\n",
      "Features: ['bot30_portion', 'day_of_week', 'daytime', 'fb_portion', 'prediction', 'session_timespan']\n",
      "CV score: 0.429015607531 Valid score: 0.436332102495 \n",
      "\n",
      "Features: ['bot30_portion', 'day_of_week', 'daytime', 'fb_portion', 'prediction', 'start_hour']\n",
      "POTENTIAL WINNER!\n",
      "CV score: 0.459374597279 Valid score: 0.463802170751 \n",
      "\n",
      "Features: ['bot30_portion', 'day_of_week', 'daytime', 'fb_portion', 'prediction', 'top30_portion']\n",
      "CV score: 0.428746049639 Valid score: 0.437115363097 \n",
      "\n",
      "Features: ['bot30_portion', 'day_of_week', 'daytime', 'fb_portion', 'prediction', 'youtube_portion']\n",
      "CV score: 0.428495496539 Valid score: 0.436537242177 \n",
      "\n",
      "Features: ['bot30_portion', 'day_of_week', 'daytime', 'fb_portion', 'session_timespan', 'start_hour']\n",
      "CV score: 0.432780166352 Valid score: 0.445973667525 \n",
      "\n",
      "Features: ['bot30_portion', 'day_of_week', 'daytime', 'fb_portion', 'session_timespan', 'top30_portion']\n",
      "CV score: 0.401654153508 Valid score: 0.414867032188 \n",
      "\n",
      "Features: ['bot30_portion', 'day_of_week', 'daytime', 'fb_portion', 'session_timespan', 'youtube_portion']\n",
      "CV score: 0.401601259308 Valid score: 0.415911379658 \n",
      "\n",
      "Features: ['bot30_portion', 'day_of_week', 'daytime', 'fb_portion', 'start_hour', 'top30_portion']\n",
      "CV score: 0.432875242003 Valid score: 0.447335049047 \n",
      "\n",
      "Features: ['bot30_portion', 'day_of_week', 'daytime', 'fb_portion', 'start_hour', 'youtube_portion']\n",
      "CV score: 0.433992149153 Valid score: 0.445992316586 \n",
      "\n",
      "Features: ['bot30_portion', 'day_of_week', 'daytime', 'fb_portion', 'top30_portion', 'youtube_portion']\n",
      "CV score: 0.402717443313 Valid score: 0.414736488755 \n",
      "\n",
      "Features: ['bot30_portion', 'day_of_week', 'daytime', 'prediction', 'session_timespan', 'start_hour']\n",
      "POTENTIAL WINNER!\n",
      "CV score: 0.458150054641 Valid score: 0.465331393831 \n",
      "\n",
      "Features: ['bot30_portion', 'day_of_week', 'daytime', 'prediction', 'session_timespan', 'top30_portion']\n",
      "CV score: 0.430580417806 Valid score: 0.43590317407 \n",
      "\n",
      "Features: ['bot30_portion', 'day_of_week', 'daytime', 'prediction', 'session_timespan', 'youtube_portion']\n",
      "CV score: 0.42797430895 Valid score: 0.436052366566 \n",
      "\n",
      "Features: ['bot30_portion', 'day_of_week', 'daytime', 'prediction', 'start_hour', 'top30_portion']\n",
      "POTENTIAL WINNER!\n",
      "CV score: 0.459664971308 Valid score: 0.466263846928 \n",
      "\n",
      "Features: ['bot30_portion', 'day_of_week', 'daytime', 'prediction', 'start_hour', 'youtube_portion']\n",
      "POTENTIAL WINNER!\n",
      "CV score: 0.457733123885 Valid score: 0.46551788445 \n",
      "\n",
      "Features: ['bot30_portion', 'day_of_week', 'daytime', 'prediction', 'top30_portion', 'youtube_portion']\n",
      "CV score: 0.428195714442 Valid score: 0.436145611876 \n",
      "\n",
      "Features: ['bot30_portion', 'day_of_week', 'daytime', 'session_timespan', 'start_hour', 'top30_portion']\n",
      "CV score: 0.432298682022 Valid score: 0.445731229719 \n",
      "\n",
      "Features: ['bot30_portion', 'day_of_week', 'daytime', 'session_timespan', 'start_hour', 'youtube_portion']\n",
      "CV score: 0.43267278779 Valid score: 0.445731229719 \n",
      "\n",
      "Features: ['bot30_portion', 'day_of_week', 'daytime', 'session_timespan', 'top30_portion', 'youtube_portion']\n",
      "CV score: 0.400742792339 Valid score: 0.414811085002 \n",
      "\n",
      "Features: ['bot30_portion', 'day_of_week', 'daytime', 'start_hour', 'top30_portion', 'youtube_portion']\n",
      "CV score: 0.432756781923 Valid score: 0.445432844728 \n",
      "\n",
      "Features: ['bot30_portion', 'day_of_week', 'fb_portion', 'prediction', 'session_timespan', 'start_hour']\n",
      "POTENTIAL WINNER!\n",
      "CV score: 0.458357857511 Valid score: 0.465163552273 \n",
      "\n",
      "Features: ['bot30_portion', 'day_of_week', 'fb_portion', 'prediction', 'session_timespan', 'top30_portion']\n",
      "CV score: 0.411983179994 Valid score: 0.415799485286 \n",
      "\n",
      "Features: ['bot30_portion', 'day_of_week', 'fb_portion', 'prediction', 'session_timespan', 'youtube_portion']\n",
      "CV score: 0.409466212257 Valid score: 0.416787885569 \n",
      "\n",
      "Features: ['bot30_portion', 'day_of_week', 'fb_portion', 'prediction', 'start_hour', 'top30_portion']\n",
      "POTENTIAL WINNER!\n",
      "CV score: 0.457403928614 Valid score: 0.464995710716 \n",
      "\n",
      "Features: ['bot30_portion', 'day_of_week', 'fb_portion', 'prediction', 'start_hour', 'youtube_portion']\n",
      "POTENTIAL WINNER!\n",
      "CV score: 0.457821863439 Valid score: 0.465182201335 \n",
      "\n",
      "Features: ['bot30_portion', 'day_of_week', 'fb_portion', 'prediction', 'top30_portion', 'youtube_portion']\n",
      "CV score: 0.411459550287 Valid score: 0.416433553392 \n",
      "\n",
      "Features: ['bot30_portion', 'day_of_week', 'fb_portion', 'session_timespan', 'start_hour', 'top30_portion']\n",
      "CV score: 0.4324885703 Valid score: 0.446066912834 \n",
      "\n",
      "Features: ['bot30_portion', 'day_of_week', 'fb_portion', 'session_timespan', 'start_hour', 'youtube_portion']\n",
      "CV score: 0.430171550346 Valid score: 0.445376897542 \n",
      "\n",
      "Features: ['bot30_portion', 'day_of_week', 'fb_portion', 'session_timespan', 'top30_portion', 'youtube_portion']\n",
      "CV score: 0.383414799555 Valid score: 0.396479057103 \n",
      "\n",
      "Features: ['bot30_portion', 'day_of_week', 'fb_portion', 'start_hour', 'top30_portion', 'youtube_portion']\n",
      "CV score: 0.431136750137 Valid score: 0.446458543135 \n",
      "\n",
      "Features: ['bot30_portion', 'day_of_week', 'prediction', 'session_timespan', 'start_hour', 'top30_portion']\n",
      "POTENTIAL WINNER!\n",
      "CV score: 0.457050864876 Valid score: 0.466021409123 \n",
      "\n",
      "Features: ['bot30_portion', 'day_of_week', 'prediction', 'session_timespan', 'start_hour', 'youtube_portion']\n",
      "POTENTIAL WINNER!\n",
      "CV score: 0.457211549288 Valid score: 0.465350042893 \n",
      "\n",
      "Features: ['bot30_portion', 'day_of_week', 'prediction', 'session_timespan', 'top30_portion', 'youtube_portion']\n",
      "CV score: 0.41151856586 Valid score: 0.417235463056 \n",
      "\n",
      "Features: ['bot30_portion', 'day_of_week', 'prediction', 'start_hour', 'top30_portion', 'youtube_portion']\n",
      "POTENTIAL WINNER!\n",
      "CV score: 0.458353859852 Valid score: 0.465368691955 \n",
      "\n",
      "Features: ['bot30_portion', 'day_of_week', 'session_timespan', 'start_hour', 'top30_portion', 'youtube_portion']\n",
      "CV score: 0.431931115246 Valid score: 0.445600686285 \n",
      "\n",
      "Features: ['bot30_portion', 'daytime', 'fb_portion', 'prediction', 'session_timespan', 'start_hour']\n",
      "CV score: 0.414547532603 Valid score: 0.419193614561 \n",
      "\n",
      "Features: ['bot30_portion', 'daytime', 'fb_portion', 'prediction', 'session_timespan', 'top30_portion']\n",
      "CV score: 0.388050257527 Valid score: 0.393812241244 \n",
      "\n",
      "Features: ['bot30_portion', 'daytime', 'fb_portion', 'prediction', 'session_timespan', 'youtube_portion']\n",
      "CV score: 0.388251239658 Valid score: 0.393364663757 \n",
      "\n",
      "Features: ['bot30_portion', 'daytime', 'fb_portion', 'prediction', 'start_hour', 'top30_portion']\n",
      "CV score: 0.415495619264 Valid score: 0.420760135765 \n",
      "\n",
      "Features: ['bot30_portion', 'daytime', 'fb_portion', 'prediction', 'start_hour', 'youtube_portion']\n",
      "CV score: 0.414576718401 Valid score: 0.419454701429 \n",
      "\n",
      "Features: ['bot30_portion', 'daytime', 'fb_portion', 'prediction', 'top30_portion', 'youtube_portion']\n",
      "CV score: 0.388293445611 Valid score: 0.39453955466 \n",
      "\n",
      "Features: ['bot30_portion', 'daytime', 'fb_portion', 'session_timespan', 'start_hour', 'top30_portion']\n",
      "CV score: 0.387442096057 Valid score: 0.398306665175 \n",
      "\n",
      "Features: ['bot30_portion', 'daytime', 'fb_portion', 'session_timespan', 'start_hour', 'youtube_portion']\n",
      "CV score: 0.385042247896 Valid score: 0.396553653351 \n",
      "\n",
      "Features: ['bot30_portion', 'daytime', 'fb_portion', 'session_timespan', 'top30_portion', 'youtube_portion']\n",
      "CV score: 0.359320802988 Valid score: 0.371265525344 \n",
      "\n",
      "Features: ['bot30_portion', 'daytime', 'fb_portion', 'start_hour', 'top30_portion', 'youtube_portion']\n",
      "CV score: 0.386704923329 Valid score: 0.398045578307 \n",
      "\n",
      "Features: ['bot30_portion', 'daytime', 'prediction', 'session_timespan', 'start_hour', 'top30_portion']\n",
      "CV score: 0.41485621161 Valid score: 0.420909328261 \n",
      "\n",
      "Features: ['bot30_portion', 'daytime', 'prediction', 'session_timespan', 'start_hour', 'youtube_portion']\n",
      "CV score: 0.413966315458 Valid score: 0.419156316437 \n",
      "\n",
      "Features: ['bot30_portion', 'daytime', 'prediction', 'session_timespan', 'top30_portion', 'youtube_portion']\n",
      "CV score: 0.388734064794 Valid score: 0.393346014695 \n",
      "\n",
      "Features: ['bot30_portion', 'daytime', 'prediction', 'start_hour', 'top30_portion', 'youtube_portion']\n",
      "CV score: 0.414954978237 Valid score: 0.420853381075 \n",
      "\n",
      "Features: ['bot30_portion', 'daytime', 'session_timespan', 'start_hour', 'top30_portion', 'youtube_portion']\n",
      "CV score: 0.387196078049 Valid score: 0.397728544254 \n",
      "\n",
      "Features: ['bot30_portion', 'fb_portion', 'prediction', 'session_timespan', 'start_hour', 'top30_portion']\n",
      "CV score: 0.413451991641 Valid score: 0.419510648614 \n",
      "\n",
      "Features: ['bot30_portion', 'fb_portion', 'prediction', 'session_timespan', 'start_hour', 'youtube_portion']\n",
      "CV score: 0.413971100562 Valid score: 0.418429003021 \n",
      "\n",
      "Features: ['bot30_portion', 'fb_portion', 'prediction', 'session_timespan', 'top30_portion', 'youtube_portion']\n",
      "CV score: 0.373631281473 Valid score: 0.377550259222 \n",
      "\n",
      "Features: ['bot30_portion', 'fb_portion', 'prediction', 'start_hour', 'top30_portion', 'youtube_portion']\n",
      "CV score: 0.41337376428 Valid score: 0.418876580508 \n",
      "\n",
      "Features: ['bot30_portion', 'fb_portion', 'session_timespan', 'start_hour', 'top30_portion', 'youtube_portion']\n",
      "CV score: 0.386119875155 Valid score: 0.398437208608 \n",
      "\n",
      "Features: ['bot30_portion', 'prediction', 'session_timespan', 'start_hour', 'top30_portion', 'youtube_portion']\n",
      "CV score: 0.41408714895 Valid score: 0.420070120473 \n",
      "\n",
      "Features: ['day_of_week', 'daytime', 'fb_portion', 'prediction', 'session_timespan', 'start_hour']\n",
      "POTENTIAL WINNER!\n",
      "CV score: 0.459071444549 Valid score: 0.464287046362 \n",
      "\n",
      "Features: ['day_of_week', 'daytime', 'fb_portion', 'prediction', 'session_timespan', 'top30_portion']\n",
      "CV score: 0.428070574211 Valid score: 0.436779679982 \n",
      "\n",
      "Features: ['day_of_week', 'daytime', 'fb_portion', 'prediction', 'session_timespan', 'youtube_portion']\n",
      "CV score: 0.429355534616 Valid score: 0.436332102495 \n",
      "\n",
      "Features: ['day_of_week', 'daytime', 'fb_portion', 'prediction', 'start_hour', 'top30_portion']\n",
      "POTENTIAL WINNER!\n",
      "CV score: 0.458375876833 Valid score: 0.46646898661 \n",
      "\n",
      "Features: ['day_of_week', 'daytime', 'fb_portion', 'prediction', 'start_hour', 'youtube_portion']\n",
      "POTENTIAL WINNER!\n",
      "CV score: 0.459478248104 Valid score: 0.466189250681 \n",
      "\n",
      "Features: ['day_of_week', 'daytime', 'fb_portion', 'prediction', 'top30_portion', 'youtube_portion']\n",
      "CV score: 0.428419225045 Valid score: 0.437842676513 \n",
      "\n",
      "Features: ['day_of_week', 'daytime', 'fb_portion', 'session_timespan', 'start_hour', 'top30_portion']\n",
      "CV score: 0.433244760254 Valid score: 0.44535824848 \n",
      "\n",
      "Features: ['day_of_week', 'daytime', 'fb_portion', 'session_timespan', 'start_hour', 'youtube_portion']\n",
      "CV score: 0.432692403375 Valid score: 0.443773078214 \n",
      "\n",
      "Features: ['day_of_week', 'daytime', 'fb_portion', 'session_timespan', 'top30_portion', 'youtube_portion']\n",
      "CV score: 0.401176813671 Valid score: 0.414419454701 \n",
      "\n",
      "Features: ['day_of_week', 'daytime', 'fb_portion', 'start_hour', 'top30_portion', 'youtube_portion']\n",
      "CV score: 0.432746990243 Valid score: 0.447297750923 \n",
      "\n",
      "Features: ['day_of_week', 'daytime', 'prediction', 'session_timespan', 'start_hour', 'top30_portion']\n",
      "POTENTIAL WINNER!\n",
      "CV score: 0.458907965562 Valid score: 0.464827869158 \n",
      "\n",
      "Features: ['day_of_week', 'daytime', 'prediction', 'session_timespan', 'start_hour', 'youtube_portion']\n",
      "POTENTIAL WINNER!\n",
      "CV score: 0.459392546355 Valid score: 0.465405990079 \n",
      "\n",
      "Features: ['day_of_week', 'daytime', 'prediction', 'session_timespan', 'top30_portion', 'youtube_portion']\n",
      "CV score: 0.429513279192 Valid score: 0.436499944053 \n",
      "\n",
      "Features: ['day_of_week', 'daytime', 'prediction', 'start_hour', 'top30_portion', 'youtube_portion']\n",
      "POTENTIAL WINNER!\n",
      "CV score: 0.45832762927 Valid score: 0.465778971318 \n",
      "\n",
      "Features: ['day_of_week', 'daytime', 'session_timespan', 'start_hour', 'top30_portion', 'youtube_portion']\n",
      "CV score: 0.433167321278 Valid score: 0.445693931595 \n",
      "\n",
      "Features: ['day_of_week', 'fb_portion', 'prediction', 'session_timespan', 'start_hour', 'top30_portion']\n",
      "POTENTIAL WINNER!\n",
      "CV score: 0.457992584368 Valid score: 0.464231099176 \n",
      "\n",
      "Features: ['day_of_week', 'fb_portion', 'prediction', 'session_timespan', 'start_hour', 'youtube_portion']\n",
      "POTENTIAL WINNER!\n",
      "CV score: 0.458435383189 Valid score: 0.464492186043 \n",
      "\n",
      "Features: ['day_of_week', 'fb_portion', 'prediction', 'session_timespan', 'top30_portion', 'youtube_portion']\n",
      "CV score: 0.41082032203 Valid score: 0.418167916154 \n",
      "\n",
      "Features: ['day_of_week', 'fb_portion', 'prediction', 'start_hour', 'top30_portion', 'youtube_portion']\n",
      "POTENTIAL WINNER!\n",
      "CV score: 0.457618508462 Valid score: 0.464921114468 \n",
      "\n",
      "Features: ['day_of_week', 'fb_portion', 'session_timespan', 'start_hour', 'top30_portion', 'youtube_portion']\n",
      "CV score: 0.432729085997 Valid score: 0.444798776622 \n",
      "\n",
      "Features: ['day_of_week', 'prediction', 'session_timespan', 'start_hour', 'top30_portion', 'youtube_portion']\n",
      "POTENTIAL WINNER!\n",
      "CV score: 0.459141391801 Valid score: 0.464231099176 \n",
      "\n",
      "Features: ['daytime', 'fb_portion', 'prediction', 'session_timespan', 'start_hour', 'top30_portion']\n",
      "CV score: 0.414995969896 Valid score: 0.419827682668 \n",
      "\n",
      "Features: ['daytime', 'fb_portion', 'prediction', 'session_timespan', 'start_hour', 'youtube_portion']\n",
      "CV score: 0.414225914023 Valid score: 0.420499048898 \n",
      "\n",
      "Features: ['daytime', 'fb_portion', 'prediction', 'session_timespan', 'top30_portion', 'youtube_portion']\n",
      "CV score: 0.387550018258 Valid score: 0.392954384394 \n",
      "\n",
      "Features: ['daytime', 'fb_portion', 'prediction', 'start_hour', 'top30_portion', 'youtube_portion']\n",
      "CV score: 0.415261678385 Valid score: 0.420032822349 \n",
      "\n",
      "Features: ['daytime', 'fb_portion', 'session_timespan', 'start_hour', 'top30_portion', 'youtube_portion']\n",
      "CV score: 0.386307864977 Valid score: 0.398101525493 \n",
      "\n",
      "Features: ['daytime', 'prediction', 'session_timespan', 'start_hour', 'top30_portion', 'youtube_portion']\n",
      "CV score: 0.414524209258 Valid score: 0.422252060721 \n",
      "\n",
      "Features: ['fb_portion', 'prediction', 'session_timespan', 'start_hour', 'top30_portion', 'youtube_portion']\n",
      "CV score: 0.415250164327 Valid score: 0.419324157995 \n",
      "\n",
      "Features: ['bot30_portion', 'day_of_week', 'daytime', 'fb_portion', 'prediction', 'session_timespan', 'start_hour']\n",
      "POTENTIAL WINNER!\n",
      "CV score: 0.458402662386 Valid score: 0.463951363246 \n",
      "\n",
      "Features: ['bot30_portion', 'day_of_week', 'daytime', 'fb_portion', 'prediction', 'session_timespan', 'top30_portion']\n",
      "CV score: 0.428375148383 Valid score: 0.435847226884 \n",
      "\n",
      "Features: ['bot30_portion', 'day_of_week', 'daytime', 'fb_portion', 'prediction', 'session_timespan', 'youtube_portion']\n",
      "CV score: 0.429079933924 Valid score: 0.436220208124 \n",
      "\n",
      "Features: ['bot30_portion', 'day_of_week', 'daytime', 'fb_portion', 'prediction', 'start_hour', 'top30_portion']\n",
      "POTENTIAL WINNER!\n",
      "CV score: 0.458805511684 Valid score: 0.465928163813 \n",
      "\n",
      "Features: ['bot30_portion', 'day_of_week', 'daytime', 'fb_portion', 'prediction', 'start_hour', 'youtube_portion']\n",
      "POTENTIAL WINNER!\n",
      "CV score: 0.457874563333 Valid score: 0.46570437507 \n",
      "\n",
      "Features: ['bot30_portion', 'day_of_week', 'daytime', 'fb_portion', 'prediction', 'top30_portion', 'youtube_portion']\n",
      "CV score: 0.429099431275 Valid score: 0.437320502779 \n",
      "\n",
      "Features: ['bot30_portion', 'day_of_week', 'daytime', 'fb_portion', 'session_timespan', 'start_hour', 'top30_portion']\n",
      "CV score: 0.433450385968 Valid score: 0.446160158144 \n",
      "\n",
      "Features: ['bot30_portion', 'day_of_week', 'daytime', 'fb_portion', 'session_timespan', 'start_hour', 'youtube_portion']\n",
      "CV score: 0.431494780555 Valid score: 0.444108761329 \n",
      "\n",
      "Features: ['bot30_portion', 'day_of_week', 'daytime', 'fb_portion', 'session_timespan', 'top30_portion', 'youtube_portion']\n",
      "CV score: 0.4027366225 Valid score: 0.414344858454 \n",
      "\n",
      "Features: ['bot30_portion', 'day_of_week', 'daytime', 'fb_portion', 'start_hour', 'top30_portion', 'youtube_portion']\n",
      "CV score: 0.433406354124 Valid score: 0.447241803737 \n",
      "\n",
      "Features: ['bot30_portion', 'day_of_week', 'daytime', 'prediction', 'session_timespan', 'start_hour', 'top30_portion']\n",
      "POTENTIAL WINNER!\n",
      "CV score: 0.459608307144 Valid score: 0.467643877513 \n",
      "\n",
      "Features: ['bot30_portion', 'day_of_week', 'daytime', 'prediction', 'session_timespan', 'start_hour', 'youtube_portion']\n",
      "POTENTIAL WINNER!\n",
      "CV score: 0.458783058942 Valid score: 0.464529484167 \n",
      "\n",
      "Features: ['bot30_portion', 'day_of_week', 'daytime', 'prediction', 'session_timespan', 'top30_portion', 'youtube_portion']\n",
      "CV score: 0.428421418355 Valid score: 0.437152661221 \n",
      "\n",
      "Features: ['bot30_portion', 'day_of_week', 'daytime', 'prediction', 'start_hour', 'top30_portion', 'youtube_portion']\n",
      "POTENTIAL WINNER!\n",
      "CV score: 0.457808262292 Valid score: 0.465294095707 \n",
      "\n",
      "Features: ['bot30_portion', 'day_of_week', 'daytime', 'session_timespan', 'start_hour', 'top30_portion', 'youtube_portion']\n",
      "CV score: 0.432257544263 Valid score: 0.445339599418 \n",
      "\n",
      "Features: ['bot30_portion', 'day_of_week', 'fb_portion', 'prediction', 'session_timespan', 'start_hour', 'top30_portion']\n",
      "POTENTIAL WINNER!\n",
      "CV score: 0.457751523305 Valid score: 0.466618179106 \n",
      "\n",
      "Features: ['bot30_portion', 'day_of_week', 'fb_portion', 'prediction', 'session_timespan', 'start_hour', 'youtube_portion']\n",
      "POTENTIAL WINNER!\n",
      "CV score: 0.457544344882 Valid score: 0.465778971318 \n",
      "\n",
      "Features: ['bot30_portion', 'day_of_week', 'fb_portion', 'prediction', 'session_timespan', 'top30_portion', 'youtube_portion']\n",
      "CV score: 0.411308780169 Valid score: 0.417720338667 \n",
      "\n",
      "Features: ['bot30_portion', 'day_of_week', 'fb_portion', 'prediction', 'start_hour', 'top30_portion', 'youtube_portion']\n",
      "POTENTIAL WINNER!\n",
      "CV score: 0.457876602872 Valid score: 0.464324344485 \n",
      "\n",
      "Features: ['bot30_portion', 'day_of_week', 'fb_portion', 'session_timespan', 'start_hour', 'top30_portion', 'youtube_portion']\n",
      "CV score: 0.432043860955 Valid score: 0.445731229719 \n",
      "\n",
      "Features: ['bot30_portion', 'day_of_week', 'prediction', 'session_timespan', 'start_hour', 'top30_portion', 'youtube_portion']\n",
      "POTENTIAL WINNER!\n",
      "CV score: 0.45813140987 Valid score: 0.466245197867 \n",
      "\n",
      "Features: ['bot30_portion', 'daytime', 'fb_portion', 'prediction', 'session_timespan', 'start_hour', 'top30_portion']\n",
      "CV score: 0.414215723456 Valid score: 0.422270709783 \n",
      "\n",
      "Features: ['bot30_portion', 'daytime', 'fb_portion', 'prediction', 'session_timespan', 'start_hour', 'youtube_portion']\n",
      "CV score: 0.414465821664 Valid score: 0.420219312969 \n",
      "\n",
      "Features: ['bot30_portion', 'daytime', 'fb_portion', 'prediction', 'session_timespan', 'top30_portion', 'youtube_portion']\n",
      "CV score: 0.388552524605 Valid score: 0.393700346873 \n",
      "\n",
      "Features: ['bot30_portion', 'daytime', 'fb_portion', 'prediction', 'start_hour', 'top30_portion', 'youtube_portion']\n",
      "CV score: 0.414852578551 Valid score: 0.419342807057 \n",
      "\n",
      "Features: ['bot30_portion', 'daytime', 'fb_portion', 'session_timespan', 'start_hour', 'top30_portion', 'youtube_portion']\n",
      "CV score: 0.386309176718 Valid score: 0.398232068927 \n",
      "\n",
      "Features: ['bot30_portion', 'daytime', 'prediction', 'session_timespan', 'start_hour', 'top30_portion', 'youtube_portion']\n",
      "CV score: 0.414016750335 Valid score: 0.419342807057 \n",
      "\n",
      "Features: ['bot30_portion', 'fb_portion', 'prediction', 'session_timespan', 'start_hour', 'top30_portion', 'youtube_portion']\n",
      "CV score: 0.412994685224 Valid score: 0.418783335198 \n",
      "\n",
      "Features: ['day_of_week', 'daytime', 'fb_portion', 'prediction', 'session_timespan', 'start_hour', 'top30_portion']\n",
      "POTENTIAL WINNER!\n",
      "CV score: 0.459152838963 Valid score: 0.464790571034 \n",
      "\n",
      "Features: ['day_of_week', 'daytime', 'fb_portion', 'prediction', 'session_timespan', 'start_hour', 'youtube_portion']\n",
      "POTENTIAL WINNER!\n",
      "CV score: 0.458639892391 Valid score: 0.464678676663 \n",
      "\n",
      "Features: ['day_of_week', 'daytime', 'fb_portion', 'prediction', 'session_timespan', 'top30_portion', 'youtube_portion']\n",
      "CV score: 0.428459442809 Valid score: 0.436742381858 \n",
      "\n",
      "Features: ['day_of_week', 'daytime', 'fb_portion', 'prediction', 'start_hour', 'top30_portion', 'youtube_portion']\n",
      "POTENTIAL WINNER!\n",
      "CV score: 0.459906701322 Valid score: 0.465760322256 \n",
      "\n",
      "Features: ['day_of_week', 'daytime', 'fb_portion', 'session_timespan', 'start_hour', 'top30_portion', 'youtube_portion']\n",
      "CV score: 0.433091212935 Valid score: 0.445880422215 \n",
      "\n",
      "Features: ['day_of_week', 'daytime', 'prediction', 'session_timespan', 'start_hour', 'top30_portion', 'youtube_portion']\n",
      "POTENTIAL WINNER!\n",
      "CV score: 0.459427622251 Valid score: 0.466226548805 \n",
      "\n",
      "Features: ['day_of_week', 'fb_portion', 'prediction', 'session_timespan', 'start_hour', 'top30_portion', 'youtube_portion']\n",
      "POTENTIAL WINNER!\n",
      "CV score: 0.457426041896 Valid score: 0.464995710716 \n",
      "\n",
      "Features: ['daytime', 'fb_portion', 'prediction', 'session_timespan', 'start_hour', 'top30_portion', 'youtube_portion']\n",
      "CV score: 0.41332229615 Valid score: 0.42051769796 \n",
      "\n",
      "Features: ['bot30_portion', 'day_of_week', 'daytime', 'fb_portion', 'prediction', 'session_timespan', 'start_hour', 'top30_portion']\n",
      "POTENTIAL WINNER!\n",
      "CV score: 0.458728000491 Valid score: 0.464771921972 \n",
      "\n",
      "Features: ['bot30_portion', 'day_of_week', 'daytime', 'fb_portion', 'prediction', 'session_timespan', 'start_hour', 'youtube_portion']\n",
      "POTENTIAL WINNER!\n",
      "CV score: 0.457918542087 Valid score: 0.465648427884 \n",
      "\n",
      "Features: ['bot30_portion', 'day_of_week', 'daytime', 'fb_portion', 'prediction', 'session_timespan', 'top30_portion', 'youtube_portion']\n",
      "CV score: 0.428751893352 Valid score: 0.437488344336 \n",
      "\n",
      "Features: ['bot30_portion', 'day_of_week', 'daytime', 'fb_portion', 'prediction', 'start_hour', 'top30_portion', 'youtube_portion']\n",
      "POTENTIAL WINNER!\n",
      "CV score: 0.458953808121 Valid score: 0.465350042893 \n",
      "\n",
      "Features: ['bot30_portion', 'day_of_week', 'daytime', 'fb_portion', 'session_timespan', 'start_hour', 'top30_portion', 'youtube_portion']\n",
      "CV score: 0.432832030172 Valid score: 0.446458543135 \n",
      "\n",
      "Features: ['bot30_portion', 'day_of_week', 'daytime', 'prediction', 'session_timespan', 'start_hour', 'top30_portion', 'youtube_portion']\n",
      "POTENTIAL WINNER!\n",
      "CV score: 0.45998619176 Valid score: 0.46714035284 \n",
      "\n",
      "Features: ['bot30_portion', 'day_of_week', 'fb_portion', 'prediction', 'session_timespan', 'start_hour', 'top30_portion', 'youtube_portion']\n",
      "POTENTIAL WINNER!\n",
      "CV score: 0.458583981307 Valid score: 0.466711424415 \n",
      "\n",
      "Features: ['bot30_portion', 'daytime', 'fb_portion', 'prediction', 'session_timespan', 'start_hour', 'top30_portion', 'youtube_portion']\n",
      "CV score: 0.414202530444 Valid score: 0.420256611092 \n",
      "\n",
      "Features: ['day_of_week', 'daytime', 'fb_portion', 'prediction', 'session_timespan', 'start_hour', 'top30_portion', 'youtube_portion']\n",
      "POTENTIAL WINNER!\n",
      "CV score: 0.458954646164 Valid score: 0.466207899743 \n",
      "\n",
      "CPU times: user 2h 45s, sys: 3min 19s, total: 2h 4min 5s\n",
      "Wall time: 3h 53min 6s\n"
     ]
    }
   ],
   "source": [
    "%%time\n",
    "\n",
    "results = {}\n",
    "\n",
    "for L in range(5, 9):#len(features)+1):\n",
    "    for subset in itertools.combinations(features, L):      \n",
    "        keys = list(subset)\n",
    "        print \"Features:\", keys\n",
    "\n",
    "        vw_to_file(train_part_vw[\"sites\"], 'kaggle_data/train_part_w5.vw', features={x:train_part_vw[x] for x in keys})\n",
    "        vw_to_file(valid_vw[\"sites\"], 'kaggle_data/valid_w5.vw', features={x:valid_vw[x] for x in keys})\n",
    "        vw_to_file(train_vw[\"sites\"], 'kaggle_data/train_w5.vw', features={x:train_vw[x] for x in keys})\n",
    "        vw_to_file(test_vw[\"sites\"], 'kaggle_data/test_w5.vw', features={x:test_vw[x] for x in keys})\n",
    "        \n",
    "        f = open(\"kaggle_data/train_part_w5.vw\")\n",
    "        X_train = f.readlines()\n",
    "        f.close()\n",
    "\n",
    "        f = open(\"kaggle_data/valid_w5.vw\")\n",
    "        X_valid = f.readlines()\n",
    "        f.close()\n",
    "        \n",
    "        model = VW(oaa=550, passes=10, b=26, convert_to_vw=False, loss_function='squared')\n",
    "        cross_scores = cross_val_score(model, X=X_train, y=y_train, cv=skf, scoring=make_scorer(accuracy_score), \\\n",
    "                                                                                                      n_jobs=-1)\n",
    "        model.fit(X_train)\n",
    "        accuracy = accuracy_score(y_valid, model.predict(X_valid))\n",
    "        if np.mean(cross_scores) > 0.45:\n",
    "            print \"POTENTIAL WINNER!\"\n",
    "        print \"CV score:\", np.mean(cross_scores), \"Valid score:\", accuracy, \"\\n\"\n",
    "        results[tuple(keys) or \"sites_only\"] = {\"CV\": np.mean(cross_scores), \"valid\": accuracy}"
   ]
  },
  {
   "cell_type": "code",
   "execution_count": 231,
   "metadata": {
    "collapsed": false,
    "scrolled": true
   },
   "outputs": [
    {
     "data": {
      "text/plain": [
       "[(('bot30_portion',\n",
       "   'day_of_week',\n",
       "   'daytime',\n",
       "   'prediction',\n",
       "   'session_timespan',\n",
       "   'start_hour',\n",
       "   'top30_portion',\n",
       "   'youtube_portion'),\n",
       "  {'CV': 0.45998619175968986, 'valid': 0.46714035284025213}),\n",
       " (('day_of_week',\n",
       "   'daytime',\n",
       "   'fb_portion',\n",
       "   'prediction',\n",
       "   'start_hour',\n",
       "   'top30_portion',\n",
       "   'youtube_portion'),\n",
       "  {'CV': 0.45990670132196049, 'valid': 0.46576032225579056}),\n",
       " (('bot30_portion',\n",
       "   'day_of_week',\n",
       "   'daytime',\n",
       "   'prediction',\n",
       "   'start_hour',\n",
       "   'top30_portion'),\n",
       "  {'CV': 0.45966497130778228, 'valid': 0.46626384692849948}),\n",
       " (('bot30_portion',\n",
       "   'day_of_week',\n",
       "   'daytime',\n",
       "   'prediction',\n",
       "   'session_timespan',\n",
       "   'start_hour',\n",
       "   'top30_portion'),\n",
       "  {'CV': 0.45960830714374462, 'valid': 0.4676438775129611}),\n",
       " (('day_of_week',\n",
       "   'daytime',\n",
       "   'fb_portion',\n",
       "   'prediction',\n",
       "   'start_hour',\n",
       "   'youtube_portion'),\n",
       "  {'CV': 0.45947824810382548, 'valid': 0.46618925068069078})]"
      ]
     },
     "execution_count": 231,
     "metadata": {},
     "output_type": "execute_result"
    }
   ],
   "source": [
    "sorted(results.items(), key=lambda t: t[1][\"CV\"], reverse=True)[0:5]"
   ]
  },
  {
   "cell_type": "code",
   "execution_count": 232,
   "metadata": {
    "collapsed": false,
    "scrolled": true
   },
   "outputs": [
    {
     "data": {
      "text/plain": [
       "[(('bot30_portion',\n",
       "   'day_of_week',\n",
       "   'daytime',\n",
       "   'prediction',\n",
       "   'session_timespan',\n",
       "   'start_hour',\n",
       "   'top30_portion'),\n",
       "  {'CV': 0.45960830714374462, 'valid': 0.4676438775129611}),\n",
       " (('bot30_portion',\n",
       "   'day_of_week',\n",
       "   'daytime',\n",
       "   'prediction',\n",
       "   'session_timespan',\n",
       "   'start_hour',\n",
       "   'top30_portion',\n",
       "   'youtube_portion'),\n",
       "  {'CV': 0.45998619175968986, 'valid': 0.46714035284025213}),\n",
       " (('day_of_week',\n",
       "   'prediction',\n",
       "   'session_timespan',\n",
       "   'start_hour',\n",
       "   'top30_portion'),\n",
       "  {'CV': 0.45826827578467516, 'valid': 0.46687926597292156}),\n",
       " (('bot30_portion',\n",
       "   'day_of_week',\n",
       "   'fb_portion',\n",
       "   'prediction',\n",
       "   'session_timespan',\n",
       "   'start_hour',\n",
       "   'top30_portion',\n",
       "   'youtube_portion'),\n",
       "  {'CV': 0.45858398130710709, 'valid': 0.46671142441535191}),\n",
       " (('bot30_portion',\n",
       "   'day_of_week',\n",
       "   'fb_portion',\n",
       "   'prediction',\n",
       "   'session_timespan',\n",
       "   'start_hour',\n",
       "   'top30_portion'),\n",
       "  {'CV': 0.4577515233046956, 'valid': 0.466618179105591})]"
      ]
     },
     "execution_count": 232,
     "metadata": {},
     "output_type": "execute_result"
    }
   ],
   "source": [
    "sorted(results.items(), key=lambda t: t[1][\"valid\"], reverse=True)[0:5]"
   ]
  }
 ],
 "metadata": {
  "kernelspec": {
   "display_name": "Python 2",
   "language": "python",
   "name": "python2"
  },
  "language_info": {
   "codemirror_mode": {
    "name": "ipython",
    "version": 2
   },
   "file_extension": ".py",
   "mimetype": "text/x-python",
   "name": "python",
   "nbconvert_exporter": "python",
   "pygments_lexer": "ipython2",
   "version": "2.7.12"
  }
 },
 "nbformat": 4,
 "nbformat_minor": 0
}
