{
 "cells": [
  {
   "cell_type": "code",
   "execution_count": 339,
   "metadata": {
    "collapsed": false
   },
   "outputs": [],
   "source": [
    "from sklearn.feature_extraction.text import TfidfTransformer, CountVectorizer, TfidfVectorizer\n",
    "from sklearn.linear_model import LogisticRegression, SGDClassifier\n",
    "from sklearn.svm import LinearSVC\n",
    "from sklearn.model_selection import cross_val_score\n",
    "from sklearn.pipeline import Pipeline\n",
    "import numpy as np\n",
    "import pandas as pd\n",
    "\n",
    "import re\n",
    "import pickle\n",
    "from collections import Counter\n",
    "import matplotlib.pyplot as plt\n",
    "from sklearn.preprocessing import LabelEncoder\n",
    "from sklearn.model_selection import train_test_split, cross_val_score, StratifiedKFold\n",
    "from sklearn.metrics import accuracy_score, roc_auc_score, confusion_matrix, make_scorer\n",
    "from vowpalwabbit.sklearn_vw import VWClassifier, VW\n",
    "import itertools\n",
    "from sklearn.decomposition import NMF, TruncatedSVD"
   ]
  },
  {
   "cell_type": "code",
   "execution_count": 343,
   "metadata": {
    "collapsed": true
   },
   "outputs": [],
   "source": [
    "from hyperopt import fmin, tpe, hp, STATUS_OK, Trials\n",
    "from scipy.sparse import csr_matrix, hstack"
   ]
  },
  {
   "cell_type": "code",
   "execution_count": 342,
   "metadata": {
    "collapsed": false
   },
   "outputs": [
    {
     "name": "stdout",
     "output_type": "stream",
     "text": [
      "Populating the interactive namespace from numpy and matplotlib\n"
     ]
    }
   ],
   "source": [
    "import matplotlib.pyplot as plt\n",
    "%pylab inline"
   ]
  },
  {
   "cell_type": "code",
   "execution_count": 344,
   "metadata": {
    "collapsed": true
   },
   "outputs": [],
   "source": [
    "def sparsematrix(X):\n",
    "    row = []\n",
    "    col = []\n",
    "    data = []\n",
    "    for r in range(X.shape[0]):\n",
    "        row_counter = Counter(X[r])\n",
    "        for site, num in row_counter.items():\n",
    "            row.append(r)\n",
    "            col.append(site)\n",
    "            data.append(num)\n",
    "    print \"Sparse Matrix - rows:\", X.shape[0], \"columns:\", len(set(col))\n",
    "    return csr_matrix((data, (row, col)), shape=(X.shape[0], len(set(col))))[:,1:]\n",
    "\n",
    "\n",
    "def sites_to_sparse_tfidf(train_data, test_data, target_col, session_length, label_encoder=False):\n",
    "    train_test_df = pd.concat([train_data, test_data])\n",
    "    #train_index_full = list(train_data.index)\n",
    "    #train_index_dup = list(train_data[train_data.duplicated(subset=['site' + str(c) for c in range(1,10+1)])]\\\n",
    "                           #[['site' + str(c) for c in range(1,10+1)]+[\"target\"]].index)\n",
    "\n",
    "    y = train_data[target_col]\n",
    "\n",
    "    train_test_df_sites = train_test_df[['site' + str(c) for c in range(1,10+1)]].fillna(0).astype('int')\n",
    "    train_test_df_sites_array = [\" \".join([\"s_\"+str(s) for s in train_test_df_sites.as_matrix()[i] if int(s) != 0]) \\\n",
    "                                                                  for i in range(train_test_df_sites.shape[0])]\n",
    "\n",
    "    tfidf = TfidfVectorizer(max_df=0.9).fit(train_test_df_sites_array) #TfidfVectorizer()\n",
    "    X_train_test_sparse = tfidf.transform(train_test_df_sites_array)\n",
    "\n",
    "    X_train_sparse = X_train_test_sparse[:len(train_data)]\n",
    "    X_test_sparse = X_train_test_sparse[len(train_data):]\n",
    "    \n",
    "    sites_columns_num = X_train_test_sparse.shape[1]\n",
    "    \n",
    "    y_for_vw = None\n",
    "    class_encoder = None\n",
    "    if label_encoder:\n",
    "        class_encoder = LabelEncoder().fit(y.astype('str'))\n",
    "        y_for_vw = class_encoder.transform(y.astype('str')) + 1\n",
    "    \n",
    "    return [X_train_sparse, X_test_sparse, y, y_for_vw, sites_columns_num, class_encoder, tfidf]\n",
    "\n",
    "\n",
    "def features_to_sparse(train_data, test_data, feature_cols):\n",
    "    features_matrix = []\n",
    "    for df in [train_data, test_data]:\n",
    "        num_cols = 0\n",
    "        data = []\n",
    "        rows = []\n",
    "        cols = []\n",
    "        for label in feature_cols:\n",
    "            if label in [\"day_of_week\", \"daytime\"]:\n",
    "                coldata = list(df[[label]].values.T[0].astype('float') + 1)\n",
    "            else:\n",
    "                coldata = list(df[[label]].values.T[0].astype('float'))\n",
    "            if len(data):\n",
    "                data += coldata\n",
    "            else:\n",
    "                data = list(coldata)\n",
    "            if len(cols):\n",
    "                cols += [num_cols] * len(coldata)\n",
    "            else:\n",
    "                cols = [num_cols] * len(coldata)\n",
    "            num_cols += 1\n",
    "        rows = [r for r in range(df.shape[0])] * num_cols\n",
    "        features = csr_matrix((data, (rows, cols)), shape=(df.shape[0], num_cols), dtype=float)\n",
    "        features_matrix.append(features)\n",
    "    return features_matrix\n",
    "\n",
    "\n",
    "def calc_site_times_portions(train_data, test_data):\n",
    "    site_times = [{},{}]\n",
    "    count = 0\n",
    "    for data in [train_data, test_data]:\n",
    "        for r, row in data[:][range(0, 10)+range(20,30)].iterrows():\n",
    "            rowdic = {}\n",
    "            for c, s in [[c, 'site' + str(c)] for c in range(1,10)]:\n",
    "                if row[s] == 0:\n",
    "                    continue\n",
    "                if row[s] in rowdic:\n",
    "                    rowdic[int(row[s])] += row[\"time_diff\"+str(c)]\n",
    "                else:\n",
    "                    rowdic[int(row[s])] = row[\"time_diff\"+str(c)]\n",
    "            site_times[count][r] = {}\n",
    "            for site, time in rowdic.items():\n",
    "                if len(rowdic) == 1:\n",
    "                    site_times[count][r][int(site)] = 1.0\n",
    "                    continue\n",
    "                if time > 0:\n",
    "                    site_times[count][r][int(site)] = round(float(time)/row[\"session_timespan\"],3)\n",
    "        count+=1\n",
    "    return site_times\n",
    "\n",
    "def site_times_to_sparse(sitetimes):\n",
    "    row = []\n",
    "    col = []\n",
    "    data = []\n",
    "    rowcount = 0\n",
    "    for sitetime in sitetimes:\n",
    "        for r, sites in sitetime.items():\n",
    "            for site, p in sites.items():\n",
    "                col.append(site)\n",
    "                row.append(rowcount)\n",
    "                data.append(p)\n",
    "            rowcount+=1\n",
    "    site_times_sparse = csr_matrix((data, (row, col)), shape=(len(sitetimes[0])+len(sitetimes[1]), max(col)+1), \\\n",
    "                                                                                              dtype=float)[:,1:]\n",
    "    return site_times_sparse\n",
    "\n",
    "\n",
    "\n",
    "def combine_sites_features_sparse(sites_train_sparse, features_train_sparse, \\\n",
    "                                  sites_test_sparse, features_test_sparse, \\\n",
    "                                  train_duplicates_mask, test_duplicates_mask, \\\n",
    "                                  train_site_times_sparse = None, test_site_times_sparse = None):\n",
    "    if train_site_times_sparse is not None and test_site_times_sparse is not None:\n",
    "        X_train_sparse = hstack([sites_train_sparse, features_train_sparse, train_site_times_sparse], dtype=float).tocsr()\n",
    "        X_test_sparse = hstack([sites_test_sparse, features_test_sparse, test_site_times_sparse], dtype=float).tocsr()\n",
    "    else:\n",
    "        X_train_sparse = hstack([sites_train_sparse, features_train_sparse], dtype=float).tocsr()\n",
    "        X_test_sparse = hstack([sites_test_sparse, features_test_sparse], dtype=float).tocsr()\n",
    "        \n",
    "    X_train_sparse = hstack([X_train_sparse, train_duplicates_mask], dtype=float).tocsr()\n",
    "    X_test_sparse = hstack([X_test_sparse, test_duplicates_mask], dtype=float).tocsr() \n",
    "    return [X_train_sparse, X_test_sparse]\n",
    "\n",
    "\n",
    "def sparse_matrix_to_vw(X_sparse_full, sites_columns_num, vocabulary, y=None, mark_duplicates=False):\n",
    "    sessions = {}\n",
    "    used = {}\n",
    "    prediction = {}\n",
    "    day_of_week = {}\n",
    "    start_hour = {}\n",
    "    daytime = {}\n",
    "    unique_sites = {}\n",
    "    top30_portion = {}\n",
    "    fb_portion = {}\n",
    "    youtube_portion = {}\n",
    "    bot30_portion = {}\n",
    "    site_longest_time = {}\n",
    "    session_timespan = {}\n",
    "    sitetimes = {}\n",
    "    \n",
    "    add_features = True\n",
    "    X_sparse = X_sparse_full[:,:-1]\n",
    "\n",
    "    for r, c in zip(X_sparse.nonzero()[0], X_sparse.nonzero()[1]):\n",
    "        if tuple([r,c]) not in used:\n",
    "            used[tuple([r, c])] = 1\n",
    "            if add_features:\n",
    "                if c == X_sparse.shape[1] - len(mycolumns) - sites_columns_num + mycolumns.index(\"prediction\"):\n",
    "                    prediction[r] = \" |aprediction {}:{}\".format(int(X_sparse[r,c]), 100)\n",
    "                    #prediction[r] = \" |prediction:100 {}\".format(int(X_sparse[r,c]))\n",
    "                    continue\n",
    "                elif c == X_sparse.shape[1] - len(mycolumns) - sites_columns_num + mycolumns.index(\"day_of_week\"):\n",
    "                    day_of_week[r] = \" |bday_of_week {}\".format(int(X_sparse[r,c]))\n",
    "                    #day_of_week[r] = \" day_of_week:{}\".format(int(X_sparse[r,c]))\n",
    "                    continue\n",
    "                elif c == X_sparse.shape[1] - len(mycolumns) - sites_columns_num + mycolumns.index(\"start_hour\"):\n",
    "                    start_hour[r] = \" |chour_start {}\".format(int(X_sparse[r,c]))\n",
    "                    #start_hour[r] = \" start_hour:{}\".format(int(X_sparse[r,c]))\n",
    "                    continue\n",
    "                elif c == X_sparse.shape[1] - len(mycolumns) - sites_columns_num + mycolumns.index(\"daytime\"):\n",
    "                    daytime[r] = \" |dtime_of_day {}\".format(int(X_sparse[r,c]))\n",
    "                    #daytime[r] = \" daytime:{}\".format(int(X_sparse[r,c]))\n",
    "                    continue\n",
    "                elif c == X_sparse.shape[1] - len(mycolumns) - sites_columns_num + mycolumns.index(\"session_timespan\"):\n",
    "                    session_timespan[r] = \" session_timespan:{}\".format(int(X_sparse[r,c]))\n",
    "                    #session_timespan[r] = \" session_timespan:{}\".format(int(X_sparse[r,c]))\n",
    "                    continue\n",
    "                elif c == X_sparse.shape[1] - len(mycolumns) - sites_columns_num + mycolumns.index(\"#unique_sites\"):\n",
    "                    unique_sites[r] = \" unique_sites:{}\".format(int(X_sparse[r,c]))\n",
    "                    #unique_sites[r] = \" unique_sites:{}\".format(X_sparse[r,c])\n",
    "                    continue\n",
    "                elif c == X_sparse.shape[1] - len(mycolumns) - sites_columns_num + mycolumns.index(\"site_longest_time\"):\n",
    "                    site_longest_time[r] = \" |hsite_longest_time {}:{}\".format(int(X_sparse[r,c]), 3)\n",
    "                    #site_longest_time[r] = \" site_longest_time:{}\".format(int(X_sparse[r,c]))\n",
    "                    continue\n",
    "                elif c == X_sparse.shape[1] - len(mycolumns) - sites_columns_num + mycolumns.index(\"top30_portion\"):\n",
    "                    top30_portion[r] = \" top30:{}\".format(X_sparse[r,c])\n",
    "                    continue\n",
    "                elif c == X_sparse.shape[1] - len(mycolumns) - sites_columns_num + mycolumns.index(\"bot30_portion\"):\n",
    "                    bot30_portion[r] = \" bot30:{}\".format(X_sparse[r,c])\n",
    "                    continue\n",
    "                elif c == X_sparse.shape[1] - len(mycolumns) - sites_columns_num + mycolumns.index(\"fb_portion\"):\n",
    "                    fb_portion[r] = \" facebook:{}\".format(X_sparse[r,c])\n",
    "                    continue\n",
    "                elif c == X_sparse.shape[1] - len(mycolumns) - sites_columns_num + mycolumns.index(\"youtube_portion\"):\n",
    "                    youtube_portion[r] = \" youtube:{}\".format(X_sparse[r,c])\n",
    "                    continue\n",
    "            if c < sites_columns_num: #X_sparse.shape[1] - len(mycolumns): \n",
    "                if r in sessions:\n",
    "                    sessions[r] += \" {}:{}\".format(int(vocabulary[c]), X_sparse[r,c])\n",
    "                else:\n",
    "                    if y is not None:\n",
    "                        if int(X_sparse_full[r, -1]) and mark_duplicates: # duplicate row indicator\n",
    "                            sessions[r] = str(y[r]) + ' 0.3' + ' |site' + \" {}:{}\".format(int(vocabulary[c]), X_sparse[r,c])\n",
    "                        else:\n",
    "                            sessions[r] = str(y[r]) + ' |site' + \" {}:{}\".format(int(vocabulary[c]), X_sparse[r,c])\n",
    "                    else:\n",
    "                        sessions[r] = ' |site' + \" {}:{}\".format(int(vocabulary[c]), X_sparse[r,c])\n",
    "            elif c > X_sparse.shape[1] - sites_columns_num:\n",
    "                if r in sitetimes:\n",
    "                    sitetimes[r] += \" {}:{}\".format(int(c - sites_columns_num - len(mycolumns)+1), float(X_sparse[r,c]))\n",
    "                else:\n",
    "                    sitetimes[r] = ' |isitetime' + \" {}:{}\".format(int(c - sites_columns_num - len(mycolumns)+1), float(X_sparse[r,c]))\n",
    "        \n",
    "    \n",
    "    return {\"sites\": sessions, \"prediction\": prediction, \"day_of_week\": day_of_week, \\\n",
    "                      \"start_hour\": start_hour, \"daytime\": daytime, \\\n",
    "                     \"unique_site\": unique_sites, \"top30_portion\": top30_portion, \\\n",
    "                    \"bot30_portion\": bot30_portion, \"fb_portion\": fb_portion, \\\n",
    "                    \"youtube_portion\": youtube_portion, \"site_longest_time\": site_longest_time, \\\n",
    "                    \"session_timespan\": session_timespan, \"sitetimes\": sitetimes}\n",
    "\n",
    "\n",
    "\n",
    "def vw_to_file(sites, out_file, features={}, quiet=True):   \n",
    "    vw_writer = open(out_file, 'w')\n",
    "    final_vw = {}\n",
    "    gen_features = []\n",
    "    \n",
    "    if not quiet:\n",
    "        print \"Features:\", features.keys()\n",
    "        \n",
    "    for r in sorted(sites.keys()):\n",
    "        final_vw[r] = sites[r] #+ \" |features\"\n",
    "        for fname, feature in features.items():\n",
    "            if fname in [\"youtube_portion\", \"fb_portion\", \"top30_portion\", \"bot30_portion\", \\\n",
    "                                         \"unique_sites\", \"session_timespan\"] and r in feature:\n",
    "                gen_features.append(feature[r])\n",
    "                continue\n",
    "            if r in feature:\n",
    "                final_vw[r] += feature[r]        \n",
    "            \n",
    "        if len(gen_features):\n",
    "            final_vw[r] += \" |features\"\n",
    "            for gf in gen_features:\n",
    "                final_vw[r] += gf\n",
    "        gen_features = []\n",
    "        \n",
    "        #if \"prediction\" in features and r in features[\"prediction\"]:\n",
    "            #final_vw[r] += features[\"prediction\"][r]\n",
    "        \n",
    "        vw_writer.write(final_vw[r] + \"\\n\")\n",
    "        \n",
    "    vw_writer.close()\n",
    "    \n",
    "    \n",
    "def write_to_submission_file(predicted_labels, out_file,\n",
    "                             target='user_id', index_label=\"session_id\"):\n",
    "    # turn predictions into data frame and save as csv file\n",
    "    predicted_df = pd.DataFrame(predicted_labels,\n",
    "                                index = np.arange(1, predicted_labels.shape[0] + 1),\n",
    "                                columns=[target])\n",
    "    predicted_df.to_csv(out_file, index_label=index_label)\n",
    "\n"
   ]
  },
  {
   "cell_type": "code",
   "execution_count": 335,
   "metadata": {
    "collapsed": true
   },
   "outputs": [],
   "source": [
    "def text_classifier(vectorizer, transformer, classifier):\n",
    "    return Pipeline(\n",
    "            [(\"vectorizer\", vectorizer),\n",
    "            (\"transformer\", transformer),\n",
    "            (\"classifier\", classifier)]\n",
    "        )"
   ]
  },
  {
   "cell_type": "code",
   "execution_count": 336,
   "metadata": {
    "collapsed": true
   },
   "outputs": [],
   "source": [
    "clf_pipeline = Pipeline(\n",
    "            [(\"vectorizer\", TfidfVectorizer()),\n",
    "            (\"classifier\", LinearSVC())]\n",
    "        )"
   ]
  },
  {
   "cell_type": "markdown",
   "metadata": {},
   "source": [
    "# Let's Start"
   ]
  },
  {
   "cell_type": "code",
   "execution_count": 345,
   "metadata": {
    "collapsed": true
   },
   "outputs": [],
   "source": [
    "train_data = pd.read_csv('kaggle_data/full_train_w5_new.csv')\n",
    "\n",
    "test_data = pd.read_csv('kaggle_data/full_test.csv')"
   ]
  },
  {
   "cell_type": "code",
   "execution_count": 346,
   "metadata": {
    "collapsed": false
   },
   "outputs": [
    {
     "name": "stdout",
     "output_type": "stream",
     "text": [
      "CPU times: user 1min 21s, sys: 612 ms, total: 1min 21s\n",
      "Wall time: 1min 21s\n"
     ]
    }
   ],
   "source": [
    "%%time\n",
    "# Additionally, let's calculate the percentage of session time spent by every site in session\n",
    "site_times = calc_site_times_portions(train_data, test_data)"
   ]
  },
  {
   "cell_type": "code",
   "execution_count": 347,
   "metadata": {
    "collapsed": false
   },
   "outputs": [
    {
     "data": {
      "text/plain": [
       "<171492x24052 sparse matrix of type '<type 'numpy.float64'>'\n",
       "\twith 599088 stored elements in Compressed Sparse Row format>"
      ]
     },
     "execution_count": 347,
     "metadata": {},
     "output_type": "execute_result"
    }
   ],
   "source": [
    "# Convert site times to sparse format\n",
    "site_times_sparse = site_times_to_sparse(site_times)\n",
    "train_site_times_sparse = site_times_sparse[:len(train_data)]\n",
    "test_site_times_sparse = site_times_sparse[len(train_data):]\n",
    "train_site_times_sparse"
   ]
  },
  {
   "cell_type": "code",
   "execution_count": 348,
   "metadata": {
    "collapsed": false
   },
   "outputs": [],
   "source": [
    "train_test_df = pd.concat([train_data, test_data])\n",
    "\n",
    "session_length = 10\n",
    "\n",
    "train_index_full = list(train_data.index)\n",
    "train_index_dup = list(train_data[train_data.duplicated(subset=['site' + str(c) for c in range(1,session_length+1)], keep=False)]\\\n",
    "                       [['site' + str(c) for c in range(1,10+1)]+[\"target\"]].index)\n",
    "test_index_full = list(test_data.index)\n",
    "test_index_dup = list(test_data[test_data.duplicated(subset=['site' + str(c) for c in range(1,session_length+1)], keep=False)]\\\n",
    "                       [['site' + str(c) for c in range(1,10+1)]].index)\n",
    "train_duplicates_mask = np.transpose([np.in1d(train_index_full, train_index_dup).astype(int)])\n",
    "test_duplicates_mask = np.transpose([np.in1d(test_index_full, test_index_dup).astype(int)])\n",
    "\n",
    "y = train_data[\"target\"]\n",
    "\n",
    "train_test_df_sites = train_test_df[['site' + str(c) for c in range(1,10+1)]].fillna(0).astype('int')\n",
    "train_test_df_sites_array = [\" \".join([\"s_\"+str(s) for s in train_test_df_sites.as_matrix()[i] if int(s) != 0]) \\\n",
    "                                                              for i in range(train_test_df_sites.shape[0])]\n",
    "\n",
    "tfidf = TfidfVectorizer(analyzer=str.split, max_df=0.9, ngram_range=(1,3)).fit(train_test_df_sites_array) #TfidfVectorizer()\n",
    "X_train_test_sparse = tfidf.transform(train_test_df_sites_array)\n",
    "#X_train_test_sparse = TruncatedSVD(n_components=10000).fit_transform(X_train_test_sparse)\n",
    "\n",
    "X_train_sparse = X_train_test_sparse[:len(train_data)]\n",
    "X_test_sparse = X_train_test_sparse[len(train_data):]\n",
    "\n",
    "class_encoder = LabelEncoder().fit(y.astype('str'))\n",
    "y_for_vw = class_encoder.transform(y.astype('str')) + 1\n",
    "\n",
    "sites_columns_num = X_train_test_sparse.shape[1]\n",
    "inv_vocabulary = {v: int(re.search(\"s_(\\d+)$\", k).group(1)) for k, v in tfidf.vocabulary_.iteritems()}"
   ]
  },
  {
   "cell_type": "code",
   "execution_count": 349,
   "metadata": {
    "collapsed": false
   },
   "outputs": [
    {
     "name": "stdout",
     "output_type": "stream",
     "text": [
      "CPU times: user 4.29 s, sys: 188 ms, total: 4.48 s\n",
      "Wall time: 4.48 s\n"
     ]
    }
   ],
   "source": [
    "%%time\n",
    "#X_train_sparse, X_test_sparse, y, y_for_vw, sites_columns_num, class_encoder, tfidf = \\\n",
    "    #sites_to_sparse_tfidf(train_data, test_data, \"target\", 10, label_encoder=LabelEncoder())\n",
    "\n",
    "mycolumns = [label for label in test_data[range(20, test_data.shape[1])]]\n",
    "\n",
    "train_features, test_features = features_to_sparse(train_data, test_data, mycolumns)\n",
    "\n",
    "X_train_sparse, X_test_sparse = combine_sites_features_sparse(X_train_sparse, train_features, \\\n",
    "                                                             X_test_sparse, test_features, \\\n",
    "                                                              train_duplicates_mask, test_duplicates_mask,\n",
    "                                                              train_site_times_sparse, test_site_times_sparse)\n",
    "\n",
    "X_train, X_valid, y_train, y_valid = train_test_split(X_train_sparse, y_for_vw, test_size=0.3, stratify=y_for_vw)"
   ]
  },
  {
   "cell_type": "code",
   "execution_count": 352,
   "metadata": {
    "collapsed": false
   },
   "outputs": [
    {
     "name": "stdout",
     "output_type": "stream",
     "text": [
      "CPU times: user 7min 55s, sys: 492 ms, total: 7min 55s\n",
      "Wall time: 7min 56s\n"
     ]
    }
   ],
   "source": [
    "%%time\n",
    "train_part_vw = sparse_matrix_to_vw(X_train, sites_columns_num, inv_vocabulary, y_train, mark_duplicates=False)\n",
    "valid_vw = sparse_matrix_to_vw(X_valid, sites_columns_num, inv_vocabulary, y_valid)\n",
    "train_vw = sparse_matrix_to_vw(X_train_sparse, sites_columns_num, inv_vocabulary, y_for_vw, mark_duplicates=False)\n",
    "test_vw = sparse_matrix_to_vw(X_test_sparse, sites_columns_num, inv_vocabulary)"
   ]
  },
  {
   "cell_type": "code",
   "execution_count": 353,
   "metadata": {
    "collapsed": false
   },
   "outputs": [
    {
     "name": "stdout",
     "output_type": "stream",
     "text": [
      "youtube_portion 9598\n",
      "site_longest_time 171492\n",
      "top30_portion 121483\n",
      "sitetimes 170182\n",
      "unique_site 171492\n",
      "start_hour 171492\n",
      "prediction 36320\n",
      "session_timespan 168514\n",
      "day_of_week 171492\n",
      "bot30_portion 66716\n",
      "fb_portion 22775\n",
      "sites 171492\n",
      "daytime 171492\n"
     ]
    }
   ],
   "source": [
    "for k in train_vw.keys():\n",
    "    print k, len(train_vw[k])"
   ]
  },
  {
   "cell_type": "code",
   "execution_count": 354,
   "metadata": {
    "collapsed": false
   },
   "outputs": [
    {
     "name": "stdout",
     "output_type": "stream",
     "text": [
      "Features: ['youtube_portion', 'sitetimes', 'fb_portion', 'start_hour', 'prediction', 'daytime', 'day_of_week']\n",
      "Features: ['youtube_portion', 'sitetimes', 'fb_portion', 'start_hour', 'prediction', 'daytime', 'day_of_week']\n",
      "Features: ['youtube_portion', 'sitetimes', 'fb_portion', 'start_hour', 'prediction', 'daytime', 'day_of_week']\n",
      "Features: ['youtube_portion', 'sitetimes', 'fb_portion', 'start_hour', 'prediction', 'daytime', 'day_of_week']\n"
     ]
    }
   ],
   "source": [
    "keys = [\n",
    "   'day_of_week',\n",
    "   'daytime',\n",
    "   'prediction',\n",
    "   'start_hour',\n",
    "   'youtube_portion', 'fb_portion', 'sitetimes']\n",
    "\n",
    "vw_to_file(train_part_vw[\"sites\"], 'kaggle_data/train_part_tfidf.vw', features={x:train_part_vw[x] for x in keys}, quiet=False)\n",
    "vw_to_file(valid_vw[\"sites\"], 'kaggle_data/valid_tfidf.vw', features={x:valid_vw[x] for x in keys}, quiet=False)\n",
    "vw_to_file(train_vw[\"sites\"], 'kaggle_data/train_tfidf.vw', features={x:train_vw[x] for x in keys}, quiet=False)\n",
    "vw_to_file(test_vw[\"sites\"], 'kaggle_data/test_tfidf.vw', features={x:test_vw[x] for x in keys}, quiet=False)\n"
   ]
  },
  {
   "cell_type": "code",
   "execution_count": 355,
   "metadata": {
    "collapsed": true
   },
   "outputs": [],
   "source": [
    "with open(\"kaggle_data/train_part_tfidf.vw\") as f:\n",
    "    train_part_file = f.readlines()\n",
    "\n",
    "with open(\"kaggle_data/train_tfidf.vw\") as f:\n",
    "    train_file = f.readlines()\n",
    "\n",
    "with open(\"kaggle_data/valid_tfidf.vw\") as f:\n",
    "    valid_file = f.readlines()\n",
    "\n",
    "with open(\"kaggle_data/test_tfidf.vw\") as f:\n",
    "    test_file = f.readlines()"
   ]
  },
  {
   "cell_type": "code",
   "execution_count": 52,
   "metadata": {
    "collapsed": false
   },
   "outputs": [
    {
     "data": {
      "text/plain": [
       "125118"
      ]
     },
     "execution_count": 52,
     "metadata": {},
     "output_type": "execute_result"
    }
   ],
   "source": [
    "len(train_part_file)"
   ]
  },
  {
   "cell_type": "code",
   "execution_count": 53,
   "metadata": {
    "collapsed": false
   },
   "outputs": [
    {
     "data": {
      "text/plain": [
       "125118"
      ]
     },
     "execution_count": 53,
     "metadata": {},
     "output_type": "execute_result"
    }
   ],
   "source": [
    "len(train_part_file)"
   ]
  },
  {
   "cell_type": "code",
   "execution_count": 54,
   "metadata": {
    "collapsed": true
   },
   "outputs": [],
   "source": [
    "skf = StratifiedKFold(n_splits=3, shuffle=True)"
   ]
  },
  {
   "cell_type": "markdown",
   "metadata": {},
   "source": [
    "%%time\n",
    "model = VW(oaa=550, passes=30, b=26, convert_to_vw=False, decay_learning_rate=0.8097261737051064, random_seed=7, \\\n",
    "           initial_t=4.617634843743026e-05, l=0.9037695975303308, power_t=0.5, l2=3.022731250666471e-11, \\\n",
    "           loss_function='logistic', l1=1.2144958188964683e-11, cubic=\"sbc\", sort_features=True, q=\"sd\", noconstant=True)\n",
    "\n",
    "c_scores = cross_val_score(model, X=train_part_file, y=y_train, cv=skf, scoring=make_scorer(accuracy_score), n_jobs=3)\n",
    "print c_scores, np.mean(c_scores)"
   ]
  },
  {
   "cell_type": "code",
   "execution_count": 359,
   "metadata": {
    "collapsed": false,
    "scrolled": true
   },
   "outputs": [
    {
     "name": "stdout",
     "output_type": "stream",
     "text": [
      "creating quadratic features for pairs: bs \n",
      "creating cubic features for triples: sbc \n",
      "using l1 regularization = 1.2145e-10\n",
      "using l2 regularization = 1e-09\n",
      "final_regressor = kaggle_data/initial_model_idf.vw\n",
      "Num weight bits = 26\n",
      "learning rate = 0.30377\n",
      "initial_t = 4.61763e-05\n",
      "power_t = 0.5\n",
      "decay_learning_rate = 0.809726\n",
      "creating cache_file = kaggle_data/train_part_tfidf.vw.cache\n",
      "Reading datafile = kaggle_data/train_part_tfidf.vw\n",
      "num sources = 1\n",
      "average  since         example        example  current  current  current\n",
      "loss     last          counter         weight    label  predict features\n",
      "1.000000 1.000000            1            1.0      244        1       15\n",
      "1.000000 1.000000            2            2.0      113      244       39\n",
      "1.000000 1.000000            4            4.0      215      244       16\n",
      "1.000000 1.000000            8            8.0      168      150       19\n",
      "1.000000 1.000000           16           16.0      145      244       32\n",
      "0.968750 0.937500           32           32.0      249      444       23\n",
      "0.984375 1.000000           64           64.0      109      318       27\n",
      "0.976562 0.968750          128          128.0      511      244       26\n",
      "0.945312 0.914062          256          256.0       12       12       33\n",
      "0.923828 0.902344          512          512.0      159      386       16\n",
      "0.879883 0.835938         1024         1024.0      302      302       19\n",
      "0.858398 0.836914         2048         2048.0      416      150       21\n",
      "0.825439 0.792480         4096         4096.0      214      214       13\n",
      "0.800537 0.775635         8192         8192.0      426      426       29\n",
      "0.766113 0.731689        16384        16384.0      453      386       12\n",
      "0.707581 0.649048        32768        32768.0       34      386       38\n",
      "0.634125 0.560669        65536        65536.0      192      192       25\n",
      "0.556341 0.556341       131072       131072.0      457      457       16 h\n",
      "0.489151 0.421960       262144       262144.0      221      221       12 h\n",
      "0.438148 0.387146       524288       524288.0      328      328       30 h\n",
      "0.401943 0.365739      1048576      1048576.0      533      533       32 h\n",
      "0.379897 0.357850      2097152      2097152.0      364      364       30 h\n",
      "\n",
      "finished run\n",
      "number of examples per pass = 108040\n",
      "passes used = 20\n",
      "weighted example sum = 2160800.000000\n",
      "weighted label sum = 0.000000\n",
      "average loss = 0.357048 h\n",
      "total feature number = 55480640\n",
      "CPU times: user 46.8 s, sys: 4.61 s, total: 51.4 s\n",
      "Wall time: 39min 59s\n"
     ]
    }
   ],
   "source": [
    "%%time\n",
    "!vw --oaa=550 -d kaggle_data/train_part_tfidf.vw --passes=20 \\\n",
    "-f kaggle_data/initial_model_idf.vw -b 26 -c -k \\\n",
    "--decay_learning_rate 0.8097261737051064 \\\n",
    "--initial_t 4.617634843743026e-05 -l 0.3037695975303308 --power_t 0.5 --l2=1e-9 \\\n",
    "--loss_function='logistic' --l1=1.2144958188964683e-10 --cubic=\"sbc\" --sort_features -q \"bs\" \\\n",
    "--stage_poly --batch_sz 20007 --batch_sz_no_doubling"
   ]
  },
  {
   "cell_type": "markdown",
   "metadata": {},
   "source": [
    "average loss = 0.349300 h"
   ]
  },
  {
   "cell_type": "code",
   "execution_count": 357,
   "metadata": {
    "collapsed": false
   },
   "outputs": [
    {
     "name": "stdout",
     "output_type": "stream",
     "text": [
      "CPU times: user 308 ms, sys: 68 ms, total: 376 ms\n",
      "Wall time: 18 s\n"
     ]
    }
   ],
   "source": [
    "%%time\n",
    "!vw -i kaggle_data/initial_model_idf.vw  -t -d kaggle_data/valid_tfidf.vw \\\n",
    "-p kaggle_data/vw_valid_pred_idf.csv --quiet"
   ]
  },
  {
   "cell_type": "code",
   "execution_count": 358,
   "metadata": {
    "collapsed": false
   },
   "outputs": [
    {
     "data": {
      "text/plain": [
       "0.64750816358264651"
      ]
     },
     "execution_count": 358,
     "metadata": {},
     "output_type": "execute_result"
    }
   ],
   "source": [
    "vw_valid_pred = pd.read_csv(\"kaggle_data/vw_valid_pred_idf.csv\", header=None)\n",
    "accuracy_score(y_valid, vw_valid_pred.values)"
   ]
  },
  {
   "cell_type": "markdown",
   "metadata": {},
   "source": [
    "Valid: 0.64750816358264651"
   ]
  },
  {
   "cell_type": "markdown",
   "metadata": {},
   "source": [
    "### Submission"
   ]
  },
  {
   "cell_type": "code",
   "execution_count": 298,
   "metadata": {
    "collapsed": true
   },
   "outputs": [],
   "source": [
    "trainvw = open(\"kaggle_data/train_tfidf.vw\").readlines()\n",
    "np.random.shuffle(trainvw)\n",
    "with open(\"kaggle_data/train_tfidf.vw\", \"wb\") as f:\n",
    "    for item in trainvw:\n",
    "        f.write(\"%s\" % item)"
   ]
  },
  {
   "cell_type": "code",
   "execution_count": 299,
   "metadata": {
    "collapsed": false,
    "scrolled": true
   },
   "outputs": [
    {
     "name": "stdout",
     "output_type": "stream",
     "text": [
      "creating quadratic features for pairs: sc \n",
      "creating cubic features for triples: sbc \n",
      "using l1 regularization = 1.75277e-08\n",
      "using l2 regularization = 7.74261e-08\n",
      "final_regressor = kaggle_data/initial_model_idf.vw\n",
      "Num weight bits = 26\n",
      "learning rate = 2.65013\n",
      "initial_t = 0.00241316\n",
      "power_t = 0.5\n",
      "decay_learning_rate = 0.931831\n",
      "creating cache_file = kaggle_data/train_tfidf.vw.cache\n",
      "Reading datafile = kaggle_data/train_tfidf.vw\n",
      "num sources = 1\n",
      "average  since         example        example  current  current  current\n",
      "loss     last          counter         weight    label  predict features\n",
      "1.000000 1.000000            1            1.0       31        1       12\n",
      "1.000000 1.000000            2            2.0      189       31       29\n",
      "1.000000 1.000000            4            4.0      318       31       29\n",
      "1.000000 1.000000            9            8.3      423       35       24\n",
      "0.942197 0.888889           18           17.3       57      227       26\n",
      "0.971671 1.000000           36           35.3      150      246       29\n",
      "0.985836 1.000000           72           70.6      187      442       30\n",
      "0.960452 0.935211          150          141.6      167      309       16\n",
      "0.927388 0.894441          297          283.7      241      237       30\n",
      "0.903260 0.879140          592          567.5      165      511       12\n",
      "0.872952 0.842643         1184         1135.0      159      131       29\n",
      "0.823374 0.773836         2357         2270.9      219      145       30\n",
      "0.765261 0.707167         4714         4542.5      318      333       20\n",
      "0.705776 0.646299         9430         9085.6      334      489       34\n",
      "0.639478 0.573186        18893        18172.0      393       20       26\n",
      "0.570814 0.502152        37771        36344.4      264      264       39\n",
      "0.501958 0.433101        75580        72689.0      322      155       31\n",
      "0.433147 0.364338       151072       145378.9      497       73       25\n",
      "0.377733 0.377733       302131       290758.1      328      328       31 h\n",
      "0.341313 0.304905       604300       581516.4      271      546       21 h\n",
      "0.321063 0.300812      1208612      1163032.9      363      363       24 h\n",
      "\n",
      "finished run\n",
      "number of examples per pass = 154343\n",
      "passes used = 9\n",
      "weighted example sum = 1336696.200892\n",
      "weighted label sum = 0.000000\n",
      "average loss = 0.300211 h\n",
      "total feature number = 35650557\n",
      "CPU times: user 17.2 s, sys: 1.72 s, total: 18.9 s\n",
      "Wall time: 15min 48s\n"
     ]
    }
   ],
   "source": [
    "%%time\n",
    "!vw --oaa=550 -d kaggle_data/train_tfidf.vw --passes=30 \\\n",
    "-f kaggle_data/initial_model_idf.vw -b 26 -c -k \\\n",
    "--decay_learning_rate 0.9318314904142921 \\\n",
    "--initial_t 0.002413156753380314 -l 2.650131758316566 --power_t 0.5 \\\n",
    "--loss_function='hinge' --l1=1.7527679278563712e-08 --l2=7.742609589493446e-08 \\\n",
    "--cubic=\"sbc\" --sort_features -q \"sc\" \\\n",
    "--stage_poly --batch_sz {len(train_file)/6} --batch_sz_no_doubling"
   ]
  },
  {
   "cell_type": "code",
   "execution_count": 300,
   "metadata": {
    "collapsed": false,
    "scrolled": true
   },
   "outputs": [
    {
     "name": "stdout",
     "output_type": "stream",
     "text": [
      "creating quadratic features for pairs: sc \n",
      "creating cubic features for triples: sbc \n",
      "only testing\n",
      "predictions = kaggle_data/vw_test_pred_idf.csv\n",
      "Num weight bits = 26\n",
      "learning rate = 0.5\n",
      "initial_t = 0\n",
      "power_t = 0.5\n",
      "using no cache\n",
      "Reading datafile = kaggle_data/test_tfidf.vw\n",
      "num sources = 1\n",
      "average  since         example        example  current  current  current\n",
      "loss     last          counter         weight    label  predict features\n",
      "1.000000 1.000000            1            1.0  unknown       69        8\n",
      "1.000000 1.000000            2            2.0  unknown      517       28\n",
      "1.000000 1.000000            4            4.0  unknown      168        8\n",
      "1.000000 1.000000            8            8.0  unknown       24       34\n",
      "1.000000 1.000000           16           16.0  unknown      328       16\n",
      "1.000000 1.000000           32           32.0  unknown      460       31\n",
      "1.000000 1.000000           64           64.0  unknown      296       31\n",
      "1.000000 1.000000          128          128.0  unknown      426       40\n",
      "1.000000 1.000000          256          256.0  unknown       97        8\n",
      "1.000000 1.000000          512          512.0  unknown       97       35\n",
      "1.000000 1.000000         1024         1024.0  unknown      545       29\n",
      "1.000000 1.000000         2048         2048.0  unknown      317       27\n",
      "1.000000 1.000000         4096         4096.0  unknown       10       39\n",
      "1.000000 1.000000         8192         8192.0  unknown      161       33\n",
      "1.000000 1.000000        16384        16384.0  unknown       73       16\n",
      "1.000000 1.000000        32768        32768.0  unknown      460       36\n",
      "\n",
      "finished run\n",
      "number of examples per pass = 41177\n",
      "passes used = 1\n",
      "weighted example sum = 41177.000000\n",
      "weighted label sum = 0.000000\n",
      "average loss = 1.000000\n",
      "total feature number = 1034179\n",
      "CPU times: user 252 ms, sys: 88 ms, total: 340 ms\n",
      "Wall time: 12.7 s\n"
     ]
    }
   ],
   "source": [
    "%%time\n",
    "!vw -i kaggle_data/initial_model_idf.vw -t -d kaggle_data/test_tfidf.vw \\\n",
    "-p kaggle_data/vw_test_pred_idf.csv"
   ]
  },
  {
   "cell_type": "code",
   "execution_count": 301,
   "metadata": {
    "collapsed": true
   },
   "outputs": [],
   "source": [
    "vw_pred = pd.read_csv(\"kaggle_data/vw_test_pred_idf.csv\", header=None)\n",
    "vw_subm = class_encoder.inverse_transform(vw_pred-1)"
   ]
  },
  {
   "cell_type": "code",
   "execution_count": 302,
   "metadata": {
    "collapsed": true
   },
   "outputs": [],
   "source": [
    "write_to_submission_file(vw_subm,\n",
    "                         'kaggle_data/22vw_submission_idf.csv')"
   ]
  },
  {
   "cell_type": "markdown",
   "metadata": {},
   "source": [
    "Test: 0.53279"
   ]
  },
  {
   "cell_type": "markdown",
   "metadata": {},
   "source": [
    "# Hyperopt"
   ]
  },
  {
   "cell_type": "code",
   "execution_count": 216,
   "metadata": {
    "collapsed": false,
    "scrolled": true
   },
   "outputs": [
    {
     "name": "stdout",
     "output_type": "stream",
     "text": [
      "Testing with params:\n",
      "{'cubic': 'ibc', 'ftrl': False, 'decay_learning_rate': 0.15341532137608235, 'initial_t': 0.0023950875045329533, 'l': 15.956047017665702, 'q': 'sc', 'power_t': 0.5, 'noconstant': True, 'l2': 3.1159800720391363e-06, 'loss_function': 'logistic', 'l1': 4.033641574122989e-08, 'sort_features': True}\n",
      "Accuracy: 0.0688656507542 \n",
      "\n",
      "Testing with params:\n",
      "{'cubic': 'ibc', 'ftrl': True, 'decay_learning_rate': 0.6663375737519568, 'initial_t': 1.1002656231826977, 'l': 1.2715486730828787, 'q': 'sc', 'power_t': 1, 'noconstant': True, 'l2': 7.311855640729857e-06, 'loss_function': 'logistic', 'l1': 5.5079864352026496e-05, 'sort_features': True}\n",
      "Accuracy: 0.392493391385 \n",
      "\n",
      "Testing with params:\n",
      "{'cubic': 'ibc', 'ftrl': False, 'decay_learning_rate': 0.3827932478851185, 'initial_t': 0.027706171029664762, 'l': 0.059396568297389506, 'q': 'sd', 'power_t': 0.5, 'noconstant': False, 'l2': 8.509792857504779e-05, 'loss_function': 'logistic', 'l1': 6.756020485467812e-08, 'sort_features': True}\n",
      "Accuracy: 0.174681231535 \n",
      "\n",
      "Testing with params:\n",
      "{'cubic': 'ibc', 'ftrl': False, 'decay_learning_rate': 0.03758348306334071, 'initial_t': 0.004319185189550283, 'l': 0.008183055548809826, 'q': 'sc', 'power_t': 0.5, 'noconstant': False, 'l2': 2.399484596658839e-07, 'loss_function': 'logistic', 'l1': 4.824006146934393e-07, 'sort_features': True}\n",
      "Accuracy: 0.0639480640647 \n",
      "\n",
      "Testing with params:\n",
      "{'cubic': 'sbc', 'ftrl': False, 'decay_learning_rate': 0.1829481484161841, 'initial_t': 0.0009879087122230737, 'l': 4.189852833535744, 'q': 'sb', 'power_t': 1, 'noconstant': False, 'l2': 9.312247581103833e-08, 'loss_function': 'hinge', 'l1': 1.1797930463840529e-06, 'sort_features': True}\n",
      "Accuracy: 0.00110791478775 \n",
      "\n",
      "Testing with params:\n",
      "{'cubic': 'ibc', 'ftrl': True, 'decay_learning_rate': 0.2674134496919821, 'initial_t': 0.00014381710264663844, 'l': 1.236401596655125, 'q': 'si', 'power_t': 1, 'noconstant': True, 'l2': 4.2245574016441916e-05, 'loss_function': 'logistic', 'l1': 0.00011953136078189182, 'sort_features': True}\n",
      "Accuracy: 0.375291556523 \n",
      "\n",
      "Testing with params:\n",
      "{'cubic': 'sbc', 'ftrl': True, 'decay_learning_rate': 0.3948967882276379, 'initial_t': 5.7954178116229707e-05, 'l': 7.584024858272227, 'q': 'si', 'power_t': 1, 'noconstant': False, 'l2': 3.852502023479287e-06, 'loss_function': 'logistic', 'l1': 1.2968319096514654e-07, 'sort_features': True}\n",
      "Accuracy: 0.387653553102 \n",
      "\n",
      "Testing with params:\n",
      "{'cubic': 'sbc', 'ftrl': True, 'decay_learning_rate': 0.1825405754689718, 'initial_t': 0.8584261315907106, 'l': 11.38982256405974, 'q': 'si', 'power_t': 0.5, 'noconstant': True, 'l2': 3.9064786166253886e-05, 'loss_function': 'logistic', 'l1': 1.474628542929533e-06, 'sort_features': True}\n",
      "Accuracy: 0.398907634893 \n",
      "\n",
      "Testing with params:\n",
      "{'cubic': 'sbc', 'ftrl': False, 'decay_learning_rate': 0.5835473344907732, 'initial_t': 0.8701095859444932, 'l': 0.01906948857672546, 'q': 'si', 'power_t': 1, 'noconstant': True, 'l2': 6.232978442807035e-08, 'loss_function': 'logistic', 'l1': 2.075259533393153e-06, 'sort_features': True}\n",
      "Accuracy: 0.000291556523091 \n",
      "\n",
      "Testing with params:\n",
      "{'cubic': 'sbc', 'ftrl': False, 'decay_learning_rate': 0.5006575643837018, 'initial_t': 0.01949040939388542, 'l': 7.420350148684404, 'q': 'si', 'power_t': 0.5, 'noconstant': True, 'l2': 1.6577908119737762e-07, 'loss_function': 'logistic', 'l1': 2.127142008243294e-05, 'sort_features': True}\n",
      "Accuracy: 0.233614523402 \n",
      "\n",
      "Testing with params:\n",
      "{'cubic': 'ibc', 'ftrl': False, 'decay_learning_rate': 0.5129056918372971, 'initial_t': 0.005821363707225476, 'l': 7.106356807697313, 'q': 'sc', 'power_t': 1, 'noconstant': True, 'l2': 2.2291314136812548e-05, 'loss_function': 'hinge', 'l1': 6.081404799517071e-08, 'sort_features': True}\n",
      "Accuracy: 0.04760146167 \n",
      "\n",
      "Testing with params:\n",
      "{'cubic': 'sbc', 'ftrl': False, 'decay_learning_rate': 0.8479051138638702, 'initial_t': 1.6498234739496156, 'l': 8.096555461068851, 'q': 'sd', 'power_t': 0.5, 'noconstant': True, 'l2': 1.7221058236074578e-06, 'loss_function': 'logistic', 'l1': 6.125347685407555e-05, 'sort_features': True}\n",
      "Accuracy: 0.000291556523091 \n",
      "\n",
      "Testing with params:\n",
      "{'cubic': 'sbc', 'ftrl': True, 'decay_learning_rate': 0.7519068932457774, 'initial_t': 0.00010280473884765976, 'l': 0.5847970384527815, 'q': 'si', 'power_t': 0.5, 'noconstant': True, 'l2': 3.302512307111614e-07, 'loss_function': 'logistic', 'l1': 8.76516142468857e-06, 'sort_features': True}\n",
      "Accuracy: 0.399024257503 \n",
      "\n",
      "Testing with params:\n",
      "{'cubic': 'ibc', 'ftrl': False, 'decay_learning_rate': 0.8995716829843966, 'initial_t': 0.00359478445489018, 'l': 0.20941672453435572, 'q': 'si', 'power_t': 0.5, 'noconstant': True, 'l2': 1.1902040834958103e-07, 'loss_function': 'logistic', 'l1': 3.511560068415741e-07, 'sort_features': True}\n",
      "Accuracy: 0.110130617322 \n",
      "\n",
      "Testing with params:\n",
      "{'cubic': 'ibc', 'ftrl': True, 'decay_learning_rate': 0.547023770121169, 'initial_t': 9.976652244871139e-05, 'l': 0.554516709594702, 'q': 'sb', 'power_t': 1, 'noconstant': True, 'l2': 4.851176414383387e-08, 'loss_function': 'logistic', 'l1': 3.8567895146794335e-07, 'sort_features': True}\n",
      "Accuracy: 0.39482584357 \n",
      "\n",
      "Testing with params:\n",
      "{'cubic': 'ibc', 'ftrl': False, 'decay_learning_rate': 0.7716468726134884, 'initial_t': 0.14883613872403278, 'l': 0.05018829535750303, 'q': 'sc', 'power_t': 0.5, 'noconstant': True, 'l2': 3.057076369997451e-07, 'loss_function': 'hinge', 'l1': 9.739644018555518e-08, 'sort_features': True}\n",
      "Accuracy: 0.603735810916 \n",
      "\n",
      "Testing with params:\n",
      "{'cubic': 'ibc', 'ftrl': True, 'decay_learning_rate': 0.15241382434106757, 'initial_t': 0.0138813264839508, 'l': 0.7935151073274914, 'q': 'sd', 'power_t': 1, 'noconstant': True, 'l2': 1.7487889329120927e-08, 'loss_function': 'logistic', 'l1': 5.359880932902213e-05, 'sort_features': True}\n",
      "Accuracy: 0.391307728192 \n",
      "\n",
      "Testing with params:\n",
      "{'cubic': 'ibc', 'ftrl': False, 'decay_learning_rate': 0.7252777054773014, 'initial_t': 0.18344928232611116, 'l': 0.0526980099580106, 'q': 'sd', 'power_t': 1, 'noconstant': False, 'l2': 1.5632833618468216e-07, 'loss_function': 'logistic', 'l1': 7.029496455759611e-08, 'sort_features': True}\n",
      "Accuracy: 0.220475042762 \n",
      "\n",
      "Testing with params:\n",
      "{'cubic': 'sbc', 'ftrl': False, 'decay_learning_rate': 0.28909138138302914, 'initial_t': 0.0007140648901918761, 'l': 0.008717374922020293, 'q': 'sd', 'power_t': 1, 'noconstant': True, 'l2': 3.6677968389179494e-08, 'loss_function': 'hinge', 'l1': 1.9318487650799644e-05, 'sort_features': True}\n",
      "Accuracy: 0.000291556523091 \n",
      "\n",
      "Testing with params:\n",
      "{'cubic': 'ibc', 'ftrl': False, 'decay_learning_rate': 0.6949050623253886, 'initial_t': 0.16309725369621708, 'l': 0.007446014851749945, 'q': 'sd', 'power_t': 0.5, 'noconstant': False, 'l2': 3.863047954176838e-07, 'loss_function': 'hinge', 'l1': 5.6357962186552054e-08, 'sort_features': True}\n",
      "Accuracy: 0.505908878868 \n",
      "\n",
      "Testing with params:\n",
      "{'cubic': 'ibc', 'ftrl': False, 'decay_learning_rate': 0.9701190887926925, 'initial_t': 0.12149836513593791, 'l': 0.0287056945881862, 'q': 'sc', 'power_t': 0.5, 'noconstant': False, 'l2': 6.206231972269883e-07, 'loss_function': 'hinge', 'l1': 1.960582823554471e-08, 'sort_features': True}\n",
      "Accuracy: 0.623192349557 \n",
      "\n",
      "Testing with params:\n",
      "{'cubic': 'ibc', 'ftrl': False, 'decay_learning_rate': 0.9973620608597293, 'initial_t': 0.0842018933328282, 'l': 0.1557045374147904, 'q': 'sc', 'power_t': 0.5, 'noconstant': False, 'l2': 6.380052103744174e-07, 'loss_function': 'hinge', 'l1': 1.640436112334864e-08, 'sort_features': True}\n",
      "Accuracy: 0.634660239465 \n",
      "\n",
      "Testing with params:\n",
      "{'cubic': 'ibc', 'ftrl': False, 'decay_learning_rate': 0.9806582631973907, 'initial_t': 0.061641502887012256, 'l': 0.17995930312300606, 'q': 'sc', 'power_t': 0.5, 'noconstant': False, 'l2': 6.226984247760321e-07, 'loss_function': 'hinge', 'l1': 1.540610269960481e-08, 'sort_features': True}\n",
      "Accuracy: 0.634310371637 \n",
      "\n",
      "Testing with params:\n",
      "{'cubic': 'ibc', 'ftrl': False, 'decay_learning_rate': 0.9801434753695966, 'initial_t': 0.048296524757553166, 'l': 0.1894853221788762, 'q': 'sc', 'power_t': 0.5, 'noconstant': False, 'l2': 6.8576922304271e-07, 'loss_function': 'hinge', 'l1': 1.665026936292418e-08, 'sort_features': True}\n",
      "Accuracy: 0.634621365262 \n",
      "\n",
      "Testing with params:\n",
      "{'cubic': 'ibc', 'ftrl': False, 'decay_learning_rate': 0.8748642145358775, 'initial_t': 0.3869509824578105, 'l': 0.14209576375914978, 'q': 'sc', 'power_t': 0.5, 'noconstant': False, 'l2': 9.741862157324703e-07, 'loss_function': 'hinge', 'l1': 2.5364834771501602e-08, 'sort_features': True}\n",
      "Accuracy: 0.627157518271 \n",
      "\n",
      "Testing with params:\n",
      "{'cubic': 'ibc', 'ftrl': False, 'decay_learning_rate': 0.9768321014640805, 'initial_t': 0.049195311051792916, 'l': 0.312213428587478, 'q': 'sb', 'power_t': 0.5, 'noconstant': False, 'l2': 1.0689443252606964e-05, 'loss_function': 'hinge', 'l1': 1.6621414909379645e-07, 'sort_features': True}\n",
      "Accuracy: 0.129626030166 \n",
      "\n",
      "Testing with params:\n",
      "{'cubic': 'ibc', 'ftrl': False, 'decay_learning_rate': 0.8099680473800901, 'initial_t': 0.04989815120847927, 'l': 0.08761380001334816, 'q': 'sc', 'power_t': 0.5, 'noconstant': False, 'l2': 1.6366676633037564e-06, 'loss_function': 'hinge', 'l1': 2.951891566682196e-08, 'sort_features': True}\n",
      "Accuracy: 0.617205722283 \n",
      "\n",
      "Testing with params:\n",
      "{'cubic': 'ibc', 'ftrl': False, 'decay_learning_rate': 0.6235532288020671, 'initial_t': 0.49721139828374095, 'l': 0.021231558938202926, 'q': 'sc', 'power_t': 0.5, 'noconstant': False, 'l2': 1.5883294164120943e-08, 'loss_function': 'hinge', 'l1': 1.813822830482659e-07, 'sort_features': True}\n",
      "Accuracy: 0.573491680921 \n",
      "\n",
      "Testing with params:\n",
      "{'cubic': 'ibc', 'ftrl': False, 'decay_learning_rate': 0.9155505123872935, 'initial_t': 0.008922409927835185, 'l': 0.10799623296353371, 'q': 'sc', 'power_t': 0.5, 'noconstant': False, 'l2': 2.8947975468724215e-06, 'loss_function': 'hinge', 'l1': 1.5464689034214215e-08, 'sort_features': True}\n",
      "Accuracy: 0.533431814648 \n",
      "\n",
      "Testing with params:\n",
      "{'cubic': 'ibc', 'ftrl': False, 'decay_learning_rate': 0.92929920502572, 'initial_t': 0.0016300199091922331, 'l': 0.38186384422897846, 'q': 'sc', 'power_t': 0.5, 'noconstant': False, 'l2': 3.983546163866218e-06, 'loss_function': 'hinge', 'l1': 3.5623231836752607e-06, 'sort_features': True}\n",
      "Accuracy: 0.182728191572 \n",
      "\n",
      "Testing with params:\n",
      "{'cubic': 'ibc', 'ftrl': False, 'decay_learning_rate': 0.831418758019593, 'initial_t': 0.00034839740456237873, 'l': 2.740198681167764, 'q': 'sc', 'power_t': 0.5, 'noconstant': False, 'l2': 8.513611252380539e-06, 'loss_function': 'hinge', 'l1': 3.424845498926773e-08, 'sort_features': True}\n",
      "Accuracy: 0.0659695226248 \n",
      "\n",
      "Testing with params:\n",
      "{'cubic': 'ibc', 'ftrl': False, 'decay_learning_rate': 0.6681050417489989, 'initial_t': 0.40936237722619084, 'l': 1.4493776222035017, 'q': 'sb', 'power_t': 0.5, 'noconstant': False, 'l2': 9.476801849682098e-07, 'loss_function': 'hinge', 'l1': 7.482820295596081e-07, 'sort_features': True}\n",
      "Accuracy: 0.601908723371 \n",
      "\n",
      "Testing with params:\n",
      "{'cubic': 'ibc', 'ftrl': True, 'decay_learning_rate': 0.9961499396365668, 'initial_t': 0.09538240820852814, 'l': 0.30214412678596536, 'q': 'sc', 'power_t': 0.5, 'noconstant': False, 'l2': 2.435919644401167e-06, 'loss_function': 'hinge', 'l1': 2.620595333239903e-07, 'sort_features': True}\n",
      "Accuracy: 0.615242575027 \n",
      "\n",
      "Testing with params:\n",
      "{'cubic': 'ibc', 'ftrl': False, 'decay_learning_rate': 0.43862200716705746, 'initial_t': 2.626549975565652, 'l': 0.033919595014764596, 'q': 'sc', 'power_t': 0.5, 'noconstant': False, 'l2': 2.7485413914971184e-08, 'loss_function': 'hinge', 'l1': 4.078846556054491e-08, 'sort_features': True}\n",
      "Accuracy: 0.614037474732 \n",
      "\n",
      "Testing with params:\n",
      "{'cubic': 'ibc', 'ftrl': False, 'decay_learning_rate': 0.05347304512699924, 'initial_t': 0.027229390147677116, 'l': 0.08140593598687634, 'q': 'sc', 'power_t': 0.5, 'noconstant': False, 'l2': 1.3070312122685725e-05, 'loss_function': 'hinge', 'l1': 4.511490482149487e-06, 'sort_features': True}\n",
      "Accuracy: 0.0407207277251 \n",
      "\n",
      "Testing with params:\n",
      "{'cubic': 'ibc', 'ftrl': True, 'decay_learning_rate': 0.7928062103259332, 'initial_t': 0.008381342936058718, 'l': 1.7065182658139784, 'q': 'sb', 'power_t': 0.5, 'noconstant': False, 'l2': 5.424942479370223e-07, 'loss_function': 'hinge', 'l1': 6.948898587152559e-07, 'sort_features': True}\n",
      "Accuracy: 0.609333696159 \n",
      "\n",
      "Testing with params:\n",
      "{'cubic': 'ibc', 'ftrl': False, 'decay_learning_rate': 0.6235078360284566, 'initial_t': 0.24686825280602814, 'l': 0.014430918755508431, 'q': 'sc', 'power_t': 0.5, 'noconstant': False, 'l2': 5.2865462881820345e-06, 'loss_function': 'hinge', 'l1': 1.0739889393220283e-07, 'sort_features': True}\n",
      "Accuracy: 0.136526201213 \n",
      "\n",
      "Testing with params:\n",
      "{'cubic': 'sbc', 'ftrl': False, 'decay_learning_rate': 0.9318314904142921, 'initial_t': 0.002413156753380314, 'l': 2.650131758316566, 'q': 'sc', 'power_t': 0.5, 'noconstant': False, 'l2': 7.742609589493446e-08, 'loss_function': 'hinge', 'l1': 1.7527679278563712e-08, 'sort_features': True}\n",
      "Accuracy: 0.648032965324 \n",
      "\n",
      "Testing with params:\n",
      "{'cubic': 'sbc', 'ftrl': True, 'decay_learning_rate': 0.2713885489125427, 'initial_t': 0.0003283864094272814, 'l': 3.4924995723962273, 'q': 'sb', 'power_t': 0.5, 'noconstant': False, 'l2': 6.8483604320124e-08, 'loss_function': 'hinge', 'l1': 6.255131564329377e-07, 'sort_features': True}\n",
      "Accuracy: 0.637809049914 \n",
      "\n",
      "Testing with params:\n",
      "{'cubic': 'sbc', 'ftrl': True, 'decay_learning_rate': 0.31593401628864604, 'initial_t': 0.0003449569153918823, 'l': 3.9644030239881753, 'q': 'sb', 'power_t': 1, 'noconstant': False, 'l2': 7.474426012967405e-08, 'loss_function': 'hinge', 'l1': 2.1351397242653735e-06, 'sort_features': True}\n",
      "Accuracy: 0.637361996579 \n",
      "\n",
      "Testing with params:\n",
      "{'cubic': 'sbc', 'ftrl': True, 'decay_learning_rate': 0.08108171217671867, 'initial_t': 0.000292930507980255, 'l': 19.343939326777296, 'q': 'sb', 'power_t': 0.5, 'noconstant': False, 'l2': 0.00012195889087600216, 'loss_function': 'hinge', 'l1': 1.0908121095182828e-05, 'sort_features': True}\n",
      "Accuracy: 0.638217229047 \n",
      "\n",
      "Testing with params:\n",
      "{'cubic': 'sbc', 'ftrl': True, 'decay_learning_rate': 0.09125041729966361, 'initial_t': 5.3030679527582856e-05, 'l': 16.431812629850196, 'q': 'sb', 'power_t': 0.5, 'noconstant': False, 'l2': 0.00011230405988824943, 'loss_function': 'hinge', 'l1': 1.3104401042543879e-05, 'sort_features': True}\n",
      "Accuracy: 0.636778883533 \n",
      "\n",
      "Testing with params:\n",
      "{'cubic': 'sbc', 'ftrl': True, 'decay_learning_rate': 0.411466847406197, 'initial_t': 0.0021642525410544592, 'l': 12.261235955528072, 'q': 'sb', 'power_t': 1, 'noconstant': False, 'l2': 2.2242410671311744e-05, 'loss_function': 'hinge', 'l1': 0.00011558138731280472, 'sort_features': True}\n",
      "Accuracy: 0.638567096875 \n",
      "\n",
      "Testing with params:\n",
      "{'cubic': 'sbc', 'ftrl': True, 'decay_learning_rate': 0.4368335002613456, 'initial_t': 0.002059286253745173, 'l': 2.103498624574011, 'q': 'sb', 'power_t': 1, 'noconstant': False, 'l2': 4.891951649649422e-05, 'loss_function': 'hinge', 'l1': 0.00010438796799041812, 'sort_features': True}\n",
      "Accuracy: 0.637906235422 \n",
      "\n",
      "Testing with params:\n",
      "{'cubic': 'sbc', 'ftrl': True, 'decay_learning_rate': 0.33673500372118365, 'initial_t': 0.0008870111003774404, 'l': 10.17983716238455, 'q': 'si', 'power_t': 1, 'noconstant': False, 'l2': 5.2900173897283345e-05, 'loss_function': 'logistic', 'l1': 4.189913788047066e-05, 'sort_features': True}\n",
      "Accuracy: 0.387536930493 \n",
      "\n",
      "Testing with params:\n",
      "{'cubic': 'sbc', 'ftrl': True, 'decay_learning_rate': 0.22170001409855805, 'initial_t': 0.003696249496435738, 'l': 5.711060022892962, 'q': 'sb', 'power_t': 1, 'noconstant': False, 'l2': 1.835963602725428e-05, 'loss_function': 'hinge', 'l1': 5.803907159576011e-06, 'sort_features': True}\n",
      "Accuracy: 0.638061732234 \n",
      "\n",
      "Testing with params:\n",
      "{'cubic': 'sbc', 'ftrl': True, 'decay_learning_rate': 0.43887708221118027, 'initial_t': 0.001411680513185388, 'l': 0.9326957423518096, 'q': 'si', 'power_t': 1, 'noconstant': True, 'l2': 3.0405595139998475e-05, 'loss_function': 'logistic', 'l1': 0.00011037038263929094, 'sort_features': True}\n",
      "Accuracy: 0.399082568807 \n",
      "\n",
      "Testing with params:\n",
      "{'cubic': 'sbc', 'ftrl': True, 'decay_learning_rate': 0.3688393346153363, 'initial_t': 0.0001938932607872397, 'l': 12.493989176331258, 'q': 'sd', 'power_t': 1, 'noconstant': False, 'l2': 7.904140247940715e-05, 'loss_function': 'hinge', 'l1': 3.1515666809156576e-05, 'sort_features': True}\n",
      "Accuracy: 0.633163582647 \n",
      "\n",
      "Testing with params:\n",
      "{'cubic': 'sbc', 'ftrl': True, 'decay_learning_rate': 0.5571788692088789, 'initial_t': 0.0005943842360217007, 'l': 2.629565850432, 'q': 'sb', 'power_t': 1, 'noconstant': True, 'l2': 5.462201723824011e-06, 'loss_function': 'logistic', 'l1': 1.3454524209467034e-06, 'sort_features': True}\n",
      "Accuracy: 0.421493546882 \n",
      "\n",
      "Testing with params:\n",
      "{'cubic': 'sbc', 'ftrl': True, 'decay_learning_rate': 0.48158874224192416, 'initial_t': 0.0056508930157300186, 'l': 4.885056229032329, 'q': 'sb', 'power_t': 1, 'noconstant': False, 'l2': 2.070344471152254e-07, 'loss_function': 'hinge', 'l1': 2.5167476241058486e-06, 'sort_features': True}\n",
      "Accuracy: 0.637109314259 \n",
      "\n",
      "best:\n",
      "{'cubic': 0, 'ftrl': 1, 'decay_learning_rate': 0.9318314904142921, 'initial_t': 0.002413156753380314, 'l': 2.650131758316566, 'q': 1, 'power_t': 0, 'noconstant': 1, 'l2': 7.742609589493446e-08, 'loss_function': 1, 'l1': 1.7527679278563712e-08, 'sort_features': 0}\n",
      "CPU times: user 15h 49min 58s, sys: 1min 51s, total: 15h 51min 50s\n",
      "Wall time: 15h 47min 24s\n"
     ]
    }
   ],
   "source": [
    "%%time\n",
    "def hyperopt_train_test(params):\n",
    "    with open(\"kaggle_data/train_part_tfidf.vw\") as f:\n",
    "        train_part_file = f.readlines()\n",
    "    \n",
    "    with open(\"kaggle_data/valid_tfidf.vw\") as f:\n",
    "        valid_file = f.readlines()\n",
    "    \n",
    "    model = VW(oaa=550, passes=30, b=26, convert_to_vw=False, **params)\n",
    "    #skf = StratifiedKFold(n_splits=3, shuffle=True)\n",
    "    model.fit(train_part_file)\n",
    "    accuracy = accuracy_score(y_valid, model.predict(valid_file))\n",
    "    return accuracy\n",
    "    #return cross_val_score(model, X=train_part_file, y=y_train, cv=skf, scoring=make_scorer(accuracy_score), n_jobs=3).mean()\n",
    "\n",
    "space4knn = {\n",
    "    'l': hp.loguniform('l', -5, 3),\n",
    "    'initial_t': hp.loguniform('initial_t', -10, 1),\n",
    "    'power_t': hp.choice('power_t', [0.5, 1]),\n",
    "    'decay_learning_rate': hp.uniform('decay_learning_rate', 0.001, 1),\n",
    "    'l2': hp.loguniform('l2', -18, -9),\n",
    "    'l1': hp.loguniform('l1', -18, -9),\n",
    "    'loss_function': hp.choice('loss_function', [\"logistic\", \"hinge\"]),\n",
    "    'sort_features': hp.choice('sort_features', [True]),\n",
    "    'ftrl': hp.choice('ftrl', [True, False]),\n",
    "    'noconstant': hp.choice('noconstant', [True, False]),\n",
    "    'cubic': hp.choice('cubic', ['sbc', 'ibc']),\n",
    "    'q': hp.choice('q', [\"sb\", \"sc\", \"sd\", \"si\"])\n",
    "}\n",
    "\n",
    "def f(params):\n",
    "    print \"Testing with params:\"\n",
    "    print params\n",
    "    acc = hyperopt_train_test(params)\n",
    "    print \"Accuracy:\", acc, \"\\n\"\n",
    "    return {'loss': -acc, 'status': STATUS_OK}\n",
    "\n",
    "trials_wide_range = Trials()\n",
    "#trials_wide_range = MongoTrials('mongo://localhost:1234/mydb/jobs', exp_key='exp1')\n",
    "best = fmin(f, space4knn, algo=tpe.suggest, max_evals=50, trials=trials_wide_range)\n",
    "print 'best:'\n",
    "print best"
   ]
  },
  {
   "cell_type": "code",
   "execution_count": 228,
   "metadata": {
    "collapsed": false,
    "scrolled": true
   },
   "outputs": [
    {
     "data": {
      "text/plain": [
       "{'book_time': datetime.datetime(2017, 1, 4, 5, 7, 53, 856000),\n",
       " 'exp_key': None,\n",
       " 'misc': {'cmd': ('domain_attachment', 'FMinIter_Domain'),\n",
       "  'idxs': {'cubic': [37],\n",
       "   'decay_learning_rate': [37],\n",
       "   'ftrl': [37],\n",
       "   'initial_t': [37],\n",
       "   'l': [37],\n",
       "   'l1': [37],\n",
       "   'l2': [37],\n",
       "   'loss_function': [37],\n",
       "   'noconstant': [37],\n",
       "   'power_t': [37],\n",
       "   'q': [37],\n",
       "   'sort_features': [37]},\n",
       "  'tid': 37,\n",
       "  'vals': {'cubic': [0],\n",
       "   'decay_learning_rate': [0.9318314904142921],\n",
       "   'ftrl': [1],\n",
       "   'initial_t': [0.002413156753380314],\n",
       "   'l': [2.650131758316566],\n",
       "   'l1': [1.7527679278563712e-08],\n",
       "   'l2': [7.742609589493446e-08],\n",
       "   'loss_function': [1],\n",
       "   'noconstant': [1],\n",
       "   'power_t': [0],\n",
       "   'q': [1],\n",
       "   'sort_features': [0]},\n",
       "  'workdir': None},\n",
       " 'owner': None,\n",
       " 'refresh_time': datetime.datetime(2017, 1, 4, 5, 12, 17, 482000),\n",
       " 'result': {'loss': -0.6480329653242108, 'status': 'ok'},\n",
       " 'spec': None,\n",
       " 'state': 2,\n",
       " 'tid': 37,\n",
       " 'version': 0}"
      ]
     },
     "execution_count": 228,
     "metadata": {},
     "output_type": "execute_result"
    }
   ],
   "source": [
    "trials_wide_range.best_trial"
   ]
  },
  {
   "cell_type": "code",
   "execution_count": 227,
   "metadata": {
    "collapsed": false
   },
   "outputs": [
    {
     "data": {
      "image/png": "[encoded data removed]",
      "text/plain": [
       "<matplotlib.figure.Figure at 0x7fec5f7e64d0>"
      ]
     },
     "metadata": {},
     "output_type": "display_data"
    }
   ],
   "source": [
    "parameters = ['l', 'initial_t', 'power_t', 'decay_learning_rate', 'l2', 'l1', 'loss_function', 'cubic', \\\n",
    "             'sort_features', 'ftrl', 'noconstant', 'q']\n",
    "cols = len(parameters)\n",
    "f, axes = plt.subplots(nrows=5, ncols=3, figsize=(15,10))\n",
    "cmap = plt.cm.jet\n",
    "for i, val in enumerate(parameters):\n",
    "    #print i, val\n",
    "    xs = np.array([t['misc']['vals'][val] for t in trials_wide_range.trials]).ravel()\n",
    "    ys = [-t['result']['loss'] for t in trials_wide_range.trials]\n",
    "    xs, ys = zip(*sorted(zip(xs, ys)))\n",
    "    ys = np.array(ys)\n",
    "    axes[i/4,i%3].scatter(xs, ys, s=20, linewidth=0.01, alpha=0.5, c=cmap(float(i)/len(parameters)))\n",
    "    axes[i/4,i%3].set_title(val)\n",
    "    #axes[i/3,i%3].set_ylim([0.9,1.0])"
   ]
  },
  {
   "cell_type": "code",
   "execution_count": null,
   "metadata": {
    "collapsed": true
   },
   "outputs": [],
   "source": []
  }
 ],
 "metadata": {
  "kernelspec": {
   "display_name": "Python 2",
   "language": "python",
   "name": "python2"
  },
  "language_info": {
   "codemirror_mode": {
    "name": "ipython",
    "version": 2
   },
   "file_extension": ".py",
   "mimetype": "text/x-python",
   "name": "python",
   "nbconvert_exporter": "python",
   "pygments_lexer": "ipython2",
   "version": "2.7.12"
  }
 },
 "nbformat": 4,
 "nbformat_minor": 0
}
