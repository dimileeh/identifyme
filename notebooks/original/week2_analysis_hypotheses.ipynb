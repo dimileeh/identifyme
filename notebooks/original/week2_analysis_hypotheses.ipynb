{
 "cells": [
  {
   "cell_type": "markdown",
   "metadata": {},
   "source": [
    "# <center> Идентификация пользователей по посещенным веб-страницам\n",
    "<img src='http://i.istockimg.com/file_thumbview_approve/21546327/5/stock-illustration-21546327-identification-de-l-utilisateur.jpg'>\n",
    "\n",
    "# <center>Неделя 2. Подготовка и первичный анализ данных\n",
    "\n",
    "На второй неделе мы продолжим подготовливать данные для дальнейшего анализа и построения прогнозных моделей. Конкретно, раньше мы определили что сессия – это последовательность из 10 посещенных пользователем сайтов, теперь сделаем длину сессии параметром, и потом при обучении прогнозных моделей выберем лучшую длину сессии.\n",
    "Также мы познакомимся с предобработанными данными и статистически проверим первые гипотезы, связанные с нашими наблюдениями. \n",
    "\n",
    "**План 2 недели:**\n",
    " - Часть 1. Подготовка нескольких обучающих выборок для сравнения\n",
    " - Часть 2. Первичный анализ данных, проверка гипотез\n",
    "\n",
    "**В этой части проекта Вам могут быть полезны  следующие видеозаписи лекций курса \"Построение выводов по данным\":**\n",
    "\n",
    "   - [Доверительные интервалы для доли](https://www.coursera.org/learn/stats-for-data-analysis/lecture/3oi53/dovieritiel-nyie-intiervaly-dlia-doli)\n",
    "   - [Биномиальный критерий для доли](https://www.coursera.org/learn/stats-for-data-analysis/lecture/JwmBw/binomial-nyi-kritierii-dlia-doli)\n",
    "   - [Доверительные интервалы на основе бутстрепа](https://www.coursera.org/learn/stats-for-data-analysis/lecture/GZjW7/dovieritiel-nyie-intiervaly-na-osnovie-butstriepa)\n",
    "   \n",
    "**Кроме того, в задании будут использоваться библиотеки Python [glob](https://docs.python.org/3/library/glob.html), [pickle](https://docs.python.org/2/library/pickle.html), [itertools](https://docs.python.org/3/library/itertools.html) и класс [csr_matrix](https://docs.scipy.org/doc/scipy-0.14.0/reference/generated/scipy.sparse.csr_matrix.html) из scipy.sparse.**"
   ]
  },
  {
   "cell_type": "markdown",
   "metadata": {},
   "source": [
    "## Часть 1. Подготовка нескольких обучающих выборок для сравнения\n",
    "\n",
    "Пока мы брали последовательности из 10 сайтов, и это было наобум. Давайте сделаем число сайтов в сессии параметром, чтоб в дальнейшем сравнить модели классификации, обученные на разных выборках – с 5, 7, 10 и 15 сайтами в сессии. Более того, пока мы брали по 10 сайтов подряд, без пересечения. Теперь давайте применим идею скользящего окна – сессии теперь будут перекрываться. \n",
    "\n",
    "**Пример**: для длины сессии 10 и ширины окна 7 файл из 30 записей породит не 3 сессии, как раньше (1-10, 11-20, 21-30), а 5 (1-10, 8-17, 15-24, 22-30, 29-30). При этом в предпоследней сессии будет один ноль, а в последней – 8 нолей.\n",
    "\n",
    "Создадим неколько выборок для разных сочетаний параметров длины сессии и ширины окна. Все они представлены в табличке ниже:\n",
    "\n",
    "<style type=\"text/css\">\n",
    ".tg  {border-collapse:collapse;border-spacing:0;}\n",
    ".tg td{font-family:Arial, sans-serif;font-size:14px;padding:10px 5px;border-style:solid;border-width:1px;overflow:hidden;word-break:normal;}\n",
    ".tg th{font-family:Arial, sans-serif;font-size:14px;font-weight:normal;padding:10px 5px;border-style:solid;border-width:1px;overflow:hidden;word-break:normal;}\n",
    "</style>\n",
    "<table class=\"tg\">\n",
    "  <tr>\n",
    "    <th class=\"tg-031e\">session_length -&gt;<br>window_size <br></th>\n",
    "    <th class=\"tg-031e\">5</th>\n",
    "    <th class=\"tg-031e\">7</th>\n",
    "    <th class=\"tg-031e\">10</th>\n",
    "    <th class=\"tg-031e\">15</th>\n",
    "  </tr>\n",
    "  <tr>\n",
    "    <td class=\"tg-031e\">5</td>\n",
    "    <td class=\"tg-031e\">v</td>\n",
    "    <td class=\"tg-031e\">v</td>\n",
    "    <td class=\"tg-031e\">v</td>\n",
    "    <td class=\"tg-031e\">v</td>\n",
    "  </tr>\n",
    "  <tr>\n",
    "    <td class=\"tg-031e\">7</td>\n",
    "    <td class=\"tg-031e\"></td>\n",
    "    <td class=\"tg-031e\">v</td>\n",
    "    <td class=\"tg-031e\">v</td>\n",
    "    <td class=\"tg-031e\">v</td>\n",
    "  </tr>\n",
    "  <tr>\n",
    "    <td class=\"tg-031e\">10</td>\n",
    "    <td class=\"tg-031e\"></td>\n",
    "    <td class=\"tg-031e\"></td>\n",
    "    <td class=\"tg-031e\"><font color='green'>v</font></td>\n",
    "    <td class=\"tg-031e\">v</td>\n",
    "  </tr>\n",
    "</table>\n",
    "\n",
    "Итого должно получиться 18 разреженных матриц – указанные в таблице 9 сочетаний параметров формирования сессий для выборок из 10 и 150 пользователей. При этом 2 выборки мы уже сделали в прошлой части, они соответствуют сочетанию параметров: session_length=10, window_size=10, которые помечены в таблице выше галочкой зеленого цвета (done)."
   ]
  },
  {
   "cell_type": "markdown",
   "metadata": {},
   "source": [
    "Реализуйте функцию *prepare_sparse_train_set_window*.\n",
    "\n",
    "Аргументы:\n",
    "- *csv_files_mask* – путь к каталогу с csv-файлами\n",
    "- *site_freq_path* – путь к pickle-файлу с частотным словарем, полученным в 1 части проекта\n",
    "- *session_length* – длина сессии (параметр)\n",
    "- *window_size* – ширина окна (параметр) \n",
    "\n",
    "Функция должна возвращать 2 объекта:\n",
    "- разреженную матрицу *X_sparse* (двухмерная Scipy.sparse.csr_matrix), в которой строки соответствуют сессиям из *session_length* сайтов, а *max(site_id)* столбцов – количеству посещений *site_id* в сессии. \n",
    "- вектор *y* (Numpy array) \"ответов\" в виде ID пользователей, которым принадлежат сессии из *X_sparse*\n",
    "\n",
    "Детали:\n",
    "- Модифицируйте созданную в 1 части функцию *prepare_train_set*\n",
    "- Сессии должны быть уникальными, можно использовать pandas.DataFrame.drop_duplicates\n",
    "- Замеряйте время выполнения итераций цикла с помощью *time* из *time* (или с помощью виджета [log_progress](https://github.com/alexanderkuk/log-progress), [статья](https://habrahabr.ru/post/276725/) о нем на Хабрахабре)\n",
    "- 150 файлов из *capstone_websites_data/150users/* должны обрабатываться за несколько секунд (в зависимости от входных параметров). Если дольше – не страшно, но знайте, что функцию можно ускорить. "
   ]
  },
  {
   "cell_type": "code",
   "execution_count": 1,
   "metadata": {
    "collapsed": false
   },
   "outputs": [
    {
     "name": "stdout",
     "output_type": "stream",
     "text": [
      "Populating the interactive namespace from numpy and matplotlib\n"
     ]
    }
   ],
   "source": [
    "from __future__ import division, print_function\n",
    "# отключим всякие предупреждения Anaconda\n",
    "import warnings\n",
    "warnings.filterwarnings('ignore')\n",
    "from glob import glob\n",
    "import numpy as np\n",
    "import pandas as pd\n",
    "from scipy.sparse import csr_matrix\n",
    "import pickle\n",
    "from scipy import stats\n",
    "from statsmodels.stats.proportion import proportion_confint\n",
    "%matplotlib inline\n",
    "from time import time\n",
    "%pylab inline"
   ]
  },
  {
   "cell_type": "code",
   "execution_count": 26,
   "metadata": {
    "collapsed": true
   },
   "outputs": [],
   "source": [
    "def sparsematrix(X):\n",
    "    indptr = [0]\n",
    "    indices = []\n",
    "    data = []\n",
    "    vocabulary = {}\n",
    "    for d in X:\n",
    "        for term in d:\n",
    "            if term != 0:\n",
    "                index = vocabulary.setdefault(term, len(vocabulary))\n",
    "                indices.append(index)\n",
    "                data.append(1)\n",
    "        indptr.append(len(indices))\n",
    "    return csr_matrix((data, indices, indptr), dtype=int)"
   ]
  },
  {
   "cell_type": "code",
   "execution_count": 66,
   "metadata": {
    "collapsed": true
   },
   "outputs": [],
   "source": [
    "def sitefreq(sites, site_freq={}):\n",
    "    if len(site_freq):\n",
    "        site_id = max(site_freq.items(), key=lambda t: t[1][0])[1][0] + 1\n",
    "    else:\n",
    "        site_id = 1\n",
    "        \n",
    "    for site in sites:\n",
    "        if site not in site_freq:\n",
    "            site_freq[site] = [site_id, 1]\n",
    "            site_id += 1\n",
    "        else:\n",
    "            site_freq[site][1] += 1\n",
    "            \n",
    "    return site_freq"
   ]
  },
  {
   "cell_type": "code",
   "execution_count": 202,
   "metadata": {
    "collapsed": true
   },
   "outputs": [],
   "source": [
    "def prepare_sparse_train_set_window(csv_files_mask, site_freq_path=\"\", \n",
    "                                    session_length=10, window_size=10):\n",
    "    \n",
    "    start = time()\n",
    "    \n",
    "    train_data = np.array([np.zeros(session_length+1)])\n",
    "    site_freq = {}\n",
    "    columns=[\"site\" + str(x) for x in range (1, session_length+1)] + [\"target\"]\n",
    "    \n",
    "    if site_freq_path != \"\":\n",
    "        pkl_file = open(site_freq_path, 'rb')\n",
    "        site_freq = pickle.load(pkl_file)\n",
    "    \n",
    "    for userfile in glob(csv_files_mask):\n",
    "        data = pd.read_csv(userfile, header=None, names=['userid', 'timestamp', 'site'])\n",
    "        user_id = data.userid[0]\n",
    "        session_hash = {}\n",
    "        \n",
    "        if site_freq_path == \"\":\n",
    "            site_freq = sitefreq(data.site, site_freq)\n",
    "        \n",
    "        for i in range (0, len(data), window_size):\n",
    "            session = tuple(data[i:i+session_length].site.apply(lambda x: site_freq[x][0]))           \n",
    "            if session not in session_hash:\n",
    "                session_hash[session] = 1\n",
    "                session = [np.append(session, np.append(np.zeros(session_length - len(session)), user_id))]\n",
    "                train_data = np.concatenate((train_data, session))\n",
    "    \n",
    "    train_data = np.delete(train_data, 0, 0)\n",
    "    #train_data = pd.DataFrame(np.delete(train_data, 0, 0), columns=columns)\n",
    "    X, y = train_data[:, :-1], train_data[:, -1]\n",
    "    X_sparse = sparsematrix(X)\n",
    "\n",
    "    end = time()\n",
    "    print(csv_files_mask)\n",
    "    print(\"Session length:\", session_length, \" Window Size:\", window_size)\n",
    "    print(\"Elapsed time: %f\" % (end - start), \"seconds\\n\")\n",
    "    return X_sparse, y"
   ]
  },
  {
   "cell_type": "markdown",
   "metadata": {},
   "source": [
    "**Примените полученную функцию с параметрами *session_length=5* и *window_size=3* к игрушечному примеру. Убедитесь, что все работает как надо.**"
   ]
  },
  {
   "cell_type": "code",
   "execution_count": 110,
   "metadata": {
    "collapsed": false
   },
   "outputs": [
    {
     "name": "stdout",
     "output_type": "stream",
     "text": [
      "capstone_websites_data/3users_toy/*\n",
      "Session length: 5  Window Size: 3\n",
      "Elapsed time: 0.007159 seconds\n",
      "\n"
     ]
    }
   ],
   "source": [
    "X_toy_s5_w3, y_s5_w3 = prepare_sparse_train_set_window('capstone_websites_data/3users_toy/*', \n",
    "                                                       'capstone_websites_data/site_freq_3users.pkl',\n",
    "                                       session_length=5, window_size=3)"
   ]
  },
  {
   "cell_type": "code",
   "execution_count": 99,
   "metadata": {
    "collapsed": false
   },
   "outputs": [
    {
     "data": {
      "text/plain": [
       "12"
      ]
     },
     "execution_count": 99,
     "metadata": {},
     "output_type": "execute_result"
    }
   ],
   "source": [
    "X_toy_s5_w3.shape[0]"
   ]
  },
  {
   "cell_type": "code",
   "execution_count": 37,
   "metadata": {
    "collapsed": false
   },
   "outputs": [
    {
     "data": {
      "text/plain": [
       "matrix([[1, 2, 2, 0, 0, 0, 0, 0, 0, 0, 0],\n",
       "        [0, 1, 1, 0, 0, 0, 0, 0, 0, 0, 0],\n",
       "        [1, 3, 0, 1, 0, 0, 0, 0, 0, 0, 0],\n",
       "        [0, 1, 0, 1, 1, 1, 1, 0, 0, 0, 0],\n",
       "        [1, 0, 0, 0, 0, 1, 1, 1, 1, 0, 0],\n",
       "        [1, 0, 0, 0, 3, 0, 0, 0, 1, 0, 0],\n",
       "        [0, 0, 0, 0, 2, 0, 0, 0, 0, 0, 0],\n",
       "        [0, 2, 0, 0, 2, 0, 0, 0, 0, 1, 0],\n",
       "        [0, 1, 0, 0, 3, 0, 1, 0, 0, 0, 0],\n",
       "        [0, 0, 0, 0, 1, 0, 1, 0, 0, 2, 1],\n",
       "        [0, 1, 0, 0, 1, 0, 0, 0, 0, 2, 0],\n",
       "        [0, 1, 0, 0, 0, 0, 0, 0, 0, 0, 0]])"
      ]
     },
     "execution_count": 37,
     "metadata": {},
     "output_type": "execute_result"
    }
   ],
   "source": [
    "X_toy_s5_w3.todense()"
   ]
  },
  {
   "cell_type": "code",
   "execution_count": 4,
   "metadata": {
    "collapsed": false
   },
   "outputs": [
    {
     "data": {
      "text/plain": [
       "matrix([[0, 3, 1, 0, 0, 0, 0, 0, 1, 0, 0],\n",
       "        [1, 1, 0, 0, 1, 0, 0, 0, 1, 1, 0],\n",
       "        [0, 0, 1, 0, 1, 0, 1, 1, 0, 1, 0],\n",
       "        [3, 0, 1, 0, 0, 0, 0, 1, 0, 0, 0],\n",
       "        [2, 0, 0, 0, 0, 0, 0, 0, 0, 0, 0],\n",
       "        [0, 2, 1, 0, 0, 2, 0, 0, 0, 0, 0],\n",
       "        [0, 1, 0, 0, 0, 1, 0, 0, 0, 0, 0],\n",
       "        [2, 2, 0, 1, 0, 0, 0, 0, 0, 0, 0],\n",
       "        [3, 1, 0, 0, 1, 0, 0, 0, 0, 0, 0],\n",
       "        [1, 0, 0, 2, 1, 0, 0, 0, 0, 0, 1],\n",
       "        [1, 1, 0, 2, 0, 0, 0, 0, 0, 0, 0],\n",
       "        [0, 1, 0, 0, 0, 0, 0, 0, 0, 0, 0]])"
      ]
     },
     "execution_count": 4,
     "metadata": {},
     "output_type": "execute_result"
    }
   ],
   "source": [
    "X_toy_s5_w3.todense()"
   ]
  },
  {
   "cell_type": "markdown",
   "metadata": {},
   "source": [
    "**Запустите созданную функцию 16 раз с помощью циклов по числу пользователей num_users (10 или 150), значениям параметра *session_length* (15, 10, 7 или 5) и значениям параметра *window_size* (10, 7 или 5). Сериализуйте все 16 разреженных матриц (обучающие выборки) и векторов (метки целевого класса – ID пользователя) в файлы 'capstone_websites_data/X\\_sparse_{num_users}users_s{session_length}_w{window_size}.pkl' и 'capstone\\_websites\\_data/y\\_{num_users}users_s{session_length}_w{window_size}.pkl'.**\n",
    "\n",
    "**Чтоб убедиться, что мы все далее будем работать с идентичными объектами, запишите в список *data_lengths* число строк во всех полученных рареженных матрицах (16 значений). Если какие-то будут совпадать, это нормально (можно сообразить, почему).**\n",
    "\n",
    "**На моем ноутбуке этот участок кода отработал за 45 секунд, хотя понятно, что все зависит от эффективности реализации функции *prepare_sparse_train_set_window* и мощности используемого железа. И честно говоря, моя первая реализация была намного менее эффективной (34 минуты), так что тут у Вас есть возможность оптимизировать свой код.**"
   ]
  },
  {
   "cell_type": "code",
   "execution_count": 208,
   "metadata": {
    "collapsed": false,
    "scrolled": true
   },
   "outputs": [
    {
     "name": "stdout",
     "output_type": "stream",
     "text": [
      "Unordered results:\n",
      "capstone_websites_data/10users/*\n",
      "Session length: 15  Window Size: 10\n",
      "Elapsed time: 26.050043 seconds\n",
      "\n",
      "capstone_websites_data/10users/*\n",
      "Session length: 7  Window Size: 7\n",
      "Elapsed time: 33.532131 seconds\n",
      "\n",
      "capstone_websites_data/10users/*\n",
      "Session length: 10  Window Size: 7\n",
      "Elapsed time: 34.013579 seconds\n",
      "\n",
      "capstone_websites_data/10users/*\n",
      "Session length: 15  Window Size: 7\n",
      "Elapsed time: 40.689723 seconds\n",
      "\n",
      "capstone_websites_data/10users/*\n",
      "Session length: 5  Window Size: 5\n",
      "Elapsed time: 43.640386 seconds\n",
      "\n",
      "capstone_websites_data/10users/*\n",
      "Session length: 7  Window Size: 5\n",
      "Elapsed time: 49.042748 seconds\n",
      "\n",
      "capstone_websites_data/10users/*\n",
      "Session length: 10  Window Size: 5\n",
      "Elapsed time: 58.425575 seconds\n",
      "\n",
      "capstone_websites_data/10users/*\n",
      "Session length: 15  Window Size: 5\n",
      "Elapsed time: 68.297566 seconds\n",
      "\n",
      "capstone_websites_data/150users/*\n",
      "Session length: 15  Window Size: 10\n",
      "Elapsed time: 761.625602 seconds\n",
      "\n",
      "capstone_websites_data/150users/*\n",
      "Session length: 7  Window Size: 7\n",
      "Elapsed time: 800.041184 seconds\n",
      "\n",
      "capstone_websites_data/150users/*\n",
      "Session length: 10  Window Size: 7\n",
      "Elapsed time: 1010.325163 seconds\n",
      "\n",
      "capstone_websites_data/150users/*\n",
      "Session length: 5  Window Size: 5\n",
      "Elapsed time: 1014.003204 seconds\n",
      "\n",
      "capstone_websites_data/150users/*\n",
      "Session length: 7  Window Size: 5\n",
      "Elapsed time: 1209.678622 seconds\n",
      "\n",
      "capstone_websites_data/150users/*\n",
      "Session length: 15  Window Size: 7\n",
      "Elapsed time: 1219.865350 seconds\n",
      "\n",
      "capstone_websites_data/150users/*\n",
      "Session length: 10  Window Size: 5\n",
      "Elapsed time: 1340.462796 seconds\n",
      "\n",
      "capstone_websites_data/150users/*\n",
      "Session length: 15  Window Size: 5\n",
      "Elapsed time: 1471.925002 seconds\n",
      "\n",
      "CPU times: user 9.37 s, sys: 6.7 s, total: 16.1 s\n",
      "Wall time: 24min 35s\n"
     ]
    }
   ],
   "source": [
    "%%time\n",
    "from multiprocessing import Process, Queue, current_process, freeze_support\n",
    "import itertools\n",
    "\n",
    "data_lengths = []\n",
    "\n",
    "#\n",
    "# Function run by worker processes\n",
    "#\n",
    "\n",
    "def worker(input, output):\n",
    "    for func, args in iter(input.get, 'STOP'):\n",
    "        result = calculate(func, args)\n",
    "        output.put(result)\n",
    "\n",
    "#\n",
    "# Function used to calculate result\n",
    "#\n",
    "\n",
    "def calculate(func, args):\n",
    "    result = func(*args)\n",
    "    #return '%s says that %s%s = %s' % \\\n",
    "        #(current_process().name, func.__name__, args, result)\n",
    "    return result\n",
    "\n",
    "\n",
    "def multithreadrun():\n",
    "    data_lengths = {}\n",
    "    NUMBER_OF_PROCESSES = 16\n",
    "    TASKS = []\n",
    "    counter = 0 # to keep the order of output data_lengths\n",
    "    for num_users in [10, 150]:\n",
    "        for window_size, session_length in itertools.product([10, 7, 5], [15, 10, 7, 5]):\n",
    "            if window_size <= session_length and (window_size, session_length) != (10, 10):\n",
    "                TASKS.append(((pickles, (num_users, session_length, window_size, counter))))\n",
    "                counter += 1\n",
    "    \n",
    "    # Create queues\n",
    "    task_queue = Queue()\n",
    "    done_queue = Queue()\n",
    "    \n",
    "    # Submit tasks\n",
    "    for task in TASKS:\n",
    "        task_queue.put(task)\n",
    "        \n",
    "    # Start worker processes\n",
    "    for i in range(NUMBER_OF_PROCESSES):\n",
    "        Process(target=worker, args=(task_queue, done_queue)).start()\n",
    "        \n",
    "    # Get and print results\n",
    "    print ('Unordered results:')\n",
    "    for i in range(len(TASKS)):\n",
    "        res = done_queue.get()\n",
    "        data_lengths[res[0]] = res[1]\n",
    "        #print ('\\t', done_queue.get())\n",
    "        \n",
    "    # Tell child processes to stop\n",
    "    for i in range(NUMBER_OF_PROCESSES):\n",
    "        task_queue.put('STOP')\n",
    "    \n",
    "    #print (sorted(data_lengths.items()))\n",
    "    return [x[1] for x in sorted(data_lengths.items())]\n",
    "    \n",
    "if __name__ == '__main__':\n",
    "    freeze_support()\n",
    "    data_lengths = multithreadrun()"
   ]
  },
  {
   "cell_type": "code",
   "execution_count": 205,
   "metadata": {
    "collapsed": false
   },
   "outputs": [],
   "source": [
    "def pickles(num_users, session_length, window_size, counter):\n",
    "    if window_size <= session_length and (window_size, session_length) != (10, 10):\n",
    "        X_sparse, y = prepare_sparse_train_set_window('capstone_websites_data/'+str(num_users)+'users/*', \n",
    "                                                           'capstone_websites_data/site_freq_'+str(num_users)+'users.pkl',\n",
    "                                                           session_length=session_length, window_size=window_size)\n",
    "        with open('capstone_websites_data/X_sparse_'+str(num_users)+'users_s'+str(session_length)+'_w'+str(window_size)+'.pkl', 'wb') as X_pkl:\n",
    "            pickle.dump(X_sparse, X_pkl)\n",
    "        with open('capstone_websites_data/y_'+str(num_users)+'users_s'+str(session_length)+'_w'+str(window_size)+'.pkl', 'wb') as y_pkl:\n",
    "            pickle.dump(y, y_pkl)\n",
    "        return (counter, X_sparse.shape[0])\n",
    "    else:\n",
    "        return None"
   ]
  },
  {
   "cell_type": "code",
   "execution_count": 167,
   "metadata": {
    "collapsed": false,
    "scrolled": true
   },
   "outputs": [
    {
     "name": "stdout",
     "output_type": "stream",
     "text": [
      "capstone_websites_data/10users/*\n",
      "Session length: 15  Window Size: 10\n",
      "Elapsed time: 4.048364 seconds\n",
      "\n",
      "capstone_websites_data/10users/*\n",
      "Session length: 15  Window Size: 7\n",
      "Elapsed time: 6.158582 seconds\n",
      "\n",
      "capstone_websites_data/10users/*\n",
      "Session length: 10  Window Size: 7\n",
      "Elapsed time: 6.099041 seconds\n",
      "\n",
      "capstone_websites_data/10users/*\n",
      "Session length: 7  Window Size: 7\n",
      "Elapsed time: 6.076939 seconds\n",
      "\n",
      "capstone_websites_data/10users/*\n",
      "Session length: 15  Window Size: 5\n",
      "Elapsed time: 10.688160 seconds\n",
      "\n",
      "capstone_websites_data/10users/*\n",
      "Session length: 10  Window Size: 5\n",
      "Elapsed time: 8.052155 seconds\n",
      "\n",
      "capstone_websites_data/10users/*\n",
      "Session length: 7  Window Size: 5\n",
      "Elapsed time: 7.310144 seconds\n",
      "\n",
      "capstone_websites_data/10users/*\n",
      "Session length: 5  Window Size: 5\n",
      "Elapsed time: 7.109303 seconds\n",
      "\n",
      "CPU times: user 57.5 s, sys: 520 ms, total: 58 s\n",
      "Wall time: 57.1 s\n"
     ]
    }
   ],
   "source": [
    "# Single-threaded alternative\n",
    "%%time\n",
    "import itertools\n",
    "\n",
    "data_lengths = []\n",
    "\n",
    "for num_users in [10, 150]:\n",
    "    for window_size, session_length in itertools.product([10, 7, 5], [15, 10, 7, 5]):\n",
    "        if window_size <= session_length and (window_size, session_length) != (10, 10):\n",
    "            X_sparse, y = prepare_sparse_train_set_window('capstone_websites_data/'+str(num_users)+'users/*', \n",
    "                                                       'capstone_websites_data/site_freq_'+str(num_users)+'users.pkl',\n",
    "                                                       session_length=session_length, window_size=window_size)\n",
    "            \n",
    "            with open('capstone_websites_data/X_sparse_'+str(num_users)+'users_s'+str(session_length)+'_w'+str(window_size)+'.pkl', 'wb') as X_pkl:\n",
    "                pickle.dump(X_sparse, X_pkl)\n",
    "            with open('capstone_websites_data/y_'+str(num_users)+'users_s'+str(session_length)+'_w'+str(window_size)+'.pkl', 'wb') as y_pkl:\n",
    "                pickle.dump(y, y_pkl)\n",
    "            data_lengths.append(X_sparse.shape[0])"
   ]
  },
  {
   "cell_type": "markdown",
   "metadata": {},
   "source": [
    "**Запишите в файл *answer2_1.txt* все числа из списка *data_lengths* через пробел. Полученный файл будет ответом на 1 вопрос теста.**"
   ]
  },
  {
   "cell_type": "code",
   "execution_count": 102,
   "metadata": {
    "collapsed": true
   },
   "outputs": [],
   "source": [
    "def write_answer_to_file(answer, file_address):\n",
    "    with open(file_address, 'w') as out_f:\n",
    "        out_f.write(str(answer))"
   ]
  },
  {
   "cell_type": "code",
   "execution_count": 210,
   "metadata": {
    "collapsed": false
   },
   "outputs": [
    {
     "data": {
      "text/plain": [
       "'13554 19297 18490 17611 26889 25683 24376 22539 132629 189138 186063 181281 264261 259440 251786 237928'"
      ]
     },
     "execution_count": 210,
     "metadata": {},
     "output_type": "execute_result"
    }
   ],
   "source": [
    "datal = \" \".join(str(x) for x in data_lengths)\n",
    "datal"
   ]
  },
  {
   "cell_type": "code",
   "execution_count": 211,
   "metadata": {
    "collapsed": false
   },
   "outputs": [],
   "source": [
    "write_answer_to_file(datal, \n",
    "                     'answer2_1.txt')"
   ]
  },
  {
   "cell_type": "markdown",
   "metadata": {},
   "source": [
    "## Часть 2. Первичный анализ данных, проверка гипотез"
   ]
  },
  {
   "cell_type": "markdown",
   "metadata": {},
   "source": [
    "**Считаем в DataFrame подготовленный на 1 неделе файл train_data_10users.csv. Далее будем работать с ним.**"
   ]
  },
  {
   "cell_type": "code",
   "execution_count": 5,
   "metadata": {
    "collapsed": false
   },
   "outputs": [],
   "source": [
    "train_df = pd.read_csv('capstone_websites_data/train_data_10users.csv', \n",
    "                       index_col='session_id')"
   ]
  },
  {
   "cell_type": "code",
   "execution_count": 6,
   "metadata": {
    "collapsed": false
   },
   "outputs": [
    {
     "data": {
      "text/html": [
       "<div>\n",
       "<table border=\"1\" class=\"dataframe\">\n",
       "  <thead>\n",
       "    <tr style=\"text-align: right;\">\n",
       "      <th></th>\n",
       "      <th>site1</th>\n",
       "      <th>site2</th>\n",
       "      <th>site3</th>\n",
       "      <th>site4</th>\n",
       "      <th>site5</th>\n",
       "      <th>site6</th>\n",
       "      <th>site7</th>\n",
       "      <th>site8</th>\n",
       "      <th>site9</th>\n",
       "      <th>site10</th>\n",
       "      <th>target</th>\n",
       "    </tr>\n",
       "    <tr>\n",
       "      <th>session_id</th>\n",
       "      <th></th>\n",
       "      <th></th>\n",
       "      <th></th>\n",
       "      <th></th>\n",
       "      <th></th>\n",
       "      <th></th>\n",
       "      <th></th>\n",
       "      <th></th>\n",
       "      <th></th>\n",
       "      <th></th>\n",
       "      <th></th>\n",
       "    </tr>\n",
       "  </thead>\n",
       "  <tbody>\n",
       "    <tr>\n",
       "      <th>0</th>\n",
       "      <td>1</td>\n",
       "      <td>2</td>\n",
       "      <td>3</td>\n",
       "      <td>4</td>\n",
       "      <td>5</td>\n",
       "      <td>1</td>\n",
       "      <td>2</td>\n",
       "      <td>4</td>\n",
       "      <td>5</td>\n",
       "      <td>3</td>\n",
       "      <td>128</td>\n",
       "    </tr>\n",
       "    <tr>\n",
       "      <th>1</th>\n",
       "      <td>3</td>\n",
       "      <td>6</td>\n",
       "      <td>7</td>\n",
       "      <td>8</td>\n",
       "      <td>6</td>\n",
       "      <td>8</td>\n",
       "      <td>7</td>\n",
       "      <td>8</td>\n",
       "      <td>9</td>\n",
       "      <td>1</td>\n",
       "      <td>128</td>\n",
       "    </tr>\n",
       "    <tr>\n",
       "      <th>2</th>\n",
       "      <td>3</td>\n",
       "      <td>9</td>\n",
       "      <td>7</td>\n",
       "      <td>3</td>\n",
       "      <td>10</td>\n",
       "      <td>11</td>\n",
       "      <td>8</td>\n",
       "      <td>8</td>\n",
       "      <td>10</td>\n",
       "      <td>8</td>\n",
       "      <td>128</td>\n",
       "    </tr>\n",
       "    <tr>\n",
       "      <th>3</th>\n",
       "      <td>8</td>\n",
       "      <td>7</td>\n",
       "      <td>3</td>\n",
       "      <td>3</td>\n",
       "      <td>11</td>\n",
       "      <td>3</td>\n",
       "      <td>3</td>\n",
       "      <td>12</td>\n",
       "      <td>12</td>\n",
       "      <td>13</td>\n",
       "      <td>128</td>\n",
       "    </tr>\n",
       "    <tr>\n",
       "      <th>4</th>\n",
       "      <td>13</td>\n",
       "      <td>9</td>\n",
       "      <td>10</td>\n",
       "      <td>12</td>\n",
       "      <td>12</td>\n",
       "      <td>13</td>\n",
       "      <td>12</td>\n",
       "      <td>12</td>\n",
       "      <td>14</td>\n",
       "      <td>15</td>\n",
       "      <td>128</td>\n",
       "    </tr>\n",
       "  </tbody>\n",
       "</table>\n",
       "</div>"
      ],
      "text/plain": [
       "            site1  site2  site3  site4  site5  site6  site7  site8  site9  \\\n",
       "session_id                                                                  \n",
       "0               1      2      3      4      5      1      2      4      5   \n",
       "1               3      6      7      8      6      8      7      8      9   \n",
       "2               3      9      7      3     10     11      8      8     10   \n",
       "3               8      7      3      3     11      3      3     12     12   \n",
       "4              13      9     10     12     12     13     12     12     14   \n",
       "\n",
       "            site10  target  \n",
       "session_id                  \n",
       "0                3     128  \n",
       "1                1     128  \n",
       "2                8     128  \n",
       "3               13     128  \n",
       "4               15     128  "
      ]
     },
     "execution_count": 6,
     "metadata": {},
     "output_type": "execute_result"
    }
   ],
   "source": [
    "train_df.head()"
   ]
  },
  {
   "cell_type": "code",
   "execution_count": 5,
   "metadata": {
    "collapsed": false
   },
   "outputs": [
    {
     "name": "stdout",
     "output_type": "stream",
     "text": [
      "<class 'pandas.core.frame.DataFrame'>\n",
      "Int64Index: 13084 entries, 0 to 14060\n",
      "Data columns (total 11 columns):\n",
      "site1     13084 non-null int64\n",
      "site2     13084 non-null int64\n",
      "site3     13084 non-null int64\n",
      "site4     13084 non-null int64\n",
      "site5     13084 non-null int64\n",
      "site6     13084 non-null int64\n",
      "site7     13084 non-null int64\n",
      "site8     13084 non-null int64\n",
      "site9     13084 non-null int64\n",
      "site10    13084 non-null int64\n",
      "target    13084 non-null int64\n",
      "dtypes: int64(11)\n",
      "memory usage: 1.2 MB\n"
     ]
    }
   ],
   "source": [
    "train_df.info()"
   ]
  },
  {
   "cell_type": "markdown",
   "metadata": {},
   "source": [
    "**Распределение целевого класса:**"
   ]
  },
  {
   "cell_type": "code",
   "execution_count": 215,
   "metadata": {
    "collapsed": false
   },
   "outputs": [
    {
     "data": {
      "text/plain": [
       "128    2340\n",
       "39     1964\n",
       "207    1853\n",
       "127    1652\n",
       "237    1612\n",
       "33      993\n",
       "31      751\n",
       "50      747\n",
       "100     649\n",
       "241     523\n",
       "Name: target, dtype: int64"
      ]
     },
     "execution_count": 215,
     "metadata": {},
     "output_type": "execute_result"
    }
   ],
   "source": [
    "train_df['target'].value_counts()"
   ]
  },
  {
   "cell_type": "markdown",
   "metadata": {},
   "source": [
    "**Посчитаем распределение числа уникальных сайтов в каждой сессии из 10 посещенных подряд сайтов.**"
   ]
  },
  {
   "cell_type": "code",
   "execution_count": 216,
   "metadata": {
    "collapsed": true
   },
   "outputs": [],
   "source": [
    "num_unique_sites = [np.unique(train_df.values[i, :-1]).shape[0] \n",
    "                    for i in range(train_df.shape[0])]"
   ]
  },
  {
   "cell_type": "code",
   "execution_count": 368,
   "metadata": {
    "collapsed": false
   },
   "outputs": [
    {
     "data": {
      "text/plain": [
       "array([ 1,  2,  3,  4,  5,  6,  7,  8,  9, 10])"
      ]
     },
     "execution_count": 368,
     "metadata": {},
     "output_type": "execute_result"
    }
   ],
   "source": [
    "np.unique(num_unique_sites)"
   ]
  },
  {
   "cell_type": "code",
   "execution_count": 217,
   "metadata": {
    "collapsed": false
   },
   "outputs": [
    {
     "data": {
      "text/plain": [
       "7     2244\n",
       "6     2242\n",
       "5     1870\n",
       "8     1768\n",
       "4     1289\n",
       "9     1101\n",
       "3     1067\n",
       "2      993\n",
       "10     427\n",
       "1       83\n",
       "dtype: int64"
      ]
     },
     "execution_count": 217,
     "metadata": {},
     "output_type": "execute_result"
    }
   ],
   "source": [
    "pd.Series(num_unique_sites).value_counts()"
   ]
  },
  {
   "cell_type": "code",
   "execution_count": 218,
   "metadata": {
    "collapsed": false
   },
   "outputs": [
    {
     "data": {
      "image/png": "[encoded data removed]",
      "text/plain": [
       "<matplotlib.figure.Figure at 0x7fc3334e2b90>"
      ]
     },
     "metadata": {},
     "output_type": "display_data"
    }
   ],
   "source": [
    "pd.Series(num_unique_sites).hist();"
   ]
  },
  {
   "cell_type": "markdown",
   "metadata": {},
   "source": [
    "**Проверьте с помощью QQ-плота и критерия Шапиро-Уилка, что эта величина распределена нормально. Сделайте вывод. Ответ на второй вопрос в тесте будет файл со словом \"YES\" или \"NO\" в зависимости от того, распределено ли нормально число уникальных сайтов в сессии.**"
   ]
  },
  {
   "cell_type": "code",
   "execution_count": 226,
   "metadata": {
    "collapsed": false
   },
   "outputs": [
    {
     "data": {
      "image/png": "[encoded data removed]",
      "text/plain": [
       "<matplotlib.figure.Figure at 0x7fc3338a8890>"
      ]
     },
     "metadata": {},
     "output_type": "display_data"
    }
   ],
   "source": [
    "pylab.figure(figsize=(12,8))\n",
    "pylab.subplot(1,2,1)\n",
    "stats.probplot(num_unique_sites, dist=\"norm\", plot=pylab)\n",
    "pylab.show()"
   ]
  },
  {
   "cell_type": "code",
   "execution_count": 228,
   "metadata": {
    "collapsed": false
   },
   "outputs": [
    {
     "name": "stdout",
     "output_type": "stream",
     "text": [
      "Shapiro-Wilk normality test, W-statistic: 0.962276, p-value: 0.000000\n"
     ]
    }
   ],
   "source": [
    "print (\"Shapiro-Wilk normality test, W-statistic: %f, p-value: %f\" % stats.shapiro(num_unique_sites))"
   ]
  },
  {
   "cell_type": "code",
   "execution_count": 229,
   "metadata": {
    "collapsed": true
   },
   "outputs": [],
   "source": [
    "write_answer_to_file(\"NO\", \n",
    "                     'answer2_2.txt')"
   ]
  },
  {
   "cell_type": "markdown",
   "metadata": {},
   "source": [
    "**Проверьте гипотезу о том, что пользователь хотя бы раз зайдет на сайт, который он уже ранее посетил в сессии из 10 сайтов. Конкретно, проверьте с помощью биномиального критерия для доли, что доля случаев, когда пользователь повторно посетил какой-то сайт (то есть число уникальных сайтов в сессии < 10) велика: больше 95% (обратите внимание, что альтернатива тому, что доля равна 95% –  одностороняя). Ответом на 3 вопрос в тесте будет порядок полученного p-value (например, если p=2.3e-4, то ответ будет -4).**"
   ]
  },
  {
   "cell_type": "code",
   "execution_count": 230,
   "metadata": {
    "collapsed": true
   },
   "outputs": [],
   "source": [
    "has_two_similar = (np.array(num_unique_sites) < 10).astype('int')"
   ]
  },
  {
   "cell_type": "code",
   "execution_count": 241,
   "metadata": {
    "collapsed": false
   },
   "outputs": [
    {
     "data": {
      "text/plain": [
       "13084"
      ]
     },
     "execution_count": 241,
     "metadata": {},
     "output_type": "execute_result"
    }
   ],
   "source": [
    "len(has_two_similar)"
   ]
  },
  {
   "cell_type": "code",
   "execution_count": 250,
   "metadata": {
    "collapsed": false
   },
   "outputs": [
    {
     "data": {
      "text/plain": [
       "12657"
      ]
     },
     "execution_count": 250,
     "metadata": {},
     "output_type": "execute_result"
    }
   ],
   "source": [
    "sum(has_two_similar)"
   ]
  },
  {
   "cell_type": "code",
   "execution_count": 257,
   "metadata": {
    "collapsed": false
   },
   "outputs": [
    {
     "data": {
      "text/plain": [
       "1.9143919813300797e-22"
      ]
     },
     "execution_count": 257,
     "metadata": {},
     "output_type": "execute_result"
    }
   ],
   "source": [
    "stats.binom_test(x=sum(has_two_similar), n=len(has_two_similar), p=0.95, alternative = 'greater')"
   ]
  },
  {
   "cell_type": "markdown",
   "metadata": {},
   "source": [
    "Да, p-value очень мало, то есть доля таких случаев существенно больше 95%"
   ]
  },
  {
   "cell_type": "code",
   "execution_count": 258,
   "metadata": {
    "collapsed": true
   },
   "outputs": [],
   "source": [
    "write_answer_to_file(-22, \n",
    "                     'answer2_3.txt')"
   ]
  },
  {
   "cell_type": "markdown",
   "metadata": {},
   "source": [
    "**Постройте для этой доли 95% доверительный интервал Уилсона. Округлите границы интервала до 3 знаков после запятой и запишите через пробел в файл *answer2_4.txt*. Это будет ответов на 4 вопрос теста.**"
   ]
  },
  {
   "cell_type": "code",
   "execution_count": 261,
   "metadata": {
    "collapsed": false
   },
   "outputs": [
    {
     "data": {
      "text/plain": [
       "(0.96418039542443412, 0.97027468935636896)"
      ]
     },
     "execution_count": 261,
     "metadata": {},
     "output_type": "execute_result"
    }
   ],
   "source": [
    "wilson_interval = proportion_confint(sum(has_two_similar), len(has_two_similar), method = 'wilson')\n",
    "wilson_interval"
   ]
  },
  {
   "cell_type": "code",
   "execution_count": 260,
   "metadata": {
    "collapsed": true
   },
   "outputs": [],
   "source": [
    "write_answer_to_file('{} {}'.format(round(wilson_interval[0], 3),\n",
    "                                   round(wilson_interval[1], 3)), \n",
    "                     'answer2_4.txt')"
   ]
  },
  {
   "cell_type": "markdown",
   "metadata": {},
   "source": [
    "**Постройте распределение частоты посещения сайтов (сколько раз тот или иной сайт попадается в выборке) для сайтов, которые были посещены как минимум 1000 раз.**"
   ]
  },
  {
   "cell_type": "code",
   "execution_count": 315,
   "metadata": {
    "collapsed": false
   },
   "outputs": [
    {
     "data": {
      "text/plain": [
       "{'accounts.google.com': [1, 2089],\n",
       " 'accounts.youtube.com': [2, 1057],\n",
       " 'apis.google.com': [7, 3758],\n",
       " 'clients1.google.com': [182, 1493],\n",
       " 'clients6.google.com': [53, 1039],\n",
       " 'download.jboss.org': [2744, 1441],\n",
       " 'fr-mg42.mail.yahoo.com': [57, 1868],\n",
       " 'i1.ytimg.com': [175, 1232],\n",
       " 'mail.google.com': [3, 4158],\n",
       " 'platform.twitter.com': [43, 1041],\n",
       " 'plus.google.com': [8, 2630],\n",
       " 'r1---sn-gxo5uxg-jqbe.googlevideo.com': [186, 3094],\n",
       " 'r2---sn-gxo5uxg-jqbe.googlevideo.com': [189, 1939],\n",
       " 'r3---sn-gxo5uxg-jqbe.googlevideo.com': [177, 3244],\n",
       " 'r4---sn-gxo5uxg-jqbe.googlevideo.com': [184, 1702],\n",
       " 's-static.ak.facebook.com': [44, 1388],\n",
       " 's.youtube.com': [176, 8300],\n",
       " 'safebrowsing-cache.google.com': [913, 1039],\n",
       " 'static.ak.facebook.com': [93, 1265],\n",
       " 'translate.google.fr': [1256, 1002],\n",
       " 'twitter.com': [90, 1204],\n",
       " 'www.facebook.com': [45, 4141],\n",
       " 'www.google.com': [9, 5441],\n",
       " 'www.google.fr': [28, 7813],\n",
       " 'www.youtube.com': [174, 1804]}"
      ]
     },
     "execution_count": 315,
     "metadata": {},
     "output_type": "execute_result"
    }
   ],
   "source": [
    "pkl_file = open('capstone_websites_data/site_freq_10users.pkl', 'rb')\n",
    "site_freqs = pickle.load(pkl_file)\n",
    "{k: v for k, v in site_freqs.iteritems() if v[1] > 1000}"
   ]
  },
  {
   "cell_type": "markdown",
   "metadata": {},
   "source": [
    "**Постройте 95% доверительный интервал для средней частоты появления сайта в выборке (во всей, уже не только для тех сайтов, что были посещены как минимум 1000 раз) на основе bootstrap. Используйте столько же bootstrap-подвыборок, сколько сайтов оказалось в исходной выборке по 10 пользователям. Берите подвыборки из посчитанного списка частот посещений сайтов – не надо заново считать эти частоты. Учтите, что частоту появления нуля (сайт с индексом 0 появлялся там, где сессии были короче 10 сайтов) включать не надо. Округлите границы интервала до 3 знаков после запятой и запишите через пробел в файл *answer2_5.txt*. Это будет ответом на 5 вопрос теста.**"
   ]
  },
  {
   "cell_type": "code",
   "execution_count": 7,
   "metadata": {
    "collapsed": false
   },
   "outputs": [],
   "source": [
    "x = train_df.values[:, :-1].flatten()\n",
    "x = x[np.nonzero(x)]"
   ]
  },
  {
   "cell_type": "code",
   "execution_count": 8,
   "metadata": {
    "collapsed": false
   },
   "outputs": [
    {
     "data": {
      "text/plain": [
       "130804"
      ]
     },
     "execution_count": 8,
     "metadata": {},
     "output_type": "execute_result"
    }
   ],
   "source": [
    "len(x)"
   ]
  },
  {
   "cell_type": "code",
   "execution_count": 13,
   "metadata": {
    "collapsed": false
   },
   "outputs": [],
   "source": [
    "samples = get_bootstrap_samples(np.array(x), 4913)"
   ]
  },
  {
   "cell_type": "code",
   "execution_count": 10,
   "metadata": {
    "collapsed": false
   },
   "outputs": [],
   "source": [
    "meanfreqs = []\n",
    "for sample in samples:\n",
    "    y = np.bincount(sample)\n",
    "    ii = np.nonzero(y)[0]\n",
    "    freq = zip(ii, y[ii])\n",
    "    only_freq = [f for i, f in freq]\n",
    "    meanfreq = mean(only_freq)\n",
    "    meanfreqs.append(meanfreq)"
   ]
  },
  {
   "cell_type": "code",
   "execution_count": 11,
   "metadata": {
    "collapsed": false
   },
   "outputs": [
    {
     "data": {
      "text/plain": [
       "31.220095158131894"
      ]
     },
     "execution_count": 11,
     "metadata": {},
     "output_type": "execute_result"
    }
   ],
   "source": [
    "mean(meanfreqs)"
   ]
  },
  {
   "cell_type": "code",
   "execution_count": 457,
   "metadata": {
    "collapsed": false
   },
   "outputs": [
    {
     "name": "stdout",
     "output_type": "stream",
     "text": [
      "95% confidence interval: [ 30.89371752  31.54183747]\n"
     ]
    }
   ],
   "source": [
    "print (\"95% confidence interval:\",  stat_intervals(meanfreqs, 0.05))"
   ]
  },
  {
   "cell_type": "code",
   "execution_count": 459,
   "metadata": {
    "collapsed": false
   },
   "outputs": [],
   "source": [
    "y = np.bincount(x)\n",
    "ii = np.nonzero(y)[0]\n",
    "new_freqs = zip(ii,y[ii])\n",
    "new_only_freqs = [f for i, f in new_freqs]"
   ]
  },
  {
   "cell_type": "code",
   "execution_count": 460,
   "metadata": {
    "collapsed": false
   },
   "outputs": [
    {
     "data": {
      "text/plain": [
       "26.624058619987789"
      ]
     },
     "execution_count": 460,
     "metadata": {},
     "output_type": "execute_result"
    }
   ],
   "source": [
    "mean(new_only_freqs)"
   ]
  },
  {
   "cell_type": "code",
   "execution_count": 438,
   "metadata": {
    "collapsed": false
   },
   "outputs": [
    {
     "data": {
      "text/plain": [
       "4913"
      ]
     },
     "execution_count": 438,
     "metadata": {},
     "output_type": "execute_result"
    }
   ],
   "source": [
    "freqs = [v for k, v in site_freqs.iteritems()]\n",
    "freqs = np.array([x[1][1] for x in sorted(site_freqs.items(), key=lambda t: t[1][0], reverse=False)])\n",
    "#sorted(site_freqs.items(), key=lambda t: t[1][0], reverse=False)\n",
    "len(freqs)"
   ]
  },
  {
   "cell_type": "code",
   "execution_count": 2,
   "metadata": {
    "collapsed": true
   },
   "outputs": [],
   "source": [
    "def get_bootstrap_samples(data, n_samples):\n",
    "    indices = np.random.randint(0, len(data), (n_samples, len(data)))\n",
    "    samples = data[indices]\n",
    "    return samples"
   ]
  },
  {
   "cell_type": "code",
   "execution_count": 3,
   "metadata": {
    "collapsed": true
   },
   "outputs": [],
   "source": [
    "def stat_intervals(stat, alpha):\n",
    "    boundaries = np.percentile(stat, [100 * alpha / 2., 100 * (1 - alpha / 2.)])\n",
    "    return boundaries"
   ]
  },
  {
   "cell_type": "code",
   "execution_count": 441,
   "metadata": {
    "collapsed": false
   },
   "outputs": [
    {
     "name": "stdout",
     "output_type": "stream",
     "text": [
      "95% confidence interval: [ 21.02939141  33.14341543]\n"
     ]
    }
   ],
   "source": [
    "mean_freq = map(np.mean, get_bootstrap_samples(np.array(new_only_freqs), len(new_only_freqs)))\n",
    "print (\"95% confidence interval:\",  stat_intervals(mean_freq, 0.05))\n",
    "stat_int = stat_intervals(mean_freq, 0.05)"
   ]
  },
  {
   "cell_type": "code",
   "execution_count": 440,
   "metadata": {
    "collapsed": false
   },
   "outputs": [],
   "source": [
    "write_answer_to_file('{} {}'.format(round(stat_int[0], 3), round(stat_int[1], 3)), \n",
    "                                    'answer2_5.txt')"
   ]
  },
  {
   "cell_type": "markdown",
   "metadata": {},
   "source": [
    "## Пути улучшения\n",
    "В этом проекте свобода творчества на каждом шаге, а 7 неделя проекта посвящена общему описанию (.ipynb или pdf) и взаимному оцениванию проектов. Что еще можно добавить по второй части проекта:\n",
    "- можно дополнительно рассматривать сессии с параметром – длиной сессии по времени. И составить выборки, скажем, для 5-, 10-, 15- и 20-минутных сессий (это как раз пригодится в [соревновании](https://inclass.kaggle.com/c/identify-me-if-you-can-yandex-mipt) Kaggle Inclass)\n",
    "- можно провести больше первичного анализа и проверять прочие интересные гипотезы (а больше их появится после создания признаков на следующей неделе)\n",
    "\n",
    "На 3 неделе мы займемся визуальным анализом данных и построением признаков."
   ]
  }
 ],
 "metadata": {
  "kernelspec": {
   "display_name": "Python [default]",
   "language": "python",
   "name": "python2"
  },
  "language_info": {
   "codemirror_mode": {
    "name": "ipython",
    "version": 2
   },
   "file_extension": ".py",
   "mimetype": "text/x-python",
   "name": "python",
   "nbconvert_exporter": "python",
   "pygments_lexer": "ipython2",
   "version": "2.7.13"
  }
 },
 "nbformat": 4,
 "nbformat_minor": 1
}
