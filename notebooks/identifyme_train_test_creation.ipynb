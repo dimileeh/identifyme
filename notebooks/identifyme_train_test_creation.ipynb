{
 "cells": [
  {
   "cell_type": "code",
   "execution_count": 34,
   "metadata": {
    "collapsed": true
   },
   "outputs": [],
   "source": [
    "from glob import glob\n",
    "import numpy as np\n",
    "import pandas as pd\n",
    "from scipy.sparse import csr_matrix\n",
    "import pickle\n",
    "import datetime\n",
    "import random\n",
    "import re"
   ]
  },
  {
   "cell_type": "code",
   "execution_count": 36,
   "metadata": {
    "collapsed": false
   },
   "outputs": [
    {
     "name": "stdout",
     "output_type": "stream",
     "text": [
      "Populating the interactive namespace from numpy and matplotlib\n"
     ]
    }
   ],
   "source": [
    "%pylab inline"
   ]
  },
  {
   "cell_type": "markdown",
   "metadata": {},
   "source": [
    "Data taken from the article http://ceur-ws.org/Vol-1703/paper12.pdf\n",
    "\n",
    "The data itself: http://fc.isima.fr/~kahngi/cez13.zip"
   ]
  },
  {
   "cell_type": "code",
   "execution_count": 37,
   "metadata": {
    "collapsed": true
   },
   "outputs": [],
   "source": [
    "# Progress tracker from https://github.com/alexanderkuk/log-progress\n",
    "def log_progress(sequence, every=None, size=None):\n",
    "    from ipywidgets import IntProgress, HTML, VBox\n",
    "    from IPython.display import display\n",
    "\n",
    "    is_iterator = False\n",
    "    if size is None:\n",
    "        try:\n",
    "            size = len(sequence)\n",
    "        except TypeError:\n",
    "            is_iterator = True\n",
    "    if size is not None:\n",
    "        if every is None:\n",
    "            if size <= 200:\n",
    "                every = 1\n",
    "            else:\n",
    "                every = int(size / 200)     # every 0.5%\n",
    "    else:\n",
    "        assert every is not None, 'sequence is iterator, set every'\n",
    "\n",
    "    if is_iterator:\n",
    "        progress = IntProgress(min=0, max=1, value=1)\n",
    "        progress.bar_style = 'info'\n",
    "    else:\n",
    "        progress = IntProgress(min=0, max=size, value=0)\n",
    "    label = HTML()\n",
    "    box = VBox(children=[label, progress])\n",
    "    display(box)\n",
    "\n",
    "    index = 0\n",
    "    try:\n",
    "        for index, record in enumerate(sequence, 1):\n",
    "            if index == 1 or index % every == 0:\n",
    "                if is_iterator:\n",
    "                    label.value = '{index} / ?'.format(index=index)\n",
    "                else:\n",
    "                    progress.value = index\n",
    "                    label.value = u'{index} / {size}'.format(\n",
    "                        index=index,\n",
    "                        size=size\n",
    "                    )\n",
    "            yield record\n",
    "    except:\n",
    "        progress.bar_style = 'danger'\n",
    "        raise\n",
    "    else:\n",
    "        progress.bar_style = 'success'\n",
    "        progress.value = index\n",
    "        label.value = str(index or '?')"
   ]
  },
  {
   "cell_type": "code",
   "execution_count": 3,
   "metadata": {
    "collapsed": true
   },
   "outputs": [],
   "source": [
    "# Auxillary function to assign site idexes\n",
    "def sitefreq(sites, site_freq={}):\n",
    "    if len(site_freq):\n",
    "        site_id = max(site_freq.items(), key=lambda t: t[1][0])[1][0] + 1\n",
    "    else:\n",
    "        site_id = 1\n",
    "        \n",
    "    for site in sites:\n",
    "        if site not in site_freq:\n",
    "            site_freq[site] = [site_id, 1]\n",
    "            site_id += 1\n",
    "        else:\n",
    "            site_freq[site][1] += 1\n",
    "            \n",
    "    return site_freq"
   ]
  },
  {
   "cell_type": "code",
   "execution_count": 4,
   "metadata": {
    "collapsed": true
   },
   "outputs": [],
   "source": [
    "# Assigns every website a unique index and counts the number of its appearance\n",
    "def prepare_site_indexes(csv_files_mask, user_filter=[]):\n",
    "    for userfile in log_progress(glob(csv_files_mask), every=1):\n",
    "        user_id = int(re.search('cat(\\d+)\\.csv', userfile).group(1))\n",
    "        if len(user_filter) and user_id not in user_filter: continue     \n",
    "        \n",
    "        data = pd.read_csv(userfile, sep=\";\", header=None, \\\n",
    "                           names=['userid', 'timestamp', 'site'])      \n",
    "        site_freq = sitefreq(data.site)\n",
    "    return site_freq"
   ]
  },
  {
   "cell_type": "code",
   "execution_count": 5,
   "metadata": {
    "collapsed": false
   },
   "outputs": [
    {
     "name": "stdout",
     "output_type": "stream",
     "text": [
      "CPU times: user 1min 26s, sys: 332 ms, total: 1min 27s\n",
      "Wall time: 1min 27s\n"
     ]
    }
   ],
   "source": [
    "%%time\n",
    "site_index = prepare_site_indexes('dispoSite/allcats/cat*.csv')\n",
    "pd.DataFrame([[v[0], k]for k, v in sorted(site_index.items(), \\\n",
    "            key=lambda x: x[1][0])])\\\n",
    "            .to_csv(\"new_kaggle_data/site_indexes.txt\", header=False, index=False)"
   ]
  },
  {
   "cell_type": "code",
   "execution_count": 14,
   "metadata": {
    "collapsed": false,
    "scrolled": true
   },
   "outputs": [
    {
     "name": "stdout",
     "output_type": "stream",
     "text": [
      "CPU times: user 16.1 s, sys: 1.56 s, total: 17.7 s\n",
      "Wall time: 15.9 s\n"
     ]
    }
   ],
   "source": [
    "%%time\n",
    "users=pd.read_csv(\"new_kaggle_data_550/users.csv\", header=None, names=[\"user_id\"])\n",
    "site_index_550 = prepare_site_indexes('dispoSite/allcats/cat*.csv', \\\n",
    "                 user_filter=users.as_matrix().flatten().tolist())\n",
    "pd.DataFrame([[v[0], k]for k, v in sorted(site_index_550.items(), \\\n",
    "            key=lambda x: x[1][0])])\\\n",
    "            .to_csv(\"new_kaggle_data_550/site_indexes.txt\", header=False, index=False)"
   ]
  },
  {
   "cell_type": "code",
   "execution_count": 5,
   "metadata": {
    "collapsed": true
   },
   "outputs": [],
   "source": [
    "#Randomly increment a date (year, month, day) preserving the weekday\n",
    "weekday = lambda x: x.isoweekday()\n",
    "\n",
    "def increment_date(date, seed):\n",
    "    one_day = datetime.timedelta(days=1)\n",
    "    one_month = datetime.timedelta(days=30)\n",
    "    one_year = datetime.timedelta(days=365)\n",
    "    random.seed(seed)\n",
    "    r = random.sample(range(1, 10), 3)\n",
    "    \n",
    "    newdate = date + r[0]*one_year + r[1]*one_month + r[2]*one_day\n",
    "    while weekday(newdate) != weekday(date):\n",
    "        newdate += one_day\n",
    "    return newdate"
   ]
  },
  {
   "cell_type": "code",
   "execution_count": 14,
   "metadata": {
    "collapsed": false
   },
   "outputs": [
    {
     "name": "stdout",
     "output_type": "stream",
     "text": [
      "CPU times: user 2min 19s, sys: 996 ms, total: 2min 20s\n",
      "Wall time: 2min 19s\n"
     ]
    }
   ],
   "source": [
    "%%time\n",
    "#Tried to count the dates frequencies in each of the csv files.\n",
    "dates_dict = {}\n",
    "for userfile in log_progress(glob(\"dispoSite/allcats/cat*.csv\"), every=1):\n",
    "    # Reading every file and sorting by timestamp\n",
    "    user_id = int(re.search('cat(\\d+)\\.csv', userfile).group(1))\n",
    "\n",
    "    data = pd.read_csv(userfile, sep=\";\", header=None, \\\n",
    "                       names=['userid', 'timestamp', 'site'], \\\n",
    "                       parse_dates=[1], infer_datetime_format=True)\n",
    "    data.sort_values(\"timestamp\", inplace=True)\n",
    "    data.reset_index(drop=True, inplace=True)\n",
    "    \n",
    "    data[\"date\"] = data[\"timestamp\"].apply(lambda x: datetime.date(x.year, x.month, x.day))\n",
    "    \n",
    "    for date in np.unique(data[\"date\"].values):\n",
    "        if date in dates_dict:\n",
    "            dates_dict[date] +=1\n",
    "        else:\n",
    "            dates_dict[date] = 1"
   ]
  },
  {
   "cell_type": "code",
   "execution_count": 28,
   "metadata": {
    "collapsed": false
   },
   "outputs": [],
   "source": [
    "dates = pd.DataFrame(dates_dict.items())"
   ]
  },
  {
   "cell_type": "code",
   "execution_count": 38,
   "metadata": {
    "collapsed": false
   },
   "outputs": [
    {
     "data": {
      "text/plain": [
       "array([[<matplotlib.axes._subplots.AxesSubplot object at 0x7f2cb9bbfe10>]], dtype=object)"
      ]
     },
     "execution_count": 38,
     "metadata": {},
     "output_type": "execute_result"
    },
    {
     "data": {
      "image/png": "[encoded data removed]",
      "text/plain": [
       "<matplotlib.figure.Figure at 0x7f2cb9bce310>"
      ]
     },
     "metadata": {},
     "output_type": "display_data"
    }
   ],
   "source": [
    "dates.hist()"
   ]
  },
  {
   "cell_type": "code",
   "execution_count": 25,
   "metadata": {
    "collapsed": false
   },
   "outputs": [
    {
     "data": {
      "text/plain": [
       "[(datetime.date(2014, 5, 13), 510),\n",
       " (datetime.date(2014, 4, 24), 394),\n",
       " (datetime.date(2014, 2, 26), 376),\n",
       " (datetime.date(2014, 4, 14), 376),\n",
       " (datetime.date(2014, 3, 19), 345),\n",
       " (datetime.date(2014, 4, 2), 317),\n",
       " (datetime.date(2014, 4, 16), 314),\n",
       " (datetime.date(2014, 4, 23), 313),\n",
       " (datetime.date(2014, 4, 22), 310),\n",
       " (datetime.date(2014, 5, 12), 299),\n",
       " (datetime.date(2014, 2, 19), 298),\n",
       " (datetime.date(2013, 11, 25), 294),\n",
       " (datetime.date(2014, 2, 13), 293),\n",
       " (datetime.date(2014, 4, 25), 292),\n",
       " (datetime.date(2014, 2, 12), 287),\n",
       " (datetime.date(2014, 3, 17), 286),\n",
       " (datetime.date(2014, 3, 20), 277),\n",
       " (datetime.date(2014, 4, 17), 272),\n",
       " (datetime.date(2014, 2, 27), 267),\n",
       " (datetime.date(2013, 11, 19), 261),\n",
       " (datetime.date(2014, 1, 29), 261),\n",
       " (datetime.date(2014, 2, 25), 260),\n",
       " (datetime.date(2014, 3, 26), 259),\n",
       " (datetime.date(2014, 3, 31), 259),\n",
       " (datetime.date(2013, 12, 18), 257),\n",
       " (datetime.date(2014, 4, 18), 256),\n",
       " (datetime.date(2014, 4, 15), 248),\n",
       " (datetime.date(2014, 3, 18), 246),\n",
       " (datetime.date(2014, 1, 17), 237),\n",
       " (datetime.date(2014, 4, 3), 236),\n",
       " (datetime.date(2014, 3, 5), 236),\n",
       " (datetime.date(2013, 11, 28), 236),\n",
       " (datetime.date(2014, 1, 16), 235),\n",
       " (datetime.date(2013, 11, 26), 229),\n",
       " (datetime.date(2014, 2, 20), 223),\n",
       " (datetime.date(2014, 4, 4), 220),\n",
       " (datetime.date(2014, 3, 21), 217),\n",
       " (datetime.date(2013, 11, 18), 216),\n",
       " (datetime.date(2014, 2, 11), 215),\n",
       " (datetime.date(2014, 1, 30), 213),\n",
       " (datetime.date(2013, 11, 27), 213),\n",
       " (datetime.date(2013, 11, 20), 212),\n",
       " (datetime.date(2013, 11, 22), 211),\n",
       " (datetime.date(2014, 1, 27), 203),\n",
       " (datetime.date(2013, 12, 4), 202),\n",
       " (datetime.date(2013, 11, 21), 200),\n",
       " (datetime.date(2013, 12, 17), 200),\n",
       " (datetime.date(2014, 2, 18), 199),\n",
       " (datetime.date(2014, 1, 28), 199),\n",
       " (datetime.date(2014, 2, 24), 199),\n",
       " (datetime.date(2013, 12, 19), 198),\n",
       " (datetime.date(2013, 12, 12), 196),\n",
       " (datetime.date(2014, 5, 14), 196),\n",
       " (datetime.date(2013, 12, 9), 191),\n",
       " (datetime.date(2013, 11, 15), 191),\n",
       " (datetime.date(2014, 2, 5), 187),\n",
       " (datetime.date(2013, 12, 16), 187),\n",
       " (datetime.date(2014, 2, 10), 186),\n",
       " (datetime.date(2014, 2, 17), 185),\n",
       " (datetime.date(2014, 2, 14), 183),\n",
       " (datetime.date(2014, 3, 27), 182),\n",
       " (datetime.date(2013, 12, 2), 181),\n",
       " (datetime.date(2014, 4, 1), 179),\n",
       " (datetime.date(2013, 12, 5), 176),\n",
       " (datetime.date(2013, 12, 13), 174),\n",
       " (datetime.date(2014, 1, 31), 173),\n",
       " (datetime.date(2014, 2, 28), 173),\n",
       " (datetime.date(2014, 3, 4), 173),\n",
       " (datetime.date(2013, 12, 3), 172),\n",
       " (datetime.date(2014, 3, 25), 171),\n",
       " (datetime.date(2013, 11, 29), 170),\n",
       " (datetime.date(2014, 4, 11), 166),\n",
       " (datetime.date(2014, 3, 3), 166),\n",
       " (datetime.date(2014, 1, 22), 163),\n",
       " (datetime.date(2014, 2, 4), 163),\n",
       " (datetime.date(2013, 12, 11), 156),\n",
       " (datetime.date(2014, 12, 5), 154),\n",
       " (datetime.date(2014, 3, 24), 151),\n",
       " (datetime.date(2014, 4, 7), 151),\n",
       " (datetime.date(2014, 2, 21), 144),\n",
       " (datetime.date(2014, 4, 10), 144),\n",
       " (datetime.date(2013, 12, 20), 139),\n",
       " (datetime.date(2014, 3, 28), 136),\n",
       " (datetime.date(2014, 5, 22), 133),\n",
       " (datetime.date(2013, 12, 10), 131),\n",
       " (datetime.date(2013, 12, 6), 129),\n",
       " (datetime.date(2014, 5, 15), 125),\n",
       " (datetime.date(2014, 11, 4), 124),\n",
       " (datetime.date(2014, 2, 6), 122),\n",
       " (datetime.date(2014, 3, 7), 121),\n",
       " (datetime.date(2014, 10, 4), 120),\n",
       " (datetime.date(2014, 4, 8), 117),\n",
       " (datetime.date(2014, 5, 19), 105),\n",
       " (datetime.date(2014, 2, 3), 92),\n",
       " (datetime.date(2014, 2, 7), 91),\n",
       " (datetime.date(2014, 5, 23), 89),\n",
       " (datetime.date(2014, 5, 16), 88),\n",
       " (datetime.date(2014, 1, 6), 86),\n",
       " (datetime.date(2014, 1, 23), 86),\n",
       " (datetime.date(2014, 5, 20), 86),\n",
       " (datetime.date(2014, 5, 21), 85),\n",
       " (datetime.date(2013, 11, 12), 85),\n",
       " (datetime.date(2014, 1, 20), 85),\n",
       " (datetime.date(2014, 11, 2), 80),\n",
       " (datetime.date(2014, 12, 2), 79),\n",
       " (datetime.date(2014, 1, 21), 75),\n",
       " (datetime.date(2014, 1, 4), 74),\n",
       " (datetime.date(2014, 2, 22), 73),\n",
       " (datetime.date(2014, 1, 15), 72),\n",
       " (datetime.date(2014, 4, 9), 72),\n",
       " (datetime.date(2014, 1, 9), 70),\n",
       " (datetime.date(2014, 7, 4), 68),\n",
       " (datetime.date(2014, 9, 4), 67),\n",
       " (datetime.date(2014, 5, 26), 66),\n",
       " (datetime.date(2014, 5, 3), 65),\n",
       " (datetime.date(2014, 5, 27), 64),\n",
       " (datetime.date(2014, 1, 8), 63),\n",
       " (datetime.date(2014, 1, 14), 60),\n",
       " (datetime.date(2014, 4, 29), 60),\n",
       " (datetime.date(2014, 3, 22), 58),\n",
       " (datetime.date(2014, 7, 3), 56),\n",
       " (datetime.date(2014, 4, 13), 56),\n",
       " (datetime.date(2014, 5, 2), 55),\n",
       " (datetime.date(2014, 2, 8), 54),\n",
       " (datetime.date(2014, 1, 25), 54),\n",
       " (datetime.date(2014, 8, 4), 54),\n",
       " (datetime.date(2014, 2, 1), 53),\n",
       " (datetime.date(2014, 4, 28), 52),\n",
       " (datetime.date(2014, 3, 8), 48),\n",
       " (datetime.date(2014, 1, 24), 47),\n",
       " (datetime.date(2014, 5, 28), 47),\n",
       " (datetime.date(2014, 5, 5), 46),\n",
       " (datetime.date(2013, 2, 12), 46),\n",
       " (datetime.date(2013, 9, 12), 42),\n",
       " (datetime.date(2013, 11, 16), 42),\n",
       " (datetime.date(2014, 1, 7), 41),\n",
       " (datetime.date(2014, 10, 2), 41),\n",
       " (datetime.date(2014, 3, 1), 40),\n",
       " (datetime.date(2013, 6, 12), 40),\n",
       " (datetime.date(2013, 11, 24), 39),\n",
       " (datetime.date(2014, 12, 4), 39),\n",
       " (datetime.date(2014, 4, 5), 39),\n",
       " (datetime.date(2013, 4, 12), 38),\n",
       " (datetime.date(2014, 7, 2), 37),\n",
       " (datetime.date(2014, 1, 13), 36),\n",
       " (datetime.date(2014, 4, 21), 35),\n",
       " (datetime.date(2014, 1, 10), 34),\n",
       " (datetime.date(2014, 3, 29), 33),\n",
       " (datetime.date(2013, 12, 1), 33),\n",
       " (datetime.date(2013, 10, 12), 33),\n",
       " (datetime.date(2013, 11, 17), 32),\n",
       " (datetime.date(2014, 8, 1), 31),\n",
       " (datetime.date(2014, 4, 30), 31),\n",
       " (datetime.date(2014, 4, 19), 31),\n",
       " (datetime.date(2013, 11, 23), 30),\n",
       " (datetime.date(2013, 12, 8), 29),\n",
       " (datetime.date(2013, 12, 15), 28),\n",
       " (datetime.date(2013, 5, 12), 27),\n",
       " (datetime.date(2014, 6, 1), 27),\n",
       " (datetime.date(2014, 6, 2), 26),\n",
       " (datetime.date(2014, 5, 9), 25),\n",
       " (datetime.date(2014, 5, 7), 24),\n",
       " (datetime.date(2014, 4, 27), 23),\n",
       " (datetime.date(2013, 12, 14), 22),\n",
       " (datetime.date(2014, 5, 6), 22),\n",
       " (datetime.date(2013, 12, 23), 22),\n",
       " (datetime.date(2014, 3, 2), 22),\n",
       " (datetime.date(2014, 4, 20), 22),\n",
       " (datetime.date(2014, 3, 15), 21),\n",
       " (datetime.date(2013, 12, 7), 21),\n",
       " (datetime.date(2013, 3, 12), 21),\n",
       " (datetime.date(2014, 4, 26), 20),\n",
       " (datetime.date(2014, 2, 23), 20),\n",
       " (datetime.date(2014, 9, 1), 19),\n",
       " (datetime.date(2014, 10, 1), 19),\n",
       " (datetime.date(2014, 2, 9), 19),\n",
       " (datetime.date(2014, 3, 16), 19),\n",
       " (datetime.date(2014, 5, 18), 19),\n",
       " (datetime.date(2014, 3, 23), 19),\n",
       " (datetime.date(2014, 4, 12), 18),\n",
       " (datetime.date(2014, 2, 2), 18),\n",
       " (datetime.date(2014, 5, 17), 18),\n",
       " (datetime.date(2014, 3, 13), 18),\n",
       " (datetime.date(2013, 11, 30), 17),\n",
       " (datetime.date(2014, 5, 25), 17),\n",
       " (datetime.date(2014, 2, 16), 17),\n",
       " (datetime.date(2013, 12, 26), 16),\n",
       " (datetime.date(2014, 3, 14), 15),\n",
       " (datetime.date(2014, 3, 11), 14),\n",
       " (datetime.date(2013, 12, 21), 14),\n",
       " (datetime.date(2014, 6, 5), 14),\n",
       " (datetime.date(2014, 5, 24), 14),\n",
       " (datetime.date(2013, 12, 22), 13),\n",
       " (datetime.date(2014, 5, 10), 13),\n",
       " (datetime.date(2014, 7, 5), 12),\n",
       " (datetime.date(2014, 1, 19), 12),\n",
       " (datetime.date(2013, 12, 24), 11),\n",
       " (datetime.date(2014, 3, 12), 11),\n",
       " (datetime.date(2013, 12, 28), 9),\n",
       " (datetime.date(2014, 5, 1), 9),\n",
       " (datetime.date(2014, 4, 6), 9),\n",
       " (datetime.date(2014, 7, 1), 8),\n",
       " (datetime.date(2014, 8, 2), 8),\n",
       " (datetime.date(2014, 10, 5), 8),\n",
       " (datetime.date(2014, 3, 10), 8),\n",
       " (datetime.date(2014, 9, 5), 8),\n",
       " (datetime.date(2014, 3, 30), 7),\n",
       " (datetime.date(2013, 12, 27), 7),\n",
       " (datetime.date(2014, 1, 18), 6),\n",
       " (datetime.date(2014, 1, 26), 6),\n",
       " (datetime.date(2014, 5, 4), 6),\n",
       " (datetime.date(2014, 1, 5), 5),\n",
       " (datetime.date(2014, 5, 8), 5),\n",
       " (datetime.date(2014, 3, 9), 5),\n",
       " (datetime.date(2014, 1, 11), 5),\n",
       " (datetime.date(2014, 8, 3), 4),\n",
       " (datetime.date(2014, 12, 3), 4),\n",
       " (datetime.date(2014, 8, 5), 4),\n",
       " (datetime.date(2014, 1, 2), 4),\n",
       " (datetime.date(2014, 10, 3), 4),\n",
       " (datetime.date(2014, 5, 11), 4),\n",
       " (datetime.date(2014, 11, 5), 3),\n",
       " (datetime.date(2014, 9, 2), 3),\n",
       " (datetime.date(2013, 7, 12), 2),\n",
       " (datetime.date(2013, 8, 12), 2),\n",
       " (datetime.date(2014, 9, 3), 2),\n",
       " (datetime.date(2014, 1, 12), 2),\n",
       " (datetime.date(2013, 12, 31), 1),\n",
       " (datetime.date(2014, 11, 3), 1),\n",
       " (datetime.date(2014, 11, 1), 1),\n",
       " (datetime.date(2014, 12, 1), 1),\n",
       " (datetime.date(2014, 1, 3), 1)]"
      ]
     },
     "execution_count": 25,
     "metadata": {},
     "output_type": "execute_result"
    }
   ],
   "source": [
    "sorted(dates_dict.items(), key = lambda x: x[1], reverse=True)"
   ]
  },
  {
   "cell_type": "code",
   "execution_count": 16,
   "metadata": {
    "collapsed": true
   },
   "outputs": [],
   "source": [
    "# Split original dataset into train and test\n",
    "def prepare_train_test_set(csv_files_mask, dest_folder, ratio=2./3, user_filter=[]):\n",
    "    for userfile in log_progress(glob(csv_files_mask), every=1):\n",
    "        # Reading every file and sorting by timestamp\n",
    "        user_id = int(re.search('cat(\\d+)\\.csv', userfile).group(1))\n",
    "        if len(user_filter) and user_id not in user_filter: continue\n",
    "            \n",
    "        data = pd.read_csv(userfile, sep=\";\", header=None, \\\n",
    "                           names=['userid', 'timestamp', 'site'], \\\n",
    "                           parse_dates=[1], infer_datetime_format=True)\n",
    "        data.sort_values(\"timestamp\", inplace=True)\n",
    "        data.reset_index(drop=True, inplace=True)\n",
    "\n",
    "        # Splitting into train and test data using ratio\n",
    "        train_data = pd.DataFrame(data.iloc[:int(len(data)*ratio)])[[\"timestamp\", \"site\"]]        \n",
    "        test_data = pd.DataFrame(data.iloc[int(len(data)*ratio):])[[\"timestamp\", \"site\"]]\n",
    "        test_data.reset_index(drop=True, inplace=True)\n",
    "\n",
    "        # Randomly incrementing dates within test\n",
    "        seed = random.randint(1, 5000)\n",
    "        test_data[\"timestamp\"] = test_data.apply(lambda row: increment_date(row[\"timestamp\"], seed), axis=1)\n",
    "\n",
    "        train_data.to_csv(\"{}/train/user{}.csv\".format(dest_folder, user_id), index=False)\n",
    "        test_data.to_csv(\"{}/test/user{}.csv\".format(dest_folder, user_id), index=False)"
   ]
  },
  {
   "cell_type": "code",
   "execution_count": 141,
   "metadata": {
    "collapsed": false
   },
   "outputs": [
    {
     "name": "stdout",
     "output_type": "stream",
     "text": [
      "CPU times: user 13min 47s, sys: 2.35 s, total: 13min 49s\n",
      "Wall time: 13min 46s\n"
     ]
    }
   ],
   "source": [
    "%%time\n",
    "prepare_train_test_set(\"dispoSite/allcats/cat*.csv\", \"new_kaggle_data\")"
   ]
  },
  {
   "cell_type": "code",
   "execution_count": 17,
   "metadata": {
    "collapsed": false
   },
   "outputs": [
    {
     "name": "stdout",
     "output_type": "stream",
     "text": [
      "CPU times: user 5min 3s, sys: 2.22 s, total: 5min 6s\n",
      "Wall time: 5min 3s\n"
     ]
    }
   ],
   "source": [
    "%%time\n",
    "users=pd.read_csv(\"new_kaggle_data_550/users.csv\", header=None, names=[\"user_id\"])\n",
    "prepare_train_test_set(\"dispoSite/allcats/cat*.csv\", \"new_kaggle_data_550\", \\\n",
    "                       user_filter=users.as_matrix().flatten().tolist())"
   ]
  },
  {
   "cell_type": "markdown",
   "metadata": {},
   "source": [
    "## Create train and test session files"
   ]
  },
  {
   "cell_type": "code",
   "execution_count": 19,
   "metadata": {
    "collapsed": true
   },
   "outputs": [],
   "source": [
    "def get_site_index(csv_file):\n",
    "    site_index = pd.read_csv(csv_file, header=None, names=['siteid', 'site'], index_col=1)\n",
    "    site_dic = site_index.to_dict()\n",
    "    return site_dic[\"siteid\"]"
   ]
  },
  {
   "cell_type": "code",
   "execution_count": 23,
   "metadata": {
    "collapsed": false
   },
   "outputs": [],
   "source": [
    "# Creates a file with sessions out of plain logs with websites\n",
    "def prepare_sessions_set(csv_files_mask, out_folder, site_index_path=\"\", test_sessions = False,\n",
    "                        session_length=10, window_size=10, session_time = 30,\\\n",
    "                        sort_in_session=False, remove_dups = False, shuffle=True):\n",
    "    \n",
    "    col_names = [\"site\"+str(c) for c in range(1,session_length+1)] + \\\n",
    "                [\"time\"+str(c) for c in range(1,session_length+1)] + [\"user_id\"]\n",
    "    \n",
    "    ses_data = np.array([np.zeros(len(col_names))])\n",
    "    test_answers = []\n",
    "    session_num = 0\n",
    "\n",
    "    site_index = get_site_index(site_index_path)\n",
    "    \n",
    "    files = glob(csv_files_mask)\n",
    "        \n",
    "    for userfile in log_progress(files, every=1):\n",
    "        user_id = re.search('user(\\d+)\\.csv', userfile).group(1)\n",
    "        \n",
    "        data = pd.read_csv(userfile, \\\n",
    "                           parse_dates=[0], infer_datetime_format=True)\n",
    "        data.sort_values(\"timestamp\", inplace=True)\n",
    "        data.reset_index(drop=True, inplace=True)\n",
    "\n",
    "        session_hash = {}    \n",
    "        \n",
    "        session = []\n",
    "        timestamps = []\n",
    "        next_session = []\n",
    "        next_t_session = []\n",
    "        next_s_session = []\n",
    "        next_timestamps = []\n",
    "\n",
    "        for i in range (0, len(data), window_size):  \n",
    "            session += list(data[i:i+session_length].site.apply(lambda x: site_index[x]))\n",
    "            timestamps += list(data[i:i+session_length].timestamp)\n",
    "\n",
    "            if window_size < session_length and sort_in_session:\n",
    "                ses_ts_zip = sorted(set(zip(session, timestamps)), key = lambda t: t[1])\n",
    "                session, timestamps = zip(*ses_ts_zip)\n",
    "                session = list(session)\n",
    "                timestamps = list(timestamps)\n",
    "\n",
    "            while ((len(session) >= session_length) or (not len(data[i+window_size:]) and len(session))):\n",
    "                time_diff = [(timestamps[n+1] - timestamps[n]).total_seconds() for n in range(0, len(session)-1)]\n",
    "                session_timespan = (max(timestamps) - min(timestamps)).total_seconds()\n",
    "                next_session = []\n",
    "                next_timestamps = []\n",
    "\n",
    "                while session_timespan > session_time*60 or len(session) > session_length:\n",
    "                    next_session.insert(0, session.pop())\n",
    "                    next_timestamps.insert(0, timestamps.pop())\n",
    "                    time_diff = [(timestamps[n+1] - timestamps[n]).total_seconds() for n in range(0, len(session)-1)]\n",
    "                    session_timespan = (max(timestamps) - min(timestamps)).total_seconds()\n",
    "\n",
    "                session = tuple(session)\n",
    "\n",
    "                if session not in session_hash or not remove_dups:                      \n",
    "                    session_hash[session] = 1\n",
    "                    session = list(session)\n",
    "\n",
    "                    session.extend([0] * (session_length - len(session)) + \\\n",
    "                                   timestamps + [0] * (session_length - len(timestamps)) + [user_id])\n",
    "\n",
    "                    ses_data = np.concatenate((ses_data, np.array([session])))\n",
    "                    session_num += 1\n",
    "\n",
    "                session = next_session\n",
    "                timestamps = next_timestamps\n",
    "\n",
    "        if len(next_session):\n",
    "            print(\"ERROR! next_session left!\")\n",
    "            print(session)\n",
    "            return None\n",
    "\n",
    "    \n",
    "    ses_data = np.delete(ses_data, 0, 0)\n",
    "    if shuffle: np.random.shuffle(ses_data)\n",
    "    ses_data = pd.DataFrame(ses_data, columns=col_names)\n",
    "    \n",
    "    if test_sessions:\n",
    "        #ses_data.iloc[:,:-1].to_csv(out_folder+\"/test_sessions.csv\", index=False)\n",
    "        #ses_data.iloc[:,-1].to_csv(out_folder+\"/test_answers.csv\", index=False)\n",
    "        ses_data.to_csv(out_folder+\"/test_sessions.csv\", index=False)\n",
    "        return ses_data, test_answers\n",
    "    else:\n",
    "        ses_data.to_csv(out_folder+\"/train_sessions.csv\", index=False)\n",
    "        return ses_data"
   ]
  },
  {
   "cell_type": "code",
   "execution_count": 21,
   "metadata": {
    "collapsed": false,
    "scrolled": true
   },
   "outputs": [
    {
     "name": "stdout",
     "output_type": "stream",
     "text": [
      "CPU times: user 4min 54s, sys: 384 ms, total: 4min 55s\n",
      "Wall time: 4min 54s\n"
     ]
    }
   ],
   "source": [
    "%%time\n",
    "train_data = prepare_sessions_set(\"new_kaggle_data_550/train/*\", out_folder=\"new_kaggle_data_550\", \\\n",
    "                site_index_path=\"new_kaggle_data_550/site_indexes.txt\", remove_dups=True, shuffle=True)"
   ]
  },
  {
   "cell_type": "code",
   "execution_count": 24,
   "metadata": {
    "collapsed": false
   },
   "outputs": [
    {
     "name": "stdout",
     "output_type": "stream",
     "text": [
      "CPU times: user 2min 8s, sys: 344 ms, total: 2min 8s\n",
      "Wall time: 2min 8s\n"
     ]
    }
   ],
   "source": [
    "%%time\n",
    "test_data, test_answers = prepare_sessions_set(\"new_kaggle_data_550/test/*\", out_folder=\"new_kaggle_data_550\", \\\n",
    "                site_index_path=\"new_kaggle_data_550/site_indexes.txt\", test_sessions=True, remove_dups=True, \\\n",
    "                shuffle=True)"
   ]
  },
  {
   "cell_type": "code",
   "execution_count": 9,
   "metadata": {
    "collapsed": false
   },
   "outputs": [
    {
     "name": "stdout",
     "output_type": "stream",
     "text": [
      "CPU times: user 3h 31min 24s, sys: 12min 46s, total: 3h 44min 10s\n",
      "Wall time: 3h 44min 4s\n"
     ]
    }
   ],
   "source": [
    "%%time\n",
    "train_data = prepare_sessions_set(\"new_kaggle_data/train/*\", out_folder=\"new_kaggle_data\", \\\n",
    "                site_index_path=\"new_kaggle_data/site_indexes.txt\", remove_dups=True, shuffle=True)"
   ]
  },
  {
   "cell_type": "code",
   "execution_count": 10,
   "metadata": {
    "collapsed": false
   },
   "outputs": [
    {
     "name": "stdout",
     "output_type": "stream",
     "text": [
      "CPU times: user 1h 6min 13s, sys: 3.19 s, total: 1h 6min 16s\n",
      "Wall time: 1h 6min 14s\n"
     ]
    }
   ],
   "source": [
    "%%time\n",
    "test_data, test_answers = prepare_sessions_set(\"new_kaggle_data/test/*\", out_folder=\"new_kaggle_data\", \\\n",
    "                site_index_path=\"new_kaggle_data/site_indexes.txt\", test_sessions=True, remove_dups=True, \\\n",
    "                shuffle=True)"
   ]
  }
 ],
 "metadata": {
  "anaconda-cloud": {},
  "kernelspec": {
   "display_name": "Python [default]",
   "language": "python",
   "name": "python2"
  },
  "language_info": {
   "codemirror_mode": {
    "name": "ipython",
    "version": 2
   },
   "file_extension": ".py",
   "mimetype": "text/x-python",
   "name": "python",
   "nbconvert_exporter": "python",
   "pygments_lexer": "ipython2",
   "version": "2.7.13"
  },
  "widgets": {
   "state": {
    "72fc1d0998f14938ac11a58d84817b39": {
     "views": [
      {
       "cell_index": 8
      }
     ]
    }
   },
   "version": "1.2.0"
  }
 },
 "nbformat": 4,
 "nbformat_minor": 0
}
