{
 "cells": [
  {
   "cell_type": "code",
   "execution_count": 1,
   "metadata": {
    "collapsed": false
   },
   "outputs": [],
   "source": [
    "import xgboost as xgb\n",
    "import numpy as np\n",
    "import pandas as pd\n",
    "import pickle\n",
    "from collections import Counter\n",
    "import matplotlib.pyplot as plt\n",
    "from sklearn.preprocessing import LabelEncoder\n",
    "from sklearn.model_selection import train_test_split, cross_val_score, StratifiedKFold\n",
    "from sklearn.metrics import accuracy_score, roc_auc_score, confusion_matrix, make_scorer\n",
    "from scipy.sparse import csr_matrix, hstack"
   ]
  },
  {
   "cell_type": "code",
   "execution_count": 3,
   "metadata": {
    "collapsed": false
   },
   "outputs": [
    {
     "name": "stdout",
     "output_type": "stream",
     "text": [
      "gs://smartandnimble/identifyme/\r\n",
      "gs://smartandnimble/identifyme/test_sparse_w5.pkl\r\n",
      "gs://smartandnimble/identifyme/train_part_sparse_w5.pkl\r\n",
      "gs://smartandnimble/identifyme/train_sparse_w5.pkl\r\n",
      "gs://smartandnimble/identifyme/valid_sparse_w5.pkl\r\n",
      "gs://smartandnimble/identifyme/y_train_w5.csv\r\n",
      "gs://smartandnimble/identifyme/y_valid_w5.csv\r\n",
      "gs://smartandnimble/identifyme/y_w5.csv\r\n"
     ]
    }
   ],
   "source": [
    "!gsutil ls gs://smartandnimble/identifyme"
   ]
  },
  {
   "cell_type": "code",
   "execution_count": 4,
   "metadata": {
    "collapsed": true
   },
   "outputs": [
    {
     "name": "stdout",
     "output_type": "stream",
     "text": [
      "Copying gs://smartandnimble/identifyme/xgb/test.buffer...\n",
      "/ [1 files][  4.9 MiB/  4.9 MiB]                                                Copying gs://smartandnimble/identifyme/xgb/train.buffer...\n",
      "Copying gs://smartandnimble/identifyme/xgb/trainfull.buffer...                  / [2 files][ 14.3 MiB/ 14.3 MiB]                                                \n",
      "/ [2 files][ 14.3 MiB/ 32.3 MiB]                                                -- [3 files][ 32.3 MiB/ 32.3 MiB]                                                \n",
      "==> NOTE: You are performing a sequence of gsutil operations that may\n",
      "run significantly faster if you instead use gsutil -m -o ... Please\n",
      "see the -m section under \"gsutil help options\" for further information\n",
      "about when gsutil -m can be advantageous.\n",
      "\n",
      "Copying gs://smartandnimble/identifyme/xgb/valid.buffer...\n",
      "- [3 files][ 32.3 MiB/ 36.3 MiB]                                                - [4 files][ 36.3 MiB/ 36.3 MiB]                                                \n",
      "Operation completed over 4 objects/36.3 MiB.                                     \n"
     ]
    }
   ],
   "source": [
    "!gsutil cp -r gs://smartandnimble/identifyme/xgb \"data/identifyme/\""
   ]
  },
  {
   "cell_type": "code",
   "execution_count": 2,
   "metadata": {
    "collapsed": false
   },
   "outputs": [],
   "source": [
    "#This is testing on w5_old\n",
    "folder = \"data/identifyme/xgb/\"\n",
    "\n",
    "dtrain = xgb.DMatrix(folder+\"train.buffer\")\n",
    "dvalid = xgb.DMatrix(folder+\"valid.buffer\")\n",
    "dtrainfull = xgb.DMatrix(folder+\"trainfull.buffer\")\n",
    "dtest = xgb.DMatrix(folder+\"test.buffer\")\n",
    "\n",
    "y_valid=pd.read_csv(folder+\"y_valid_w5_old.csv\", header=None, squeeze=True)"
   ]
  },
  {
   "cell_type": "code",
   "execution_count": null,
   "metadata": {
    "collapsed": false,
    "scrolled": true
   },
   "outputs": [],
   "source": [
    "%%time\n",
    "# specify parameters via map\n",
    "param = {'colsample_bytree': 0.5, 'silent': 0, 'eval_metric': 'merror', \\\n",
    " 'max_delta_step': 7, 'nthread': 3, 'min_child_weight': 1, \\\n",
    " 'subsample': 0.9500000000000001, \\\n",
    " 'eta': 0.17500000000000002, 'objective': 'multi:softmax', \\\n",
    " 'num_class': 550, 'max_depth': 13, 'gamma': 0.8500000000000001}\n",
    "#param = {'silent':0, 'objective':'multi:softmax', 'num_class':550, 'max_depth':10, 'max_delta_step': 3}\n",
    "#param['eval_metric'] = ['merror']#, 'mlogloss']\n",
    "#param['nthread'] = 1\n",
    "param['model_dir'] = folder + \"model\"\n",
    "param['model_out'] = folder + \"model/final_model_w5_old.xgb.model\"\n",
    "param['save_period'] = 100\n",
    "num_round = 790\n",
    "#evallist  = [(dvalid,'eval'), (dtrain,'train')]\n",
    "bst = xgb.train(param, dtrain, num_round) #, evallist, verbose_eval=True, early_stopping_rounds=10)\n",
    "# make prediction\n",
    "preds = bst.predict(dvalid)\n",
    "print \"Accuracy:\", accuracy_score(preds, y_valid)"
   ]
  },
  {
   "cell_type": "code",
   "execution_count": 4,
   "metadata": {
    "collapsed": false
   },
   "outputs": [
    {
     "data": {
      "text/plain": [
       "array([ 319.,  529.,   17., ...,  398.,  205.,  357.], dtype=float32)"
      ]
     },
     "execution_count": 4,
     "metadata": {},
     "output_type": "execute_result"
    }
   ],
   "source": [
    "preds"
   ]
  },
  {
   "cell_type": "code",
   "execution_count": 5,
   "metadata": {
    "collapsed": false
   },
   "outputs": [
    {
     "name": "stdout",
     "output_type": "stream",
     "text": [
      "Accuracy: 0.53582484801\n"
     ]
    }
   ],
   "source": [
    "print \"Accuracy:\", accuracy_score(preds, y_valid)"
   ]
  },
  {
   "cell_type": "code",
   "execution_count": 6,
   "metadata": {
    "collapsed": true
   },
   "outputs": [],
   "source": [
    "bst.save_model(folder+'xgb_w5_old.model')"
   ]
  },
  {
   "cell_type": "code",
   "execution_count": 3,
   "metadata": {
    "collapsed": true
   },
   "outputs": [],
   "source": [
    "bst = xgb.Booster({'nthread':4}) #init model\n",
    "bst.load_model(folder+'xgb_w5_old.model') # load data\n"
   ]
  },
  {
   "cell_type": "code",
   "execution_count": 4,
   "metadata": {
    "collapsed": true
   },
   "outputs": [],
   "source": [
    "results = bst.predict(dtest)"
   ]
  },
  {
   "cell_type": "code",
   "execution_count": 5,
   "metadata": {
    "collapsed": false
   },
   "outputs": [
    {
     "data": {
      "text/plain": [
       "array([ 354.,  516.,  107., ...,  450.,  409.,  409.], dtype=float32)"
      ]
     },
     "execution_count": 5,
     "metadata": {},
     "output_type": "execute_result"
    }
   ],
   "source": [
    "results"
   ]
  },
  {
   "cell_type": "code",
   "execution_count": 7,
   "metadata": {
    "collapsed": true
   },
   "outputs": [],
   "source": [
    "class_encoder = LabelEncoder().fit(y_valid.astype('str'))"
   ]
  },
  {
   "cell_type": "code",
   "execution_count": 9,
   "metadata": {
    "collapsed": false
   },
   "outputs": [],
   "source": [
    "xgb_results = class_encoder.inverse_transform(results.astype(int))"
   ]
  },
  {
   "cell_type": "code",
   "execution_count": 10,
   "metadata": {
    "collapsed": false
   },
   "outputs": [
    {
     "data": {
      "text/plain": [
       "array(['417', '69', '195', ..., '503', '467', '467'], dtype=object)"
      ]
     },
     "execution_count": 10,
     "metadata": {},
     "output_type": "execute_result"
    }
   ],
   "source": [
    "xgb_results"
   ]
  },
  {
   "cell_type": "code",
   "execution_count": null,
   "metadata": {
    "collapsed": true
   },
   "outputs": [],
   "source": []
  }
 ],
 "metadata": {
  "anaconda-cloud": {},
  "kernelspec": {
   "display_name": "Python [default]",
   "language": "python",
   "name": "python2"
  },
  "language_info": {
   "codemirror_mode": {
    "name": "ipython",
    "version": 2
   },
   "file_extension": ".py",
   "mimetype": "text/x-python",
   "name": "python",
   "nbconvert_exporter": "python",
   "pygments_lexer": "ipython2",
   "version": "2.7.13"
  }
 },
 "nbformat": 4,
 "nbformat_minor": 2
}
