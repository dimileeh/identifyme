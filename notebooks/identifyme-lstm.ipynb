{
 "cells": [
  {
   "cell_type": "code",
   "execution_count": 1,
   "metadata": {
    "collapsed": true,
    "deletable": true,
    "editable": true
   },
   "outputs": [],
   "source": [
    "import numpy as np\n",
    "import pandas as pd\n",
    "import tensorflow as tf\n",
    "import pickle\n",
    "from collections import Counter"
   ]
  },
  {
   "cell_type": "code",
   "execution_count": 2,
   "metadata": {
    "collapsed": false
   },
   "outputs": [],
   "source": [
    "%matplotlib inline\n",
    "import matplotlib.pyplot as plt"
   ]
  },
  {
   "cell_type": "code",
   "execution_count": 3,
   "metadata": {
    "collapsed": true,
    "deletable": true,
    "editable": true
   },
   "outputs": [],
   "source": [
    "data_dir = \"../data/\""
   ]
  },
  {
   "cell_type": "markdown",
   "metadata": {},
   "source": [
    "# Kaggle Data"
   ]
  },
  {
   "cell_type": "code",
   "execution_count": 4,
   "metadata": {
    "collapsed": true
   },
   "outputs": [],
   "source": [
    "data_dir = \"../data/kaggle/\""
   ]
  },
  {
   "cell_type": "code",
   "execution_count": 47,
   "metadata": {
    "collapsed": false
   },
   "outputs": [],
   "source": [
    "train_data = pd.read_csv(data_dir + \"train_sessions.csv\", usecols=[\"site\" + str(i) for i in range(1,11)] + [\"user_id\"])\n",
    "\n",
    "test_df = pd.read_csv(data_dir + \"test_sessions.csv\", usecols=[\"site\" + str(i) for i in range(1,11)])\n",
    "test_df.fillna(0, inplace=True)"
   ]
  },
  {
   "cell_type": "code",
   "execution_count": 49,
   "metadata": {
    "collapsed": false
   },
   "outputs": [],
   "source": [
    "train_df = pd.DataFrame(columns = train_data.columns, dtype=int)\n",
    "valid_df = pd.DataFrame(columns = train_data.columns, dtype=int)"
   ]
  },
  {
   "cell_type": "code",
   "execution_count": 51,
   "metadata": {
    "collapsed": false
   },
   "outputs": [],
   "source": [
    "for user in Counter(train_data.user_id):\n",
    "    num_rows = len(train_data[train_data.user_id == user])\n",
    "    train_user = train_data[train_data.user_id == user].iloc[:int(num_rows * 0.75)]\n",
    "    valid_user = train_data[train_data.user_id == user].iloc[int(num_rows * 0.75):]\n",
    "    \n",
    "    train_df = train_df.append(train_user)\n",
    "    valid_df = valid_df.append(valid_user)\n",
    "\n",
    "train_df.fillna(0, inplace=True)\n",
    "valid_df.fillna(0, inplace=True)\n",
    "    \n",
    "train_df = train_df.sample(frac=1).reset_index(drop=True)\n",
    "valid_df = train_df.sample(frac=1).reset_index(drop=True)"
   ]
  },
  {
   "cell_type": "code",
   "execution_count": 62,
   "metadata": {
    "collapsed": true
   },
   "outputs": [],
   "source": [
    "site_dic = pickle.load(open(data_dir + \"site_dic.pkl\", 'rb'))"
   ]
  },
  {
   "cell_type": "markdown",
   "metadata": {},
   "source": [
    "# end kaggle data"
   ]
  },
  {
   "cell_type": "code",
   "execution_count": 6,
   "metadata": {
    "collapsed": false,
    "deletable": true,
    "editable": true
   },
   "outputs": [
    {
     "name": "stdout",
     "output_type": "stream",
     "text": [
      "checkpoints\t  test\t\t     train_sessions.csv\r\n",
      "dispoSite\t  test_sessions.csv  valid\r\n",
      "site_indexes.txt  train\t\t     valid_sessions.csv\r\n"
     ]
    }
   ],
   "source": [
    "!ls {data_dir}"
   ]
  },
  {
   "cell_type": "code",
   "execution_count": 7,
   "metadata": {
    "collapsed": false,
    "deletable": true,
    "editable": true
   },
   "outputs": [],
   "source": [
    "site_dic = pd.read_csv(data_dir + \"site_indexes.txt\", header=None, index_col=0).to_dict(\"dict\")[1]"
   ]
  },
  {
   "cell_type": "code",
   "execution_count": 8,
   "metadata": {
    "collapsed": true,
    "deletable": true,
    "editable": true
   },
   "outputs": [],
   "source": [
    "train_df = pd.read_csv(data_dir + \"train_sessions.csv\")\n",
    "valid_df = pd.read_csv(data_dir + \"valid_sessions.csv\")\n",
    "test_df = pd.read_csv(data_dir + \"test_sessions.csv\")"
   ]
  },
  {
   "cell_type": "markdown",
   "metadata": {},
   "source": [
    "# End Data"
   ]
  },
  {
   "cell_type": "code",
   "execution_count": 54,
   "metadata": {
    "collapsed": false,
    "deletable": true,
    "editable": true
   },
   "outputs": [],
   "source": [
    "train_sites = train_df[[\"site\" + str(i) for i in range(1,11)]].as_matrix()\n",
    "train_users = train_df[\"user_id\"].as_matrix()\n",
    "\n",
    "valid_sites = valid_df[[\"site\" + str(i) for i in range(1,11)]].as_matrix()\n",
    "valid_users = valid_df[\"user_id\"].as_matrix()\n",
    "\n",
    "test_sites = test_df[[\"site\" + str(i) for i in range(1,11)]].as_matrix()\n",
    "#test_users = test_df[\"user_id\"].as_matrix()"
   ]
  },
  {
   "cell_type": "code",
   "execution_count": 56,
   "metadata": {
    "collapsed": false
   },
   "outputs": [],
   "source": [
    "from sklearn import preprocessing\n",
    "lb = preprocessing.LabelBinarizer()\n",
    "train_users_vecs = lb.fit_transform(train_users)\n",
    "valid_users_vecs = lb.transform(valid_users)\n",
    "#test_users_vecs = lb.transform(test_users)"
   ]
  },
  {
   "cell_type": "code",
   "execution_count": 57,
   "metadata": {
    "collapsed": true
   },
   "outputs": [],
   "source": [
    "num_users = train_users_vecs.shape[1]\n",
    "sess_len = train_sites.shape[1]"
   ]
  },
  {
   "cell_type": "code",
   "execution_count": 58,
   "metadata": {
    "collapsed": false
   },
   "outputs": [
    {
     "data": {
      "text/plain": [
       "(400, 10)"
      ]
     },
     "execution_count": 58,
     "metadata": {},
     "output_type": "execute_result"
    }
   ],
   "source": [
    "num_users, sess_len"
   ]
  },
  {
   "cell_type": "code",
   "execution_count": 59,
   "metadata": {
    "collapsed": true,
    "deletable": true,
    "editable": true
   },
   "outputs": [],
   "source": [
    "lstm_size = 1024\n",
    "lstm_layers = 2\n",
    "batch_size = 64\n",
    "learning_rate = 0.001\n",
    "# Size of the embedding vectors (number of units in the embedding layer)\n",
    "embed_size = 512\n",
    "num_hidden_units = 256"
   ]
  },
  {
   "cell_type": "code",
   "execution_count": 60,
   "metadata": {
    "collapsed": false,
    "deletable": true,
    "editable": true
   },
   "outputs": [],
   "source": [
    "# Create the graph object\n",
    "graph = tf.Graph()\n",
    "# Add nodes to the graph\n",
    "with graph.as_default():\n",
    "    inputs_ = tf.placeholder(tf.int32, shape=[None, sess_len], name=\"inputs\")\n",
    "    labels_ = tf.placeholder(tf.int32, shape=[None, num_users], name=\"labels\")\n",
    "    keep_prob = tf.placeholder(tf.float32, shape=None, name=\"keep_prob\")"
   ]
  },
  {
   "cell_type": "code",
   "execution_count": 65,
   "metadata": {
    "collapsed": false,
    "deletable": true,
    "editable": true
   },
   "outputs": [],
   "source": [
    "n_sites = len(site_dic)\n",
    "\n",
    "with graph.as_default():\n",
    "    embedding = tf.Variable(tf.random_uniform([n_sites, embed_size], -1.0, 1.0))\n",
    "    embed = tf.nn.embedding_lookup(embedding, inputs_)"
   ]
  },
  {
   "cell_type": "code",
   "execution_count": 66,
   "metadata": {
    "collapsed": true,
    "deletable": true,
    "editable": true
   },
   "outputs": [],
   "source": [
    "with graph.as_default():\n",
    "    # Your basic LSTM cell\n",
    "    lstm = tf.contrib.rnn.BasicLSTMCell(lstm_size)\n",
    "    \n",
    "    # Add dropout to the cell\n",
    "    drop = tf.contrib.rnn.DropoutWrapper(lstm, output_keep_prob=keep_prob)\n",
    "    \n",
    "    # Stack up multiple LSTM layers, for deep learning\n",
    "    cell = tf.contrib.rnn.MultiRNNCell([drop] * lstm_layers)\n",
    "     \n",
    "    # Getting an initial state of all zeros\n",
    "    initial_state = cell.zero_state(batch_size, tf.float32)"
   ]
  },
  {
   "cell_type": "code",
   "execution_count": 67,
   "metadata": {
    "collapsed": true,
    "deletable": true,
    "editable": true
   },
   "outputs": [],
   "source": [
    "with graph.as_default():\n",
    "    outputs, final_state = tf.nn.dynamic_rnn(cell, embed, initial_state=initial_state)"
   ]
  },
  {
   "cell_type": "code",
   "execution_count": 68,
   "metadata": {
    "collapsed": false,
    "deletable": true,
    "editable": true
   },
   "outputs": [],
   "source": [
    "with graph.as_default():\n",
    "    hidden = tf.contrib.layers.fully_connected(outputs[:, -1], num_hidden_units,\n",
    "                                          weights_initializer = tf.truncated_normal_initializer(stddev=0.01),\n",
    "                                               biases_initializer=tf.zeros_initializer())\n",
    "    \n",
    "    logits = tf.contrib.layers.fully_connected(hidden, num_users, activation_fn=None,\n",
    "                                          weights_initializer = tf.truncated_normal_initializer(stddev=0.01),\n",
    "                                               biases_initializer=tf.zeros_initializer())\n",
    "    \n",
    "    \n",
    "    cross_entropy = tf.nn.softmax_cross_entropy_with_logits(logits=logits, labels=labels_)\n",
    "    cost = tf.reduce_mean(cross_entropy)\n",
    "    \n",
    "    optimizer = tf.train.AdamOptimizer(learning_rate).minimize(cost)"
   ]
  },
  {
   "cell_type": "code",
   "execution_count": 69,
   "metadata": {
    "collapsed": true,
    "deletable": true,
    "editable": true
   },
   "outputs": [],
   "source": [
    "with graph.as_default():    \n",
    "    # Operations for validation/test accuracy\n",
    "    predicted = tf.nn.softmax(logits)\n",
    "    correct_pred = tf.equal(tf.argmax(predicted, 1), tf.argmax(labels_, 1))\n",
    "    accuracy = tf.reduce_mean(tf.cast(correct_pred, tf.float32))"
   ]
  },
  {
   "cell_type": "code",
   "execution_count": 70,
   "metadata": {
    "collapsed": true,
    "deletable": true,
    "editable": true
   },
   "outputs": [],
   "source": [
    "def get_batches(x, y, batch_size=100):\n",
    "    \n",
    "    n_batches = len(x)//batch_size\n",
    "    x, y = x[:n_batches*batch_size], y[:n_batches*batch_size]\n",
    "    for ii in range(0, len(x), batch_size):\n",
    "        yield x[ii:ii+batch_size], y[ii:ii+batch_size]"
   ]
  },
  {
   "cell_type": "code",
   "execution_count": null,
   "metadata": {
    "collapsed": false,
    "deletable": true,
    "editable": true,
    "scrolled": true
   },
   "outputs": [
    {
     "name": "stdout",
     "output_type": "stream",
     "text": [
      "Epoch: 0/10 Batch: 100/4279 Iteration: 100 Train loss: 5.569\n",
      "Epoch: 0/10 Batch: 200/4279 Iteration: 200 Train loss: 5.439\n",
      "Epoch: 0/10 Batch: 300/4279 Iteration: 300 Train loss: 5.311\n",
      "Epoch: 0/10 Batch: 400/4279 Iteration: 400 Train loss: 5.451\n",
      "Epoch: 0/10 Batch: 500/4279 Iteration: 500 Train loss: 5.083\n",
      "Epoch: 0/10 Batch: 600/4279 Iteration: 600 Train loss: 4.890\n",
      "Epoch: 0/10 Batch: 700/4279 Iteration: 700 Train loss: 5.095\n",
      "Epoch: 0/10 Batch: 800/4279 Iteration: 800 Train loss: 5.503\n",
      "Epoch: 0/10 Batch: 900/4279 Iteration: 900 Train loss: 5.169\n",
      "Epoch: 0/10 Batch: 1000/4279 Iteration: 1000 Train loss: 4.954\n",
      "Val acc: 0.047\n",
      "Epoch: 0/10 Batch: 1100/4279 Iteration: 1100 Train loss: 5.033\n",
      "Epoch: 0/10 Batch: 1200/4279 Iteration: 1200 Train loss: 4.916\n",
      "Epoch: 0/10 Batch: 1300/4279 Iteration: 1300 Train loss: 4.647\n",
      "Epoch: 0/10 Batch: 1400/4279 Iteration: 1400 Train loss: 4.546\n",
      "Epoch: 0/10 Batch: 1500/4279 Iteration: 1500 Train loss: 5.302\n",
      "Epoch: 0/10 Batch: 1600/4279 Iteration: 1600 Train loss: 4.344\n",
      "Epoch: 0/10 Batch: 1700/4279 Iteration: 1700 Train loss: 4.517\n",
      "Epoch: 0/10 Batch: 1800/4279 Iteration: 1800 Train loss: 4.832\n",
      "Epoch: 0/10 Batch: 1900/4279 Iteration: 1900 Train loss: 4.485\n",
      "Epoch: 0/10 Batch: 2000/4279 Iteration: 2000 Train loss: 4.886\n",
      "Val acc: 0.078\n",
      "Epoch: 0/10 Batch: 2100/4279 Iteration: 2100 Train loss: 4.197\n",
      "Epoch: 0/10 Batch: 2200/4279 Iteration: 2200 Train loss: 4.346\n",
      "Epoch: 0/10 Batch: 2300/4279 Iteration: 2300 Train loss: 4.648\n",
      "Epoch: 0/10 Batch: 2400/4279 Iteration: 2400 Train loss: 3.992\n",
      "Epoch: 0/10 Batch: 2500/4279 Iteration: 2500 Train loss: 4.390\n",
      "Epoch: 0/10 Batch: 2600/4279 Iteration: 2600 Train loss: 4.299\n",
      "Epoch: 0/10 Batch: 2700/4279 Iteration: 2700 Train loss: 4.633\n",
      "Epoch: 0/10 Batch: 2800/4279 Iteration: 2800 Train loss: 4.062\n",
      "Epoch: 0/10 Batch: 2900/4279 Iteration: 2900 Train loss: 4.022\n",
      "Epoch: 0/10 Batch: 3000/4279 Iteration: 3000 Train loss: 4.251\n",
      "Val acc: 0.109\n",
      "Epoch: 0/10 Batch: 3100/4279 Iteration: 3100 Train loss: 4.147\n",
      "Epoch: 0/10 Batch: 3200/4279 Iteration: 3200 Train loss: 3.918\n",
      "Epoch: 0/10 Batch: 3300/4279 Iteration: 3300 Train loss: 3.830\n",
      "Epoch: 0/10 Batch: 3400/4279 Iteration: 3400 Train loss: 4.442\n",
      "Epoch: 0/10 Batch: 3500/4279 Iteration: 3500 Train loss: 4.147\n",
      "Epoch: 0/10 Batch: 3600/4279 Iteration: 3600 Train loss: 4.120\n",
      "Epoch: 0/10 Batch: 3700/4279 Iteration: 3700 Train loss: 3.924\n",
      "Epoch: 0/10 Batch: 3800/4279 Iteration: 3800 Train loss: 4.335\n",
      "Epoch: 0/10 Batch: 3900/4279 Iteration: 3900 Train loss: 3.704\n",
      "Epoch: 0/10 Batch: 4000/4279 Iteration: 4000 Train loss: 4.077\n",
      "Val acc: 0.109\n",
      "Epoch: 0/10 Batch: 4100/4279 Iteration: 4100 Train loss: 3.727\n",
      "Epoch: 0/10 Batch: 4200/4279 Iteration: 4200 Train loss: 3.899\n",
      "Epoch: 1/10 Batch: 21/4279 Iteration: 4300 Train loss: 4.058\n",
      "Epoch: 1/10 Batch: 121/4279 Iteration: 4400 Train loss: 3.823\n",
      "Epoch: 1/10 Batch: 221/4279 Iteration: 4500 Train loss: 3.861\n",
      "Epoch: 1/10 Batch: 321/4279 Iteration: 4600 Train loss: 3.544\n",
      "Epoch: 1/10 Batch: 421/4279 Iteration: 4700 Train loss: 3.508\n",
      "Epoch: 1/10 Batch: 521/4279 Iteration: 4800 Train loss: 3.627\n",
      "Epoch: 1/10 Batch: 621/4279 Iteration: 4900 Train loss: 3.739\n",
      "Epoch: 1/10 Batch: 721/4279 Iteration: 5000 Train loss: 3.545\n",
      "Val acc: 0.125\n",
      "Epoch: 1/10 Batch: 821/4279 Iteration: 5100 Train loss: 3.589\n",
      "Epoch: 1/10 Batch: 921/4279 Iteration: 5200 Train loss: 3.607\n",
      "Epoch: 1/10 Batch: 1021/4279 Iteration: 5300 Train loss: 3.472\n",
      "Epoch: 1/10 Batch: 1121/4279 Iteration: 5400 Train loss: 3.621\n",
      "Epoch: 1/10 Batch: 1221/4279 Iteration: 5500 Train loss: 3.151\n",
      "Epoch: 1/10 Batch: 1321/4279 Iteration: 5600 Train loss: 4.003\n",
      "Epoch: 1/10 Batch: 1421/4279 Iteration: 5700 Train loss: 3.451\n",
      "Epoch: 1/10 Batch: 1521/4279 Iteration: 5800 Train loss: 3.845\n",
      "Epoch: 1/10 Batch: 1621/4279 Iteration: 5900 Train loss: 3.423\n",
      "Epoch: 1/10 Batch: 1721/4279 Iteration: 6000 Train loss: 3.973\n",
      "Val acc: 0.219\n",
      "Epoch: 1/10 Batch: 1821/4279 Iteration: 6100 Train loss: 3.584\n",
      "Epoch: 1/10 Batch: 1921/4279 Iteration: 6200 Train loss: 3.281\n",
      "Epoch: 1/10 Batch: 2021/4279 Iteration: 6300 Train loss: 3.434\n",
      "Epoch: 1/10 Batch: 2121/4279 Iteration: 6400 Train loss: 2.938\n",
      "Epoch: 1/10 Batch: 2221/4279 Iteration: 6500 Train loss: 3.422\n",
      "Epoch: 1/10 Batch: 2321/4279 Iteration: 6600 Train loss: 3.317\n",
      "Epoch: 1/10 Batch: 2421/4279 Iteration: 6700 Train loss: 3.567\n",
      "Epoch: 1/10 Batch: 2521/4279 Iteration: 6800 Train loss: 3.411\n",
      "Epoch: 1/10 Batch: 2621/4279 Iteration: 6900 Train loss: 3.728\n",
      "Epoch: 1/10 Batch: 2721/4279 Iteration: 7000 Train loss: 3.842\n",
      "Val acc: 0.188\n",
      "Epoch: 1/10 Batch: 2821/4279 Iteration: 7100 Train loss: 3.454\n",
      "Epoch: 1/10 Batch: 2921/4279 Iteration: 7200 Train loss: 2.702\n",
      "Epoch: 1/10 Batch: 3021/4279 Iteration: 7300 Train loss: 3.090\n",
      "Epoch: 1/10 Batch: 3121/4279 Iteration: 7400 Train loss: 3.206\n",
      "Epoch: 1/10 Batch: 3221/4279 Iteration: 7500 Train loss: 3.538\n",
      "Epoch: 1/10 Batch: 3321/4279 Iteration: 7600 Train loss: 3.593\n",
      "Epoch: 1/10 Batch: 3421/4279 Iteration: 7700 Train loss: 3.373\n",
      "Epoch: 1/10 Batch: 3521/4279 Iteration: 7800 Train loss: 3.187\n",
      "Epoch: 1/10 Batch: 3621/4279 Iteration: 7900 Train loss: 3.446\n",
      "Epoch: 1/10 Batch: 3721/4279 Iteration: 8000 Train loss: 2.714\n"
     ]
    }
   ],
   "source": [
    "%%time\n",
    "epochs = 10\n",
    "\n",
    "loss_ar = []\n",
    "acc_ar = []\n",
    "val_acc = 0\n",
    "\n",
    "with graph.as_default():\n",
    "    saver = tf.train.Saver()\n",
    "\n",
    "with tf.Session(graph=graph) as sess:\n",
    "    sess.run(tf.global_variables_initializer())\n",
    "    iteration = 0\n",
    "    n_batches = len(train_sites)//batch_size\n",
    "    for e in range(epochs):\n",
    "        state = sess.run(initial_state)\n",
    "        \n",
    "        for ii, (x, y) in enumerate(get_batches(train_sites, train_users_vecs, batch_size), 1):\n",
    "            iteration +=1\n",
    "            feed = {inputs_: x,\n",
    "                    labels_: y,\n",
    "                    keep_prob: 0.5,\n",
    "                    initial_state: state}\n",
    "            loss, state, _ = sess.run([cost, final_state, optimizer], feed_dict=feed)\n",
    "            loss_ar.append(loss)\n",
    "            \n",
    "            if iteration%100==0:\n",
    "                print(\"Epoch: {}/{}\".format(e, epochs),\n",
    "                      \"Batch: {}/{}\".format(ii, n_batches),\n",
    "                      \"Iteration: {}\".format(iteration),\n",
    "                      \"Train loss: {:.3f}\".format(loss))\n",
    "\n",
    "            if iteration%1000==0:\n",
    "                val_state = sess.run(cell.zero_state(batch_size, tf.float32))\n",
    "                for x, y in get_batches(valid_sites, valid_users_vecs, batch_size):\n",
    "                    feed = {inputs_: x,\n",
    "                            labels_: y,\n",
    "                            keep_prob: 1,\n",
    "                            initial_state: val_state}\n",
    "                    val_acc, val_state = sess.run([accuracy, final_state], feed_dict=feed)\n",
    "                print(\"Val acc: {:.3f}\".format(np.mean(val_acc)))\n",
    "            acc_ar.append(val_acc)\n",
    "    saver.save(sess, data_dir + \"checkpoints/identifyme.ckpt\")"
   ]
  },
  {
   "cell_type": "code",
   "execution_count": 71,
   "metadata": {
    "collapsed": false,
    "scrolled": true
   },
   "outputs": [
    {
     "data": {
      "image/png": "[encoded data removed]",
      "text/plain": [
       "<matplotlib.figure.Figure at 0x7fe6a0730eb8>"
      ]
     },
     "metadata": {},
     "output_type": "display_data"
    }
   ],
   "source": [
    "fig, ax1 = plt.subplots()\n",
    "t = np.linspace(0, iteration, iteration)\n",
    "ax1.plot(t, loss_ar, 'b-')\n",
    "ax1.set_xlabel('iteration')\n",
    "# Make the y-axis label, ticks and tick labels match the line color.\n",
    "ax1.set_ylabel('loss', color='b')\n",
    "ax1.tick_params('y', colors='b')\n",
    "\n",
    "ax2 = ax1.twinx()\n",
    "ax2.plot(t, acc_ar, 'r-')\n",
    "ax2.set_ylabel('accuracy', color='r')\n",
    "ax2.tick_params('y', colors='r')\n",
    "\n",
    "fig.tight_layout()\n",
    "plt.show()"
   ]
  },
  {
   "cell_type": "markdown",
   "metadata": {},
   "source": [
    "# Testing"
   ]
  },
  {
   "cell_type": "code",
   "execution_count": 72,
   "metadata": {
    "collapsed": false
   },
   "outputs": [
    {
     "name": "stdout",
     "output_type": "stream",
     "text": [
      "Test accuracy: 0.368\n"
     ]
    }
   ],
   "source": [
    "test_acc = []\n",
    "with tf.Session(graph=graph) as sess:\n",
    "    saver.restore(sess, tf.train.latest_checkpoint(data_dir + 'checkpoints'))\n",
    "    test_state = sess.run(cell.zero_state(batch_size, tf.float32))\n",
    "    for ii, (x, y) in enumerate(get_batches(test_sites, test_users_vecs, batch_size), 1):\n",
    "        feed = {inputs_: x,\n",
    "                labels_: y,\n",
    "                keep_prob: 1,\n",
    "                initial_state: test_state}\n",
    "        batch_acc, test_state = sess.run([accuracy, final_state], feed_dict=feed)\n",
    "        test_acc.append(batch_acc)\n",
    "    print(\"Test accuracy: {:.3f}\".format(np.mean(test_acc)))"
   ]
  },
  {
   "cell_type": "code",
   "execution_count": null,
   "metadata": {
    "collapsed": true
   },
   "outputs": [],
   "source": []
  }
 ],
 "metadata": {
  "kernelspec": {
   "display_name": "Python 3",
   "language": "python",
   "name": "python3"
  },
  "language_info": {
   "codemirror_mode": {
    "name": "ipython",
    "version": 3
   },
   "file_extension": ".py",
   "mimetype": "text/x-python",
   "name": "python",
   "nbconvert_exporter": "python",
   "pygments_lexer": "ipython3",
   "version": "3.4.3"
  }
 },
 "nbformat": 4,
 "nbformat_minor": 2
}
